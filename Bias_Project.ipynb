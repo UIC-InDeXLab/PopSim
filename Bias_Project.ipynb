{
  "nbformat": 4,
  "nbformat_minor": 0,
  "metadata": {
    "colab": {
      "name": "Bias_Project.ipynb",
      "provenance": [],
      "collapsed_sections": []
    },
    "kernelspec": {
      "name": "python3",
      "display_name": "Python 3"
    },
    "language_info": {
      "name": "python"
    }
  },
  "cells": [
    {
      "cell_type": "markdown",
      "source": [
        "# Detector of Racial Bias based on Population Simulation System"
      ],
      "metadata": {
        "id": "VNKJX5wwFovK"
      }
    },
    {
      "cell_type": "markdown",
      "source": [
        "## Disclaimer\n",
        "\n"
      ],
      "metadata": {
        "id": "gpyDowqCGGem"
      }
    },
    {
      "cell_type": "markdown",
      "source": [
        "This is the first draft and does not reflect the final version of the project. "
      ],
      "metadata": {
        "id": "pn193F-UGQi0"
      }
    },
    {
      "cell_type": "markdown",
      "source": [
        "## Acknowledgement"
      ],
      "metadata": {
        "id": "jE-GzMJCIDpu"
      }
    },
    {
      "cell_type": "markdown",
      "source": [
        "I'd like to thank Professor Abolfazl Asudeh personally for his support with direction, early idea formulation, and insightful advice that considerably improved the quality of this project."
      ],
      "metadata": {
        "id": "zn-jDmnaIHdG"
      }
    },
    {
      "cell_type": "markdown",
      "source": [
        "## Introduction"
      ],
      "metadata": {
        "id": "4z8ZgFAYF4Of"
      }
    },
    {
      "cell_type": "markdown",
      "source": [
        "The primary goal of this project is to assess the bias of the Divvy system based on geography and accessibility by simulating the population of that location and evaluating whether the system is racially and/or gender biased. The goal is to uncover and expose any potential bias using statistical data."
      ],
      "metadata": {
        "id": "9ovHG0DCF7e0"
      }
    },
    {
      "cell_type": "markdown",
      "source": [
        "## Research Direction"
      ],
      "metadata": {
        "id": "EQTZBvrTKEU4"
      }
    },
    {
      "cell_type": "markdown",
      "source": [
        "We would apply the normal procedure to research the issue of Racial Bias. As a result, we would focus on the three main aspects:\n",
        "1. Data Modeling: We would focus on determining the kind of population data, its source, and its dependability. Furthermore, we would focus on how we would manage and organise statistical population data for the models.\n",
        "2. Population simulation: we'll try to figure out how we'd choose a participant at random from the population's data. We would specifically focus on a person's race, gender, and location as randomized data.\n",
        "3. Method of Examination: For each geological input, we would examine its bias in respect to the simulated population. As a result, we will focus on the bias algorithm. Furthermore, we would give a user-friendly interface for users to observe how each simulated human is approaching the place using the supplied data."
      ],
      "metadata": {
        "id": "UNcTYVIQMG91"
      }
    },
    {
      "cell_type": "markdown",
      "source": [
        "## Data Modeling\n"
      ],
      "metadata": {
        "id": "gK8ZLaTbSgTX"
      }
    },
    {
      "cell_type": "markdown",
      "source": [
        "We would use the data from the two sources: Census Bureau, Federal Communication Commission\n"
      ],
      "metadata": {
        "id": "o5ELloAHSkzH"
      }
    },
    {
      "cell_type": "markdown",
      "source": [
        "### Federal Communication Commission "
      ],
      "metadata": {
        "id": "qcJz01Zbeacc"
      }
    },
    {
      "cell_type": "markdown",
      "source": [
        "With a specific geographic coordinate (including the indormation about the latitude and the longitude), we would need an API to retrieve the FIPS code to feed into the data to the `getDeccennial()` function above. "
      ],
      "metadata": {
        "id": "0eisz_Ond7qV"
      }
    },
    {
      "cell_type": "code",
      "source": [
        "import requests\n",
        "def getFIPS(lat, long, year = 2020, division = \"Block\"):\n",
        "    if division not in {\"Block\", \"County\", \"State\"}:\n",
        "        raise Exception(\"The administration division level is not correct\")\n",
        "    try:\n",
        "        url = \"https://geo.fcc.gov/api/census/block/find?latitude=\" + \\\n",
        "            str(lat)+\"&longitude=\"+str(long) + \"&censusYear=\" + \\\n",
        "            str(year)+\"&showall=false&format=json\"\n",
        "        response = requests.get(url)\n",
        "        print(response.text)\n",
        "        return response.json()[division][\"FIPS\"]\n",
        "\n",
        "    except requests.ConnectionError as error:\n",
        "        print(\"Cannot connect to the GEO API\")\n",
        "        print(error)\n"
      ],
      "metadata": {
        "id": "lJIyMMUdSfTx"
      },
      "execution_count": null,
      "outputs": []
    },
    {
      "cell_type": "markdown",
      "source": [
        ""
      ],
      "metadata": {
        "id": "ajRD3OzV7-Zb"
      }
    },
    {
      "cell_type": "code",
      "source": [
        "getFIPS(41.886269657542044, -87.70033108160133, year = 2020)"
      ],
      "metadata": {
        "colab": {
          "base_uri": "https://localhost:8080/",
          "height": 53
        },
        "id": "T-VsD8l87-_q",
        "outputId": "c6cbd72c-d79e-4129-991b-5f463f507e9a"
      },
      "execution_count": null,
      "outputs": [
        {
          "output_type": "stream",
          "name": "stdout",
          "text": [
            "{\"Block\":{\"FIPS\":\"170318371002011\",\"bbox\":[-87.701359,41.885909,-87.69888,41.886508]},\"County\":{\"FIPS\":\"17031\",\"name\":\"Cook County\"},\"State\":{\"FIPS\":\"17\",\"code\":\"IL\",\"name\":\"Illinois\"},\"status\":\"OK\",\"executionTime\":\"0\"}\n"
          ]
        },
        {
          "output_type": "execute_result",
          "data": {
            "text/plain": [
              "'170318371002011'"
            ],
            "application/vnd.google.colaboratory.intrinsic+json": {
              "type": "string"
            }
          },
          "metadata": {},
          "execution_count": 41
        }
      ]
    },
    {
      "cell_type": "markdown",
      "source": [
        "### Census Bureau Data"
      ],
      "metadata": {
        "id": "bYMfKapUd8rg"
      }
    },
    {
      "cell_type": "markdown",
      "source": [
        "We will use the Deccenial Census of Population and Housing Data. In default, we would use the data in year 2020. Furthermore, we would based on the Federal Information Processing Standards (FIPS) to retrieve the data. More information on the data could be found over [here](https://www.census.gov/data/developers/data-sets/decennial-census.html).\n",
        "\n",
        "Due to the project would concern especially with the racial information, we would retrieve all the data in group P1."
      ],
      "metadata": {
        "id": "NUh3CoQCeDYs"
      }
    },
    {
      "cell_type": "code",
      "source": [
        "from numpy.core.shape_base import block\n",
        "import requests\n",
        "import pandas as pd\n",
        "import numpy as np\n",
        "    \n",
        "def getDecennialData(fips, for_unit = 'block', dataField = \"group(P1)\", year = \"2020\"):\n",
        "    if (for_unit not in {'state', 'county', 'tract', 'block'}):\n",
        "        assert(\"for_unit must be 'state', 'county', 'tract', or 'block' \")\n",
        "    if len(fips) < 2 :\n",
        "        assert(\"FIPS must have length greater than 2\")\n",
        "    \n",
        "    list_string = ['state:'+ fips[0:2],\n",
        "                   'county:'+ (fips[2:5] if len(fips) >= 5 else '*'), \n",
        "                   'tract:' + (fips[5:11] if len(fips) >= 11 else '*'), \n",
        "                   'block:' + (fips[11:15] if len(fips) == 15 else '*')]\n",
        "    \n",
        "    while list_string[-1].find(for_unit) == -1 :\n",
        "        list_string.pop()\n",
        "    for_unit_string = list_string.pop()\n",
        "    \n",
        "    url = \"https://api.census.gov/data/\"+ year +\"/dec/pl?get=\"+ dataField + \\\n",
        "          \"&for=\"+ for_unit_string + (\"&in=\" if len(list_string) > 0 else \"\") + \\\n",
        "          \"%20\".join(list_string)\n",
        "\n",
        "    try:\n",
        "        response = requests.get(url)\n",
        "        JSONObject = response.json()\n",
        "        if len(JSONObject)  == 2:\n",
        "            series = pd.Series(JSONObject[1], index=JSONObject[0]).dropna()\n",
        "            return series\n",
        "        else:\n",
        "            dataframe = pd.DataFrame(data= JSONObject[1:], columns=JSONObject[0])\n",
        "            dataframe.sort_values(by=[\"GEO_ID\"], inplace=True, ignore_index=True)\n",
        "            print(dataframe)\n",
        "            return dataframe\n",
        "            \n",
        "    except requests.ConnectionError as error:\n",
        "        print(\"Cannot connect to the Census API\")\n",
        "        print(error)\n",
        "\n",
        "\n",
        "def getDecennialDescription():\n",
        "    try:\n",
        "        url = \"https://api.census.gov/data/2020/dec/pl/variables\"\n",
        "        response = requests.get(url)\n",
        "        JSONObject = np.array(response.json())\n",
        "        series = pd.Series(JSONObject[:, 1], index=JSONObject[:, 0])\n",
        "        series.loc[\"state\"] = \"State FIPS\"\n",
        "        series.loc[\"county\"] = \"County FIPS\"\n",
        "        series.loc[\"tract\"] = \"Tract FIPS\"\n",
        "        series.loc[\"block\"] = \"Block FIPS\"\n",
        "        series.loc[\"NAME\"] = \"NAME\"\n",
        "        return series\n",
        "\n",
        "    except requests.ConnectionError as error:\n",
        "        print(\"Cannot connect to the Census API\")\n",
        "        print(error)\n",
        "\n"
      ],
      "metadata": {
        "id": "QjnziE2NgXuL"
      },
      "execution_count": null,
      "outputs": []
    },
    {
      "cell_type": "markdown",
      "source": [
        "For instance, we would want to retrieve the Racial data at East Campus of UIC which has the FIPS of `170318419002012`, we would run the function"
      ],
      "metadata": {
        "id": "vwkzbo1l96lp"
      }
    },
    {
      "cell_type": "code",
      "source": [
        "getDecennialData(\"170318419002012\")"
      ],
      "metadata": {
        "colab": {
          "base_uri": "https://localhost:8080/"
        },
        "id": "Tc3LHr-W58yH",
        "outputId": "4b30357a-3894-47f8-a0d6-f963baf7b8fa"
      },
      "execution_count": null,
      "outputs": [
        {
          "output_type": "execute_result",
          "data": {
            "text/plain": [
              "GEO_ID                              1000000US170318419002012\n",
              "NAME       Block 2012, Block Group 2, Census Tract 8419, ...\n",
              "P1_001N                                                    0\n",
              "P1_002N                                                    0\n",
              "P1_003N                                                    0\n",
              "                                 ...                        \n",
              "P1_071N                                                    0\n",
              "state                                                     17\n",
              "county                                                   031\n",
              "tract                                                 841900\n",
              "block                                                   2012\n",
              "Length: 77, dtype: object"
            ]
          },
          "metadata": {},
          "execution_count": 6
        }
      ]
    },
    {
      "cell_type": "markdown",
      "source": [
        "Similarly, we would want to retrieve the tract data the has the same county FIPS of `17031`, we would run the function"
      ],
      "metadata": {
        "id": "BRw8s1LX6ENf"
      }
    },
    {
      "cell_type": "code",
      "source": [
        "getDecennialData(\"17031\", for_unit='tract')"
      ],
      "metadata": {
        "colab": {
          "base_uri": "https://localhost:8080/",
          "height": 1000
        },
        "id": "93znzBBm93RG",
        "outputId": "5f77f861-0125-41b2-e3a1-3d22d27c2d20"
      },
      "execution_count": null,
      "outputs": [
        {
          "output_type": "stream",
          "name": "stdout",
          "text": [
            "                    GEO_ID                                        NAME  \\\n",
            "0     1400000US17031010100     Census Tract 101, Cook County, Illinois   \n",
            "1     1400000US17031010201  Census Tract 102.01, Cook County, Illinois   \n",
            "2     1400000US17031010202  Census Tract 102.02, Cook County, Illinois   \n",
            "3     1400000US17031010300     Census Tract 103, Cook County, Illinois   \n",
            "4     1400000US17031010400     Census Tract 104, Cook County, Illinois   \n",
            "...                    ...                                         ...   \n",
            "1327  1400000US17031844600    Census Tract 8446, Cook County, Illinois   \n",
            "1328  1400000US17031844700    Census Tract 8447, Cook County, Illinois   \n",
            "1329  1400000US17031980000    Census Tract 9800, Cook County, Illinois   \n",
            "1330  1400000US17031980100    Census Tract 9801, Cook County, Illinois   \n",
            "1331  1400000US17031990000    Census Tract 9900, Cook County, Illinois   \n",
            "\n",
            "     P1_001N P1_001NA P1_002N P1_002NA P1_003N P1_003NA P1_004N P1_004NA  ...  \\\n",
            "0       4905     None    4411     None    1652     None    2187     None  ...   \n",
            "1       6939     None    6141     None    1832     None    2574     None  ...   \n",
            "2       2742     None    2425     None    1078     None     767     None  ...   \n",
            "3       6305     None    5511     None    2963     None    1778     None  ...   \n",
            "4       5079     None    4675     None    3148     None     620     None  ...   \n",
            "...      ...      ...     ...      ...     ...      ...     ...      ...  ...   \n",
            "1327    1776     None    1736     None      55     None    1647     None  ...   \n",
            "1328    2342     None    2196     None     143     None    1821     None  ...   \n",
            "1329       0     None       0     None       0     None       0     None  ...   \n",
            "1330      18     None      14     None       6     None       3     None  ...   \n",
            "1331       0     None       0     None       0     None       0     None  ...   \n",
            "\n",
            "     P1_068NA P1_069N P1_069NA P1_070N P1_070NA P1_071N P1_071NA state county  \\\n",
            "0        None       0     None       0     None       0     None    17    031   \n",
            "1        None       0     None       0     None       0     None    17    031   \n",
            "2        None       0     None       0     None       0     None    17    031   \n",
            "3        None       0     None       0     None       0     None    17    031   \n",
            "4        None       0     None       0     None       0     None    17    031   \n",
            "...       ...     ...      ...     ...      ...     ...      ...   ...    ...   \n",
            "1327     None       0     None       0     None       0     None    17    031   \n",
            "1328     None       0     None       0     None       0     None    17    031   \n",
            "1329     None       0     None       0     None       0     None    17    031   \n",
            "1330     None       0     None       0     None       0     None    17    031   \n",
            "1331     None       0     None       0     None       0     None    17    031   \n",
            "\n",
            "       tract  \n",
            "0     010100  \n",
            "1     010201  \n",
            "2     010202  \n",
            "3     010300  \n",
            "4     010400  \n",
            "...      ...  \n",
            "1327  844600  \n",
            "1328  844700  \n",
            "1329  980000  \n",
            "1330  980100  \n",
            "1331  990000  \n",
            "\n",
            "[1332 rows x 147 columns]\n"
          ]
        },
        {
          "output_type": "execute_result",
          "data": {
            "text/plain": [
              "                    GEO_ID                                        NAME  \\\n",
              "0     1400000US17031010100     Census Tract 101, Cook County, Illinois   \n",
              "1     1400000US17031010201  Census Tract 102.01, Cook County, Illinois   \n",
              "2     1400000US17031010202  Census Tract 102.02, Cook County, Illinois   \n",
              "3     1400000US17031010300     Census Tract 103, Cook County, Illinois   \n",
              "4     1400000US17031010400     Census Tract 104, Cook County, Illinois   \n",
              "...                    ...                                         ...   \n",
              "1327  1400000US17031844600    Census Tract 8446, Cook County, Illinois   \n",
              "1328  1400000US17031844700    Census Tract 8447, Cook County, Illinois   \n",
              "1329  1400000US17031980000    Census Tract 9800, Cook County, Illinois   \n",
              "1330  1400000US17031980100    Census Tract 9801, Cook County, Illinois   \n",
              "1331  1400000US17031990000    Census Tract 9900, Cook County, Illinois   \n",
              "\n",
              "     P1_001N P1_001NA P1_002N P1_002NA P1_003N P1_003NA P1_004N P1_004NA  ...  \\\n",
              "0       4905     None    4411     None    1652     None    2187     None  ...   \n",
              "1       6939     None    6141     None    1832     None    2574     None  ...   \n",
              "2       2742     None    2425     None    1078     None     767     None  ...   \n",
              "3       6305     None    5511     None    2963     None    1778     None  ...   \n",
              "4       5079     None    4675     None    3148     None     620     None  ...   \n",
              "...      ...      ...     ...      ...     ...      ...     ...      ...  ...   \n",
              "1327    1776     None    1736     None      55     None    1647     None  ...   \n",
              "1328    2342     None    2196     None     143     None    1821     None  ...   \n",
              "1329       0     None       0     None       0     None       0     None  ...   \n",
              "1330      18     None      14     None       6     None       3     None  ...   \n",
              "1331       0     None       0     None       0     None       0     None  ...   \n",
              "\n",
              "     P1_068NA P1_069N P1_069NA P1_070N P1_070NA P1_071N P1_071NA state county  \\\n",
              "0        None       0     None       0     None       0     None    17    031   \n",
              "1        None       0     None       0     None       0     None    17    031   \n",
              "2        None       0     None       0     None       0     None    17    031   \n",
              "3        None       0     None       0     None       0     None    17    031   \n",
              "4        None       0     None       0     None       0     None    17    031   \n",
              "...       ...     ...      ...     ...      ...     ...      ...   ...    ...   \n",
              "1327     None       0     None       0     None       0     None    17    031   \n",
              "1328     None       0     None       0     None       0     None    17    031   \n",
              "1329     None       0     None       0     None       0     None    17    031   \n",
              "1330     None       0     None       0     None       0     None    17    031   \n",
              "1331     None       0     None       0     None       0     None    17    031   \n",
              "\n",
              "       tract  \n",
              "0     010100  \n",
              "1     010201  \n",
              "2     010202  \n",
              "3     010300  \n",
              "4     010400  \n",
              "...      ...  \n",
              "1327  844600  \n",
              "1328  844700  \n",
              "1329  980000  \n",
              "1330  980100  \n",
              "1331  990000  \n",
              "\n",
              "[1332 rows x 147 columns]"
            ],
            "text/html": [
              "\n",
              "  <div id=\"df-eba1aa30-e70e-4625-8c80-631bf5770190\">\n",
              "    <div class=\"colab-df-container\">\n",
              "      <div>\n",
              "<style scoped>\n",
              "    .dataframe tbody tr th:only-of-type {\n",
              "        vertical-align: middle;\n",
              "    }\n",
              "\n",
              "    .dataframe tbody tr th {\n",
              "        vertical-align: top;\n",
              "    }\n",
              "\n",
              "    .dataframe thead th {\n",
              "        text-align: right;\n",
              "    }\n",
              "</style>\n",
              "<table border=\"1\" class=\"dataframe\">\n",
              "  <thead>\n",
              "    <tr style=\"text-align: right;\">\n",
              "      <th></th>\n",
              "      <th>GEO_ID</th>\n",
              "      <th>NAME</th>\n",
              "      <th>P1_001N</th>\n",
              "      <th>P1_001NA</th>\n",
              "      <th>P1_002N</th>\n",
              "      <th>P1_002NA</th>\n",
              "      <th>P1_003N</th>\n",
              "      <th>P1_003NA</th>\n",
              "      <th>P1_004N</th>\n",
              "      <th>P1_004NA</th>\n",
              "      <th>...</th>\n",
              "      <th>P1_068NA</th>\n",
              "      <th>P1_069N</th>\n",
              "      <th>P1_069NA</th>\n",
              "      <th>P1_070N</th>\n",
              "      <th>P1_070NA</th>\n",
              "      <th>P1_071N</th>\n",
              "      <th>P1_071NA</th>\n",
              "      <th>state</th>\n",
              "      <th>county</th>\n",
              "      <th>tract</th>\n",
              "    </tr>\n",
              "  </thead>\n",
              "  <tbody>\n",
              "    <tr>\n",
              "      <th>0</th>\n",
              "      <td>1400000US17031010100</td>\n",
              "      <td>Census Tract 101, Cook County, Illinois</td>\n",
              "      <td>4905</td>\n",
              "      <td>None</td>\n",
              "      <td>4411</td>\n",
              "      <td>None</td>\n",
              "      <td>1652</td>\n",
              "      <td>None</td>\n",
              "      <td>2187</td>\n",
              "      <td>None</td>\n",
              "      <td>...</td>\n",
              "      <td>None</td>\n",
              "      <td>0</td>\n",
              "      <td>None</td>\n",
              "      <td>0</td>\n",
              "      <td>None</td>\n",
              "      <td>0</td>\n",
              "      <td>None</td>\n",
              "      <td>17</td>\n",
              "      <td>031</td>\n",
              "      <td>010100</td>\n",
              "    </tr>\n",
              "    <tr>\n",
              "      <th>1</th>\n",
              "      <td>1400000US17031010201</td>\n",
              "      <td>Census Tract 102.01, Cook County, Illinois</td>\n",
              "      <td>6939</td>\n",
              "      <td>None</td>\n",
              "      <td>6141</td>\n",
              "      <td>None</td>\n",
              "      <td>1832</td>\n",
              "      <td>None</td>\n",
              "      <td>2574</td>\n",
              "      <td>None</td>\n",
              "      <td>...</td>\n",
              "      <td>None</td>\n",
              "      <td>0</td>\n",
              "      <td>None</td>\n",
              "      <td>0</td>\n",
              "      <td>None</td>\n",
              "      <td>0</td>\n",
              "      <td>None</td>\n",
              "      <td>17</td>\n",
              "      <td>031</td>\n",
              "      <td>010201</td>\n",
              "    </tr>\n",
              "    <tr>\n",
              "      <th>2</th>\n",
              "      <td>1400000US17031010202</td>\n",
              "      <td>Census Tract 102.02, Cook County, Illinois</td>\n",
              "      <td>2742</td>\n",
              "      <td>None</td>\n",
              "      <td>2425</td>\n",
              "      <td>None</td>\n",
              "      <td>1078</td>\n",
              "      <td>None</td>\n",
              "      <td>767</td>\n",
              "      <td>None</td>\n",
              "      <td>...</td>\n",
              "      <td>None</td>\n",
              "      <td>0</td>\n",
              "      <td>None</td>\n",
              "      <td>0</td>\n",
              "      <td>None</td>\n",
              "      <td>0</td>\n",
              "      <td>None</td>\n",
              "      <td>17</td>\n",
              "      <td>031</td>\n",
              "      <td>010202</td>\n",
              "    </tr>\n",
              "    <tr>\n",
              "      <th>3</th>\n",
              "      <td>1400000US17031010300</td>\n",
              "      <td>Census Tract 103, Cook County, Illinois</td>\n",
              "      <td>6305</td>\n",
              "      <td>None</td>\n",
              "      <td>5511</td>\n",
              "      <td>None</td>\n",
              "      <td>2963</td>\n",
              "      <td>None</td>\n",
              "      <td>1778</td>\n",
              "      <td>None</td>\n",
              "      <td>...</td>\n",
              "      <td>None</td>\n",
              "      <td>0</td>\n",
              "      <td>None</td>\n",
              "      <td>0</td>\n",
              "      <td>None</td>\n",
              "      <td>0</td>\n",
              "      <td>None</td>\n",
              "      <td>17</td>\n",
              "      <td>031</td>\n",
              "      <td>010300</td>\n",
              "    </tr>\n",
              "    <tr>\n",
              "      <th>4</th>\n",
              "      <td>1400000US17031010400</td>\n",
              "      <td>Census Tract 104, Cook County, Illinois</td>\n",
              "      <td>5079</td>\n",
              "      <td>None</td>\n",
              "      <td>4675</td>\n",
              "      <td>None</td>\n",
              "      <td>3148</td>\n",
              "      <td>None</td>\n",
              "      <td>620</td>\n",
              "      <td>None</td>\n",
              "      <td>...</td>\n",
              "      <td>None</td>\n",
              "      <td>0</td>\n",
              "      <td>None</td>\n",
              "      <td>0</td>\n",
              "      <td>None</td>\n",
              "      <td>0</td>\n",
              "      <td>None</td>\n",
              "      <td>17</td>\n",
              "      <td>031</td>\n",
              "      <td>010400</td>\n",
              "    </tr>\n",
              "    <tr>\n",
              "      <th>...</th>\n",
              "      <td>...</td>\n",
              "      <td>...</td>\n",
              "      <td>...</td>\n",
              "      <td>...</td>\n",
              "      <td>...</td>\n",
              "      <td>...</td>\n",
              "      <td>...</td>\n",
              "      <td>...</td>\n",
              "      <td>...</td>\n",
              "      <td>...</td>\n",
              "      <td>...</td>\n",
              "      <td>...</td>\n",
              "      <td>...</td>\n",
              "      <td>...</td>\n",
              "      <td>...</td>\n",
              "      <td>...</td>\n",
              "      <td>...</td>\n",
              "      <td>...</td>\n",
              "      <td>...</td>\n",
              "      <td>...</td>\n",
              "      <td>...</td>\n",
              "    </tr>\n",
              "    <tr>\n",
              "      <th>1327</th>\n",
              "      <td>1400000US17031844600</td>\n",
              "      <td>Census Tract 8446, Cook County, Illinois</td>\n",
              "      <td>1776</td>\n",
              "      <td>None</td>\n",
              "      <td>1736</td>\n",
              "      <td>None</td>\n",
              "      <td>55</td>\n",
              "      <td>None</td>\n",
              "      <td>1647</td>\n",
              "      <td>None</td>\n",
              "      <td>...</td>\n",
              "      <td>None</td>\n",
              "      <td>0</td>\n",
              "      <td>None</td>\n",
              "      <td>0</td>\n",
              "      <td>None</td>\n",
              "      <td>0</td>\n",
              "      <td>None</td>\n",
              "      <td>17</td>\n",
              "      <td>031</td>\n",
              "      <td>844600</td>\n",
              "    </tr>\n",
              "    <tr>\n",
              "      <th>1328</th>\n",
              "      <td>1400000US17031844700</td>\n",
              "      <td>Census Tract 8447, Cook County, Illinois</td>\n",
              "      <td>2342</td>\n",
              "      <td>None</td>\n",
              "      <td>2196</td>\n",
              "      <td>None</td>\n",
              "      <td>143</td>\n",
              "      <td>None</td>\n",
              "      <td>1821</td>\n",
              "      <td>None</td>\n",
              "      <td>...</td>\n",
              "      <td>None</td>\n",
              "      <td>0</td>\n",
              "      <td>None</td>\n",
              "      <td>0</td>\n",
              "      <td>None</td>\n",
              "      <td>0</td>\n",
              "      <td>None</td>\n",
              "      <td>17</td>\n",
              "      <td>031</td>\n",
              "      <td>844700</td>\n",
              "    </tr>\n",
              "    <tr>\n",
              "      <th>1329</th>\n",
              "      <td>1400000US17031980000</td>\n",
              "      <td>Census Tract 9800, Cook County, Illinois</td>\n",
              "      <td>0</td>\n",
              "      <td>None</td>\n",
              "      <td>0</td>\n",
              "      <td>None</td>\n",
              "      <td>0</td>\n",
              "      <td>None</td>\n",
              "      <td>0</td>\n",
              "      <td>None</td>\n",
              "      <td>...</td>\n",
              "      <td>None</td>\n",
              "      <td>0</td>\n",
              "      <td>None</td>\n",
              "      <td>0</td>\n",
              "      <td>None</td>\n",
              "      <td>0</td>\n",
              "      <td>None</td>\n",
              "      <td>17</td>\n",
              "      <td>031</td>\n",
              "      <td>980000</td>\n",
              "    </tr>\n",
              "    <tr>\n",
              "      <th>1330</th>\n",
              "      <td>1400000US17031980100</td>\n",
              "      <td>Census Tract 9801, Cook County, Illinois</td>\n",
              "      <td>18</td>\n",
              "      <td>None</td>\n",
              "      <td>14</td>\n",
              "      <td>None</td>\n",
              "      <td>6</td>\n",
              "      <td>None</td>\n",
              "      <td>3</td>\n",
              "      <td>None</td>\n",
              "      <td>...</td>\n",
              "      <td>None</td>\n",
              "      <td>0</td>\n",
              "      <td>None</td>\n",
              "      <td>0</td>\n",
              "      <td>None</td>\n",
              "      <td>0</td>\n",
              "      <td>None</td>\n",
              "      <td>17</td>\n",
              "      <td>031</td>\n",
              "      <td>980100</td>\n",
              "    </tr>\n",
              "    <tr>\n",
              "      <th>1331</th>\n",
              "      <td>1400000US17031990000</td>\n",
              "      <td>Census Tract 9900, Cook County, Illinois</td>\n",
              "      <td>0</td>\n",
              "      <td>None</td>\n",
              "      <td>0</td>\n",
              "      <td>None</td>\n",
              "      <td>0</td>\n",
              "      <td>None</td>\n",
              "      <td>0</td>\n",
              "      <td>None</td>\n",
              "      <td>...</td>\n",
              "      <td>None</td>\n",
              "      <td>0</td>\n",
              "      <td>None</td>\n",
              "      <td>0</td>\n",
              "      <td>None</td>\n",
              "      <td>0</td>\n",
              "      <td>None</td>\n",
              "      <td>17</td>\n",
              "      <td>031</td>\n",
              "      <td>990000</td>\n",
              "    </tr>\n",
              "  </tbody>\n",
              "</table>\n",
              "<p>1332 rows × 147 columns</p>\n",
              "</div>\n",
              "      <button class=\"colab-df-convert\" onclick=\"convertToInteractive('df-eba1aa30-e70e-4625-8c80-631bf5770190')\"\n",
              "              title=\"Convert this dataframe to an interactive table.\"\n",
              "              style=\"display:none;\">\n",
              "        \n",
              "  <svg xmlns=\"http://www.w3.org/2000/svg\" height=\"24px\"viewBox=\"0 0 24 24\"\n",
              "       width=\"24px\">\n",
              "    <path d=\"M0 0h24v24H0V0z\" fill=\"none\"/>\n",
              "    <path d=\"M18.56 5.44l.94 2.06.94-2.06 2.06-.94-2.06-.94-.94-2.06-.94 2.06-2.06.94zm-11 1L8.5 8.5l.94-2.06 2.06-.94-2.06-.94L8.5 2.5l-.94 2.06-2.06.94zm10 10l.94 2.06.94-2.06 2.06-.94-2.06-.94-.94-2.06-.94 2.06-2.06.94z\"/><path d=\"M17.41 7.96l-1.37-1.37c-.4-.4-.92-.59-1.43-.59-.52 0-1.04.2-1.43.59L10.3 9.45l-7.72 7.72c-.78.78-.78 2.05 0 2.83L4 21.41c.39.39.9.59 1.41.59.51 0 1.02-.2 1.41-.59l7.78-7.78 2.81-2.81c.8-.78.8-2.07 0-2.86zM5.41 20L4 18.59l7.72-7.72 1.47 1.35L5.41 20z\"/>\n",
              "  </svg>\n",
              "      </button>\n",
              "      \n",
              "  <style>\n",
              "    .colab-df-container {\n",
              "      display:flex;\n",
              "      flex-wrap:wrap;\n",
              "      gap: 12px;\n",
              "    }\n",
              "\n",
              "    .colab-df-convert {\n",
              "      background-color: #E8F0FE;\n",
              "      border: none;\n",
              "      border-radius: 50%;\n",
              "      cursor: pointer;\n",
              "      display: none;\n",
              "      fill: #1967D2;\n",
              "      height: 32px;\n",
              "      padding: 0 0 0 0;\n",
              "      width: 32px;\n",
              "    }\n",
              "\n",
              "    .colab-df-convert:hover {\n",
              "      background-color: #E2EBFA;\n",
              "      box-shadow: 0px 1px 2px rgba(60, 64, 67, 0.3), 0px 1px 3px 1px rgba(60, 64, 67, 0.15);\n",
              "      fill: #174EA6;\n",
              "    }\n",
              "\n",
              "    [theme=dark] .colab-df-convert {\n",
              "      background-color: #3B4455;\n",
              "      fill: #D2E3FC;\n",
              "    }\n",
              "\n",
              "    [theme=dark] .colab-df-convert:hover {\n",
              "      background-color: #434B5C;\n",
              "      box-shadow: 0px 1px 3px 1px rgba(0, 0, 0, 0.15);\n",
              "      filter: drop-shadow(0px 1px 2px rgba(0, 0, 0, 0.3));\n",
              "      fill: #FFFFFF;\n",
              "    }\n",
              "  </style>\n",
              "\n",
              "      <script>\n",
              "        const buttonEl =\n",
              "          document.querySelector('#df-eba1aa30-e70e-4625-8c80-631bf5770190 button.colab-df-convert');\n",
              "        buttonEl.style.display =\n",
              "          google.colab.kernel.accessAllowed ? 'block' : 'none';\n",
              "\n",
              "        async function convertToInteractive(key) {\n",
              "          const element = document.querySelector('#df-eba1aa30-e70e-4625-8c80-631bf5770190');\n",
              "          const dataTable =\n",
              "            await google.colab.kernel.invokeFunction('convertToInteractive',\n",
              "                                                     [key], {});\n",
              "          if (!dataTable) return;\n",
              "\n",
              "          const docLinkHtml = 'Like what you see? Visit the ' +\n",
              "            '<a target=\"_blank\" href=https://colab.research.google.com/notebooks/data_table.ipynb>data table notebook</a>'\n",
              "            + ' to learn more about interactive tables.';\n",
              "          element.innerHTML = '';\n",
              "          dataTable['output_type'] = 'display_data';\n",
              "          await google.colab.output.renderOutput(dataTable, element);\n",
              "          const docLink = document.createElement('div');\n",
              "          docLink.innerHTML = docLinkHtml;\n",
              "          element.appendChild(docLink);\n",
              "        }\n",
              "      </script>\n",
              "    </div>\n",
              "  </div>\n",
              "  "
            ]
          },
          "metadata": {},
          "execution_count": 7
        }
      ]
    },
    {
      "cell_type": "markdown",
      "source": [
        "## Principles of data simulation\n",
        "We'd mimic the data using the Geographic Hierachy shown below. However, in the figure below, we would just concentrate on the State level down to the Block level.\n",
        "This includes the following:\n",
        "\n",
        "1. State\n",
        "\n",
        "2. Counties\n",
        "\n",
        "3. Block Groups\n",
        "\n",
        "4. Census Blocks\n"
      ],
      "metadata": {
        "id": "iuMSjeWwiSeO"
      }
    },
    {
      "cell_type": "markdown",
      "source": [
        "![censusgeochart.png|center](data:image/png;base64,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)"
      ],
      "metadata": {
        "id": "yL2551ahjHde"
      }
    },
    {
      "cell_type": "markdown",
      "source": [
        "## Design Pattern for data retrieval\n",
        "In order to give the best efficiency in data retrieval, we must create a way to minimize the total data API requests and maximize the reuse of the data. Therefore, we decided to use:\n",
        "1. Singleton Design Pattern: The singleton design pattern limits a class's instantiation to a single instance. This is done to enable coordinated access to a certain resource throughout an entire software system. The singleton class uses this design pattern to guarantee that it is only created once and may enable simple access to the one instance. We'd utilize this to reduce the number of Block instantiations required for various randomized functions in State classes that use Block data and operations.\n",
        "2. Component Design Pattern: The composite pattern is a partitioning design pattern that specifies a set of items that are processed as if they were a single instance of the same kind of object. A composite's goal is to \"compose\" things into tree structures that depict part-whole hierarchies. It enables you to create a tree structure and assign tasks to each node in the tree structure. We would use this in the need of evoke smaller operations from the bigger classes. For instance, we would want to access a `Block` operation from the `State` level.\n",
        "3. Template Method: An abstract class provides specified methods (templates) for executing its methods. Its subclasses may alter the method implementation as needed, but invocation must follow the rules provided by an abstract class. This pattern falls under the area of behavioural patterns. We would use this strategy to develop a number of classes that all perform the same purpose. A 'Block,' for example, may be formed by performing an API call or obtaining a data record from the State. As a result, we'd have `BlockByAPI` and `BlockByState`, which are essentially the same thing but different in how the data is retrieved.\n"
      ],
      "metadata": {
        "id": "AOW9A0j-kiet"
      }
    },
    {
      "cell_type": "markdown",
      "source": [
        "## Person\n",
        "This is the profile for a person in the simulation. It will contains:\n",
        "1. Person's current block\n",
        "2. The race of that person\n",
        "3. The location of that person based on the block"
      ],
      "metadata": {
        "id": "X7hBkQ3_-fQK"
      }
    },
    {
      "cell_type": "code",
      "source": [
        "class Person():\n",
        "    def __init__(self, blockFIPS, race):\n",
        "        self._blockFIPS = blockFIPS\n",
        "        self._race = race\n",
        "        self._location = None\n",
        "\n",
        "    @property\n",
        "    def blockFIPS(self):\n",
        "        return self._blockFIPS\n",
        "    \n",
        "    @property\n",
        "    def race(self):\n",
        "        return self._race\n",
        "\n",
        "    @property\n",
        "    def location(self):\n",
        "        if (self._location is None):\n",
        "          # \"INTPTLAT, INTPTLON\" // still working on this\n",
        "            print(getDecennialData(self._blockFIPS, dataField = \"TRISUBREM\"))\n",
        "        return self._location\n",
        "\n",
        "    @location.setter\n",
        "    def censusYear(self, location):\n",
        "      self._location = location\n",
        "\n",
        "    def __repr__(self):\n",
        "      return f\"<Person block_FIPS:{self._blockFIPS}, race:{self._race}>\""
      ],
      "metadata": {
        "id": "jsNGLEW81V29"
      },
      "execution_count": 42,
      "outputs": []
    },
    {
      "cell_type": "markdown",
      "source": [
        "For instance, here is an example person:"
      ],
      "metadata": {
        "id": "WNcrcDQs78t7"
      }
    },
    {
      "cell_type": "code",
      "source": [
        "newPerson = Person(\"170318371002011\", \"P1_003N\")\n",
        "newPerson"
      ],
      "metadata": {
        "colab": {
          "base_uri": "https://localhost:8080/"
        },
        "id": "NmBU6H6m79Oi",
        "outputId": "bdcc5fe7-0c9d-47df-8ab9-93ac584142fc"
      },
      "execution_count": 43,
      "outputs": [
        {
          "output_type": "execute_result",
          "data": {
            "text/plain": [
              "<Person block_FIPS:170318371002011, race:P1_003N>"
            ]
          },
          "metadata": {},
          "execution_count": 43
        }
      ]
    },
    {
      "cell_type": "markdown",
      "source": [
        "## Plotting function\n",
        "This function helps plotting a sample\n"
      ],
      "metadata": {
        "id": "jKCUMdx6grsg"
      }
    },
    {
      "cell_type": "code",
      "source": [
        "def plotSample(sample):\n",
        "    sample = pd.Series([person.race for person in sample]).value_counts().sort_index()\n",
        "    sample.plot(kind = \"bar\")\n",
        "    plt.show()"
      ],
      "metadata": {
        "id": "zgWDaXtUhbwk"
      },
      "execution_count": 44,
      "outputs": []
    },
    {
      "cell_type": "markdown",
      "source": [
        "## Unit"
      ],
      "metadata": {
        "id": "W7frh4qppJdn"
      }
    },
    {
      "cell_type": "markdown",
      "source": [
        "Each State, each Block, each County, each Tract is an administrative unit. Therefore, we can build an abstract administrative unit class as follows:"
      ],
      "metadata": {
        "id": "bB-FWv7ypWRA"
      }
    },
    {
      "cell_type": "code",
      "source": [
        "from abc import ABC, abstractmethod\n",
        "\n",
        "class UnitInterface(ABC):\n",
        "    def __init__(self):\n",
        "        pass\n",
        "\n",
        "    @property\n",
        "    @abstractmethod\n",
        "    def FIPS(self):\n",
        "      pass\n",
        "\n",
        "    @property\n",
        "    @abstractmethod\n",
        "    def censusYear(self):\n",
        "      pass\n",
        "    \n",
        "    @property\n",
        "    @abstractmethod\n",
        "    def decennialData(self):\n",
        "      pass\n",
        "\n",
        "    @property\n",
        "    @abstractmethod\n",
        "    def decennialDataCumulative(self):\n",
        "      pass\n",
        "\n",
        "    @abstractmethod\n",
        "    def getSample(self):\n",
        "      pass\n",
        "\n",
        "    @abstractmethod\n",
        "    def graphDecennialData(self):\n",
        "      pass\n",
        "  "
      ],
      "metadata": {
        "id": "XwpVLObJhWV_"
      },
      "execution_count": 45,
      "outputs": []
    },
    {
      "cell_type": "code",
      "source": [
        "import numpy as np\n",
        "import pandas as pd\n",
        "\n",
        "class Unit(UnitInterface):\n",
        "    def __init__(self, administrativeUnit):\n",
        "      self._administrative_unit = administrativeUnit\n",
        "      self._FIPS = None\n",
        "      self._censusYear = None\n",
        "      self._decennial_data = None\n",
        "      self._decennial_data_cumulative = None\n",
        "    \n",
        "    @property\n",
        "    def administrativeUnit(self):\n",
        "        return self._administrative_unit\n",
        "\n",
        "    @property\n",
        "    def FIPS(self):\n",
        "        return self._FIPS\n",
        "\n",
        "    @FIPS.setter\n",
        "    def FIPS(self, fips):\n",
        "      self._FIPS = fips\n",
        "    \n",
        "    @property\n",
        "    def censusYear(self):\n",
        "        return self._censusYear\n",
        "\n",
        "    @censusYear.setter\n",
        "    def censusYear(self, censusYear):\n",
        "      self._censusYear = censusYear\n",
        "    \n",
        "    @property\n",
        "    def decennialData(self):\n",
        "        return self._decennial_data\n",
        "\n",
        "    @decennialData.setter\n",
        "    def decennialData(self, decennial_data):\n",
        "        self._decennial_data = decennial_data\n",
        "\n",
        "    @property\n",
        "    def decennialDataCumulative(self):\n",
        "        if (self._decennial_data_cumulative is None):\n",
        "            decennial_data_processed = pd.to_numeric(self.decennialData.get(\n",
        "                            ['P1_003N', 'P1_004N', 'P1_005N',\n",
        "                            'P1_006N', 'P1_007N', 'P1_008N', 'P1_011N',\n",
        "                            'P1_012N', 'P1_013N', 'P1_014N', 'P1_015N', 'P1_016N', 'P1_017N',\n",
        "                            'P1_018N', 'P1_019N', 'P1_020N', 'P1_021N', 'P1_022N', 'P1_023N',\n",
        "                            'P1_024N', 'P1_025N', 'P1_027N', 'P1_028N', 'P1_029N',\n",
        "                            'P1_030N', 'P1_031N', 'P1_032N', 'P1_033N', 'P1_034N', 'P1_035N',\n",
        "                            'P1_036N', 'P1_037N', 'P1_038N', 'P1_039N', 'P1_040N', 'P1_041N',\n",
        "                            'P1_042N', 'P1_043N', 'P1_044N', 'P1_045N', 'P1_046N', \n",
        "                            'P1_048N', 'P1_049N', 'P1_050N', 'P1_051N', 'P1_052N', 'P1_053N',\n",
        "                            'P1_054N', 'P1_055N', 'P1_056N', 'P1_057N', 'P1_058N', 'P1_059N',\n",
        "                            'P1_060N', 'P1_061N', 'P1_062N', 'P1_063N', 'P1_064N', 'P1_065N',\n",
        "                            'P1_066N', 'P1_067N', 'P1_068N', 'P1_069N', 'P1_071N']))\n",
        "            decennial_data_processed = decennial_data_processed[decennial_data_processed > 0]\n",
        "            if (decennial_data_processed.size == 0):\n",
        "                print('No Population')\n",
        "            self._decennial_data_cumulative = decennial_data_processed.cumsum()\n",
        "            self._decennial_data_cumulative = self._decennial_data_cumulative * 1.0 / self._decennial_data_cumulative.max()\n",
        "        return self._decennial_data_cumulative\n",
        "\n",
        "    @decennialDataCumulative.setter\n",
        "    def decennialDataCumulative(self, decennial_data_cumulative):\n",
        "        self._decennial_data_cumulative = decennial_data_cumulative\n",
        "\n",
        "    def __repr__(self):\n",
        "        return f\"<Unit administrative_unit:{self._administrative_unit}, \\n    FIPS:{self._FIPS}, \\n    decennial_data: \\n {self.decennialData}>\"\n",
        "\n",
        "    def getSample(self, n = 1):\n",
        "        randomFloat = np.random.random_sample(size = n)\n",
        "        indexNum = self.decennialDataCumulative.searchsorted(randomFloat, side=\"right\")\n",
        "        return list(map((lambda x : Person(self._FIPS, self.decennialDataCumulative.index[x])), indexNum))\n",
        "\n",
        "    def graphDecennialData(self):\n",
        "        self.getProcessedDecennialData()\n",
        "        self._decennial_data.plot( kind = 'bar')\n",
        "        plt.show()"
      ],
      "metadata": {
        "id": "FUqd0BFoCPPm"
      },
      "execution_count": 46,
      "outputs": []
    },
    {
      "cell_type": "markdown",
      "source": [
        "We would able to create each administrative unit based on their FIPS."
      ],
      "metadata": {
        "id": "4sKJoEAOhF7I"
      }
    },
    {
      "cell_type": "markdown",
      "source": [
        "### Block"
      ],
      "metadata": {
        "id": "ZQoXPV_EmCaN"
      }
    },
    {
      "cell_type": "code",
      "source": [
        "import matplotlib.pyplot as plt\n",
        "class BlockByFIPS(Unit):\n",
        "    def __init__(self, FIPS, censusYear = \"2020\"):  \n",
        "      super().__init__(\"Block\")\n",
        "      if (len(FIPS) != 15):\n",
        "          raise Exception(\"fips length is invalid\")\n",
        "      self._FIPS = FIPS\n",
        "      self._censusYear = censusYear\n",
        "\n",
        "    @property\n",
        "    def decennialData(self):\n",
        "        if(self._decennial_data is None):\n",
        "            self._decennial_data = getDecennialData(self._FIPS, year = self._censusYear)\n",
        "        return self._decennial_data\n",
        "\n"
      ],
      "metadata": {
        "id": "E5BLwfS4Ueu_"
      },
      "execution_count": 47,
      "outputs": []
    },
    {
      "cell_type": "code",
      "source": [
        "newBlock = BlockByFIPS(\"170318371002011\")\n",
        "newBlock"
      ],
      "metadata": {
        "colab": {
          "base_uri": "https://localhost:8080/"
        },
        "id": "83dSdCC_gq3G",
        "outputId": "ecf96888-6e59-4ea1-aa0e-9d0834910ae3"
      },
      "execution_count": 48,
      "outputs": [
        {
          "output_type": "execute_result",
          "data": {
            "text/plain": [
              "<Unit administrative_unit:Block, \n",
              "    FIPS:170318371002011, \n",
              "    decennial_data: \n",
              " GEO_ID                              1000000US170318371002011\n",
              "NAME       Block 2011, Block Group 2, Census Tract 8371, ...\n",
              "P1_001N                                                   59\n",
              "P1_002N                                                   54\n",
              "P1_003N                                                   25\n",
              "                                 ...                        \n",
              "P1_071N                                                    0\n",
              "state                                                     17\n",
              "county                                                   031\n",
              "tract                                                 837100\n",
              "block                                                   2011\n",
              "Length: 77, dtype: object>"
            ]
          },
          "metadata": {},
          "execution_count": 48
        }
      ]
    },
    {
      "cell_type": "code",
      "source": [
        "sample = newBlock.getSample(100)\n",
        "plotSample(sample)"
      ],
      "metadata": {
        "colab": {
          "base_uri": "https://localhost:8080/",
          "height": 299
        },
        "id": "dBelMwhLgtNe",
        "outputId": "dfc75f8c-7438-4a51-c529-c9e9491ebda3"
      },
      "execution_count": 49,
      "outputs": [
        {
          "output_type": "display_data",
          "data": {
            "text/plain": [
              "<Figure size 432x288 with 1 Axes>"
            ],
            "image/png": "[encoded data removed]"
          },
          "metadata": {
            "needs_background": "light"
          }
        }
      ]
    },
    {
      "cell_type": "markdown",
      "source": [
        "### Tract"
      ],
      "metadata": {
        "id": "2LwyeO9amICf"
      }
    },
    {
      "cell_type": "code",
      "source": [
        "import matplotlib.pyplot as plt\n",
        "class TractByFIPS(Unit):\n",
        "    def __init__(self, FIPS, censusYear = \"2020\"):  \n",
        "      super().__init__(\"Tract\")\n",
        "      if (len(FIPS) != 11):\n",
        "          raise Exception(\"fips length is invalid\")\n",
        "      self._FIPS = FIPS\n",
        "      self._censusYear = censusYear\n",
        "\n",
        "    @property\n",
        "    def decennialData(self):\n",
        "        if(self._decennial_data is None):\n",
        "            self._decennial_data = getDecennialData(self._FIPS, year = self._censusYear, for_unit=\"tract\")\n",
        "        return self._decennial_data\n",
        "\n"
      ],
      "metadata": {
        "id": "2aLPw3pxmICf"
      },
      "execution_count": 50,
      "outputs": []
    },
    {
      "cell_type": "code",
      "source": [
        "newTract = TractByFIPS(\"17031837100\")\n",
        "newTract"
      ],
      "metadata": {
        "colab": {
          "base_uri": "https://localhost:8080/"
        },
        "outputId": "203d4a70-5e2d-40dd-f7c9-d212fe255d4a",
        "id": "URHWMr7hmICg"
      },
      "execution_count": 51,
      "outputs": [
        {
          "output_type": "execute_result",
          "data": {
            "text/plain": [
              "<Unit administrative_unit:Tract, \n",
              "    FIPS:17031837100, \n",
              "    decennial_data: \n",
              " GEO_ID                         1400000US17031837100\n",
              "NAME       Census Tract 8371, Cook County, Illinois\n",
              "P1_001N                                        1652\n",
              "P1_002N                                        1536\n",
              "P1_003N                                         240\n",
              "                             ...                   \n",
              "P1_070N                                           0\n",
              "P1_071N                                           0\n",
              "state                                            17\n",
              "county                                          031\n",
              "tract                                        837100\n",
              "Length: 76, dtype: object>"
            ]
          },
          "metadata": {},
          "execution_count": 51
        }
      ]
    },
    {
      "cell_type": "code",
      "source": [
        "sample = newTract.getSample(100)\n",
        "plotSample(sample)"
      ],
      "metadata": {
        "colab": {
          "base_uri": "https://localhost:8080/",
          "height": 299
        },
        "outputId": "ea0e327b-ff42-4f62-d4bc-6540264c3522",
        "id": "DjojzRp0mICg"
      },
      "execution_count": 52,
      "outputs": [
        {
          "output_type": "display_data",
          "data": {
            "text/plain": [
              "<Figure size 432x288 with 1 Axes>"
            ],
            "image/png": "[encoded data removed]"
          },
          "metadata": {
            "needs_background": "light"
          }
        }
      ]
    },
    {
      "cell_type": "markdown",
      "source": [
        "### County"
      ],
      "metadata": {
        "id": "QnTQmbRusnkj"
      }
    },
    {
      "cell_type": "code",
      "source": [
        "import matplotlib.pyplot as plt\n",
        "class CountyByFIPS(Unit):\n",
        "    def __init__(self, FIPS, censusYear = \"2020\"):  \n",
        "      super().__init__(\"County\")\n",
        "      if (len(FIPS) != 5):\n",
        "          raise Exception(\"fips length is invalid\")\n",
        "      self._FIPS = FIPS\n",
        "      self._censusYear = censusYear\n",
        "\n",
        "    @property\n",
        "    def decennialData(self):\n",
        "        if(self._decennial_data is None):\n",
        "            self._decennial_data = getDecennialData(self._FIPS, year = self._censusYear, for_unit=\"county\")\n",
        "        return self._decennial_data\n",
        "\n"
      ],
      "metadata": {
        "id": "KXRIeEXMsnkk"
      },
      "execution_count": 53,
      "outputs": []
    },
    {
      "cell_type": "code",
      "source": [
        "newCounty = CountyByFIPS(\"17031\")\n",
        "newCounty"
      ],
      "metadata": {
        "colab": {
          "base_uri": "https://localhost:8080/"
        },
        "outputId": "33402572-08ac-429e-e7d2-a3ee2bcfc69d",
        "id": "H3MmyVE0snkk"
      },
      "execution_count": 54,
      "outputs": [
        {
          "output_type": "execute_result",
          "data": {
            "text/plain": [
              "<Unit administrative_unit:County, \n",
              "    FIPS:17031, \n",
              "    decennial_data: \n",
              " GEO_ID            0500000US17031\n",
              "NAME       Cook County, Illinois\n",
              "P1_001N                  5275541\n",
              "P1_002N                  4728989\n",
              "P1_003N                  2345983\n",
              "                   ...          \n",
              "P1_069N                        1\n",
              "P1_070N                       36\n",
              "P1_071N                       36\n",
              "state                         17\n",
              "county                       031\n",
              "Length: 75, dtype: object>"
            ]
          },
          "metadata": {},
          "execution_count": 54
        }
      ]
    },
    {
      "cell_type": "code",
      "source": [
        "sample = newCounty.getSample(100)\n",
        "print(sample)\n",
        "plotSample(sample)"
      ],
      "metadata": {
        "colab": {
          "base_uri": "https://localhost:8080/",
          "height": 336
        },
        "outputId": "df7c692b-e8d8-458b-c0d7-f61a20947bcc",
        "id": "mZvYD5rDsnkk"
      },
      "execution_count": 55,
      "outputs": [
        {
          "output_type": "stream",
          "name": "stdout",
          "text": [
            "[<Person block_FIPS:17031, race:P1_004N>, <Person block_FIPS:17031, race:P1_003N>, <Person block_FIPS:17031, race:P1_008N>, <Person block_FIPS:17031, race:P1_003N>, <Person block_FIPS:17031, race:P1_003N>, <Person block_FIPS:17031, race:P1_008N>, <Person block_FIPS:17031, race:P1_003N>, <Person block_FIPS:17031, race:P1_003N>, <Person block_FIPS:17031, race:P1_004N>, <Person block_FIPS:17031, race:P1_003N>, <Person block_FIPS:17031, race:P1_012N>, <Person block_FIPS:17031, race:P1_003N>, <Person block_FIPS:17031, race:P1_003N>, <Person block_FIPS:17031, race:P1_004N>, <Person block_FIPS:17031, race:P1_003N>, <Person block_FIPS:17031, race:P1_015N>, <Person block_FIPS:17031, race:P1_004N>, <Person block_FIPS:17031, race:P1_003N>, <Person block_FIPS:17031, race:P1_015N>, <Person block_FIPS:17031, race:P1_015N>, <Person block_FIPS:17031, race:P1_006N>, <Person block_FIPS:17031, race:P1_015N>, <Person block_FIPS:17031, race:P1_015N>, <Person block_FIPS:17031, race:P1_003N>, <Person block_FIPS:17031, race:P1_004N>, <Person block_FIPS:17031, race:P1_003N>, <Person block_FIPS:17031, race:P1_004N>, <Person block_FIPS:17031, race:P1_004N>, <Person block_FIPS:17031, race:P1_004N>, <Person block_FIPS:17031, race:P1_008N>, <Person block_FIPS:17031, race:P1_006N>, <Person block_FIPS:17031, race:P1_008N>, <Person block_FIPS:17031, race:P1_008N>, <Person block_FIPS:17031, race:P1_004N>, <Person block_FIPS:17031, race:P1_003N>, <Person block_FIPS:17031, race:P1_004N>, <Person block_FIPS:17031, race:P1_006N>, <Person block_FIPS:17031, race:P1_006N>, <Person block_FIPS:17031, race:P1_003N>, <Person block_FIPS:17031, race:P1_007N>, <Person block_FIPS:17031, race:P1_004N>, <Person block_FIPS:17031, race:P1_015N>, <Person block_FIPS:17031, race:P1_006N>, <Person block_FIPS:17031, race:P1_003N>, <Person block_FIPS:17031, race:P1_003N>, <Person block_FIPS:17031, race:P1_031N>, <Person block_FIPS:17031, race:P1_003N>, <Person block_FIPS:17031, race:P1_004N>, <Person block_FIPS:17031, race:P1_003N>, <Person block_FIPS:17031, race:P1_006N>, <Person block_FIPS:17031, race:P1_004N>, <Person block_FIPS:17031, race:P1_015N>, <Person block_FIPS:17031, race:P1_006N>, <Person block_FIPS:17031, race:P1_003N>, <Person block_FIPS:17031, race:P1_008N>, <Person block_FIPS:17031, race:P1_003N>, <Person block_FIPS:17031, race:P1_003N>, <Person block_FIPS:17031, race:P1_015N>, <Person block_FIPS:17031, race:P1_003N>, <Person block_FIPS:17031, race:P1_003N>, <Person block_FIPS:17031, race:P1_005N>, <Person block_FIPS:17031, race:P1_004N>, <Person block_FIPS:17031, race:P1_004N>, <Person block_FIPS:17031, race:P1_015N>, <Person block_FIPS:17031, race:P1_004N>, <Person block_FIPS:17031, race:P1_003N>, <Person block_FIPS:17031, race:P1_004N>, <Person block_FIPS:17031, race:P1_006N>, <Person block_FIPS:17031, race:P1_006N>, <Person block_FIPS:17031, race:P1_005N>, <Person block_FIPS:17031, race:P1_004N>, <Person block_FIPS:17031, race:P1_015N>, <Person block_FIPS:17031, race:P1_004N>, <Person block_FIPS:17031, race:P1_008N>, <Person block_FIPS:17031, race:P1_006N>, <Person block_FIPS:17031, race:P1_003N>, <Person block_FIPS:17031, race:P1_003N>, <Person block_FIPS:17031, race:P1_003N>, <Person block_FIPS:17031, race:P1_008N>, <Person block_FIPS:17031, race:P1_015N>, <Person block_FIPS:17031, race:P1_008N>, <Person block_FIPS:17031, race:P1_008N>, <Person block_FIPS:17031, race:P1_004N>, <Person block_FIPS:17031, race:P1_004N>, <Person block_FIPS:17031, race:P1_003N>, <Person block_FIPS:17031, race:P1_003N>, <Person block_FIPS:17031, race:P1_004N>, <Person block_FIPS:17031, race:P1_008N>, <Person block_FIPS:17031, race:P1_004N>, <Person block_FIPS:17031, race:P1_003N>, <Person block_FIPS:17031, race:P1_004N>, <Person block_FIPS:17031, race:P1_004N>, <Person block_FIPS:17031, race:P1_015N>, <Person block_FIPS:17031, race:P1_004N>, <Person block_FIPS:17031, race:P1_003N>, <Person block_FIPS:17031, race:P1_003N>, <Person block_FIPS:17031, race:P1_003N>, <Person block_FIPS:17031, race:P1_003N>, <Person block_FIPS:17031, race:P1_003N>, <Person block_FIPS:17031, race:P1_008N>]\n"
          ]
        },
        {
          "output_type": "display_data",
          "data": {
            "text/plain": [
              "<Figure size 432x288 with 1 Axes>"
            ],
            "image/png": "[encoded data removed]"
          },
          "metadata": {
            "needs_background": "light"
          }
        }
      ]
    },
    {
      "cell_type": "code",
      "source": [
        "getFIPS(41.886269657542044, -87.70033108160133, year = \"2020\")"
      ],
      "metadata": {
        "colab": {
          "base_uri": "https://localhost:8080/",
          "height": 53
        },
        "id": "oBk-ayYXkZxk",
        "outputId": "2a36cdec-3442-4a57-828d-1b8927debc36"
      },
      "execution_count": 56,
      "outputs": [
        {
          "output_type": "stream",
          "name": "stdout",
          "text": [
            "{\"Block\":{\"FIPS\":\"170318371002011\",\"bbox\":[-87.701359,41.885909,-87.69888,41.886508]},\"County\":{\"FIPS\":\"17031\",\"name\":\"Cook County\"},\"State\":{\"FIPS\":\"17\",\"code\":\"IL\",\"name\":\"Illinois\"},\"status\":\"OK\",\"executionTime\":\"0\"}\n"
          ]
        },
        {
          "output_type": "execute_result",
          "data": {
            "text/plain": [
              "'170318371002011'"
            ],
            "application/vnd.google.colaboratory.intrinsic+json": {
              "type": "string"
            }
          },
          "metadata": {},
          "execution_count": 56
        }
      ]
    },
    {
      "cell_type": "markdown",
      "source": [
        "### State"
      ],
      "metadata": {
        "id": "zhzW5eves9xl"
      }
    },
    {
      "cell_type": "code",
      "source": [
        "import matplotlib.pyplot as plt\n",
        "class StateByFIPS(Unit):\n",
        "    def __init__(self, FIPS, censusYear = \"2020\"):  \n",
        "      super().__init__(\"State\")\n",
        "      if (len(FIPS) != 2):\n",
        "          raise Exception(\"fips length is invalid\")\n",
        "      self._FIPS = FIPS\n",
        "      self._censusYear = censusYear\n",
        "\n",
        "    @property\n",
        "    def decennialData(self):\n",
        "        if(self._decennial_data is None):\n",
        "            self._decennial_data = getDecennialData(self._FIPS, year = self._censusYear, for_unit=\"state\")\n",
        "        return self._decennial_data\n",
        "\n"
      ],
      "metadata": {
        "id": "qXA46ySms9yB"
      },
      "execution_count": 57,
      "outputs": []
    },
    {
      "cell_type": "code",
      "source": [
        "newState = StateByFIPS(\"17\")\n",
        "newState"
      ],
      "metadata": {
        "colab": {
          "base_uri": "https://localhost:8080/"
        },
        "outputId": "eb194096-0d86-4568-925b-91d9b2af16a5",
        "id": "0BPo0XL6s9yC"
      },
      "execution_count": 58,
      "outputs": [
        {
          "output_type": "execute_result",
          "data": {
            "text/plain": [
              "<Unit administrative_unit:State, \n",
              "    FIPS:17, \n",
              "    decennial_data: \n",
              " GEO_ID     0400000US17\n",
              "NAME          Illinois\n",
              "P1_001N       12812508\n",
              "P1_002N       11667524\n",
              "P1_003N        7868227\n",
              "              ...     \n",
              "P1_068N              4\n",
              "P1_069N             15\n",
              "P1_070N             84\n",
              "P1_071N             84\n",
              "state               17\n",
              "Length: 74, dtype: object>"
            ]
          },
          "metadata": {},
          "execution_count": 58
        }
      ]
    },
    {
      "cell_type": "code",
      "source": [
        "sample = newState.getSample(10000)\n",
        "plotSample(sample)"
      ],
      "metadata": {
        "colab": {
          "base_uri": "https://localhost:8080/",
          "height": 299
        },
        "outputId": "7ebdc227-1571-4e4d-b9a2-1473f666bd91",
        "id": "RfpFR2vUs9yD"
      },
      "execution_count": 59,
      "outputs": [
        {
          "output_type": "display_data",
          "data": {
            "text/plain": [
              "<Figure size 432x288 with 1 Axes>"
            ],
            "image/png": "[encoded data removed]"
          },
          "metadata": {
            "needs_background": "light"
          }
        }
      ]
    },
    {
      "cell_type": "markdown",
      "source": [
        "## Geolocation inputs\n",
        "Working with input from latitude and longitude, we can convert it into FIPS using the API from Federal Communication Commission using the `getFIPS()` function. "
      ],
      "metadata": {
        "id": "Ja8c9LuEt3sb"
      }
    },
    {
      "cell_type": "code",
      "source": [
        "class BlockByLoc(BlockByFIPS):\n",
        "    def __init__(self, lat, lon, censusYear = \"2020\"):  \n",
        "        FIPS = getFIPS(lat, lon, year = censusYear)\n",
        "        super().__init__(FIPS, censusYear)\n",
        "\n",
        "class CountyByLoc(CountyByFIPS):\n",
        "    def __init__(self, lat, lon, censusYear = \"2020\"):  \n",
        "        FIPS = getFIPS(lat, lon, year = censusYear, division=\"County\")\n",
        "        super().__init__(FIPS, censusYear)\n",
        "\n",
        "class StateByLoc(StateByFIPS):\n",
        "    def __init__(self, lat, lon, censusYear = \"2020\"):  \n",
        "        FIPS = getFIPS(lat, lon, year = censusYear, division=\"State\")\n",
        "        super().__init__(FIPS, censusYear)\n"
      ],
      "metadata": {
        "id": "kKGFK-Tet1j7"
      },
      "execution_count": 60,
      "outputs": []
    },
    {
      "cell_type": "markdown",
      "source": [
        "For instance, we get the County data based on `lat=41.871939, lon=-87.649470`:"
      ],
      "metadata": {
        "id": "r5cYqgJBvqCf"
      }
    },
    {
      "cell_type": "code",
      "source": [
        "newCounty = CountyByLoc(lat=41.871939, lon=-87.649470)\n",
        "newCounty"
      ],
      "metadata": {
        "colab": {
          "base_uri": "https://localhost:8080/"
        },
        "id": "VN5tfTlxv33o",
        "outputId": "7fa79916-6860-4e3b-b0a0-97ee7ed30578"
      },
      "execution_count": 61,
      "outputs": [
        {
          "output_type": "stream",
          "name": "stdout",
          "text": [
            "{\"Block\":{\"FIPS\":\"170318419001043\",\"bbox\":[-87.651808,41.869508,-87.647064,41.874375]},\"County\":{\"FIPS\":\"17031\",\"name\":\"Cook County\"},\"State\":{\"FIPS\":\"17\",\"code\":\"IL\",\"name\":\"Illinois\"},\"status\":\"OK\",\"executionTime\":\"0\"}\n"
          ]
        },
        {
          "output_type": "execute_result",
          "data": {
            "text/plain": [
              "<Unit administrative_unit:County, \n",
              "    FIPS:17031, \n",
              "    decennial_data: \n",
              " GEO_ID            0500000US17031\n",
              "NAME       Cook County, Illinois\n",
              "P1_001N                  5275541\n",
              "P1_002N                  4728989\n",
              "P1_003N                  2345983\n",
              "                   ...          \n",
              "P1_069N                        1\n",
              "P1_070N                       36\n",
              "P1_071N                       36\n",
              "state                         17\n",
              "county                       031\n",
              "Length: 75, dtype: object>"
            ]
          },
          "metadata": {},
          "execution_count": 61
        }
      ]
    },
    {
      "cell_type": "markdown",
      "source": [
        "# Group\n",
        "Assume you want to gather information and analyze of a list of `Block` that have the same `State` FIPS, we would use this class."
      ],
      "metadata": {
        "id": "1oj00pGwwbEC"
      }
    },
    {
      "cell_type": "markdown",
      "source": [
        "### Unit By Decennial Data\n",
        "\n",
        "For each retrieval of `Group` data, we would obtain a large table of `Unit` data. Therefore, a new class of `Unit` is required that can accept input from a sequence of `DecennialData`."
      ],
      "metadata": {
        "id": "QYSCMBY776qh"
      }
    },
    {
      "cell_type": "code",
      "source": [
        "class UnitByDecennialData(Unit):\n",
        "    def __init__(self, decennialData, cummulativeDecennialData = None):\n",
        "        if not isinstance(decennialData, pd.Series):\n",
        "            raise(\"The DecennialData must be a panda Series\")\n",
        "        if ('state' in decennialData.index):\n",
        "            state = str(decennialData['state'])\n",
        "            self._administrative_unit = 'State'\n",
        "            print(state)\n",
        "        else:\n",
        "            state = \"\"\n",
        "        \n",
        "        if ('county' in decennialData.index):\n",
        "            county = str(decennialData['county'])\n",
        "            self._administrative_unit = 'County'\n",
        "            print(county)\n",
        "        else:\n",
        "            county = \"\"\n",
        "\n",
        "        if ('tract' in decennialData.index):\n",
        "            tract = str(decennialData['tract'])\n",
        "            self._administrative_unit = 'Tract'\n",
        "            print(tract)\n",
        "        else:\n",
        "            tract = \"\"\n",
        "\n",
        "        if ('block' in decennialData.index):\n",
        "            block = str(decennialData['block'])\n",
        "            self._administrative_unit = 'Block'\n",
        "            print(block)\n",
        "        else:\n",
        "            block = \"\"\n",
        "        \n",
        "        self._FIPS = state + county + tract + block\n",
        "        self._censusYear = None\n",
        "        self._decennial_data = decennialData\n",
        "        self._decennial_data_cumulative = cummulativeDecennialData"
      ],
      "metadata": {
        "id": "Flopxib3w9Ao"
      },
      "execution_count": 62,
      "outputs": []
    },
    {
      "cell_type": "code",
      "source": [
        "newTract = UnitByDecennialData(getDecennialData(\"17031841900\", for_unit='tract'))\n",
        "print(newTract)"
      ],
      "metadata": {
        "colab": {
          "base_uri": "https://localhost:8080/"
        },
        "id": "r7QZINND2yIC",
        "outputId": "df502bf5-a5a6-49f7-b475-acb25e512918"
      },
      "execution_count": 63,
      "outputs": [
        {
          "output_type": "stream",
          "name": "stdout",
          "text": [
            "17\n",
            "031\n",
            "841900\n",
            "<Unit administrative_unit:Tract, \n",
            "    FIPS:17031841900, \n",
            "    decennial_data: \n",
            " GEO_ID                         1400000US17031841900\n",
            "NAME       Census Tract 8419, Cook County, Illinois\n",
            "P1_001N                                        6500\n",
            "P1_002N                                        6152\n",
            "P1_003N                                        2542\n",
            "                             ...                   \n",
            "P1_070N                                           0\n",
            "P1_071N                                           0\n",
            "state                                            17\n",
            "county                                          031\n",
            "tract                                        841900\n",
            "Length: 76, dtype: object>\n"
          ]
        }
      ]
    },
    {
      "cell_type": "markdown",
      "source": [
        "## Reference\n",
        "Bureau, U. S. C. (2022, March 10). *Decennial Census (2020, 2010, 2000)*. Census.gov. Retrieved July 14, 2022, from https://www.census.gov/data/developers/data-sets/decennial-census.html "
      ],
      "metadata": {
        "id": "cpQZ5fq_9ZAd"
      }
    },
    {
      "cell_type": "markdown",
      "source": [
        "### Group class"
      ],
      "metadata": {
        "id": "1u1yh5qM9TB1"
      }
    },
    {
      "cell_type": "code",
      "source": [
        "class Group(UnitInterface):\n",
        "    def __init__(self, FIPS, group_level, unit_level):\n",
        "        self._administrative_unit = group_level\n",
        "        self._FIPS = FIPS\n",
        "        self._unit_level = unit_level\n",
        "        self._decennial_data = None\n",
        "        self._decennial_data_cumulative = None\n",
        "        self._units = []\n",
        "\n",
        "    @property\n",
        "    def administrativeUnit(self):\n",
        "        return self._administrative_unit\n",
        "\n",
        "    @property\n",
        "    def FIPS(self):\n",
        "        return self._FIPS\n",
        "\n",
        "    @FIPS.setter\n",
        "    def FIPS(self, fips):\n",
        "      self._FIPS = fips\n",
        "    \n",
        "    @property\n",
        "    def censusYear(self):\n",
        "        return self._censusYear\n",
        "\n",
        "    @censusYear.setter\n",
        "    def censusYear(self, censusYear):\n",
        "      self._censusYear = censusYear\n",
        "    \n",
        "    @property\n",
        "    def decennialData(self):\n",
        "        return self._decennial_data\n",
        "\n",
        "    @decennialData.setter\n",
        "    def decennialData(self, decennial_data):\n",
        "        self._decennial_data = decennial_data\n",
        "\n",
        "    @property\n",
        "    def Units(self):\n",
        "        return self._units\n",
        "\n",
        "    @property\n",
        "    def decennialDataCumulative(self):\n",
        "        if (self._decennial_data_cumulative is None):\n",
        "            decennial_data_processed = self.decennialData['P1_001N']\n",
        "            decennial_data_processed = decennial_data_processed[decennial_data_processed > 0]\n",
        "            if (decennial_data_processed.size == 0):\n",
        "                print('No Population')\n",
        "            self._decennial_data_cumulative = decennial_data_processed\n",
        "            self._decennial_data_cumulative = self._decennial_data_cumulative * 1.0 / self._decennial_data_cumulative.max()\n",
        "        return self._decennial_data_cumulative\n",
        "\n",
        "    @decennialDataCumulative.setter\n",
        "    def decennialDataCumulative(self, decennial_data_cumulative):\n",
        "        self._decennial_data_cumulative = decennial_data_cumulative\n",
        "\n",
        "    def __repr__(self):\n",
        "        return f\"<Group administrative_unit:{self._administrative_unit}, \\n     FIPS:{self._FIPS}, \\n    decennial_data: \\n {self.decennialData}>\"\n",
        "\n",
        "    def getSample(self, n = 1):\n",
        "        randomFloat = np.random.random_sample(size = n)\n",
        "        indexNum = self.decennialDataCumulative.searchsorted(randomFloat, side=\"right\")\n",
        "        print(indexNum)\n",
        "        return list(map((lambda x : self.decennialDataCumulative.index[x]), indexNum))\n",
        "\n",
        "    def graphDecennialData(self):\n",
        "        self.getProcessedDecennialData()\n",
        "        self._decennial_data.plot( kind = 'bar')\n",
        "        plt.show()"
      ],
      "metadata": {
        "id": "k2MMhTt-9hw_"
      },
      "execution_count": 64,
      "outputs": []
    },
    {
      "cell_type": "code",
      "source": [
        "class StateByBlockGroup(Group):\n",
        "      "
      ],
      "metadata": {
        "id": "A8sq50ySFYO6"
      },
      "execution_count": 64,
      "outputs": []
    }
  ]
}