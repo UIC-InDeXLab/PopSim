{
 "cells": [
  {
   "cell_type": "markdown",
   "metadata": {},
   "source": [
    "# Testing validity with IL Synthesis Dataset"
   ]
  },
  {
   "cell_type": "markdown",
   "metadata": {},
   "source": [
    "## Import Synthesis Dataset"
   ]
  },
  {
   "cell_type": "code",
   "execution_count": 1,
   "metadata": {},
   "outputs": [],
   "source": [
    "import numpy as np\n",
    "import pandas as pd\n",
    "import matplotlib.pyplot as plt\n",
    "import scipy.stats as stats"
   ]
  },
  {
   "cell_type": "code",
   "execution_count": 2,
   "metadata": {},
   "outputs": [],
   "source": [
    "def loadDataset(path):\n",
    "    a = pd.read_csv(path)\n",
    "    return a.drop(a.columns[0], axis=1)\n",
    "def groupByRace(dataset):\n",
    "    return dataset.groupby(by = [\"race\"])\n",
    "def groupByFIPS(dataset):\n",
    "    return dataset.groupby(by = [\"FIPS\"])\n",
    "def groupByFIPSAndRace(dataset):\n",
    "    return dataset.groupby(by = [\"FIPS\", \"race\"])"
   ]
  },
  {
   "cell_type": "code",
   "execution_count": 3,
   "metadata": {},
   "outputs": [],
   "source": [
    "ILdataset = loadDataset('./data/generatedDatasets/IL_dataset_1mil.csv')"
   ]
  },
  {
   "cell_type": "code",
   "execution_count": 4,
   "metadata": {},
   "outputs": [
    {
     "data": {
      "text/plain": [
       "FIPS\n",
       "170010001001000     3\n",
       "170010001001007     4\n",
       "170010001001008    15\n",
       "170010001001010     3\n",
       "170010001001016     3\n",
       "                   ..\n",
       "172030307003210     2\n",
       "172030307003212     3\n",
       "172030307003214     1\n",
       "172030307003217     1\n",
       "172030307003228     3\n",
       "Name: FIPS, Length: 207460, dtype: int64"
      ]
     },
     "execution_count": 4,
     "metadata": {},
     "output_type": "execute_result"
    }
   ],
   "source": [
    "ILdataset.groupby(by = [\"FIPS\"]).FIPS.count()"
   ]
  },
  {
   "cell_type": "code",
   "execution_count": 5,
   "metadata": {},
   "outputs": [
    {
     "data": {
      "text/plain": [
       "race\n",
       "P1_003N    614099\n",
       "P1_004N    141083\n",
       "P1_005N      7616\n",
       "P1_006N     58671\n",
       "P1_007N       335\n",
       "            ...  \n",
       "P1_065N        25\n",
       "P1_066N         2\n",
       "P1_067N         1\n",
       "P1_069N         2\n",
       "P1_071N         5\n",
       "Name: FIPS, Length: 61, dtype: int64"
      ]
     },
     "execution_count": 5,
     "metadata": {},
     "output_type": "execute_result"
    }
   ],
   "source": [
    "ILdataset.groupby(by = [\"race\"]).FIPS.count()"
   ]
  },
  {
   "cell_type": "code",
   "execution_count": 6,
   "metadata": {},
   "outputs": [
    {
     "data": {
      "text/html": [
       "<div>\n",
       "<style scoped>\n",
       "    .dataframe tbody tr th:only-of-type {\n",
       "        vertical-align: middle;\n",
       "    }\n",
       "\n",
       "    .dataframe tbody tr th {\n",
       "        vertical-align: top;\n",
       "    }\n",
       "\n",
       "    .dataframe thead th {\n",
       "        text-align: right;\n",
       "    }\n",
       "</style>\n",
       "<table border=\"1\" class=\"dataframe\">\n",
       "  <thead>\n",
       "    <tr style=\"text-align: right;\">\n",
       "      <th></th>\n",
       "      <th></th>\n",
       "      <th>count</th>\n",
       "    </tr>\n",
       "    <tr>\n",
       "      <th>FIPS</th>\n",
       "      <th>race</th>\n",
       "      <th></th>\n",
       "    </tr>\n",
       "  </thead>\n",
       "  <tbody>\n",
       "    <tr>\n",
       "      <th>170010001001000</th>\n",
       "      <th>P1_003N</th>\n",
       "      <td>3</td>\n",
       "    </tr>\n",
       "    <tr>\n",
       "      <th>170010001001007</th>\n",
       "      <th>P1_003N</th>\n",
       "      <td>4</td>\n",
       "    </tr>\n",
       "    <tr>\n",
       "      <th>170010001001008</th>\n",
       "      <th>P1_003N</th>\n",
       "      <td>15</td>\n",
       "    </tr>\n",
       "    <tr>\n",
       "      <th>170010001001010</th>\n",
       "      <th>P1_003N</th>\n",
       "      <td>3</td>\n",
       "    </tr>\n",
       "    <tr>\n",
       "      <th>170010001001016</th>\n",
       "      <th>P1_003N</th>\n",
       "      <td>3</td>\n",
       "    </tr>\n",
       "    <tr>\n",
       "      <th>...</th>\n",
       "      <th>...</th>\n",
       "      <td>...</td>\n",
       "    </tr>\n",
       "    <tr>\n",
       "      <th>172030307003210</th>\n",
       "      <th>P1_003N</th>\n",
       "      <td>2</td>\n",
       "    </tr>\n",
       "    <tr>\n",
       "      <th>172030307003212</th>\n",
       "      <th>P1_003N</th>\n",
       "      <td>3</td>\n",
       "    </tr>\n",
       "    <tr>\n",
       "      <th>172030307003214</th>\n",
       "      <th>P1_003N</th>\n",
       "      <td>1</td>\n",
       "    </tr>\n",
       "    <tr>\n",
       "      <th>172030307003217</th>\n",
       "      <th>P1_003N</th>\n",
       "      <td>1</td>\n",
       "    </tr>\n",
       "    <tr>\n",
       "      <th>172030307003228</th>\n",
       "      <th>P1_003N</th>\n",
       "      <td>3</td>\n",
       "    </tr>\n",
       "  </tbody>\n",
       "</table>\n",
       "<p>353118 rows × 1 columns</p>\n",
       "</div>"
      ],
      "text/plain": [
       "                         count\n",
       "FIPS            race          \n",
       "170010001001000 P1_003N      3\n",
       "170010001001007 P1_003N      4\n",
       "170010001001008 P1_003N     15\n",
       "170010001001010 P1_003N      3\n",
       "170010001001016 P1_003N      3\n",
       "...                        ...\n",
       "172030307003210 P1_003N      2\n",
       "172030307003212 P1_003N      3\n",
       "172030307003214 P1_003N      1\n",
       "172030307003217 P1_003N      1\n",
       "172030307003228 P1_003N      3\n",
       "\n",
       "[353118 rows x 1 columns]"
      ]
     },
     "execution_count": 6,
     "metadata": {},
     "output_type": "execute_result"
    }
   ],
   "source": [
    "ILdataset.groupby(by = [\"FIPS\",\"race\"]).FIPS.agg(['count'])"
   ]
  },
  {
   "cell_type": "code",
   "execution_count": 7,
   "metadata": {},
   "outputs": [
    {
     "data": {
      "text/html": [
       "<div>\n",
       "<style scoped>\n",
       "    .dataframe tbody tr th:only-of-type {\n",
       "        vertical-align: middle;\n",
       "    }\n",
       "\n",
       "    .dataframe tbody tr th {\n",
       "        vertical-align: top;\n",
       "    }\n",
       "\n",
       "    .dataframe thead th {\n",
       "        text-align: right;\n",
       "    }\n",
       "</style>\n",
       "<table border=\"1\" class=\"dataframe\">\n",
       "  <thead>\n",
       "    <tr style=\"text-align: right;\">\n",
       "      <th></th>\n",
       "      <th>FIPS</th>\n",
       "      <th>race</th>\n",
       "      <th>count</th>\n",
       "    </tr>\n",
       "  </thead>\n",
       "  <tbody>\n",
       "    <tr>\n",
       "      <th>0</th>\n",
       "      <td>170010001001000</td>\n",
       "      <td>P1_003N</td>\n",
       "      <td>3</td>\n",
       "    </tr>\n",
       "    <tr>\n",
       "      <th>1</th>\n",
       "      <td>170010001001007</td>\n",
       "      <td>P1_003N</td>\n",
       "      <td>4</td>\n",
       "    </tr>\n",
       "    <tr>\n",
       "      <th>2</th>\n",
       "      <td>170010001001008</td>\n",
       "      <td>P1_003N</td>\n",
       "      <td>15</td>\n",
       "    </tr>\n",
       "    <tr>\n",
       "      <th>3</th>\n",
       "      <td>170010001001010</td>\n",
       "      <td>P1_003N</td>\n",
       "      <td>3</td>\n",
       "    </tr>\n",
       "    <tr>\n",
       "      <th>4</th>\n",
       "      <td>170010001001016</td>\n",
       "      <td>P1_003N</td>\n",
       "      <td>3</td>\n",
       "    </tr>\n",
       "    <tr>\n",
       "      <th>...</th>\n",
       "      <td>...</td>\n",
       "      <td>...</td>\n",
       "      <td>...</td>\n",
       "    </tr>\n",
       "    <tr>\n",
       "      <th>353113</th>\n",
       "      <td>172030307003210</td>\n",
       "      <td>P1_003N</td>\n",
       "      <td>2</td>\n",
       "    </tr>\n",
       "    <tr>\n",
       "      <th>353114</th>\n",
       "      <td>172030307003212</td>\n",
       "      <td>P1_003N</td>\n",
       "      <td>3</td>\n",
       "    </tr>\n",
       "    <tr>\n",
       "      <th>353115</th>\n",
       "      <td>172030307003214</td>\n",
       "      <td>P1_003N</td>\n",
       "      <td>1</td>\n",
       "    </tr>\n",
       "    <tr>\n",
       "      <th>353116</th>\n",
       "      <td>172030307003217</td>\n",
       "      <td>P1_003N</td>\n",
       "      <td>1</td>\n",
       "    </tr>\n",
       "    <tr>\n",
       "      <th>353117</th>\n",
       "      <td>172030307003228</td>\n",
       "      <td>P1_003N</td>\n",
       "      <td>3</td>\n",
       "    </tr>\n",
       "  </tbody>\n",
       "</table>\n",
       "<p>353118 rows × 3 columns</p>\n",
       "</div>"
      ],
      "text/plain": [
       "                   FIPS     race  count\n",
       "0       170010001001000  P1_003N      3\n",
       "1       170010001001007  P1_003N      4\n",
       "2       170010001001008  P1_003N     15\n",
       "3       170010001001010  P1_003N      3\n",
       "4       170010001001016  P1_003N      3\n",
       "...                 ...      ...    ...\n",
       "353113  172030307003210  P1_003N      2\n",
       "353114  172030307003212  P1_003N      3\n",
       "353115  172030307003214  P1_003N      1\n",
       "353116  172030307003217  P1_003N      1\n",
       "353117  172030307003228  P1_003N      3\n",
       "\n",
       "[353118 rows x 3 columns]"
      ]
     },
     "execution_count": 7,
     "metadata": {},
     "output_type": "execute_result"
    }
   ],
   "source": [
    "ILDatasetProcessed = pd.DataFrame(ILdataset.groupby(by = [\"FIPS\",\"race\"]).FIPS.agg(['count'])).reset_index()\n",
    "ILDatasetProcessed"
   ]
  },
  {
   "cell_type": "markdown",
   "metadata": {},
   "source": [
    "## Import Real FIPS Data"
   ]
  },
  {
   "cell_type": "code",
   "execution_count": 8,
   "metadata": {},
   "outputs": [
    {
     "data": {
      "text/html": [
       "<div>\n",
       "<style scoped>\n",
       "    .dataframe tbody tr th:only-of-type {\n",
       "        vertical-align: middle;\n",
       "    }\n",
       "\n",
       "    .dataframe tbody tr th {\n",
       "        vertical-align: top;\n",
       "    }\n",
       "\n",
       "    .dataframe thead th {\n",
       "        text-align: right;\n",
       "    }\n",
       "</style>\n",
       "<table border=\"1\" class=\"dataframe\">\n",
       "  <thead>\n",
       "    <tr style=\"text-align: right;\">\n",
       "      <th></th>\n",
       "      <th>GEO_ID</th>\n",
       "      <th>NAME</th>\n",
       "      <th>P1_001N</th>\n",
       "      <th>P1_001NA</th>\n",
       "      <th>P1_002N</th>\n",
       "      <th>P1_002NA</th>\n",
       "      <th>P1_003N</th>\n",
       "      <th>P1_003NA</th>\n",
       "      <th>P1_004N</th>\n",
       "      <th>P1_004NA</th>\n",
       "      <th>...</th>\n",
       "      <th>P1_069N</th>\n",
       "      <th>P1_069NA</th>\n",
       "      <th>P1_070N</th>\n",
       "      <th>P1_070NA</th>\n",
       "      <th>P1_071N</th>\n",
       "      <th>P1_071NA</th>\n",
       "      <th>state</th>\n",
       "      <th>county</th>\n",
       "      <th>tract</th>\n",
       "      <th>block</th>\n",
       "    </tr>\n",
       "  </thead>\n",
       "  <tbody>\n",
       "    <tr>\n",
       "      <th>0</th>\n",
       "      <td>1000000US170010001001000</td>\n",
       "      <td>Block 1000, Block Group 1, Census Tract 1, Ada...</td>\n",
       "      <td>17</td>\n",
       "      <td>NaN</td>\n",
       "      <td>17</td>\n",
       "      <td>NaN</td>\n",
       "      <td>16</td>\n",
       "      <td>NaN</td>\n",
       "      <td>1</td>\n",
       "      <td>NaN</td>\n",
       "      <td>...</td>\n",
       "      <td>0</td>\n",
       "      <td>NaN</td>\n",
       "      <td>0</td>\n",
       "      <td>NaN</td>\n",
       "      <td>0</td>\n",
       "      <td>NaN</td>\n",
       "      <td>17</td>\n",
       "      <td>1</td>\n",
       "      <td>100</td>\n",
       "      <td>1000</td>\n",
       "    </tr>\n",
       "    <tr>\n",
       "      <th>1</th>\n",
       "      <td>1000000US170010001001001</td>\n",
       "      <td>Block 1001, Block Group 1, Census Tract 1, Ada...</td>\n",
       "      <td>2</td>\n",
       "      <td>NaN</td>\n",
       "      <td>2</td>\n",
       "      <td>NaN</td>\n",
       "      <td>1</td>\n",
       "      <td>NaN</td>\n",
       "      <td>0</td>\n",
       "      <td>NaN</td>\n",
       "      <td>...</td>\n",
       "      <td>0</td>\n",
       "      <td>NaN</td>\n",
       "      <td>0</td>\n",
       "      <td>NaN</td>\n",
       "      <td>0</td>\n",
       "      <td>NaN</td>\n",
       "      <td>17</td>\n",
       "      <td>1</td>\n",
       "      <td>100</td>\n",
       "      <td>1001</td>\n",
       "    </tr>\n",
       "    <tr>\n",
       "      <th>2</th>\n",
       "      <td>1000000US170010001001002</td>\n",
       "      <td>Block 1002, Block Group 1, Census Tract 1, Ada...</td>\n",
       "      <td>0</td>\n",
       "      <td>NaN</td>\n",
       "      <td>0</td>\n",
       "      <td>NaN</td>\n",
       "      <td>0</td>\n",
       "      <td>NaN</td>\n",
       "      <td>0</td>\n",
       "      <td>NaN</td>\n",
       "      <td>...</td>\n",
       "      <td>0</td>\n",
       "      <td>NaN</td>\n",
       "      <td>0</td>\n",
       "      <td>NaN</td>\n",
       "      <td>0</td>\n",
       "      <td>NaN</td>\n",
       "      <td>17</td>\n",
       "      <td>1</td>\n",
       "      <td>100</td>\n",
       "      <td>1002</td>\n",
       "    </tr>\n",
       "    <tr>\n",
       "      <th>3</th>\n",
       "      <td>1000000US170010001001003</td>\n",
       "      <td>Block 1003, Block Group 1, Census Tract 1, Ada...</td>\n",
       "      <td>0</td>\n",
       "      <td>NaN</td>\n",
       "      <td>0</td>\n",
       "      <td>NaN</td>\n",
       "      <td>0</td>\n",
       "      <td>NaN</td>\n",
       "      <td>0</td>\n",
       "      <td>NaN</td>\n",
       "      <td>...</td>\n",
       "      <td>0</td>\n",
       "      <td>NaN</td>\n",
       "      <td>0</td>\n",
       "      <td>NaN</td>\n",
       "      <td>0</td>\n",
       "      <td>NaN</td>\n",
       "      <td>17</td>\n",
       "      <td>1</td>\n",
       "      <td>100</td>\n",
       "      <td>1003</td>\n",
       "    </tr>\n",
       "    <tr>\n",
       "      <th>4</th>\n",
       "      <td>1000000US170010001001004</td>\n",
       "      <td>Block 1004, Block Group 1, Census Tract 1, Ada...</td>\n",
       "      <td>0</td>\n",
       "      <td>NaN</td>\n",
       "      <td>0</td>\n",
       "      <td>NaN</td>\n",
       "      <td>0</td>\n",
       "      <td>NaN</td>\n",
       "      <td>0</td>\n",
       "      <td>NaN</td>\n",
       "      <td>...</td>\n",
       "      <td>0</td>\n",
       "      <td>NaN</td>\n",
       "      <td>0</td>\n",
       "      <td>NaN</td>\n",
       "      <td>0</td>\n",
       "      <td>NaN</td>\n",
       "      <td>17</td>\n",
       "      <td>1</td>\n",
       "      <td>100</td>\n",
       "      <td>1004</td>\n",
       "    </tr>\n",
       "    <tr>\n",
       "      <th>...</th>\n",
       "      <td>...</td>\n",
       "      <td>...</td>\n",
       "      <td>...</td>\n",
       "      <td>...</td>\n",
       "      <td>...</td>\n",
       "      <td>...</td>\n",
       "      <td>...</td>\n",
       "      <td>...</td>\n",
       "      <td>...</td>\n",
       "      <td>...</td>\n",
       "      <td>...</td>\n",
       "      <td>...</td>\n",
       "      <td>...</td>\n",
       "      <td>...</td>\n",
       "      <td>...</td>\n",
       "      <td>...</td>\n",
       "      <td>...</td>\n",
       "      <td>...</td>\n",
       "      <td>...</td>\n",
       "      <td>...</td>\n",
       "      <td>...</td>\n",
       "    </tr>\n",
       "    <tr>\n",
       "      <th>369973</th>\n",
       "      <td>1000000US172030307003228</td>\n",
       "      <td>Block 3228, Block Group 3, Census Tract 307, W...</td>\n",
       "      <td>11</td>\n",
       "      <td>NaN</td>\n",
       "      <td>11</td>\n",
       "      <td>NaN</td>\n",
       "      <td>11</td>\n",
       "      <td>NaN</td>\n",
       "      <td>0</td>\n",
       "      <td>NaN</td>\n",
       "      <td>...</td>\n",
       "      <td>0</td>\n",
       "      <td>NaN</td>\n",
       "      <td>0</td>\n",
       "      <td>NaN</td>\n",
       "      <td>0</td>\n",
       "      <td>NaN</td>\n",
       "      <td>17</td>\n",
       "      <td>203</td>\n",
       "      <td>30700</td>\n",
       "      <td>3228</td>\n",
       "    </tr>\n",
       "    <tr>\n",
       "      <th>369974</th>\n",
       "      <td>1000000US172030307003229</td>\n",
       "      <td>Block 3229, Block Group 3, Census Tract 307, W...</td>\n",
       "      <td>0</td>\n",
       "      <td>NaN</td>\n",
       "      <td>0</td>\n",
       "      <td>NaN</td>\n",
       "      <td>0</td>\n",
       "      <td>NaN</td>\n",
       "      <td>0</td>\n",
       "      <td>NaN</td>\n",
       "      <td>...</td>\n",
       "      <td>0</td>\n",
       "      <td>NaN</td>\n",
       "      <td>0</td>\n",
       "      <td>NaN</td>\n",
       "      <td>0</td>\n",
       "      <td>NaN</td>\n",
       "      <td>17</td>\n",
       "      <td>203</td>\n",
       "      <td>30700</td>\n",
       "      <td>3229</td>\n",
       "    </tr>\n",
       "    <tr>\n",
       "      <th>369975</th>\n",
       "      <td>1000000US172030307003230</td>\n",
       "      <td>Block 3230, Block Group 3, Census Tract 307, W...</td>\n",
       "      <td>0</td>\n",
       "      <td>NaN</td>\n",
       "      <td>0</td>\n",
       "      <td>NaN</td>\n",
       "      <td>0</td>\n",
       "      <td>NaN</td>\n",
       "      <td>0</td>\n",
       "      <td>NaN</td>\n",
       "      <td>...</td>\n",
       "      <td>0</td>\n",
       "      <td>NaN</td>\n",
       "      <td>0</td>\n",
       "      <td>NaN</td>\n",
       "      <td>0</td>\n",
       "      <td>NaN</td>\n",
       "      <td>17</td>\n",
       "      <td>203</td>\n",
       "      <td>30700</td>\n",
       "      <td>3230</td>\n",
       "    </tr>\n",
       "    <tr>\n",
       "      <th>369976</th>\n",
       "      <td>1000000US172030307003231</td>\n",
       "      <td>Block 3231, Block Group 3, Census Tract 307, W...</td>\n",
       "      <td>7</td>\n",
       "      <td>NaN</td>\n",
       "      <td>6</td>\n",
       "      <td>NaN</td>\n",
       "      <td>6</td>\n",
       "      <td>NaN</td>\n",
       "      <td>0</td>\n",
       "      <td>NaN</td>\n",
       "      <td>...</td>\n",
       "      <td>0</td>\n",
       "      <td>NaN</td>\n",
       "      <td>0</td>\n",
       "      <td>NaN</td>\n",
       "      <td>0</td>\n",
       "      <td>NaN</td>\n",
       "      <td>17</td>\n",
       "      <td>203</td>\n",
       "      <td>30700</td>\n",
       "      <td>3231</td>\n",
       "    </tr>\n",
       "    <tr>\n",
       "      <th>369977</th>\n",
       "      <td>1000000US172030307003232</td>\n",
       "      <td>Block 3232, Block Group 3, Census Tract 307, W...</td>\n",
       "      <td>0</td>\n",
       "      <td>NaN</td>\n",
       "      <td>0</td>\n",
       "      <td>NaN</td>\n",
       "      <td>0</td>\n",
       "      <td>NaN</td>\n",
       "      <td>0</td>\n",
       "      <td>NaN</td>\n",
       "      <td>...</td>\n",
       "      <td>0</td>\n",
       "      <td>NaN</td>\n",
       "      <td>0</td>\n",
       "      <td>NaN</td>\n",
       "      <td>0</td>\n",
       "      <td>NaN</td>\n",
       "      <td>17</td>\n",
       "      <td>203</td>\n",
       "      <td>30700</td>\n",
       "      <td>3232</td>\n",
       "    </tr>\n",
       "  </tbody>\n",
       "</table>\n",
       "<p>369978 rows × 148 columns</p>\n",
       "</div>"
      ],
      "text/plain": [
       "                          GEO_ID  \\\n",
       "0       1000000US170010001001000   \n",
       "1       1000000US170010001001001   \n",
       "2       1000000US170010001001002   \n",
       "3       1000000US170010001001003   \n",
       "4       1000000US170010001001004   \n",
       "...                          ...   \n",
       "369973  1000000US172030307003228   \n",
       "369974  1000000US172030307003229   \n",
       "369975  1000000US172030307003230   \n",
       "369976  1000000US172030307003231   \n",
       "369977  1000000US172030307003232   \n",
       "\n",
       "                                                     NAME  P1_001N  P1_001NA  \\\n",
       "0       Block 1000, Block Group 1, Census Tract 1, Ada...       17       NaN   \n",
       "1       Block 1001, Block Group 1, Census Tract 1, Ada...        2       NaN   \n",
       "2       Block 1002, Block Group 1, Census Tract 1, Ada...        0       NaN   \n",
       "3       Block 1003, Block Group 1, Census Tract 1, Ada...        0       NaN   \n",
       "4       Block 1004, Block Group 1, Census Tract 1, Ada...        0       NaN   \n",
       "...                                                   ...      ...       ...   \n",
       "369973  Block 3228, Block Group 3, Census Tract 307, W...       11       NaN   \n",
       "369974  Block 3229, Block Group 3, Census Tract 307, W...        0       NaN   \n",
       "369975  Block 3230, Block Group 3, Census Tract 307, W...        0       NaN   \n",
       "369976  Block 3231, Block Group 3, Census Tract 307, W...        7       NaN   \n",
       "369977  Block 3232, Block Group 3, Census Tract 307, W...        0       NaN   \n",
       "\n",
       "        P1_002N  P1_002NA  P1_003N  P1_003NA  P1_004N  P1_004NA  ...  P1_069N  \\\n",
       "0            17       NaN       16       NaN        1       NaN  ...        0   \n",
       "1             2       NaN        1       NaN        0       NaN  ...        0   \n",
       "2             0       NaN        0       NaN        0       NaN  ...        0   \n",
       "3             0       NaN        0       NaN        0       NaN  ...        0   \n",
       "4             0       NaN        0       NaN        0       NaN  ...        0   \n",
       "...         ...       ...      ...       ...      ...       ...  ...      ...   \n",
       "369973       11       NaN       11       NaN        0       NaN  ...        0   \n",
       "369974        0       NaN        0       NaN        0       NaN  ...        0   \n",
       "369975        0       NaN        0       NaN        0       NaN  ...        0   \n",
       "369976        6       NaN        6       NaN        0       NaN  ...        0   \n",
       "369977        0       NaN        0       NaN        0       NaN  ...        0   \n",
       "\n",
       "        P1_069NA  P1_070N  P1_070NA  P1_071N  P1_071NA  state  county  tract  \\\n",
       "0            NaN        0       NaN        0       NaN     17       1    100   \n",
       "1            NaN        0       NaN        0       NaN     17       1    100   \n",
       "2            NaN        0       NaN        0       NaN     17       1    100   \n",
       "3            NaN        0       NaN        0       NaN     17       1    100   \n",
       "4            NaN        0       NaN        0       NaN     17       1    100   \n",
       "...          ...      ...       ...      ...       ...    ...     ...    ...   \n",
       "369973       NaN        0       NaN        0       NaN     17     203  30700   \n",
       "369974       NaN        0       NaN        0       NaN     17     203  30700   \n",
       "369975       NaN        0       NaN        0       NaN     17     203  30700   \n",
       "369976       NaN        0       NaN        0       NaN     17     203  30700   \n",
       "369977       NaN        0       NaN        0       NaN     17     203  30700   \n",
       "\n",
       "        block  \n",
       "0        1000  \n",
       "1        1001  \n",
       "2        1002  \n",
       "3        1003  \n",
       "4        1004  \n",
       "...       ...  \n",
       "369973   3228  \n",
       "369974   3229  \n",
       "369975   3230  \n",
       "369976   3231  \n",
       "369977   3232  \n",
       "\n",
       "[369978 rows x 148 columns]"
      ]
     },
     "execution_count": 8,
     "metadata": {},
     "output_type": "execute_result"
    }
   ],
   "source": [
    "from state import StateByBlockGroup\n",
    "StateIL = StateByBlockGroup(\"17\")\n",
    "StateIL.decennialData"
   ]
  },
  {
   "cell_type": "code",
   "execution_count": 9,
   "metadata": {},
   "outputs": [],
   "source": [
    "def processRealDataset(datasetdf):\n",
    "    datasetdf[\"FIPS\"] = datasetdf[\"GEO_ID\"].map(lambda x: x[-15:])\n",
    "    return datasetdf[[\"FIPS\",\n",
    "                'P1_003N', 'P1_004N', 'P1_005N', 'P1_006N', 'P1_007N',\n",
    "                'P1_008N', 'P1_011N', 'P1_012N', 'P1_013N', 'P1_014N',\n",
    "                'P1_015N', 'P1_016N', 'P1_017N', 'P1_018N', 'P1_019N',\n",
    "                'P1_020N', 'P1_021N', 'P1_022N', 'P1_023N', 'P1_024N',\n",
    "                'P1_025N', 'P1_027N', 'P1_028N', 'P1_029N', 'P1_030N',\n",
    "                'P1_031N', 'P1_032N', 'P1_033N', 'P1_034N', 'P1_035N',\n",
    "                'P1_036N', 'P1_037N', 'P1_038N', 'P1_039N', 'P1_040N',\n",
    "                'P1_041N', 'P1_042N', 'P1_043N', 'P1_044N', 'P1_045N',\n",
    "                'P1_046N', 'P1_048N', 'P1_049N', 'P1_050N', 'P1_051N',\n",
    "                'P1_052N', 'P1_053N', 'P1_054N', 'P1_055N', 'P1_056N',\n",
    "                'P1_057N', 'P1_058N', 'P1_059N', 'P1_060N', 'P1_061N',\n",
    "                'P1_062N', 'P1_063N', 'P1_064N', 'P1_065N', 'P1_066N',\n",
    "                'P1_067N', 'P1_068N', 'P1_069N', 'P1_071N'\n",
    "            ]]"
   ]
  },
  {
   "cell_type": "code",
   "execution_count": 10,
   "metadata": {},
   "outputs": [
    {
     "data": {
      "text/html": [
       "<div>\n",
       "<style scoped>\n",
       "    .dataframe tbody tr th:only-of-type {\n",
       "        vertical-align: middle;\n",
       "    }\n",
       "\n",
       "    .dataframe tbody tr th {\n",
       "        vertical-align: top;\n",
       "    }\n",
       "\n",
       "    .dataframe thead th {\n",
       "        text-align: right;\n",
       "    }\n",
       "</style>\n",
       "<table border=\"1\" class=\"dataframe\">\n",
       "  <thead>\n",
       "    <tr style=\"text-align: right;\">\n",
       "      <th></th>\n",
       "      <th>FIPS</th>\n",
       "      <th>P1_003N</th>\n",
       "      <th>P1_004N</th>\n",
       "      <th>P1_005N</th>\n",
       "      <th>P1_006N</th>\n",
       "      <th>P1_007N</th>\n",
       "      <th>P1_008N</th>\n",
       "      <th>P1_011N</th>\n",
       "      <th>P1_012N</th>\n",
       "      <th>P1_013N</th>\n",
       "      <th>...</th>\n",
       "      <th>P1_061N</th>\n",
       "      <th>P1_062N</th>\n",
       "      <th>P1_063N</th>\n",
       "      <th>P1_064N</th>\n",
       "      <th>P1_065N</th>\n",
       "      <th>P1_066N</th>\n",
       "      <th>P1_067N</th>\n",
       "      <th>P1_068N</th>\n",
       "      <th>P1_069N</th>\n",
       "      <th>P1_071N</th>\n",
       "    </tr>\n",
       "  </thead>\n",
       "  <tbody>\n",
       "    <tr>\n",
       "      <th>0</th>\n",
       "      <td>170010001001000</td>\n",
       "      <td>16</td>\n",
       "      <td>1</td>\n",
       "      <td>0</td>\n",
       "      <td>0</td>\n",
       "      <td>0</td>\n",
       "      <td>0</td>\n",
       "      <td>0</td>\n",
       "      <td>0</td>\n",
       "      <td>0</td>\n",
       "      <td>...</td>\n",
       "      <td>0</td>\n",
       "      <td>0</td>\n",
       "      <td>0</td>\n",
       "      <td>0</td>\n",
       "      <td>0</td>\n",
       "      <td>0</td>\n",
       "      <td>0</td>\n",
       "      <td>0</td>\n",
       "      <td>0</td>\n",
       "      <td>0</td>\n",
       "    </tr>\n",
       "    <tr>\n",
       "      <th>1</th>\n",
       "      <td>170010001001001</td>\n",
       "      <td>1</td>\n",
       "      <td>0</td>\n",
       "      <td>0</td>\n",
       "      <td>0</td>\n",
       "      <td>0</td>\n",
       "      <td>1</td>\n",
       "      <td>0</td>\n",
       "      <td>0</td>\n",
       "      <td>0</td>\n",
       "      <td>...</td>\n",
       "      <td>0</td>\n",
       "      <td>0</td>\n",
       "      <td>0</td>\n",
       "      <td>0</td>\n",
       "      <td>0</td>\n",
       "      <td>0</td>\n",
       "      <td>0</td>\n",
       "      <td>0</td>\n",
       "      <td>0</td>\n",
       "      <td>0</td>\n",
       "    </tr>\n",
       "    <tr>\n",
       "      <th>2</th>\n",
       "      <td>170010001001002</td>\n",
       "      <td>0</td>\n",
       "      <td>0</td>\n",
       "      <td>0</td>\n",
       "      <td>0</td>\n",
       "      <td>0</td>\n",
       "      <td>0</td>\n",
       "      <td>0</td>\n",
       "      <td>0</td>\n",
       "      <td>0</td>\n",
       "      <td>...</td>\n",
       "      <td>0</td>\n",
       "      <td>0</td>\n",
       "      <td>0</td>\n",
       "      <td>0</td>\n",
       "      <td>0</td>\n",
       "      <td>0</td>\n",
       "      <td>0</td>\n",
       "      <td>0</td>\n",
       "      <td>0</td>\n",
       "      <td>0</td>\n",
       "    </tr>\n",
       "    <tr>\n",
       "      <th>3</th>\n",
       "      <td>170010001001003</td>\n",
       "      <td>0</td>\n",
       "      <td>0</td>\n",
       "      <td>0</td>\n",
       "      <td>0</td>\n",
       "      <td>0</td>\n",
       "      <td>0</td>\n",
       "      <td>0</td>\n",
       "      <td>0</td>\n",
       "      <td>0</td>\n",
       "      <td>...</td>\n",
       "      <td>0</td>\n",
       "      <td>0</td>\n",
       "      <td>0</td>\n",
       "      <td>0</td>\n",
       "      <td>0</td>\n",
       "      <td>0</td>\n",
       "      <td>0</td>\n",
       "      <td>0</td>\n",
       "      <td>0</td>\n",
       "      <td>0</td>\n",
       "    </tr>\n",
       "    <tr>\n",
       "      <th>4</th>\n",
       "      <td>170010001001004</td>\n",
       "      <td>0</td>\n",
       "      <td>0</td>\n",
       "      <td>0</td>\n",
       "      <td>0</td>\n",
       "      <td>0</td>\n",
       "      <td>0</td>\n",
       "      <td>0</td>\n",
       "      <td>0</td>\n",
       "      <td>0</td>\n",
       "      <td>...</td>\n",
       "      <td>0</td>\n",
       "      <td>0</td>\n",
       "      <td>0</td>\n",
       "      <td>0</td>\n",
       "      <td>0</td>\n",
       "      <td>0</td>\n",
       "      <td>0</td>\n",
       "      <td>0</td>\n",
       "      <td>0</td>\n",
       "      <td>0</td>\n",
       "    </tr>\n",
       "    <tr>\n",
       "      <th>...</th>\n",
       "      <td>...</td>\n",
       "      <td>...</td>\n",
       "      <td>...</td>\n",
       "      <td>...</td>\n",
       "      <td>...</td>\n",
       "      <td>...</td>\n",
       "      <td>...</td>\n",
       "      <td>...</td>\n",
       "      <td>...</td>\n",
       "      <td>...</td>\n",
       "      <td>...</td>\n",
       "      <td>...</td>\n",
       "      <td>...</td>\n",
       "      <td>...</td>\n",
       "      <td>...</td>\n",
       "      <td>...</td>\n",
       "      <td>...</td>\n",
       "      <td>...</td>\n",
       "      <td>...</td>\n",
       "      <td>...</td>\n",
       "      <td>...</td>\n",
       "    </tr>\n",
       "    <tr>\n",
       "      <th>369973</th>\n",
       "      <td>172030307003228</td>\n",
       "      <td>11</td>\n",
       "      <td>0</td>\n",
       "      <td>0</td>\n",
       "      <td>0</td>\n",
       "      <td>0</td>\n",
       "      <td>0</td>\n",
       "      <td>0</td>\n",
       "      <td>0</td>\n",
       "      <td>0</td>\n",
       "      <td>...</td>\n",
       "      <td>0</td>\n",
       "      <td>0</td>\n",
       "      <td>0</td>\n",
       "      <td>0</td>\n",
       "      <td>0</td>\n",
       "      <td>0</td>\n",
       "      <td>0</td>\n",
       "      <td>0</td>\n",
       "      <td>0</td>\n",
       "      <td>0</td>\n",
       "    </tr>\n",
       "    <tr>\n",
       "      <th>369974</th>\n",
       "      <td>172030307003229</td>\n",
       "      <td>0</td>\n",
       "      <td>0</td>\n",
       "      <td>0</td>\n",
       "      <td>0</td>\n",
       "      <td>0</td>\n",
       "      <td>0</td>\n",
       "      <td>0</td>\n",
       "      <td>0</td>\n",
       "      <td>0</td>\n",
       "      <td>...</td>\n",
       "      <td>0</td>\n",
       "      <td>0</td>\n",
       "      <td>0</td>\n",
       "      <td>0</td>\n",
       "      <td>0</td>\n",
       "      <td>0</td>\n",
       "      <td>0</td>\n",
       "      <td>0</td>\n",
       "      <td>0</td>\n",
       "      <td>0</td>\n",
       "    </tr>\n",
       "    <tr>\n",
       "      <th>369975</th>\n",
       "      <td>172030307003230</td>\n",
       "      <td>0</td>\n",
       "      <td>0</td>\n",
       "      <td>0</td>\n",
       "      <td>0</td>\n",
       "      <td>0</td>\n",
       "      <td>0</td>\n",
       "      <td>0</td>\n",
       "      <td>0</td>\n",
       "      <td>0</td>\n",
       "      <td>...</td>\n",
       "      <td>0</td>\n",
       "      <td>0</td>\n",
       "      <td>0</td>\n",
       "      <td>0</td>\n",
       "      <td>0</td>\n",
       "      <td>0</td>\n",
       "      <td>0</td>\n",
       "      <td>0</td>\n",
       "      <td>0</td>\n",
       "      <td>0</td>\n",
       "    </tr>\n",
       "    <tr>\n",
       "      <th>369976</th>\n",
       "      <td>172030307003231</td>\n",
       "      <td>6</td>\n",
       "      <td>0</td>\n",
       "      <td>0</td>\n",
       "      <td>0</td>\n",
       "      <td>0</td>\n",
       "      <td>0</td>\n",
       "      <td>0</td>\n",
       "      <td>0</td>\n",
       "      <td>0</td>\n",
       "      <td>...</td>\n",
       "      <td>0</td>\n",
       "      <td>0</td>\n",
       "      <td>0</td>\n",
       "      <td>0</td>\n",
       "      <td>0</td>\n",
       "      <td>0</td>\n",
       "      <td>0</td>\n",
       "      <td>0</td>\n",
       "      <td>0</td>\n",
       "      <td>0</td>\n",
       "    </tr>\n",
       "    <tr>\n",
       "      <th>369977</th>\n",
       "      <td>172030307003232</td>\n",
       "      <td>0</td>\n",
       "      <td>0</td>\n",
       "      <td>0</td>\n",
       "      <td>0</td>\n",
       "      <td>0</td>\n",
       "      <td>0</td>\n",
       "      <td>0</td>\n",
       "      <td>0</td>\n",
       "      <td>0</td>\n",
       "      <td>...</td>\n",
       "      <td>0</td>\n",
       "      <td>0</td>\n",
       "      <td>0</td>\n",
       "      <td>0</td>\n",
       "      <td>0</td>\n",
       "      <td>0</td>\n",
       "      <td>0</td>\n",
       "      <td>0</td>\n",
       "      <td>0</td>\n",
       "      <td>0</td>\n",
       "    </tr>\n",
       "  </tbody>\n",
       "</table>\n",
       "<p>369978 rows × 65 columns</p>\n",
       "</div>"
      ],
      "text/plain": [
       "                   FIPS  P1_003N  P1_004N  P1_005N  P1_006N  P1_007N  P1_008N  \\\n",
       "0       170010001001000       16        1        0        0        0        0   \n",
       "1       170010001001001        1        0        0        0        0        1   \n",
       "2       170010001001002        0        0        0        0        0        0   \n",
       "3       170010001001003        0        0        0        0        0        0   \n",
       "4       170010001001004        0        0        0        0        0        0   \n",
       "...                 ...      ...      ...      ...      ...      ...      ...   \n",
       "369973  172030307003228       11        0        0        0        0        0   \n",
       "369974  172030307003229        0        0        0        0        0        0   \n",
       "369975  172030307003230        0        0        0        0        0        0   \n",
       "369976  172030307003231        6        0        0        0        0        0   \n",
       "369977  172030307003232        0        0        0        0        0        0   \n",
       "\n",
       "        P1_011N  P1_012N  P1_013N  ...  P1_061N  P1_062N  P1_063N  P1_064N  \\\n",
       "0             0        0        0  ...        0        0        0        0   \n",
       "1             0        0        0  ...        0        0        0        0   \n",
       "2             0        0        0  ...        0        0        0        0   \n",
       "3             0        0        0  ...        0        0        0        0   \n",
       "4             0        0        0  ...        0        0        0        0   \n",
       "...         ...      ...      ...  ...      ...      ...      ...      ...   \n",
       "369973        0        0        0  ...        0        0        0        0   \n",
       "369974        0        0        0  ...        0        0        0        0   \n",
       "369975        0        0        0  ...        0        0        0        0   \n",
       "369976        0        0        0  ...        0        0        0        0   \n",
       "369977        0        0        0  ...        0        0        0        0   \n",
       "\n",
       "        P1_065N  P1_066N  P1_067N  P1_068N  P1_069N  P1_071N  \n",
       "0             0        0        0        0        0        0  \n",
       "1             0        0        0        0        0        0  \n",
       "2             0        0        0        0        0        0  \n",
       "3             0        0        0        0        0        0  \n",
       "4             0        0        0        0        0        0  \n",
       "...         ...      ...      ...      ...      ...      ...  \n",
       "369973        0        0        0        0        0        0  \n",
       "369974        0        0        0        0        0        0  \n",
       "369975        0        0        0        0        0        0  \n",
       "369976        0        0        0        0        0        0  \n",
       "369977        0        0        0        0        0        0  \n",
       "\n",
       "[369978 rows x 65 columns]"
      ]
     },
     "execution_count": 10,
     "metadata": {},
     "output_type": "execute_result"
    }
   ],
   "source": [
    "processedRealILDataset = processRealDataset(StateIL.decennialData)\n",
    "processedRealILDataset"
   ]
  },
  {
   "cell_type": "markdown",
   "metadata": {},
   "source": [
    "# Comparing the two datasets distributions"
   ]
  },
  {
   "cell_type": "markdown",
   "metadata": {},
   "source": [
    "## By Races"
   ]
  },
  {
   "cell_type": "code",
   "execution_count": 61,
   "metadata": {},
   "outputs": [
    {
     "data": {
      "text/plain": [
       "race\n",
       "P1_003N    614099\n",
       "P1_004N    141083\n",
       "P1_005N      7616\n",
       "P1_006N     58671\n",
       "P1_007N       335\n",
       "            ...  \n",
       "P1_065N        25\n",
       "P1_066N         2\n",
       "P1_067N         1\n",
       "P1_069N         2\n",
       "P1_071N         5\n",
       "Name: FIPS, Length: 61, dtype: int64"
      ]
     },
     "execution_count": 61,
     "metadata": {},
     "output_type": "execute_result"
    }
   ],
   "source": [
    "popByRaceSynthesis = ILdataset.groupby(by = [\"race\"]).FIPS.count()\n",
    "popByRaceSynthesis"
   ]
  },
  {
   "cell_type": "code",
   "execution_count": 62,
   "metadata": {},
   "outputs": [
    {
     "data": {
      "text/plain": [
       "P1_003N    7868227\n",
       "P1_004N    1808271\n",
       "P1_005N      96498\n",
       "P1_006N     754878\n",
       "P1_007N       4501\n",
       "            ...   \n",
       "P1_066N         35\n",
       "P1_067N         14\n",
       "P1_068N          4\n",
       "P1_069N         15\n",
       "P1_071N         84\n",
       "Length: 64, dtype: int64"
      ]
     },
     "execution_count": 62,
     "metadata": {},
     "output_type": "execute_result"
    }
   ],
   "source": [
    "popByRaceReal = processedRealILDataset.drop(['FIPS'], axis=1).sum(axis = 0)\n",
    "popByRaceReal"
   ]
  },
  {
   "cell_type": "markdown",
   "metadata": {},
   "source": [
    "### Plot samples"
   ]
  },
  {
   "cell_type": "code",
   "execution_count": 63,
   "metadata": {},
   "outputs": [],
   "source": [
    "popByRaceSynthesis /= popByRaceSynthesis.sum()\n",
    "popByRaceReal /= popByRaceReal.sum()"
   ]
  },
  {
   "cell_type": "code",
   "execution_count": 64,
   "metadata": {},
   "outputs": [
    {
     "data": {
      "image/png": "[encoded data removed]",
      "text/plain": [
       "<Figure size 1600x640 with 1 Axes>"
      ]
     },
     "metadata": {
      "needs_background": "light"
     },
     "output_type": "display_data"
    }
   ],
   "source": [
    "plt.figure(figsize=(20, 8), dpi=80)\n",
    "popByRaceSynthesis.plot.bar(x='Race', y='Population', rot=0)\n",
    "plt.title(\"Number of people by races in Illinois of synthetic dataset\")\n",
    "ax = plt.gca()\n",
    "for tick in ax.get_xticklabels():\n",
    "    tick.set_rotation(45)\n",
    "plt.show()"
   ]
  },
  {
   "cell_type": "code",
   "execution_count": 65,
   "metadata": {},
   "outputs": [
    {
     "data": {
      "image/png": "[encoded data removed]",
      "text/plain": [
       "<Figure size 1600x640 with 1 Axes>"
      ]
     },
     "metadata": {
      "needs_background": "light"
     },
     "output_type": "display_data"
    }
   ],
   "source": [
    "plt.figure(figsize=(20, 8), dpi=80)\n",
    "popByRaceReal.plot.bar(x='Race', y='Population', rot=0)\n",
    "plt.title(\"Number of people by races in Illinois of real dataset\")\n",
    "ax = plt.gca()\n",
    "for tick in ax.get_xticklabels():\n",
    "    tick.set_rotation(45)\n",
    "plt.show()"
   ]
  },
  {
   "cell_type": "markdown",
   "metadata": {},
   "source": [
    "### Compare sample mean and standard deviation"
   ]
  },
  {
   "cell_type": "code",
   "execution_count": 66,
   "metadata": {},
   "outputs": [
    {
     "name": "stdout",
     "output_type": "stream",
     "text": [
      "Mean of synthetic dataset 0.016393442622950814\n",
      "Standard deviation of synthetic dataset 0.0811543666725179\n"
     ]
    }
   ],
   "source": [
    "print(\"Mean of synthetic dataset\", popByRaceSynthesis.mean())\n",
    "print(\"Standard deviation of synthetic dataset\", popByRaceSynthesis.std())"
   ]
  },
  {
   "cell_type": "code",
   "execution_count": 67,
   "metadata": {},
   "outputs": [
    {
     "name": "stdout",
     "output_type": "stream",
     "text": [
      "Mean of real dataset 0.015625\n",
      "Standard deviation of real dataset 0.07927505077520923\n"
     ]
    }
   ],
   "source": [
    "print(\"Mean of real dataset\", popByRaceReal.mean())\n",
    "print(\"Standard deviation of real dataset\", popByRaceReal.std())"
   ]
  },
  {
   "cell_type": "markdown",
   "metadata": {},
   "source": [
    "### Compare distribution by two sample t-test"
   ]
  },
  {
   "cell_type": "markdown",
   "metadata": {},
   "source": [
    "$H_0: \\mu_1 = \\mu_2$ (population mean of synthetic dataset is equal to real dataset)\n",
    "\n",
    "$H_1: \\mu_1 \\neq \\mu_2$ (population mean of synthetic dataset is different from real dataset)"
   ]
  },
  {
   "cell_type": "code",
   "execution_count": 68,
   "metadata": {},
   "outputs": [
    {
     "data": {
      "text/plain": [
       "Ttest_indResult(statistic=0.053549033853963514, pvalue=0.9573813394511766)"
      ]
     },
     "execution_count": 68,
     "metadata": {},
     "output_type": "execute_result"
    }
   ],
   "source": [
    "# Perform the two sample t-test with equal variances\n",
    "stats.ttest_ind(a=popByRaceSynthesis, b=popByRaceReal, equal_var=True)"
   ]
  },
  {
   "cell_type": "markdown",
   "metadata": {},
   "source": [
    "Due to p value = 0.9999535792552408 >> 0.05. Therefore, there is no evidence to support population mean of synthetic dataset is different from real dataset."
   ]
  },
  {
   "cell_type": "markdown",
   "metadata": {},
   "source": [
    "### Test for Homogeneity"
   ]
  },
  {
   "cell_type": "markdown",
   "metadata": {},
   "source": [
    "$H_0$: The distributions of the two populations are the same.\n",
    "\n",
    "$H_1$: The distributions of the two populations are not the same.\n"
   ]
  },
  {
   "cell_type": "code",
   "execution_count": 69,
   "metadata": {},
   "outputs": [
    {
     "data": {
      "text/html": [
       "<div>\n",
       "<style scoped>\n",
       "    .dataframe tbody tr th:only-of-type {\n",
       "        vertical-align: middle;\n",
       "    }\n",
       "\n",
       "    .dataframe tbody tr th {\n",
       "        vertical-align: top;\n",
       "    }\n",
       "\n",
       "    .dataframe thead th {\n",
       "        text-align: right;\n",
       "    }\n",
       "</style>\n",
       "<table border=\"1\" class=\"dataframe\">\n",
       "  <thead>\n",
       "    <tr style=\"text-align: right;\">\n",
       "      <th></th>\n",
       "      <th>Synthesis</th>\n",
       "      <th>Real</th>\n",
       "    </tr>\n",
       "  </thead>\n",
       "  <tbody>\n",
       "    <tr>\n",
       "      <th>P1_003N</th>\n",
       "      <td>0.614099</td>\n",
       "      <td>0.614073</td>\n",
       "    </tr>\n",
       "    <tr>\n",
       "      <th>P1_004N</th>\n",
       "      <td>0.141083</td>\n",
       "      <td>0.141126</td>\n",
       "    </tr>\n",
       "    <tr>\n",
       "      <th>P1_005N</th>\n",
       "      <td>0.007616</td>\n",
       "      <td>0.007531</td>\n",
       "    </tr>\n",
       "    <tr>\n",
       "      <th>P1_006N</th>\n",
       "      <td>0.058671</td>\n",
       "      <td>0.058914</td>\n",
       "    </tr>\n",
       "    <tr>\n",
       "      <th>P1_007N</th>\n",
       "      <td>0.000335</td>\n",
       "      <td>0.000351</td>\n",
       "    </tr>\n",
       "    <tr>\n",
       "      <th>...</th>\n",
       "      <td>...</td>\n",
       "      <td>...</td>\n",
       "    </tr>\n",
       "    <tr>\n",
       "      <th>P1_065N</th>\n",
       "      <td>0.000025</td>\n",
       "      <td>0.000023</td>\n",
       "    </tr>\n",
       "    <tr>\n",
       "      <th>P1_066N</th>\n",
       "      <td>0.000002</td>\n",
       "      <td>0.000003</td>\n",
       "    </tr>\n",
       "    <tr>\n",
       "      <th>P1_067N</th>\n",
       "      <td>0.000001</td>\n",
       "      <td>0.000001</td>\n",
       "    </tr>\n",
       "    <tr>\n",
       "      <th>P1_069N</th>\n",
       "      <td>0.000002</td>\n",
       "      <td>0.000001</td>\n",
       "    </tr>\n",
       "    <tr>\n",
       "      <th>P1_071N</th>\n",
       "      <td>0.000005</td>\n",
       "      <td>0.000007</td>\n",
       "    </tr>\n",
       "  </tbody>\n",
       "</table>\n",
       "<p>61 rows × 2 columns</p>\n",
       "</div>"
      ],
      "text/plain": [
       "         Synthesis      Real\n",
       "P1_003N   0.614099  0.614073\n",
       "P1_004N   0.141083  0.141126\n",
       "P1_005N   0.007616  0.007531\n",
       "P1_006N   0.058671  0.058914\n",
       "P1_007N   0.000335  0.000351\n",
       "...            ...       ...\n",
       "P1_065N   0.000025  0.000023\n",
       "P1_066N   0.000002  0.000003\n",
       "P1_067N   0.000001  0.000001\n",
       "P1_069N   0.000002  0.000001\n",
       "P1_071N   0.000005  0.000007\n",
       "\n",
       "[61 rows x 2 columns]"
      ]
     },
     "execution_count": 69,
     "metadata": {},
     "output_type": "execute_result"
    }
   ],
   "source": [
    "popByRaceReal.name = \"Real\"\n",
    "popByRaceSynthesis.name = \"Synthesis\"\n",
    "mergeddf = pd.merge(popByRaceSynthesis, popByRaceReal, right_index = True,\n",
    "               left_index = True)\n",
    "\n",
    "mergeddf"
   ]
  },
  {
   "cell_type": "code",
   "execution_count": 70,
   "metadata": {},
   "outputs": [
    {
     "data": {
      "text/plain": [
       "1.0"
      ]
     },
     "execution_count": 70,
     "metadata": {},
     "output_type": "execute_result"
    }
   ],
   "source": [
    "stat, p, dof, expected = stats.chi2_contingency(mergeddf)\n",
    "p"
   ]
  },
  {
   "cell_type": "code",
   "execution_count": 71,
   "metadata": {},
   "outputs": [
    {
     "name": "stdout",
     "output_type": "stream",
     "text": [
      "Independent (fail to reject H0)\n"
     ]
    }
   ],
   "source": [
    "# interpret test-statistic\n",
    "prob = 0.95\n",
    "critical = stats.chi2.ppf(prob, dof)\n",
    "if abs(stat) >= critical:\n",
    "    print('Dependent (reject H0)')\n",
    "else:\n",
    "    print('Independent (fail to reject H0)')"
   ]
  },
  {
   "cell_type": "markdown",
   "metadata": {},
   "source": [
    "Due to p value = 0.9908510047877276 >> 0.05. Therefore, there is no evidence to support population mean of synthetic dataset is different from real dataset."
   ]
  },
  {
   "cell_type": "markdown",
   "metadata": {},
   "source": [
    "### K-S test"
   ]
  },
  {
   "cell_type": "markdown",
   "metadata": {},
   "source": [
    "$H_0: $ The two datasets come from the same ditribution \n",
    "\n",
    "$H_1: $ The two datasets NOT come from the same ditribution \n"
   ]
  },
  {
   "cell_type": "code",
   "execution_count": 72,
   "metadata": {},
   "outputs": [
    {
     "data": {
      "text/plain": [
       "KstestResult(statistic=0.10655737704918032, pvalue=0.8151266022970327)"
      ]
     },
     "execution_count": 72,
     "metadata": {},
     "output_type": "execute_result"
    }
   ],
   "source": [
    "stats.ks_2samp(popByRaceSynthesis, popByRaceReal)"
   ]
  },
  {
   "cell_type": "markdown",
   "metadata": {},
   "source": [
    "Due to p value = 0.9999999044253438 >> 0.05. Therefore, there is no evidence to support the distributions of the two populations are not the same."
   ]
  },
  {
   "cell_type": "markdown",
   "metadata": {},
   "source": [
    "## By FIPS"
   ]
  },
  {
   "cell_type": "code",
   "execution_count": 73,
   "metadata": {},
   "outputs": [
    {
     "data": {
      "text/plain": [
       "FIPS\n",
       "170010001001000     3\n",
       "170010001001007     4\n",
       "170010001001008    15\n",
       "170010001001010     3\n",
       "170010001001016     3\n",
       "                   ..\n",
       "172030307003210     2\n",
       "172030307003212     3\n",
       "172030307003214     1\n",
       "172030307003217     1\n",
       "172030307003228     3\n",
       "Name: FIPS, Length: 207460, dtype: int64"
      ]
     },
     "execution_count": 73,
     "metadata": {},
     "output_type": "execute_result"
    }
   ],
   "source": [
    "popByFIPSSynthesis = ILdataset.groupby(by = [\"FIPS\"]).FIPS.count()\n",
    "popByFIPSSynthesis = popByFIPSSynthesis.rename(lambda x: str(x))\n",
    "popByFIPSSynthesis"
   ]
  },
  {
   "cell_type": "code",
   "execution_count": 74,
   "metadata": {},
   "outputs": [
    {
     "data": {
      "text/plain": [
       "170010001001000    17\n",
       "170010001001001     2\n",
       "170010001001002     0\n",
       "170010001001003     0\n",
       "170010001001004     0\n",
       "                   ..\n",
       "172030307003228    11\n",
       "172030307003229     0\n",
       "172030307003230     0\n",
       "172030307003231     7\n",
       "172030307003232     0\n",
       "Length: 369978, dtype: int64"
      ]
     },
     "execution_count": 74,
     "metadata": {},
     "output_type": "execute_result"
    }
   ],
   "source": [
    "popByFIPSReal = processedRealILDataset.drop(['FIPS'], axis=1).sum(axis = 1)\n",
    "popByFIPSReal = popByFIPSReal.rename(processedRealILDataset['FIPS'])\n",
    "popByFIPSReal"
   ]
  },
  {
   "cell_type": "code",
   "execution_count": 75,
   "metadata": {},
   "outputs": [],
   "source": [
    "popByFIPSSynthesis /= popByFIPSSynthesis.sum()\n",
    "popByFIPSReal /= popByFIPSReal.sum()"
   ]
  },
  {
   "cell_type": "markdown",
   "metadata": {},
   "source": [
    "### Plot samples"
   ]
  },
  {
   "cell_type": "code",
   "execution_count": 85,
   "metadata": {},
   "outputs": [
    {
     "data": {
      "image/png": "[encoded data removed]",
      "text/plain": [
       "<Figure size 1600x640 with 1 Axes>"
      ]
     },
     "metadata": {
      "needs_background": "light"
     },
     "output_type": "display_data"
    }
   ],
   "source": [
    "plt.figure(figsize=(20, 8), dpi=80)\n",
    "popByFIPSSynthesis.plot(x='FIPS', y='Population', rot=0)\n",
    "plt.title(\"Number of people by races in Illinois of synthetic dataset\")\n",
    "ax = plt.gca()\n",
    "for tick in ax.get_xticklabels():\n",
    "    tick.set_rotation(45)\n",
    "plt.show()"
   ]
  },
  {
   "cell_type": "code",
   "execution_count": 84,
   "metadata": {},
   "outputs": [
    {
     "data": {
      "image/png": "[encoded data removed]",
      "text/plain": [
       "<Figure size 1600x640 with 1 Axes>"
      ]
     },
     "metadata": {
      "needs_background": "light"
     },
     "output_type": "display_data"
    }
   ],
   "source": [
    "plt.figure(figsize=(20, 8), dpi=80)\n",
    "popByFIPSReal.plot(x='Race', y='Population', rot=0)\n",
    "plt.title(\"Number of people by races in Illinois of real dataset\")\n",
    "ax = plt.gca()\n",
    "for tick in ax.get_xticklabels():\n",
    "    tick.set_rotation(45)\n",
    "plt.show()"
   ]
  },
  {
   "cell_type": "markdown",
   "metadata": {},
   "source": [
    "### Test for Homogeneity"
   ]
  },
  {
   "cell_type": "markdown",
   "metadata": {},
   "source": [
    "$H_0$: The distributions of the two populations are the same.\n",
    "\n",
    "$H_1$: The distributions of the two populations are not the same.\n"
   ]
  },
  {
   "cell_type": "code",
   "execution_count": 86,
   "metadata": {},
   "outputs": [
    {
     "data": {
      "text/html": [
       "<div>\n",
       "<style scoped>\n",
       "    .dataframe tbody tr th:only-of-type {\n",
       "        vertical-align: middle;\n",
       "    }\n",
       "\n",
       "    .dataframe tbody tr th {\n",
       "        vertical-align: top;\n",
       "    }\n",
       "\n",
       "    .dataframe thead th {\n",
       "        text-align: right;\n",
       "    }\n",
       "</style>\n",
       "<table border=\"1\" class=\"dataframe\">\n",
       "  <thead>\n",
       "    <tr style=\"text-align: right;\">\n",
       "      <th></th>\n",
       "      <th>Synthesis</th>\n",
       "      <th>Real</th>\n",
       "    </tr>\n",
       "  </thead>\n",
       "  <tbody>\n",
       "    <tr>\n",
       "      <th>170010001001000</th>\n",
       "      <td>0.000003</td>\n",
       "      <td>1.326759e-06</td>\n",
       "    </tr>\n",
       "    <tr>\n",
       "      <th>170010001001001</th>\n",
       "      <td>0.000000</td>\n",
       "      <td>1.560893e-07</td>\n",
       "    </tr>\n",
       "    <tr>\n",
       "      <th>170010001001002</th>\n",
       "      <td>0.000000</td>\n",
       "      <td>0.000000e+00</td>\n",
       "    </tr>\n",
       "    <tr>\n",
       "      <th>170010001001003</th>\n",
       "      <td>0.000000</td>\n",
       "      <td>0.000000e+00</td>\n",
       "    </tr>\n",
       "    <tr>\n",
       "      <th>170010001001004</th>\n",
       "      <td>0.000000</td>\n",
       "      <td>0.000000e+00</td>\n",
       "    </tr>\n",
       "    <tr>\n",
       "      <th>...</th>\n",
       "      <td>...</td>\n",
       "      <td>...</td>\n",
       "    </tr>\n",
       "    <tr>\n",
       "      <th>172030307003228</th>\n",
       "      <td>0.000003</td>\n",
       "      <td>8.584912e-07</td>\n",
       "    </tr>\n",
       "    <tr>\n",
       "      <th>172030307003229</th>\n",
       "      <td>0.000000</td>\n",
       "      <td>0.000000e+00</td>\n",
       "    </tr>\n",
       "    <tr>\n",
       "      <th>172030307003230</th>\n",
       "      <td>0.000000</td>\n",
       "      <td>0.000000e+00</td>\n",
       "    </tr>\n",
       "    <tr>\n",
       "      <th>172030307003231</th>\n",
       "      <td>0.000000</td>\n",
       "      <td>5.463126e-07</td>\n",
       "    </tr>\n",
       "    <tr>\n",
       "      <th>172030307003232</th>\n",
       "      <td>0.000000</td>\n",
       "      <td>0.000000e+00</td>\n",
       "    </tr>\n",
       "  </tbody>\n",
       "</table>\n",
       "<p>369978 rows × 2 columns</p>\n",
       "</div>"
      ],
      "text/plain": [
       "                 Synthesis          Real\n",
       "170010001001000   0.000003  1.326759e-06\n",
       "170010001001001   0.000000  1.560893e-07\n",
       "170010001001002   0.000000  0.000000e+00\n",
       "170010001001003   0.000000  0.000000e+00\n",
       "170010001001004   0.000000  0.000000e+00\n",
       "...                    ...           ...\n",
       "172030307003228   0.000003  8.584912e-07\n",
       "172030307003229   0.000000  0.000000e+00\n",
       "172030307003230   0.000000  0.000000e+00\n",
       "172030307003231   0.000000  5.463126e-07\n",
       "172030307003232   0.000000  0.000000e+00\n",
       "\n",
       "[369978 rows x 2 columns]"
      ]
     },
     "execution_count": 86,
     "metadata": {},
     "output_type": "execute_result"
    }
   ],
   "source": [
    "popByFIPSReal.name = \"Real\"\n",
    "popByFIPSSynthesis.name = \"Synthesis\"\n",
    "mergeddf = pd.merge(popByFIPSSynthesis, popByFIPSReal, how= 'outer', right_index = True,\n",
    "               left_index = True).fillna(0)\n",
    "mergeddf = mergeddf.astype({'Synthesis': 'float32'})\n",
    "mergeddf"
   ]
  },
  {
   "cell_type": "markdown",
   "metadata": {},
   "source": [
    "### Compare sample mean and standard deviation"
   ]
  },
  {
   "cell_type": "code",
   "execution_count": 87,
   "metadata": {},
   "outputs": [
    {
     "name": "stdout",
     "output_type": "stream",
     "text": [
      "Mean of synthetic dataset 2.7052712994191097e-06\n",
      "Standard deviation of synthetic dataset 5.5297969083767384e-06\n"
     ]
    }
   ],
   "source": [
    "print(\"Mean of synthetic dataset\", mergeddf[\"Synthesis\"].mean())\n",
    "print(\"Standard deviation of synthetic dataset\", mergeddf[\"Synthesis\"].std())"
   ]
  },
  {
   "cell_type": "code",
   "execution_count": 88,
   "metadata": {},
   "outputs": [
    {
     "name": "stdout",
     "output_type": "stream",
     "text": [
      "Mean of real dataset 2.7028634135016203e-06\n",
      "Standard deviation of real dataset 5.291909099026957e-06\n"
     ]
    }
   ],
   "source": [
    "print(\"Mean of real dataset\", mergeddf[\"Real\"].mean())\n",
    "print(\"Standard deviation of real dataset\", mergeddf[\"Real\"].std())"
   ]
  },
  {
   "cell_type": "markdown",
   "metadata": {},
   "source": [
    "### Binning FIPS"
   ]
  },
  {
   "cell_type": "code",
   "execution_count": 146,
   "metadata": {},
   "outputs": [
    {
     "data": {
      "text/html": [
       "<div>\n",
       "<style scoped>\n",
       "    .dataframe tbody tr th:only-of-type {\n",
       "        vertical-align: middle;\n",
       "    }\n",
       "\n",
       "    .dataframe tbody tr th {\n",
       "        vertical-align: top;\n",
       "    }\n",
       "\n",
       "    .dataframe thead th {\n",
       "        text-align: right;\n",
       "    }\n",
       "</style>\n",
       "<table border=\"1\" class=\"dataframe\">\n",
       "  <thead>\n",
       "    <tr style=\"text-align: right;\">\n",
       "      <th></th>\n",
       "      <th>Synthesis</th>\n",
       "      <th>Real</th>\n",
       "    </tr>\n",
       "  </thead>\n",
       "  <tbody>\n",
       "    <tr>\n",
       "      <th>3400200020020</th>\n",
       "      <td>0.000093</td>\n",
       "      <td>0.000089</td>\n",
       "    </tr>\n",
       "    <tr>\n",
       "      <th>3400200020040</th>\n",
       "      <td>0.000056</td>\n",
       "      <td>0.000058</td>\n",
       "    </tr>\n",
       "    <tr>\n",
       "      <th>3400200020060</th>\n",
       "      <td>0.000058</td>\n",
       "      <td>0.000072</td>\n",
       "    </tr>\n",
       "    <tr>\n",
       "      <th>3400200020080</th>\n",
       "      <td>0.000070</td>\n",
       "      <td>0.000071</td>\n",
       "    </tr>\n",
       "    <tr>\n",
       "      <th>3400200020100</th>\n",
       "      <td>0.000080</td>\n",
       "      <td>0.000073</td>\n",
       "    </tr>\n",
       "    <tr>\n",
       "      <th>...</th>\n",
       "      <td>...</td>\n",
       "      <td>...</td>\n",
       "    </tr>\n",
       "    <tr>\n",
       "      <th>3440606140060</th>\n",
       "      <td>0.000019</td>\n",
       "      <td>0.000015</td>\n",
       "    </tr>\n",
       "    <tr>\n",
       "      <th>3440606140061</th>\n",
       "      <td>0.000072</td>\n",
       "      <td>0.000069</td>\n",
       "    </tr>\n",
       "    <tr>\n",
       "      <th>3440606140062</th>\n",
       "      <td>0.000067</td>\n",
       "      <td>0.000056</td>\n",
       "    </tr>\n",
       "    <tr>\n",
       "      <th>3440606140063</th>\n",
       "      <td>0.000051</td>\n",
       "      <td>0.000044</td>\n",
       "    </tr>\n",
       "    <tr>\n",
       "      <th>3440606140064</th>\n",
       "      <td>0.000019</td>\n",
       "      <td>0.000025</td>\n",
       "    </tr>\n",
       "  </tbody>\n",
       "</table>\n",
       "<p>12906 rows × 2 columns</p>\n",
       "</div>"
      ],
      "text/plain": [
       "               Synthesis      Real\n",
       "3400200020020   0.000093  0.000089\n",
       "3400200020040   0.000056  0.000058\n",
       "3400200020060   0.000058  0.000072\n",
       "3400200020080   0.000070  0.000071\n",
       "3400200020100   0.000080  0.000073\n",
       "...                  ...       ...\n",
       "3440606140060   0.000019  0.000015\n",
       "3440606140061   0.000072  0.000069\n",
       "3440606140062   0.000067  0.000056\n",
       "3440606140063   0.000051  0.000044\n",
       "3440606140064   0.000019  0.000025\n",
       "\n",
       "[12906 rows x 2 columns]"
      ]
     },
     "execution_count": 146,
     "metadata": {},
     "output_type": "execute_result"
    }
   ],
   "source": [
    "N = 50\n",
    "mergeddf.index = mergeddf.index.map(lambda x : int(x))\n",
    "binningdf = mergeddf.groupby(mergeddf.index // N).sum()\n",
    "binningdf"
   ]
  },
  {
   "cell_type": "code",
   "execution_count": 147,
   "metadata": {
    "scrolled": false
   },
   "outputs": [
    {
     "data": {
      "image/png": "[encoded data removed]",
      "text/plain": [
       "<Figure size 1600x640 with 1 Axes>"
      ]
     },
     "metadata": {
      "needs_background": "light"
     },
     "output_type": "display_data"
    }
   ],
   "source": [
    "plt.figure(figsize=(20, 8), dpi=80)\n",
    "binningdf[\"Synthesis\"].plot(x='Race', y='Population', rot=0)\n",
    "plt.title(\"Number of people by races in Illinois of real dataset\")\n",
    "ax = plt.gca()\n",
    "for tick in ax.get_xticklabels():\n",
    "    tick.set_rotation(45)\n",
    "plt.show()"
   ]
  },
  {
   "cell_type": "code",
   "execution_count": 148,
   "metadata": {},
   "outputs": [
    {
     "data": {
      "image/png": "[encoded data removed]",
      "text/plain": [
       "<Figure size 1600x640 with 1 Axes>"
      ]
     },
     "metadata": {
      "needs_background": "light"
     },
     "output_type": "display_data"
    }
   ],
   "source": [
    "plt.figure(figsize=(20, 8), dpi=80)\n",
    "binningdf[\"Real\"].plot(x='Race', y='Population', rot=0)\n",
    "plt.title(\"Number of people by races in Illinois of real dataset\")\n",
    "ax = plt.gca()\n",
    "for tick in ax.get_xticklabels():\n",
    "    tick.set_rotation(45)\n",
    "plt.show()"
   ]
  },
  {
   "cell_type": "markdown",
   "metadata": {},
   "source": [
    "### Test for Homogeneity"
   ]
  },
  {
   "cell_type": "markdown",
   "metadata": {},
   "source": [
    "$H_0$: The distributions of the two populations are the same.\n",
    "\n",
    "$H_1$: The distributions of the two populations are not the same.\n"
   ]
  },
  {
   "cell_type": "code",
   "execution_count": 149,
   "metadata": {},
   "outputs": [
    {
     "data": {
      "text/html": [
       "<div>\n",
       "<style scoped>\n",
       "    .dataframe tbody tr th:only-of-type {\n",
       "        vertical-align: middle;\n",
       "    }\n",
       "\n",
       "    .dataframe tbody tr th {\n",
       "        vertical-align: top;\n",
       "    }\n",
       "\n",
       "    .dataframe thead th {\n",
       "        text-align: right;\n",
       "    }\n",
       "</style>\n",
       "<table border=\"1\" class=\"dataframe\">\n",
       "  <thead>\n",
       "    <tr style=\"text-align: right;\">\n",
       "      <th>Synthesis</th>\n",
       "      <th>0.0</th>\n",
       "      <th>9.999999974752427e-07</th>\n",
       "      <th>1.9999999949504854e-06</th>\n",
       "      <th>3.000000106112566e-06</th>\n",
       "      <th>3.999999989900971e-06</th>\n",
       "      <th>4.999999873689376e-06</th>\n",
       "      <th>5.999999757477781e-06</th>\n",
       "      <th>6.000000212225132e-06</th>\n",
       "      <th>6.999999641266186e-06</th>\n",
       "      <th>7.000000096013537e-06</th>\n",
       "      <th>...</th>\n",
       "      <th>0.00033400001120753586</th>\n",
       "      <th>0.0003429999924264848</th>\n",
       "      <th>0.0003480000013951212</th>\n",
       "      <th>0.000358000019332394</th>\n",
       "      <th>0.0003760000108741224</th>\n",
       "      <th>0.0004039999912492931</th>\n",
       "      <th>0.00041099998634308577</th>\n",
       "      <th>0.0004490000137593597</th>\n",
       "      <th>0.0005000000237487257</th>\n",
       "      <th>All</th>\n",
       "    </tr>\n",
       "    <tr>\n",
       "      <th>Real</th>\n",
       "      <th></th>\n",
       "      <th></th>\n",
       "      <th></th>\n",
       "      <th></th>\n",
       "      <th></th>\n",
       "      <th></th>\n",
       "      <th></th>\n",
       "      <th></th>\n",
       "      <th></th>\n",
       "      <th></th>\n",
       "      <th></th>\n",
       "      <th></th>\n",
       "      <th></th>\n",
       "      <th></th>\n",
       "      <th></th>\n",
       "      <th></th>\n",
       "      <th></th>\n",
       "      <th></th>\n",
       "      <th></th>\n",
       "      <th></th>\n",
       "      <th></th>\n",
       "    </tr>\n",
       "  </thead>\n",
       "  <tbody>\n",
       "    <tr>\n",
       "      <th>0.0</th>\n",
       "      <td>73</td>\n",
       "      <td>0</td>\n",
       "      <td>0</td>\n",
       "      <td>0</td>\n",
       "      <td>0</td>\n",
       "      <td>0</td>\n",
       "      <td>0</td>\n",
       "      <td>0</td>\n",
       "      <td>0</td>\n",
       "      <td>0</td>\n",
       "      <td>...</td>\n",
       "      <td>0</td>\n",
       "      <td>0</td>\n",
       "      <td>0</td>\n",
       "      <td>0</td>\n",
       "      <td>0</td>\n",
       "      <td>0</td>\n",
       "      <td>0</td>\n",
       "      <td>0</td>\n",
       "      <td>0</td>\n",
       "      <td>73</td>\n",
       "    </tr>\n",
       "    <tr>\n",
       "      <th>7.804465059331885e-08</th>\n",
       "      <td>4</td>\n",
       "      <td>0</td>\n",
       "      <td>0</td>\n",
       "      <td>0</td>\n",
       "      <td>0</td>\n",
       "      <td>0</td>\n",
       "      <td>0</td>\n",
       "      <td>0</td>\n",
       "      <td>0</td>\n",
       "      <td>0</td>\n",
       "      <td>...</td>\n",
       "      <td>0</td>\n",
       "      <td>0</td>\n",
       "      <td>0</td>\n",
       "      <td>0</td>\n",
       "      <td>0</td>\n",
       "      <td>0</td>\n",
       "      <td>0</td>\n",
       "      <td>0</td>\n",
       "      <td>0</td>\n",
       "      <td>4</td>\n",
       "    </tr>\n",
       "    <tr>\n",
       "      <th>1.560893011866377e-07</th>\n",
       "      <td>10</td>\n",
       "      <td>0</td>\n",
       "      <td>0</td>\n",
       "      <td>0</td>\n",
       "      <td>0</td>\n",
       "      <td>0</td>\n",
       "      <td>0</td>\n",
       "      <td>0</td>\n",
       "      <td>0</td>\n",
       "      <td>0</td>\n",
       "      <td>...</td>\n",
       "      <td>0</td>\n",
       "      <td>0</td>\n",
       "      <td>0</td>\n",
       "      <td>0</td>\n",
       "      <td>0</td>\n",
       "      <td>0</td>\n",
       "      <td>0</td>\n",
       "      <td>0</td>\n",
       "      <td>0</td>\n",
       "      <td>10</td>\n",
       "    </tr>\n",
       "    <tr>\n",
       "      <th>2.3413395177995655e-07</th>\n",
       "      <td>11</td>\n",
       "      <td>1</td>\n",
       "      <td>0</td>\n",
       "      <td>0</td>\n",
       "      <td>0</td>\n",
       "      <td>0</td>\n",
       "      <td>0</td>\n",
       "      <td>0</td>\n",
       "      <td>0</td>\n",
       "      <td>0</td>\n",
       "      <td>...</td>\n",
       "      <td>0</td>\n",
       "      <td>0</td>\n",
       "      <td>0</td>\n",
       "      <td>0</td>\n",
       "      <td>0</td>\n",
       "      <td>0</td>\n",
       "      <td>0</td>\n",
       "      <td>0</td>\n",
       "      <td>0</td>\n",
       "      <td>12</td>\n",
       "    </tr>\n",
       "    <tr>\n",
       "      <th>3.121786023732754e-07</th>\n",
       "      <td>4</td>\n",
       "      <td>4</td>\n",
       "      <td>0</td>\n",
       "      <td>0</td>\n",
       "      <td>0</td>\n",
       "      <td>0</td>\n",
       "      <td>0</td>\n",
       "      <td>0</td>\n",
       "      <td>0</td>\n",
       "      <td>0</td>\n",
       "      <td>...</td>\n",
       "      <td>0</td>\n",
       "      <td>0</td>\n",
       "      <td>0</td>\n",
       "      <td>0</td>\n",
       "      <td>0</td>\n",
       "      <td>0</td>\n",
       "      <td>0</td>\n",
       "      <td>0</td>\n",
       "      <td>0</td>\n",
       "      <td>8</td>\n",
       "    </tr>\n",
       "    <tr>\n",
       "      <th>...</th>\n",
       "      <td>...</td>\n",
       "      <td>...</td>\n",
       "      <td>...</td>\n",
       "      <td>...</td>\n",
       "      <td>...</td>\n",
       "      <td>...</td>\n",
       "      <td>...</td>\n",
       "      <td>...</td>\n",
       "      <td>...</td>\n",
       "      <td>...</td>\n",
       "      <td>...</td>\n",
       "      <td>...</td>\n",
       "      <td>...</td>\n",
       "      <td>...</td>\n",
       "      <td>...</td>\n",
       "      <td>...</td>\n",
       "      <td>...</td>\n",
       "      <td>...</td>\n",
       "      <td>...</td>\n",
       "      <td>...</td>\n",
       "      <td>...</td>\n",
       "    </tr>\n",
       "    <tr>\n",
       "      <th>0.000414885362554083</th>\n",
       "      <td>0</td>\n",
       "      <td>0</td>\n",
       "      <td>0</td>\n",
       "      <td>0</td>\n",
       "      <td>0</td>\n",
       "      <td>0</td>\n",
       "      <td>0</td>\n",
       "      <td>0</td>\n",
       "      <td>0</td>\n",
       "      <td>0</td>\n",
       "      <td>...</td>\n",
       "      <td>0</td>\n",
       "      <td>0</td>\n",
       "      <td>0</td>\n",
       "      <td>0</td>\n",
       "      <td>0</td>\n",
       "      <td>0</td>\n",
       "      <td>1</td>\n",
       "      <td>0</td>\n",
       "      <td>0</td>\n",
       "      <td>1</td>\n",
       "    </tr>\n",
       "    <tr>\n",
       "      <th>0.00042503116713121444</th>\n",
       "      <td>0</td>\n",
       "      <td>0</td>\n",
       "      <td>0</td>\n",
       "      <td>0</td>\n",
       "      <td>0</td>\n",
       "      <td>0</td>\n",
       "      <td>0</td>\n",
       "      <td>0</td>\n",
       "      <td>0</td>\n",
       "      <td>0</td>\n",
       "      <td>...</td>\n",
       "      <td>0</td>\n",
       "      <td>0</td>\n",
       "      <td>0</td>\n",
       "      <td>0</td>\n",
       "      <td>0</td>\n",
       "      <td>0</td>\n",
       "      <td>0</td>\n",
       "      <td>1</td>\n",
       "      <td>0</td>\n",
       "      <td>1</td>\n",
       "    </tr>\n",
       "    <tr>\n",
       "      <th>0.00045445400040489565</th>\n",
       "      <td>0</td>\n",
       "      <td>0</td>\n",
       "      <td>0</td>\n",
       "      <td>0</td>\n",
       "      <td>0</td>\n",
       "      <td>0</td>\n",
       "      <td>0</td>\n",
       "      <td>0</td>\n",
       "      <td>0</td>\n",
       "      <td>0</td>\n",
       "      <td>...</td>\n",
       "      <td>0</td>\n",
       "      <td>0</td>\n",
       "      <td>0</td>\n",
       "      <td>0</td>\n",
       "      <td>0</td>\n",
       "      <td>1</td>\n",
       "      <td>0</td>\n",
       "      <td>0</td>\n",
       "      <td>0</td>\n",
       "      <td>1</td>\n",
       "    </tr>\n",
       "    <tr>\n",
       "      <th>0.00047060924307771267</th>\n",
       "      <td>0</td>\n",
       "      <td>0</td>\n",
       "      <td>0</td>\n",
       "      <td>0</td>\n",
       "      <td>0</td>\n",
       "      <td>0</td>\n",
       "      <td>0</td>\n",
       "      <td>0</td>\n",
       "      <td>0</td>\n",
       "      <td>0</td>\n",
       "      <td>...</td>\n",
       "      <td>0</td>\n",
       "      <td>0</td>\n",
       "      <td>0</td>\n",
       "      <td>0</td>\n",
       "      <td>0</td>\n",
       "      <td>0</td>\n",
       "      <td>0</td>\n",
       "      <td>0</td>\n",
       "      <td>1</td>\n",
       "      <td>1</td>\n",
       "    </tr>\n",
       "    <tr>\n",
       "      <th>All</th>\n",
       "      <td>176</td>\n",
       "      <td>102</td>\n",
       "      <td>113</td>\n",
       "      <td>85</td>\n",
       "      <td>79</td>\n",
       "      <td>80</td>\n",
       "      <td>6</td>\n",
       "      <td>79</td>\n",
       "      <td>4</td>\n",
       "      <td>82</td>\n",
       "      <td>...</td>\n",
       "      <td>1</td>\n",
       "      <td>1</td>\n",
       "      <td>1</td>\n",
       "      <td>1</td>\n",
       "      <td>1</td>\n",
       "      <td>1</td>\n",
       "      <td>1</td>\n",
       "      <td>1</td>\n",
       "      <td>1</td>\n",
       "      <td>12906</td>\n",
       "    </tr>\n",
       "  </tbody>\n",
       "</table>\n",
       "<p>3226 rows × 399 columns</p>\n",
       "</div>"
      ],
      "text/plain": [
       "Synthesis               0.0  9.999999974752427e-07  1.9999999949504854e-06  \\\n",
       "Real                                                                         \n",
       "0.0                      73                      0                       0   \n",
       "7.804465059331885e-08     4                      0                       0   \n",
       "1.560893011866377e-07    10                      0                       0   \n",
       "2.3413395177995655e-07   11                      1                       0   \n",
       "3.121786023732754e-07     4                      4                       0   \n",
       "...                     ...                    ...                     ...   \n",
       "0.000414885362554083      0                      0                       0   \n",
       "0.00042503116713121444    0                      0                       0   \n",
       "0.00045445400040489565    0                      0                       0   \n",
       "0.00047060924307771267    0                      0                       0   \n",
       "All                     176                    102                     113   \n",
       "\n",
       "Synthesis               3.000000106112566e-06  3.999999989900971e-06  \\\n",
       "Real                                                                   \n",
       "0.0                                         0                      0   \n",
       "7.804465059331885e-08                       0                      0   \n",
       "1.560893011866377e-07                       0                      0   \n",
       "2.3413395177995655e-07                      0                      0   \n",
       "3.121786023732754e-07                       0                      0   \n",
       "...                                       ...                    ...   \n",
       "0.000414885362554083                        0                      0   \n",
       "0.00042503116713121444                      0                      0   \n",
       "0.00045445400040489565                      0                      0   \n",
       "0.00047060924307771267                      0                      0   \n",
       "All                                        85                     79   \n",
       "\n",
       "Synthesis               4.999999873689376e-06  5.999999757477781e-06  \\\n",
       "Real                                                                   \n",
       "0.0                                         0                      0   \n",
       "7.804465059331885e-08                       0                      0   \n",
       "1.560893011866377e-07                       0                      0   \n",
       "2.3413395177995655e-07                      0                      0   \n",
       "3.121786023732754e-07                       0                      0   \n",
       "...                                       ...                    ...   \n",
       "0.000414885362554083                        0                      0   \n",
       "0.00042503116713121444                      0                      0   \n",
       "0.00045445400040489565                      0                      0   \n",
       "0.00047060924307771267                      0                      0   \n",
       "All                                        80                      6   \n",
       "\n",
       "Synthesis               6.000000212225132e-06  6.999999641266186e-06  \\\n",
       "Real                                                                   \n",
       "0.0                                         0                      0   \n",
       "7.804465059331885e-08                       0                      0   \n",
       "1.560893011866377e-07                       0                      0   \n",
       "2.3413395177995655e-07                      0                      0   \n",
       "3.121786023732754e-07                       0                      0   \n",
       "...                                       ...                    ...   \n",
       "0.000414885362554083                        0                      0   \n",
       "0.00042503116713121444                      0                      0   \n",
       "0.00045445400040489565                      0                      0   \n",
       "0.00047060924307771267                      0                      0   \n",
       "All                                        79                      4   \n",
       "\n",
       "Synthesis               7.000000096013537e-06  ...  0.00033400001120753586  \\\n",
       "Real                                           ...                           \n",
       "0.0                                         0  ...                       0   \n",
       "7.804465059331885e-08                       0  ...                       0   \n",
       "1.560893011866377e-07                       0  ...                       0   \n",
       "2.3413395177995655e-07                      0  ...                       0   \n",
       "3.121786023732754e-07                       0  ...                       0   \n",
       "...                                       ...  ...                     ...   \n",
       "0.000414885362554083                        0  ...                       0   \n",
       "0.00042503116713121444                      0  ...                       0   \n",
       "0.00045445400040489565                      0  ...                       0   \n",
       "0.00047060924307771267                      0  ...                       0   \n",
       "All                                        82  ...                       1   \n",
       "\n",
       "Synthesis               0.0003429999924264848  0.0003480000013951212  \\\n",
       "Real                                                                   \n",
       "0.0                                         0                      0   \n",
       "7.804465059331885e-08                       0                      0   \n",
       "1.560893011866377e-07                       0                      0   \n",
       "2.3413395177995655e-07                      0                      0   \n",
       "3.121786023732754e-07                       0                      0   \n",
       "...                                       ...                    ...   \n",
       "0.000414885362554083                        0                      0   \n",
       "0.00042503116713121444                      0                      0   \n",
       "0.00045445400040489565                      0                      0   \n",
       "0.00047060924307771267                      0                      0   \n",
       "All                                         1                      1   \n",
       "\n",
       "Synthesis               0.000358000019332394  0.0003760000108741224  \\\n",
       "Real                                                                  \n",
       "0.0                                        0                      0   \n",
       "7.804465059331885e-08                      0                      0   \n",
       "1.560893011866377e-07                      0                      0   \n",
       "2.3413395177995655e-07                     0                      0   \n",
       "3.121786023732754e-07                      0                      0   \n",
       "...                                      ...                    ...   \n",
       "0.000414885362554083                       0                      0   \n",
       "0.00042503116713121444                     0                      0   \n",
       "0.00045445400040489565                     0                      0   \n",
       "0.00047060924307771267                     0                      0   \n",
       "All                                        1                      1   \n",
       "\n",
       "Synthesis               0.0004039999912492931  0.00041099998634308577  \\\n",
       "Real                                                                    \n",
       "0.0                                         0                       0   \n",
       "7.804465059331885e-08                       0                       0   \n",
       "1.560893011866377e-07                       0                       0   \n",
       "2.3413395177995655e-07                      0                       0   \n",
       "3.121786023732754e-07                       0                       0   \n",
       "...                                       ...                     ...   \n",
       "0.000414885362554083                        0                       1   \n",
       "0.00042503116713121444                      0                       0   \n",
       "0.00045445400040489565                      1                       0   \n",
       "0.00047060924307771267                      0                       0   \n",
       "All                                         1                       1   \n",
       "\n",
       "Synthesis               0.0004490000137593597  0.0005000000237487257    All  \n",
       "Real                                                                         \n",
       "0.0                                         0                      0     73  \n",
       "7.804465059331885e-08                       0                      0      4  \n",
       "1.560893011866377e-07                       0                      0     10  \n",
       "2.3413395177995655e-07                      0                      0     12  \n",
       "3.121786023732754e-07                       0                      0      8  \n",
       "...                                       ...                    ...    ...  \n",
       "0.000414885362554083                        0                      0      1  \n",
       "0.00042503116713121444                      1                      0      1  \n",
       "0.00045445400040489565                      0                      0      1  \n",
       "0.00047060924307771267                      0                      1      1  \n",
       "All                                         1                      1  12906  \n",
       "\n",
       "[3226 rows x 399 columns]"
      ]
     },
     "execution_count": 149,
     "metadata": {},
     "output_type": "execute_result"
    }
   ],
   "source": [
    "ct = pd.crosstab(binningdf[\"Real\"], binningdf[\"Synthesis\"], margins=True)\n",
    "ct"
   ]
  },
  {
   "cell_type": "code",
   "execution_count": 150,
   "metadata": {},
   "outputs": [],
   "source": [
    "g, p, dof, expctd = stats.chi2_contingency(ct, lambda_=\"log-likelihood\")"
   ]
  },
  {
   "cell_type": "code",
   "execution_count": 151,
   "metadata": {},
   "outputs": [
    {
     "name": "stdout",
     "output_type": "stream",
     "text": [
      "Independent (fail to reject H0)\n"
     ]
    }
   ],
   "source": [
    "# interpret test-statistic\n",
    "prob = 0.95\n",
    "critical = stats.chi2.ppf(prob, dof)\n",
    "if abs(g) >= critical:\n",
    "    print('Dependent (reject H0)')\n",
    "else:\n",
    "    print('Independent (fail to reject H0)')"
   ]
  },
  {
   "cell_type": "code",
   "execution_count": 152,
   "metadata": {
    "scrolled": true
   },
   "outputs": [
    {
     "data": {
      "text/plain": [
       "1.0"
      ]
     },
     "execution_count": 152,
     "metadata": {},
     "output_type": "execute_result"
    }
   ],
   "source": [
    "p"
   ]
  },
  {
   "cell_type": "markdown",
   "metadata": {},
   "source": [
    "Due to p value = 1.0 >> 0.05.Therefore, there is no evidence to support the distributions of the two populations are not the same."
   ]
  },
  {
   "cell_type": "markdown",
   "metadata": {},
   "source": [
    "### Compare distribution by two sample t-test"
   ]
  },
  {
   "cell_type": "markdown",
   "metadata": {},
   "source": [
    "$H_0: \\mu_1 = \\mu_2$ (population mean of synthetic dataset is equal to real dataset)\n",
    "\n",
    "$H_1: \\mu_1 \\neq \\mu_2$ (population mean of synthetic dataset is different from real dataset)"
   ]
  },
  {
   "cell_type": "code",
   "execution_count": 153,
   "metadata": {},
   "outputs": [
    {
     "data": {
      "text/plain": [
       "Ttest_indResult(statistic=-3.4843951162328825e-06, pvalue=0.9999972198818619)"
      ]
     },
     "execution_count": 153,
     "metadata": {},
     "output_type": "execute_result"
    }
   ],
   "source": [
    "# Perform the two sample t-test with equal variances\n",
    "stats.ttest_ind(a=binningdf[\"Synthesis\"], b=binningdf[\"Real\"], equal_var=True)"
   ]
  },
  {
   "cell_type": "markdown",
   "metadata": {},
   "source": [
    "Due to p value = 0.9934190781015679 >> 0.05.Therefore, there is no evidence to support the population mean of the two populations are not the same."
   ]
  },
  {
   "cell_type": "markdown",
   "metadata": {},
   "source": [
    "### K-S test"
   ]
  },
  {
   "cell_type": "markdown",
   "metadata": {},
   "source": [
    "$H_0: $ The two datasets come from the same ditribution \n",
    "\n",
    "$H_q: $ The two datasets NOT come from the same ditribution \n"
   ]
  },
  {
   "cell_type": "code",
   "execution_count": 154,
   "metadata": {},
   "outputs": [
    {
     "data": {
      "text/plain": [
       "KstestResult(statistic=0.01115760111576014, pvalue=0.39499247939276405)"
      ]
     },
     "execution_count": 154,
     "metadata": {},
     "output_type": "execute_result"
    }
   ],
   "source": [
    "stats.ks_2samp(binningdf[\"Real\"], binningdf[\"Synthesis\"])"
   ]
  },
  {
   "cell_type": "markdown",
   "metadata": {},
   "source": [
    "Due to p value = 0.4781688122978446 >> 0.05. Therefore, there is no evidence to support the two datasets NOT come from the same ditribution"
   ]
  },
  {
   "cell_type": "markdown",
   "metadata": {},
   "source": [
    "## Benchmarking dataset"
   ]
  },
  {
   "cell_type": "markdown",
   "metadata": {},
   "source": [
    "We will test the dataset by the "
   ]
  },
  {
   "cell_type": "code",
   "execution_count": null,
   "metadata": {},
   "outputs": [],
   "source": []
  }
 ],
 "metadata": {
  "kernelspec": {
   "display_name": "virtualenv",
   "language": "python",
   "name": "virtualenv"
  },
  "language_info": {
   "codemirror_mode": {
    "name": "ipython",
    "version": 3
   },
   "file_extension": ".py",
   "mimetype": "text/x-python",
   "name": "python",
   "nbconvert_exporter": "python",
   "pygments_lexer": "ipython3",
   "version": "3.8.13"
  }
 },
 "nbformat": 4,
 "nbformat_minor": 2
}
