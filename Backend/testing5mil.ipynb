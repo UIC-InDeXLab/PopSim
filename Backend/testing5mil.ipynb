{
 "cells": [
  {
   "cell_type": "markdown",
   "metadata": {},
   "source": [
    "# Testing validity with IL Synthesis Dataset"
   ]
  },
  {
   "cell_type": "markdown",
   "metadata": {},
   "source": [
    "## Import Synthesis Dataset"
   ]
  },
  {
   "cell_type": "code",
   "execution_count": 1,
   "metadata": {},
   "outputs": [],
   "source": [
    "import numpy as np\n",
    "import pandas as pd\n",
    "import matplotlib.pyplot as plt\n",
    "import scipy.stats as stats"
   ]
  },
  {
   "cell_type": "code",
   "execution_count": 2,
   "metadata": {},
   "outputs": [],
   "source": [
    "def loadDataset(path):\n",
    "    a = pd.read_csv(path)\n",
    "    return a.drop(a.columns[0], axis=1)\n",
    "def groupByRace(dataset):\n",
    "    return dataset.groupby(by = [\"race\"])\n",
    "def groupByFIPS(dataset):\n",
    "    return dataset.groupby(by = [\"FIPS\"])\n",
    "def groupByFIPSAndRace(dataset):\n",
    "    return dataset.groupby(by = [\"FIPS\", \"race\"])"
   ]
  },
  {
   "cell_type": "code",
   "execution_count": 3,
   "metadata": {},
   "outputs": [],
   "source": [
    "ILdataset = loadDataset('./data/generatedDatasets/IL_dataset_5mil.csv')"
   ]
  },
  {
   "cell_type": "markdown",
   "metadata": {},
   "source": []
  },
  {
   "cell_type": "code",
   "execution_count": 4,
   "metadata": {},
   "outputs": [
    {
     "data": {
      "text/plain": [
       "FIPS\n",
       "170010001001000     5\n",
       "170010001001001     1\n",
       "170010001001007    21\n",
       "170010001001008    79\n",
       "170010001001009     6\n",
       "                   ..\n",
       "172030307003217     1\n",
       "172030307003223     2\n",
       "172030307003226     3\n",
       "172030307003228     5\n",
       "172030307003231     1\n",
       "Name: FIPS, Length: 264121, dtype: int64"
      ]
     },
     "execution_count": 4,
     "metadata": {},
     "output_type": "execute_result"
    }
   ],
   "source": [
    "ILdataset.groupby(by = [\"FIPS\"]).FIPS.count()"
   ]
  },
  {
   "cell_type": "code",
   "execution_count": 5,
   "metadata": {},
   "outputs": [
    {
     "data": {
      "text/plain": [
       "race\n",
       "P1_003N    3070882\n",
       "P1_004N     705193\n",
       "P1_005N      38080\n",
       "P1_006N     294728\n",
       "P1_007N       1725\n",
       "            ...   \n",
       "P1_066N         15\n",
       "P1_067N          7\n",
       "P1_068N          3\n",
       "P1_069N          3\n",
       "P1_071N         37\n",
       "Name: FIPS, Length: 64, dtype: int64"
      ]
     },
     "execution_count": 5,
     "metadata": {},
     "output_type": "execute_result"
    }
   ],
   "source": [
    "ILdataset.groupby(by = [\"race\"]).FIPS.count()"
   ]
  },
  {
   "cell_type": "code",
   "execution_count": 6,
   "metadata": {},
   "outputs": [
    {
     "data": {
      "text/html": [
       "<div>\n",
       "<style scoped>\n",
       "    .dataframe tbody tr th:only-of-type {\n",
       "        vertical-align: middle;\n",
       "    }\n",
       "\n",
       "    .dataframe tbody tr th {\n",
       "        vertical-align: top;\n",
       "    }\n",
       "\n",
       "    .dataframe thead th {\n",
       "        text-align: right;\n",
       "    }\n",
       "</style>\n",
       "<table border=\"1\" class=\"dataframe\">\n",
       "  <thead>\n",
       "    <tr style=\"text-align: right;\">\n",
       "      <th></th>\n",
       "      <th></th>\n",
       "      <th>count</th>\n",
       "    </tr>\n",
       "    <tr>\n",
       "      <th>FIPS</th>\n",
       "      <th>race</th>\n",
       "      <th></th>\n",
       "    </tr>\n",
       "  </thead>\n",
       "  <tbody>\n",
       "    <tr>\n",
       "      <th>170010001001000</th>\n",
       "      <th>P1_003N</th>\n",
       "      <td>5</td>\n",
       "    </tr>\n",
       "    <tr>\n",
       "      <th>170010001001001</th>\n",
       "      <th>P1_003N</th>\n",
       "      <td>1</td>\n",
       "    </tr>\n",
       "    <tr>\n",
       "      <th rowspan=\"3\" valign=\"top\">170010001001007</th>\n",
       "      <th>P1_003N</th>\n",
       "      <td>18</td>\n",
       "    </tr>\n",
       "    <tr>\n",
       "      <th>P1_004N</th>\n",
       "      <td>1</td>\n",
       "    </tr>\n",
       "    <tr>\n",
       "      <th>P1_015N</th>\n",
       "      <td>2</td>\n",
       "    </tr>\n",
       "    <tr>\n",
       "      <th>...</th>\n",
       "      <th>...</th>\n",
       "      <td>...</td>\n",
       "    </tr>\n",
       "    <tr>\n",
       "      <th>172030307003217</th>\n",
       "      <th>P1_003N</th>\n",
       "      <td>1</td>\n",
       "    </tr>\n",
       "    <tr>\n",
       "      <th>172030307003223</th>\n",
       "      <th>P1_003N</th>\n",
       "      <td>2</td>\n",
       "    </tr>\n",
       "    <tr>\n",
       "      <th>172030307003226</th>\n",
       "      <th>P1_003N</th>\n",
       "      <td>3</td>\n",
       "    </tr>\n",
       "    <tr>\n",
       "      <th>172030307003228</th>\n",
       "      <th>P1_003N</th>\n",
       "      <td>5</td>\n",
       "    </tr>\n",
       "    <tr>\n",
       "      <th>172030307003231</th>\n",
       "      <th>P1_003N</th>\n",
       "      <td>1</td>\n",
       "    </tr>\n",
       "  </tbody>\n",
       "</table>\n",
       "<p>652597 rows × 1 columns</p>\n",
       "</div>"
      ],
      "text/plain": [
       "                         count\n",
       "FIPS            race          \n",
       "170010001001000 P1_003N      5\n",
       "170010001001001 P1_003N      1\n",
       "170010001001007 P1_003N     18\n",
       "                P1_004N      1\n",
       "                P1_015N      2\n",
       "...                        ...\n",
       "172030307003217 P1_003N      1\n",
       "172030307003223 P1_003N      2\n",
       "172030307003226 P1_003N      3\n",
       "172030307003228 P1_003N      5\n",
       "172030307003231 P1_003N      1\n",
       "\n",
       "[652597 rows x 1 columns]"
      ]
     },
     "execution_count": 6,
     "metadata": {},
     "output_type": "execute_result"
    }
   ],
   "source": [
    "ILdataset.groupby(by = [\"FIPS\",\"race\"]).FIPS.agg(['count'])"
   ]
  },
  {
   "cell_type": "code",
   "execution_count": 7,
   "metadata": {},
   "outputs": [
    {
     "data": {
      "text/html": [
       "<div>\n",
       "<style scoped>\n",
       "    .dataframe tbody tr th:only-of-type {\n",
       "        vertical-align: middle;\n",
       "    }\n",
       "\n",
       "    .dataframe tbody tr th {\n",
       "        vertical-align: top;\n",
       "    }\n",
       "\n",
       "    .dataframe thead th {\n",
       "        text-align: right;\n",
       "    }\n",
       "</style>\n",
       "<table border=\"1\" class=\"dataframe\">\n",
       "  <thead>\n",
       "    <tr style=\"text-align: right;\">\n",
       "      <th></th>\n",
       "      <th>FIPS</th>\n",
       "      <th>race</th>\n",
       "      <th>count</th>\n",
       "    </tr>\n",
       "  </thead>\n",
       "  <tbody>\n",
       "    <tr>\n",
       "      <th>0</th>\n",
       "      <td>170010001001000</td>\n",
       "      <td>P1_003N</td>\n",
       "      <td>5</td>\n",
       "    </tr>\n",
       "    <tr>\n",
       "      <th>1</th>\n",
       "      <td>170010001001001</td>\n",
       "      <td>P1_003N</td>\n",
       "      <td>1</td>\n",
       "    </tr>\n",
       "    <tr>\n",
       "      <th>2</th>\n",
       "      <td>170010001001007</td>\n",
       "      <td>P1_003N</td>\n",
       "      <td>18</td>\n",
       "    </tr>\n",
       "    <tr>\n",
       "      <th>3</th>\n",
       "      <td>170010001001007</td>\n",
       "      <td>P1_004N</td>\n",
       "      <td>1</td>\n",
       "    </tr>\n",
       "    <tr>\n",
       "      <th>4</th>\n",
       "      <td>170010001001007</td>\n",
       "      <td>P1_015N</td>\n",
       "      <td>2</td>\n",
       "    </tr>\n",
       "    <tr>\n",
       "      <th>...</th>\n",
       "      <td>...</td>\n",
       "      <td>...</td>\n",
       "      <td>...</td>\n",
       "    </tr>\n",
       "    <tr>\n",
       "      <th>652592</th>\n",
       "      <td>172030307003217</td>\n",
       "      <td>P1_003N</td>\n",
       "      <td>1</td>\n",
       "    </tr>\n",
       "    <tr>\n",
       "      <th>652593</th>\n",
       "      <td>172030307003223</td>\n",
       "      <td>P1_003N</td>\n",
       "      <td>2</td>\n",
       "    </tr>\n",
       "    <tr>\n",
       "      <th>652594</th>\n",
       "      <td>172030307003226</td>\n",
       "      <td>P1_003N</td>\n",
       "      <td>3</td>\n",
       "    </tr>\n",
       "    <tr>\n",
       "      <th>652595</th>\n",
       "      <td>172030307003228</td>\n",
       "      <td>P1_003N</td>\n",
       "      <td>5</td>\n",
       "    </tr>\n",
       "    <tr>\n",
       "      <th>652596</th>\n",
       "      <td>172030307003231</td>\n",
       "      <td>P1_003N</td>\n",
       "      <td>1</td>\n",
       "    </tr>\n",
       "  </tbody>\n",
       "</table>\n",
       "<p>652597 rows × 3 columns</p>\n",
       "</div>"
      ],
      "text/plain": [
       "                   FIPS     race  count\n",
       "0       170010001001000  P1_003N      5\n",
       "1       170010001001001  P1_003N      1\n",
       "2       170010001001007  P1_003N     18\n",
       "3       170010001001007  P1_004N      1\n",
       "4       170010001001007  P1_015N      2\n",
       "...                 ...      ...    ...\n",
       "652592  172030307003217  P1_003N      1\n",
       "652593  172030307003223  P1_003N      2\n",
       "652594  172030307003226  P1_003N      3\n",
       "652595  172030307003228  P1_003N      5\n",
       "652596  172030307003231  P1_003N      1\n",
       "\n",
       "[652597 rows x 3 columns]"
      ]
     },
     "execution_count": 7,
     "metadata": {},
     "output_type": "execute_result"
    }
   ],
   "source": [
    "ILDatasetProcessed = pd.DataFrame(ILdataset.groupby(by = [\"FIPS\",\"race\"]).FIPS.agg(['count'])).reset_index()\n",
    "ILDatasetProcessed"
   ]
  },
  {
   "cell_type": "markdown",
   "metadata": {},
   "source": [
    "## Import Real FIPS Data"
   ]
  },
  {
   "cell_type": "code",
   "execution_count": 8,
   "metadata": {},
   "outputs": [
    {
     "data": {
      "text/html": [
       "<div>\n",
       "<style scoped>\n",
       "    .dataframe tbody tr th:only-of-type {\n",
       "        vertical-align: middle;\n",
       "    }\n",
       "\n",
       "    .dataframe tbody tr th {\n",
       "        vertical-align: top;\n",
       "    }\n",
       "\n",
       "    .dataframe thead th {\n",
       "        text-align: right;\n",
       "    }\n",
       "</style>\n",
       "<table border=\"1\" class=\"dataframe\">\n",
       "  <thead>\n",
       "    <tr style=\"text-align: right;\">\n",
       "      <th></th>\n",
       "      <th>GEO_ID</th>\n",
       "      <th>NAME</th>\n",
       "      <th>P1_001N</th>\n",
       "      <th>P1_001NA</th>\n",
       "      <th>P1_002N</th>\n",
       "      <th>P1_002NA</th>\n",
       "      <th>P1_003N</th>\n",
       "      <th>P1_003NA</th>\n",
       "      <th>P1_004N</th>\n",
       "      <th>P1_004NA</th>\n",
       "      <th>...</th>\n",
       "      <th>P1_069N</th>\n",
       "      <th>P1_069NA</th>\n",
       "      <th>P1_070N</th>\n",
       "      <th>P1_070NA</th>\n",
       "      <th>P1_071N</th>\n",
       "      <th>P1_071NA</th>\n",
       "      <th>state</th>\n",
       "      <th>county</th>\n",
       "      <th>tract</th>\n",
       "      <th>block</th>\n",
       "    </tr>\n",
       "  </thead>\n",
       "  <tbody>\n",
       "    <tr>\n",
       "      <th>0</th>\n",
       "      <td>1000000US170010001001000</td>\n",
       "      <td>Block 1000, Block Group 1, Census Tract 1, Ada...</td>\n",
       "      <td>17</td>\n",
       "      <td>NaN</td>\n",
       "      <td>17</td>\n",
       "      <td>NaN</td>\n",
       "      <td>16</td>\n",
       "      <td>NaN</td>\n",
       "      <td>1</td>\n",
       "      <td>NaN</td>\n",
       "      <td>...</td>\n",
       "      <td>0</td>\n",
       "      <td>NaN</td>\n",
       "      <td>0</td>\n",
       "      <td>NaN</td>\n",
       "      <td>0</td>\n",
       "      <td>NaN</td>\n",
       "      <td>17</td>\n",
       "      <td>1</td>\n",
       "      <td>100</td>\n",
       "      <td>1000</td>\n",
       "    </tr>\n",
       "    <tr>\n",
       "      <th>1</th>\n",
       "      <td>1000000US170010001001001</td>\n",
       "      <td>Block 1001, Block Group 1, Census Tract 1, Ada...</td>\n",
       "      <td>2</td>\n",
       "      <td>NaN</td>\n",
       "      <td>2</td>\n",
       "      <td>NaN</td>\n",
       "      <td>1</td>\n",
       "      <td>NaN</td>\n",
       "      <td>0</td>\n",
       "      <td>NaN</td>\n",
       "      <td>...</td>\n",
       "      <td>0</td>\n",
       "      <td>NaN</td>\n",
       "      <td>0</td>\n",
       "      <td>NaN</td>\n",
       "      <td>0</td>\n",
       "      <td>NaN</td>\n",
       "      <td>17</td>\n",
       "      <td>1</td>\n",
       "      <td>100</td>\n",
       "      <td>1001</td>\n",
       "    </tr>\n",
       "    <tr>\n",
       "      <th>2</th>\n",
       "      <td>1000000US170010001001002</td>\n",
       "      <td>Block 1002, Block Group 1, Census Tract 1, Ada...</td>\n",
       "      <td>0</td>\n",
       "      <td>NaN</td>\n",
       "      <td>0</td>\n",
       "      <td>NaN</td>\n",
       "      <td>0</td>\n",
       "      <td>NaN</td>\n",
       "      <td>0</td>\n",
       "      <td>NaN</td>\n",
       "      <td>...</td>\n",
       "      <td>0</td>\n",
       "      <td>NaN</td>\n",
       "      <td>0</td>\n",
       "      <td>NaN</td>\n",
       "      <td>0</td>\n",
       "      <td>NaN</td>\n",
       "      <td>17</td>\n",
       "      <td>1</td>\n",
       "      <td>100</td>\n",
       "      <td>1002</td>\n",
       "    </tr>\n",
       "    <tr>\n",
       "      <th>3</th>\n",
       "      <td>1000000US170010001001003</td>\n",
       "      <td>Block 1003, Block Group 1, Census Tract 1, Ada...</td>\n",
       "      <td>0</td>\n",
       "      <td>NaN</td>\n",
       "      <td>0</td>\n",
       "      <td>NaN</td>\n",
       "      <td>0</td>\n",
       "      <td>NaN</td>\n",
       "      <td>0</td>\n",
       "      <td>NaN</td>\n",
       "      <td>...</td>\n",
       "      <td>0</td>\n",
       "      <td>NaN</td>\n",
       "      <td>0</td>\n",
       "      <td>NaN</td>\n",
       "      <td>0</td>\n",
       "      <td>NaN</td>\n",
       "      <td>17</td>\n",
       "      <td>1</td>\n",
       "      <td>100</td>\n",
       "      <td>1003</td>\n",
       "    </tr>\n",
       "    <tr>\n",
       "      <th>4</th>\n",
       "      <td>1000000US170010001001004</td>\n",
       "      <td>Block 1004, Block Group 1, Census Tract 1, Ada...</td>\n",
       "      <td>0</td>\n",
       "      <td>NaN</td>\n",
       "      <td>0</td>\n",
       "      <td>NaN</td>\n",
       "      <td>0</td>\n",
       "      <td>NaN</td>\n",
       "      <td>0</td>\n",
       "      <td>NaN</td>\n",
       "      <td>...</td>\n",
       "      <td>0</td>\n",
       "      <td>NaN</td>\n",
       "      <td>0</td>\n",
       "      <td>NaN</td>\n",
       "      <td>0</td>\n",
       "      <td>NaN</td>\n",
       "      <td>17</td>\n",
       "      <td>1</td>\n",
       "      <td>100</td>\n",
       "      <td>1004</td>\n",
       "    </tr>\n",
       "    <tr>\n",
       "      <th>...</th>\n",
       "      <td>...</td>\n",
       "      <td>...</td>\n",
       "      <td>...</td>\n",
       "      <td>...</td>\n",
       "      <td>...</td>\n",
       "      <td>...</td>\n",
       "      <td>...</td>\n",
       "      <td>...</td>\n",
       "      <td>...</td>\n",
       "      <td>...</td>\n",
       "      <td>...</td>\n",
       "      <td>...</td>\n",
       "      <td>...</td>\n",
       "      <td>...</td>\n",
       "      <td>...</td>\n",
       "      <td>...</td>\n",
       "      <td>...</td>\n",
       "      <td>...</td>\n",
       "      <td>...</td>\n",
       "      <td>...</td>\n",
       "      <td>...</td>\n",
       "    </tr>\n",
       "    <tr>\n",
       "      <th>369973</th>\n",
       "      <td>1000000US172030307003228</td>\n",
       "      <td>Block 3228, Block Group 3, Census Tract 307, W...</td>\n",
       "      <td>11</td>\n",
       "      <td>NaN</td>\n",
       "      <td>11</td>\n",
       "      <td>NaN</td>\n",
       "      <td>11</td>\n",
       "      <td>NaN</td>\n",
       "      <td>0</td>\n",
       "      <td>NaN</td>\n",
       "      <td>...</td>\n",
       "      <td>0</td>\n",
       "      <td>NaN</td>\n",
       "      <td>0</td>\n",
       "      <td>NaN</td>\n",
       "      <td>0</td>\n",
       "      <td>NaN</td>\n",
       "      <td>17</td>\n",
       "      <td>203</td>\n",
       "      <td>30700</td>\n",
       "      <td>3228</td>\n",
       "    </tr>\n",
       "    <tr>\n",
       "      <th>369974</th>\n",
       "      <td>1000000US172030307003229</td>\n",
       "      <td>Block 3229, Block Group 3, Census Tract 307, W...</td>\n",
       "      <td>0</td>\n",
       "      <td>NaN</td>\n",
       "      <td>0</td>\n",
       "      <td>NaN</td>\n",
       "      <td>0</td>\n",
       "      <td>NaN</td>\n",
       "      <td>0</td>\n",
       "      <td>NaN</td>\n",
       "      <td>...</td>\n",
       "      <td>0</td>\n",
       "      <td>NaN</td>\n",
       "      <td>0</td>\n",
       "      <td>NaN</td>\n",
       "      <td>0</td>\n",
       "      <td>NaN</td>\n",
       "      <td>17</td>\n",
       "      <td>203</td>\n",
       "      <td>30700</td>\n",
       "      <td>3229</td>\n",
       "    </tr>\n",
       "    <tr>\n",
       "      <th>369975</th>\n",
       "      <td>1000000US172030307003230</td>\n",
       "      <td>Block 3230, Block Group 3, Census Tract 307, W...</td>\n",
       "      <td>0</td>\n",
       "      <td>NaN</td>\n",
       "      <td>0</td>\n",
       "      <td>NaN</td>\n",
       "      <td>0</td>\n",
       "      <td>NaN</td>\n",
       "      <td>0</td>\n",
       "      <td>NaN</td>\n",
       "      <td>...</td>\n",
       "      <td>0</td>\n",
       "      <td>NaN</td>\n",
       "      <td>0</td>\n",
       "      <td>NaN</td>\n",
       "      <td>0</td>\n",
       "      <td>NaN</td>\n",
       "      <td>17</td>\n",
       "      <td>203</td>\n",
       "      <td>30700</td>\n",
       "      <td>3230</td>\n",
       "    </tr>\n",
       "    <tr>\n",
       "      <th>369976</th>\n",
       "      <td>1000000US172030307003231</td>\n",
       "      <td>Block 3231, Block Group 3, Census Tract 307, W...</td>\n",
       "      <td>7</td>\n",
       "      <td>NaN</td>\n",
       "      <td>6</td>\n",
       "      <td>NaN</td>\n",
       "      <td>6</td>\n",
       "      <td>NaN</td>\n",
       "      <td>0</td>\n",
       "      <td>NaN</td>\n",
       "      <td>...</td>\n",
       "      <td>0</td>\n",
       "      <td>NaN</td>\n",
       "      <td>0</td>\n",
       "      <td>NaN</td>\n",
       "      <td>0</td>\n",
       "      <td>NaN</td>\n",
       "      <td>17</td>\n",
       "      <td>203</td>\n",
       "      <td>30700</td>\n",
       "      <td>3231</td>\n",
       "    </tr>\n",
       "    <tr>\n",
       "      <th>369977</th>\n",
       "      <td>1000000US172030307003232</td>\n",
       "      <td>Block 3232, Block Group 3, Census Tract 307, W...</td>\n",
       "      <td>0</td>\n",
       "      <td>NaN</td>\n",
       "      <td>0</td>\n",
       "      <td>NaN</td>\n",
       "      <td>0</td>\n",
       "      <td>NaN</td>\n",
       "      <td>0</td>\n",
       "      <td>NaN</td>\n",
       "      <td>...</td>\n",
       "      <td>0</td>\n",
       "      <td>NaN</td>\n",
       "      <td>0</td>\n",
       "      <td>NaN</td>\n",
       "      <td>0</td>\n",
       "      <td>NaN</td>\n",
       "      <td>17</td>\n",
       "      <td>203</td>\n",
       "      <td>30700</td>\n",
       "      <td>3232</td>\n",
       "    </tr>\n",
       "  </tbody>\n",
       "</table>\n",
       "<p>369978 rows × 148 columns</p>\n",
       "</div>"
      ],
      "text/plain": [
       "                          GEO_ID  \\\n",
       "0       1000000US170010001001000   \n",
       "1       1000000US170010001001001   \n",
       "2       1000000US170010001001002   \n",
       "3       1000000US170010001001003   \n",
       "4       1000000US170010001001004   \n",
       "...                          ...   \n",
       "369973  1000000US172030307003228   \n",
       "369974  1000000US172030307003229   \n",
       "369975  1000000US172030307003230   \n",
       "369976  1000000US172030307003231   \n",
       "369977  1000000US172030307003232   \n",
       "\n",
       "                                                     NAME  P1_001N  P1_001NA  \\\n",
       "0       Block 1000, Block Group 1, Census Tract 1, Ada...       17       NaN   \n",
       "1       Block 1001, Block Group 1, Census Tract 1, Ada...        2       NaN   \n",
       "2       Block 1002, Block Group 1, Census Tract 1, Ada...        0       NaN   \n",
       "3       Block 1003, Block Group 1, Census Tract 1, Ada...        0       NaN   \n",
       "4       Block 1004, Block Group 1, Census Tract 1, Ada...        0       NaN   \n",
       "...                                                   ...      ...       ...   \n",
       "369973  Block 3228, Block Group 3, Census Tract 307, W...       11       NaN   \n",
       "369974  Block 3229, Block Group 3, Census Tract 307, W...        0       NaN   \n",
       "369975  Block 3230, Block Group 3, Census Tract 307, W...        0       NaN   \n",
       "369976  Block 3231, Block Group 3, Census Tract 307, W...        7       NaN   \n",
       "369977  Block 3232, Block Group 3, Census Tract 307, W...        0       NaN   \n",
       "\n",
       "        P1_002N  P1_002NA  P1_003N  P1_003NA  P1_004N  P1_004NA  ...  P1_069N  \\\n",
       "0            17       NaN       16       NaN        1       NaN  ...        0   \n",
       "1             2       NaN        1       NaN        0       NaN  ...        0   \n",
       "2             0       NaN        0       NaN        0       NaN  ...        0   \n",
       "3             0       NaN        0       NaN        0       NaN  ...        0   \n",
       "4             0       NaN        0       NaN        0       NaN  ...        0   \n",
       "...         ...       ...      ...       ...      ...       ...  ...      ...   \n",
       "369973       11       NaN       11       NaN        0       NaN  ...        0   \n",
       "369974        0       NaN        0       NaN        0       NaN  ...        0   \n",
       "369975        0       NaN        0       NaN        0       NaN  ...        0   \n",
       "369976        6       NaN        6       NaN        0       NaN  ...        0   \n",
       "369977        0       NaN        0       NaN        0       NaN  ...        0   \n",
       "\n",
       "        P1_069NA  P1_070N  P1_070NA  P1_071N  P1_071NA  state  county  tract  \\\n",
       "0            NaN        0       NaN        0       NaN     17       1    100   \n",
       "1            NaN        0       NaN        0       NaN     17       1    100   \n",
       "2            NaN        0       NaN        0       NaN     17       1    100   \n",
       "3            NaN        0       NaN        0       NaN     17       1    100   \n",
       "4            NaN        0       NaN        0       NaN     17       1    100   \n",
       "...          ...      ...       ...      ...       ...    ...     ...    ...   \n",
       "369973       NaN        0       NaN        0       NaN     17     203  30700   \n",
       "369974       NaN        0       NaN        0       NaN     17     203  30700   \n",
       "369975       NaN        0       NaN        0       NaN     17     203  30700   \n",
       "369976       NaN        0       NaN        0       NaN     17     203  30700   \n",
       "369977       NaN        0       NaN        0       NaN     17     203  30700   \n",
       "\n",
       "        block  \n",
       "0        1000  \n",
       "1        1001  \n",
       "2        1002  \n",
       "3        1003  \n",
       "4        1004  \n",
       "...       ...  \n",
       "369973   3228  \n",
       "369974   3229  \n",
       "369975   3230  \n",
       "369976   3231  \n",
       "369977   3232  \n",
       "\n",
       "[369978 rows x 148 columns]"
      ]
     },
     "execution_count": 8,
     "metadata": {},
     "output_type": "execute_result"
    }
   ],
   "source": [
    "from state import StateByBlockGroup\n",
    "StateIL = StateByBlockGroup(\"17\")\n",
    "StateIL.decennialData"
   ]
  },
  {
   "cell_type": "code",
   "execution_count": 9,
   "metadata": {},
   "outputs": [],
   "source": [
    "def processRealDataset(datasetdf):\n",
    "    datasetdf[\"FIPS\"] = datasetdf[\"GEO_ID\"].map(lambda x: x[-15:])\n",
    "    return datasetdf[[\"FIPS\",\n",
    "                'P1_003N', 'P1_004N', 'P1_005N', 'P1_006N', 'P1_007N',\n",
    "                'P1_008N', 'P1_011N', 'P1_012N', 'P1_013N', 'P1_014N',\n",
    "                'P1_015N', 'P1_016N', 'P1_017N', 'P1_018N', 'P1_019N',\n",
    "                'P1_020N', 'P1_021N', 'P1_022N', 'P1_023N', 'P1_024N',\n",
    "                'P1_025N', 'P1_027N', 'P1_028N', 'P1_029N', 'P1_030N',\n",
    "                'P1_031N', 'P1_032N', 'P1_033N', 'P1_034N', 'P1_035N',\n",
    "                'P1_036N', 'P1_037N', 'P1_038N', 'P1_039N', 'P1_040N',\n",
    "                'P1_041N', 'P1_042N', 'P1_043N', 'P1_044N', 'P1_045N',\n",
    "                'P1_046N', 'P1_048N', 'P1_049N', 'P1_050N', 'P1_051N',\n",
    "                'P1_052N', 'P1_053N', 'P1_054N', 'P1_055N', 'P1_056N',\n",
    "                'P1_057N', 'P1_058N', 'P1_059N', 'P1_060N', 'P1_061N',\n",
    "                'P1_062N', 'P1_063N', 'P1_064N', 'P1_065N', 'P1_066N',\n",
    "                'P1_067N', 'P1_068N', 'P1_069N', 'P1_071N'\n",
    "            ]]"
   ]
  },
  {
   "cell_type": "code",
   "execution_count": 10,
   "metadata": {},
   "outputs": [
    {
     "data": {
      "text/html": [
       "<div>\n",
       "<style scoped>\n",
       "    .dataframe tbody tr th:only-of-type {\n",
       "        vertical-align: middle;\n",
       "    }\n",
       "\n",
       "    .dataframe tbody tr th {\n",
       "        vertical-align: top;\n",
       "    }\n",
       "\n",
       "    .dataframe thead th {\n",
       "        text-align: right;\n",
       "    }\n",
       "</style>\n",
       "<table border=\"1\" class=\"dataframe\">\n",
       "  <thead>\n",
       "    <tr style=\"text-align: right;\">\n",
       "      <th></th>\n",
       "      <th>FIPS</th>\n",
       "      <th>P1_003N</th>\n",
       "      <th>P1_004N</th>\n",
       "      <th>P1_005N</th>\n",
       "      <th>P1_006N</th>\n",
       "      <th>P1_007N</th>\n",
       "      <th>P1_008N</th>\n",
       "      <th>P1_011N</th>\n",
       "      <th>P1_012N</th>\n",
       "      <th>P1_013N</th>\n",
       "      <th>...</th>\n",
       "      <th>P1_061N</th>\n",
       "      <th>P1_062N</th>\n",
       "      <th>P1_063N</th>\n",
       "      <th>P1_064N</th>\n",
       "      <th>P1_065N</th>\n",
       "      <th>P1_066N</th>\n",
       "      <th>P1_067N</th>\n",
       "      <th>P1_068N</th>\n",
       "      <th>P1_069N</th>\n",
       "      <th>P1_071N</th>\n",
       "    </tr>\n",
       "  </thead>\n",
       "  <tbody>\n",
       "    <tr>\n",
       "      <th>0</th>\n",
       "      <td>170010001001000</td>\n",
       "      <td>16</td>\n",
       "      <td>1</td>\n",
       "      <td>0</td>\n",
       "      <td>0</td>\n",
       "      <td>0</td>\n",
       "      <td>0</td>\n",
       "      <td>0</td>\n",
       "      <td>0</td>\n",
       "      <td>0</td>\n",
       "      <td>...</td>\n",
       "      <td>0</td>\n",
       "      <td>0</td>\n",
       "      <td>0</td>\n",
       "      <td>0</td>\n",
       "      <td>0</td>\n",
       "      <td>0</td>\n",
       "      <td>0</td>\n",
       "      <td>0</td>\n",
       "      <td>0</td>\n",
       "      <td>0</td>\n",
       "    </tr>\n",
       "    <tr>\n",
       "      <th>1</th>\n",
       "      <td>170010001001001</td>\n",
       "      <td>1</td>\n",
       "      <td>0</td>\n",
       "      <td>0</td>\n",
       "      <td>0</td>\n",
       "      <td>0</td>\n",
       "      <td>1</td>\n",
       "      <td>0</td>\n",
       "      <td>0</td>\n",
       "      <td>0</td>\n",
       "      <td>...</td>\n",
       "      <td>0</td>\n",
       "      <td>0</td>\n",
       "      <td>0</td>\n",
       "      <td>0</td>\n",
       "      <td>0</td>\n",
       "      <td>0</td>\n",
       "      <td>0</td>\n",
       "      <td>0</td>\n",
       "      <td>0</td>\n",
       "      <td>0</td>\n",
       "    </tr>\n",
       "    <tr>\n",
       "      <th>2</th>\n",
       "      <td>170010001001002</td>\n",
       "      <td>0</td>\n",
       "      <td>0</td>\n",
       "      <td>0</td>\n",
       "      <td>0</td>\n",
       "      <td>0</td>\n",
       "      <td>0</td>\n",
       "      <td>0</td>\n",
       "      <td>0</td>\n",
       "      <td>0</td>\n",
       "      <td>...</td>\n",
       "      <td>0</td>\n",
       "      <td>0</td>\n",
       "      <td>0</td>\n",
       "      <td>0</td>\n",
       "      <td>0</td>\n",
       "      <td>0</td>\n",
       "      <td>0</td>\n",
       "      <td>0</td>\n",
       "      <td>0</td>\n",
       "      <td>0</td>\n",
       "    </tr>\n",
       "    <tr>\n",
       "      <th>3</th>\n",
       "      <td>170010001001003</td>\n",
       "      <td>0</td>\n",
       "      <td>0</td>\n",
       "      <td>0</td>\n",
       "      <td>0</td>\n",
       "      <td>0</td>\n",
       "      <td>0</td>\n",
       "      <td>0</td>\n",
       "      <td>0</td>\n",
       "      <td>0</td>\n",
       "      <td>...</td>\n",
       "      <td>0</td>\n",
       "      <td>0</td>\n",
       "      <td>0</td>\n",
       "      <td>0</td>\n",
       "      <td>0</td>\n",
       "      <td>0</td>\n",
       "      <td>0</td>\n",
       "      <td>0</td>\n",
       "      <td>0</td>\n",
       "      <td>0</td>\n",
       "    </tr>\n",
       "    <tr>\n",
       "      <th>4</th>\n",
       "      <td>170010001001004</td>\n",
       "      <td>0</td>\n",
       "      <td>0</td>\n",
       "      <td>0</td>\n",
       "      <td>0</td>\n",
       "      <td>0</td>\n",
       "      <td>0</td>\n",
       "      <td>0</td>\n",
       "      <td>0</td>\n",
       "      <td>0</td>\n",
       "      <td>...</td>\n",
       "      <td>0</td>\n",
       "      <td>0</td>\n",
       "      <td>0</td>\n",
       "      <td>0</td>\n",
       "      <td>0</td>\n",
       "      <td>0</td>\n",
       "      <td>0</td>\n",
       "      <td>0</td>\n",
       "      <td>0</td>\n",
       "      <td>0</td>\n",
       "    </tr>\n",
       "    <tr>\n",
       "      <th>...</th>\n",
       "      <td>...</td>\n",
       "      <td>...</td>\n",
       "      <td>...</td>\n",
       "      <td>...</td>\n",
       "      <td>...</td>\n",
       "      <td>...</td>\n",
       "      <td>...</td>\n",
       "      <td>...</td>\n",
       "      <td>...</td>\n",
       "      <td>...</td>\n",
       "      <td>...</td>\n",
       "      <td>...</td>\n",
       "      <td>...</td>\n",
       "      <td>...</td>\n",
       "      <td>...</td>\n",
       "      <td>...</td>\n",
       "      <td>...</td>\n",
       "      <td>...</td>\n",
       "      <td>...</td>\n",
       "      <td>...</td>\n",
       "      <td>...</td>\n",
       "    </tr>\n",
       "    <tr>\n",
       "      <th>369973</th>\n",
       "      <td>172030307003228</td>\n",
       "      <td>11</td>\n",
       "      <td>0</td>\n",
       "      <td>0</td>\n",
       "      <td>0</td>\n",
       "      <td>0</td>\n",
       "      <td>0</td>\n",
       "      <td>0</td>\n",
       "      <td>0</td>\n",
       "      <td>0</td>\n",
       "      <td>...</td>\n",
       "      <td>0</td>\n",
       "      <td>0</td>\n",
       "      <td>0</td>\n",
       "      <td>0</td>\n",
       "      <td>0</td>\n",
       "      <td>0</td>\n",
       "      <td>0</td>\n",
       "      <td>0</td>\n",
       "      <td>0</td>\n",
       "      <td>0</td>\n",
       "    </tr>\n",
       "    <tr>\n",
       "      <th>369974</th>\n",
       "      <td>172030307003229</td>\n",
       "      <td>0</td>\n",
       "      <td>0</td>\n",
       "      <td>0</td>\n",
       "      <td>0</td>\n",
       "      <td>0</td>\n",
       "      <td>0</td>\n",
       "      <td>0</td>\n",
       "      <td>0</td>\n",
       "      <td>0</td>\n",
       "      <td>...</td>\n",
       "      <td>0</td>\n",
       "      <td>0</td>\n",
       "      <td>0</td>\n",
       "      <td>0</td>\n",
       "      <td>0</td>\n",
       "      <td>0</td>\n",
       "      <td>0</td>\n",
       "      <td>0</td>\n",
       "      <td>0</td>\n",
       "      <td>0</td>\n",
       "    </tr>\n",
       "    <tr>\n",
       "      <th>369975</th>\n",
       "      <td>172030307003230</td>\n",
       "      <td>0</td>\n",
       "      <td>0</td>\n",
       "      <td>0</td>\n",
       "      <td>0</td>\n",
       "      <td>0</td>\n",
       "      <td>0</td>\n",
       "      <td>0</td>\n",
       "      <td>0</td>\n",
       "      <td>0</td>\n",
       "      <td>...</td>\n",
       "      <td>0</td>\n",
       "      <td>0</td>\n",
       "      <td>0</td>\n",
       "      <td>0</td>\n",
       "      <td>0</td>\n",
       "      <td>0</td>\n",
       "      <td>0</td>\n",
       "      <td>0</td>\n",
       "      <td>0</td>\n",
       "      <td>0</td>\n",
       "    </tr>\n",
       "    <tr>\n",
       "      <th>369976</th>\n",
       "      <td>172030307003231</td>\n",
       "      <td>6</td>\n",
       "      <td>0</td>\n",
       "      <td>0</td>\n",
       "      <td>0</td>\n",
       "      <td>0</td>\n",
       "      <td>0</td>\n",
       "      <td>0</td>\n",
       "      <td>0</td>\n",
       "      <td>0</td>\n",
       "      <td>...</td>\n",
       "      <td>0</td>\n",
       "      <td>0</td>\n",
       "      <td>0</td>\n",
       "      <td>0</td>\n",
       "      <td>0</td>\n",
       "      <td>0</td>\n",
       "      <td>0</td>\n",
       "      <td>0</td>\n",
       "      <td>0</td>\n",
       "      <td>0</td>\n",
       "    </tr>\n",
       "    <tr>\n",
       "      <th>369977</th>\n",
       "      <td>172030307003232</td>\n",
       "      <td>0</td>\n",
       "      <td>0</td>\n",
       "      <td>0</td>\n",
       "      <td>0</td>\n",
       "      <td>0</td>\n",
       "      <td>0</td>\n",
       "      <td>0</td>\n",
       "      <td>0</td>\n",
       "      <td>0</td>\n",
       "      <td>...</td>\n",
       "      <td>0</td>\n",
       "      <td>0</td>\n",
       "      <td>0</td>\n",
       "      <td>0</td>\n",
       "      <td>0</td>\n",
       "      <td>0</td>\n",
       "      <td>0</td>\n",
       "      <td>0</td>\n",
       "      <td>0</td>\n",
       "      <td>0</td>\n",
       "    </tr>\n",
       "  </tbody>\n",
       "</table>\n",
       "<p>369978 rows × 65 columns</p>\n",
       "</div>"
      ],
      "text/plain": [
       "                   FIPS  P1_003N  P1_004N  P1_005N  P1_006N  P1_007N  P1_008N  \\\n",
       "0       170010001001000       16        1        0        0        0        0   \n",
       "1       170010001001001        1        0        0        0        0        1   \n",
       "2       170010001001002        0        0        0        0        0        0   \n",
       "3       170010001001003        0        0        0        0        0        0   \n",
       "4       170010001001004        0        0        0        0        0        0   \n",
       "...                 ...      ...      ...      ...      ...      ...      ...   \n",
       "369973  172030307003228       11        0        0        0        0        0   \n",
       "369974  172030307003229        0        0        0        0        0        0   \n",
       "369975  172030307003230        0        0        0        0        0        0   \n",
       "369976  172030307003231        6        0        0        0        0        0   \n",
       "369977  172030307003232        0        0        0        0        0        0   \n",
       "\n",
       "        P1_011N  P1_012N  P1_013N  ...  P1_061N  P1_062N  P1_063N  P1_064N  \\\n",
       "0             0        0        0  ...        0        0        0        0   \n",
       "1             0        0        0  ...        0        0        0        0   \n",
       "2             0        0        0  ...        0        0        0        0   \n",
       "3             0        0        0  ...        0        0        0        0   \n",
       "4             0        0        0  ...        0        0        0        0   \n",
       "...         ...      ...      ...  ...      ...      ...      ...      ...   \n",
       "369973        0        0        0  ...        0        0        0        0   \n",
       "369974        0        0        0  ...        0        0        0        0   \n",
       "369975        0        0        0  ...        0        0        0        0   \n",
       "369976        0        0        0  ...        0        0        0        0   \n",
       "369977        0        0        0  ...        0        0        0        0   \n",
       "\n",
       "        P1_065N  P1_066N  P1_067N  P1_068N  P1_069N  P1_071N  \n",
       "0             0        0        0        0        0        0  \n",
       "1             0        0        0        0        0        0  \n",
       "2             0        0        0        0        0        0  \n",
       "3             0        0        0        0        0        0  \n",
       "4             0        0        0        0        0        0  \n",
       "...         ...      ...      ...      ...      ...      ...  \n",
       "369973        0        0        0        0        0        0  \n",
       "369974        0        0        0        0        0        0  \n",
       "369975        0        0        0        0        0        0  \n",
       "369976        0        0        0        0        0        0  \n",
       "369977        0        0        0        0        0        0  \n",
       "\n",
       "[369978 rows x 65 columns]"
      ]
     },
     "execution_count": 10,
     "metadata": {},
     "output_type": "execute_result"
    }
   ],
   "source": [
    "processedRealILDataset = processRealDataset(StateIL.decennialData)\n",
    "processedRealILDataset"
   ]
  },
  {
   "cell_type": "markdown",
   "metadata": {},
   "source": [
    "# Comparing the two datasets distributions"
   ]
  },
  {
   "cell_type": "markdown",
   "metadata": {},
   "source": [
    "## By Races"
   ]
  },
  {
   "cell_type": "code",
   "execution_count": 11,
   "metadata": {},
   "outputs": [
    {
     "data": {
      "text/plain": [
       "race\n",
       "P1_003N    3070882\n",
       "P1_004N     705193\n",
       "P1_005N      38080\n",
       "P1_006N     294728\n",
       "P1_007N       1725\n",
       "            ...   \n",
       "P1_066N         15\n",
       "P1_067N          7\n",
       "P1_068N          3\n",
       "P1_069N          3\n",
       "P1_071N         37\n",
       "Name: FIPS, Length: 64, dtype: int64"
      ]
     },
     "execution_count": 11,
     "metadata": {},
     "output_type": "execute_result"
    }
   ],
   "source": [
    "popByRaceSynthesis = ILdataset.groupby(by = [\"race\"]).FIPS.count()\n",
    "popByRaceSynthesis"
   ]
  },
  {
   "cell_type": "code",
   "execution_count": 12,
   "metadata": {},
   "outputs": [
    {
     "data": {
      "text/plain": [
       "P1_003N    7868227\n",
       "P1_004N    1808271\n",
       "P1_005N      96498\n",
       "P1_006N     754878\n",
       "P1_007N       4501\n",
       "            ...   \n",
       "P1_066N         35\n",
       "P1_067N         14\n",
       "P1_068N          4\n",
       "P1_069N         15\n",
       "P1_071N         84\n",
       "Length: 64, dtype: int64"
      ]
     },
     "execution_count": 12,
     "metadata": {},
     "output_type": "execute_result"
    }
   ],
   "source": [
    "popByRaceReal = processedRealILDataset.drop(['FIPS'], axis=1).sum(axis = 0)\n",
    "popByRaceReal"
   ]
  },
  {
   "cell_type": "markdown",
   "metadata": {},
   "source": [
    "### Plot samples"
   ]
  },
  {
   "cell_type": "code",
   "execution_count": 13,
   "metadata": {},
   "outputs": [],
   "source": [
    "popByRaceSynthesis /= popByRaceSynthesis.sum()\n",
    "popByRaceReal /= popByRaceReal.sum()"
   ]
  },
  {
   "cell_type": "code",
   "execution_count": 14,
   "metadata": {},
   "outputs": [
    {
     "data": {
      "image/png": "[encoded data removed]",
      "text/plain": [
       "<Figure size 1600x640 with 1 Axes>"
      ]
     },
     "metadata": {
      "needs_background": "light"
     },
     "output_type": "display_data"
    }
   ],
   "source": [
    "plt.figure(figsize=(20, 8), dpi=80)\n",
    "popByRaceSynthesis.plot.bar(x='Race', y='Population', rot=0)\n",
    "plt.title(\"Number of people by races in Illinois of synthetic dataset\")\n",
    "ax = plt.gca()\n",
    "for tick in ax.get_xticklabels():\n",
    "    tick.set_rotation(45)\n",
    "plt.show()"
   ]
  },
  {
   "cell_type": "code",
   "execution_count": 15,
   "metadata": {},
   "outputs": [
    {
     "data": {
      "image/png": "[encoded data removed]",
      "text/plain": [
       "<Figure size 1600x640 with 1 Axes>"
      ]
     },
     "metadata": {
      "needs_background": "light"
     },
     "output_type": "display_data"
    }
   ],
   "source": [
    "plt.figure(figsize=(20, 8), dpi=80)\n",
    "popByRaceReal.plot.bar(x='Race', y='Population', rot=0)\n",
    "plt.title(\"Number of people by races in Illinois of real dataset\")\n",
    "ax = plt.gca()\n",
    "for tick in ax.get_xticklabels():\n",
    "    tick.set_rotation(45)\n",
    "plt.show()"
   ]
  },
  {
   "cell_type": "markdown",
   "metadata": {},
   "source": [
    "### Compare sample mean and standard deviation"
   ]
  },
  {
   "cell_type": "code",
   "execution_count": 16,
   "metadata": {},
   "outputs": [
    {
     "name": "stdout",
     "output_type": "stream",
     "text": [
      "Mean of synthetic dataset 0.015624999999999998\n",
      "Standard deviation of synthetic dataset 0.07928431146206648\n"
     ]
    }
   ],
   "source": [
    "print(\"Mean of synthetic dataset\", popByRaceSynthesis.mean())\n",
    "print(\"Standard deviation of synthetic dataset\", popByRaceSynthesis.std())"
   ]
  },
  {
   "cell_type": "code",
   "execution_count": 17,
   "metadata": {},
   "outputs": [
    {
     "name": "stdout",
     "output_type": "stream",
     "text": [
      "Mean of real dataset 0.015625\n",
      "Standard deviation of real dataset 0.07927505077520923\n"
     ]
    }
   ],
   "source": [
    "print(\"Mean of real dataset\", popByRaceReal.mean())\n",
    "print(\"Standard deviation of real dataset\", popByRaceReal.std())"
   ]
  },
  {
   "cell_type": "markdown",
   "metadata": {},
   "source": [
    "### Compare distribution by two sample t-test"
   ]
  },
  {
   "cell_type": "markdown",
   "metadata": {},
   "source": [
    "$H_0: \\mu_1 = \\mu_2$ (population mean of synthetic dataset is equal to real dataset)\n",
    "\n",
    "$H_1: \\mu_1 \\neq \\mu_2$ (population mean of synthetic dataset is different from real dataset)"
   ]
  },
  {
   "cell_type": "code",
   "execution_count": 18,
   "metadata": {},
   "outputs": [
    {
     "data": {
      "text/plain": [
       "Ttest_indResult(statistic=0.0, pvalue=1.0)"
      ]
     },
     "execution_count": 18,
     "metadata": {},
     "output_type": "execute_result"
    }
   ],
   "source": [
    "# Perform the two sample t-test with equal variances\n",
    "stats.ttest_ind(a=popByRaceSynthesis, b=popByRaceReal, equal_var=True)"
   ]
  },
  {
   "cell_type": "markdown",
   "metadata": {},
   "source": [
    "Due to p value = 0.9999535792552408 >> 0.05. Therefore, there is no evidence to support population mean of synthetic dataset is different from real dataset."
   ]
  },
  {
   "cell_type": "markdown",
   "metadata": {},
   "source": [
    "### Test for Homogeneity"
   ]
  },
  {
   "cell_type": "markdown",
   "metadata": {},
   "source": [
    "$H_0$: The distributions of the two populations are the same.\n",
    "\n",
    "$H_1$: The distributions of the two populations are not the same.\n"
   ]
  },
  {
   "cell_type": "code",
   "execution_count": 19,
   "metadata": {},
   "outputs": [
    {
     "data": {
      "text/html": [
       "<div>\n",
       "<style scoped>\n",
       "    .dataframe tbody tr th:only-of-type {\n",
       "        vertical-align: middle;\n",
       "    }\n",
       "\n",
       "    .dataframe tbody tr th {\n",
       "        vertical-align: top;\n",
       "    }\n",
       "\n",
       "    .dataframe thead th {\n",
       "        text-align: right;\n",
       "    }\n",
       "</style>\n",
       "<table border=\"1\" class=\"dataframe\">\n",
       "  <thead>\n",
       "    <tr style=\"text-align: right;\">\n",
       "      <th></th>\n",
       "      <th>Synthesis</th>\n",
       "      <th>Real</th>\n",
       "    </tr>\n",
       "    <tr>\n",
       "      <th>race</th>\n",
       "      <th></th>\n",
       "      <th></th>\n",
       "    </tr>\n",
       "  </thead>\n",
       "  <tbody>\n",
       "    <tr>\n",
       "      <th>P1_003N</th>\n",
       "      <td>6.141764e-01</td>\n",
       "      <td>6.140730e-01</td>\n",
       "    </tr>\n",
       "    <tr>\n",
       "      <th>P1_004N</th>\n",
       "      <td>1.410386e-01</td>\n",
       "      <td>1.411259e-01</td>\n",
       "    </tr>\n",
       "    <tr>\n",
       "      <th>P1_005N</th>\n",
       "      <td>7.616000e-03</td>\n",
       "      <td>7.531153e-03</td>\n",
       "    </tr>\n",
       "    <tr>\n",
       "      <th>P1_006N</th>\n",
       "      <td>5.894560e-02</td>\n",
       "      <td>5.891419e-02</td>\n",
       "    </tr>\n",
       "    <tr>\n",
       "      <th>P1_007N</th>\n",
       "      <td>3.450000e-04</td>\n",
       "      <td>3.512790e-04</td>\n",
       "    </tr>\n",
       "    <tr>\n",
       "      <th>...</th>\n",
       "      <td>...</td>\n",
       "      <td>...</td>\n",
       "    </tr>\n",
       "    <tr>\n",
       "      <th>P1_066N</th>\n",
       "      <td>3.000000e-06</td>\n",
       "      <td>2.731563e-06</td>\n",
       "    </tr>\n",
       "    <tr>\n",
       "      <th>P1_067N</th>\n",
       "      <td>1.400000e-06</td>\n",
       "      <td>1.092625e-06</td>\n",
       "    </tr>\n",
       "    <tr>\n",
       "      <th>P1_068N</th>\n",
       "      <td>6.000000e-07</td>\n",
       "      <td>3.121786e-07</td>\n",
       "    </tr>\n",
       "    <tr>\n",
       "      <th>P1_069N</th>\n",
       "      <td>6.000000e-07</td>\n",
       "      <td>1.170670e-06</td>\n",
       "    </tr>\n",
       "    <tr>\n",
       "      <th>P1_071N</th>\n",
       "      <td>7.400000e-06</td>\n",
       "      <td>6.555751e-06</td>\n",
       "    </tr>\n",
       "  </tbody>\n",
       "</table>\n",
       "<p>64 rows × 2 columns</p>\n",
       "</div>"
      ],
      "text/plain": [
       "            Synthesis          Real\n",
       "race                               \n",
       "P1_003N  6.141764e-01  6.140730e-01\n",
       "P1_004N  1.410386e-01  1.411259e-01\n",
       "P1_005N  7.616000e-03  7.531153e-03\n",
       "P1_006N  5.894560e-02  5.891419e-02\n",
       "P1_007N  3.450000e-04  3.512790e-04\n",
       "...               ...           ...\n",
       "P1_066N  3.000000e-06  2.731563e-06\n",
       "P1_067N  1.400000e-06  1.092625e-06\n",
       "P1_068N  6.000000e-07  3.121786e-07\n",
       "P1_069N  6.000000e-07  1.170670e-06\n",
       "P1_071N  7.400000e-06  6.555751e-06\n",
       "\n",
       "[64 rows x 2 columns]"
      ]
     },
     "execution_count": 19,
     "metadata": {},
     "output_type": "execute_result"
    }
   ],
   "source": [
    "popByRaceReal.name = \"Real\"\n",
    "popByRaceSynthesis.name = \"Synthesis\"\n",
    "mergeddf = pd.merge(popByRaceSynthesis, popByRaceReal, right_index = True,\n",
    "               left_index = True)\n",
    "\n",
    "mergeddf"
   ]
  },
  {
   "cell_type": "code",
   "execution_count": 20,
   "metadata": {},
   "outputs": [
    {
     "data": {
      "text/plain": [
       "1.0"
      ]
     },
     "execution_count": 20,
     "metadata": {},
     "output_type": "execute_result"
    }
   ],
   "source": [
    "stat, p, dof, expected = stats.chi2_contingency(mergeddf)\n",
    "p"
   ]
  },
  {
   "cell_type": "code",
   "execution_count": 21,
   "metadata": {},
   "outputs": [
    {
     "name": "stdout",
     "output_type": "stream",
     "text": [
      "Independent (fail to reject H0)\n"
     ]
    }
   ],
   "source": [
    "# interpret test-statistic\n",
    "prob = 0.95\n",
    "critical = stats.chi2.ppf(prob, dof)\n",
    "if abs(stat) >= critical:\n",
    "    print('Dependent (reject H0)')\n",
    "else:\n",
    "    print('Independent (fail to reject H0)')"
   ]
  },
  {
   "cell_type": "markdown",
   "metadata": {},
   "source": [
    "Due to p value = 0.9908510047877276 >> 0.05. Therefore, there is no evidence to support population mean of synthetic dataset is different from real dataset."
   ]
  },
  {
   "cell_type": "markdown",
   "metadata": {},
   "source": [
    "### K-S test"
   ]
  },
  {
   "cell_type": "markdown",
   "metadata": {},
   "source": [
    "$H_0: $ The two datasets come from the same ditribution \n",
    "\n",
    "$H_1: $ The two datasets NOT come from the same ditribution \n"
   ]
  },
  {
   "cell_type": "code",
   "execution_count": 22,
   "metadata": {},
   "outputs": [
    {
     "data": {
      "text/plain": [
       "KstestResult(statistic=0.0625, pvalue=0.9997180010908584)"
      ]
     },
     "execution_count": 22,
     "metadata": {},
     "output_type": "execute_result"
    }
   ],
   "source": [
    "stats.ks_2samp(popByRaceSynthesis, popByRaceReal)"
   ]
  },
  {
   "cell_type": "markdown",
   "metadata": {},
   "source": [
    "Due to p value = 0.9999999044253438 >> 0.05. Therefore, there is no evidence to support the distributions of the two populations are not the same."
   ]
  },
  {
   "cell_type": "markdown",
   "metadata": {},
   "source": [
    "## By FIPS"
   ]
  },
  {
   "cell_type": "code",
   "execution_count": 23,
   "metadata": {},
   "outputs": [
    {
     "data": {
      "text/plain": [
       "FIPS\n",
       "170010001001000     5\n",
       "170010001001001     1\n",
       "170010001001007    21\n",
       "170010001001008    79\n",
       "170010001001009     6\n",
       "                   ..\n",
       "172030307003217     1\n",
       "172030307003223     2\n",
       "172030307003226     3\n",
       "172030307003228     5\n",
       "172030307003231     1\n",
       "Name: FIPS, Length: 264121, dtype: int64"
      ]
     },
     "execution_count": 23,
     "metadata": {},
     "output_type": "execute_result"
    }
   ],
   "source": [
    "popByFIPSSynthesis = ILdataset.groupby(by = [\"FIPS\"]).FIPS.count()\n",
    "popByFIPSSynthesis = popByFIPSSynthesis.rename(lambda x: str(x))\n",
    "popByFIPSSynthesis"
   ]
  },
  {
   "cell_type": "code",
   "execution_count": 24,
   "metadata": {},
   "outputs": [
    {
     "data": {
      "text/plain": [
       "170010001001000    17\n",
       "170010001001001     2\n",
       "170010001001002     0\n",
       "170010001001003     0\n",
       "170010001001004     0\n",
       "                   ..\n",
       "172030307003228    11\n",
       "172030307003229     0\n",
       "172030307003230     0\n",
       "172030307003231     7\n",
       "172030307003232     0\n",
       "Length: 369978, dtype: int64"
      ]
     },
     "execution_count": 24,
     "metadata": {},
     "output_type": "execute_result"
    }
   ],
   "source": [
    "popByFIPSReal = processedRealILDataset.drop(['FIPS'], axis=1).sum(axis = 1)\n",
    "popByFIPSReal = popByFIPSReal.rename(processedRealILDataset['FIPS'])\n",
    "popByFIPSReal"
   ]
  },
  {
   "cell_type": "code",
   "execution_count": 25,
   "metadata": {},
   "outputs": [],
   "source": [
    "popByFIPSSynthesis /= popByFIPSSynthesis.sum()\n",
    "popByFIPSReal /= popByFIPSReal.sum()"
   ]
  },
  {
   "cell_type": "markdown",
   "metadata": {},
   "source": [
    "### Plot samples"
   ]
  },
  {
   "cell_type": "code",
   "execution_count": 26,
   "metadata": {},
   "outputs": [
    {
     "data": {
      "image/png": "[encoded data removed]",
      "text/plain": [
       "<Figure size 1600x640 with 1 Axes>"
      ]
     },
     "metadata": {
      "needs_background": "light"
     },
     "output_type": "display_data"
    }
   ],
   "source": [
    "plt.figure(figsize=(20, 8), dpi=80)\n",
    "popByFIPSSynthesis.plot(x='FIPS', y='Population', rot=0)\n",
    "plt.title(\"Number of people by races in Illinois of synthetic dataset\")\n",
    "ax = plt.gca()\n",
    "for tick in ax.get_xticklabels():\n",
    "    tick.set_rotation(45)\n",
    "plt.show()"
   ]
  },
  {
   "cell_type": "code",
   "execution_count": 27,
   "metadata": {},
   "outputs": [
    {
     "data": {
      "image/png": "[encoded data removed]",
      "text/plain": [
       "<Figure size 1600x640 with 1 Axes>"
      ]
     },
     "metadata": {
      "needs_background": "light"
     },
     "output_type": "display_data"
    }
   ],
   "source": [
    "plt.figure(figsize=(20, 8), dpi=80)\n",
    "popByFIPSReal.plot(x='Race', y='Population', rot=0)\n",
    "plt.title(\"Number of people by races in Illinois of real dataset\")\n",
    "ax = plt.gca()\n",
    "for tick in ax.get_xticklabels():\n",
    "    tick.set_rotation(45)\n",
    "plt.show()"
   ]
  },
  {
   "cell_type": "markdown",
   "metadata": {},
   "source": [
    "### Test for Homogeneity"
   ]
  },
  {
   "cell_type": "markdown",
   "metadata": {},
   "source": [
    "$H_0$: The distributions of the two populations are the same.\n",
    "\n",
    "$H_1$: The distributions of the two populations are not the same.\n"
   ]
  },
  {
   "cell_type": "code",
   "execution_count": 28,
   "metadata": {},
   "outputs": [
    {
     "data": {
      "text/html": [
       "<div>\n",
       "<style scoped>\n",
       "    .dataframe tbody tr th:only-of-type {\n",
       "        vertical-align: middle;\n",
       "    }\n",
       "\n",
       "    .dataframe tbody tr th {\n",
       "        vertical-align: top;\n",
       "    }\n",
       "\n",
       "    .dataframe thead th {\n",
       "        text-align: right;\n",
       "    }\n",
       "</style>\n",
       "<table border=\"1\" class=\"dataframe\">\n",
       "  <thead>\n",
       "    <tr style=\"text-align: right;\">\n",
       "      <th></th>\n",
       "      <th>Synthesis</th>\n",
       "      <th>Real</th>\n",
       "    </tr>\n",
       "  </thead>\n",
       "  <tbody>\n",
       "    <tr>\n",
       "      <th>170010001001000</th>\n",
       "      <td>1.000000e-06</td>\n",
       "      <td>1.326759e-06</td>\n",
       "    </tr>\n",
       "    <tr>\n",
       "      <th>170010001001001</th>\n",
       "      <td>2.000000e-07</td>\n",
       "      <td>1.560893e-07</td>\n",
       "    </tr>\n",
       "    <tr>\n",
       "      <th>170010001001002</th>\n",
       "      <td>0.000000e+00</td>\n",
       "      <td>0.000000e+00</td>\n",
       "    </tr>\n",
       "    <tr>\n",
       "      <th>170010001001003</th>\n",
       "      <td>0.000000e+00</td>\n",
       "      <td>0.000000e+00</td>\n",
       "    </tr>\n",
       "    <tr>\n",
       "      <th>170010001001004</th>\n",
       "      <td>0.000000e+00</td>\n",
       "      <td>0.000000e+00</td>\n",
       "    </tr>\n",
       "    <tr>\n",
       "      <th>...</th>\n",
       "      <td>...</td>\n",
       "      <td>...</td>\n",
       "    </tr>\n",
       "    <tr>\n",
       "      <th>172030307003228</th>\n",
       "      <td>1.000000e-06</td>\n",
       "      <td>8.584912e-07</td>\n",
       "    </tr>\n",
       "    <tr>\n",
       "      <th>172030307003229</th>\n",
       "      <td>0.000000e+00</td>\n",
       "      <td>0.000000e+00</td>\n",
       "    </tr>\n",
       "    <tr>\n",
       "      <th>172030307003230</th>\n",
       "      <td>0.000000e+00</td>\n",
       "      <td>0.000000e+00</td>\n",
       "    </tr>\n",
       "    <tr>\n",
       "      <th>172030307003231</th>\n",
       "      <td>2.000000e-07</td>\n",
       "      <td>5.463126e-07</td>\n",
       "    </tr>\n",
       "    <tr>\n",
       "      <th>172030307003232</th>\n",
       "      <td>0.000000e+00</td>\n",
       "      <td>0.000000e+00</td>\n",
       "    </tr>\n",
       "  </tbody>\n",
       "</table>\n",
       "<p>369978 rows × 2 columns</p>\n",
       "</div>"
      ],
      "text/plain": [
       "                    Synthesis          Real\n",
       "170010001001000  1.000000e-06  1.326759e-06\n",
       "170010001001001  2.000000e-07  1.560893e-07\n",
       "170010001001002  0.000000e+00  0.000000e+00\n",
       "170010001001003  0.000000e+00  0.000000e+00\n",
       "170010001001004  0.000000e+00  0.000000e+00\n",
       "...                       ...           ...\n",
       "172030307003228  1.000000e-06  8.584912e-07\n",
       "172030307003229  0.000000e+00  0.000000e+00\n",
       "172030307003230  0.000000e+00  0.000000e+00\n",
       "172030307003231  2.000000e-07  5.463126e-07\n",
       "172030307003232  0.000000e+00  0.000000e+00\n",
       "\n",
       "[369978 rows x 2 columns]"
      ]
     },
     "execution_count": 28,
     "metadata": {},
     "output_type": "execute_result"
    }
   ],
   "source": [
    "popByFIPSReal.name = \"Real\"\n",
    "popByFIPSSynthesis.name = \"Synthesis\"\n",
    "mergeddf = pd.merge(popByFIPSSynthesis, popByFIPSReal, how= 'outer', right_index = True,\n",
    "               left_index = True).fillna(0)\n",
    "mergeddf = mergeddf.astype({'Synthesis': 'float32'})\n",
    "mergeddf"
   ]
  },
  {
   "cell_type": "markdown",
   "metadata": {},
   "source": [
    "### Compare sample mean and standard deviation"
   ]
  },
  {
   "cell_type": "code",
   "execution_count": 29,
   "metadata": {},
   "outputs": [
    {
     "name": "stdout",
     "output_type": "stream",
     "text": [
      "Mean of synthetic dataset 2.7017952106689336e-06\n",
      "Standard deviation of synthetic dataset 5.332134605851024e-06\n"
     ]
    }
   ],
   "source": [
    "print(\"Mean of synthetic dataset\", mergeddf[\"Synthesis\"].mean())\n",
    "print(\"Standard deviation of synthetic dataset\", mergeddf[\"Synthesis\"].std())"
   ]
  },
  {
   "cell_type": "code",
   "execution_count": 30,
   "metadata": {},
   "outputs": [
    {
     "name": "stdout",
     "output_type": "stream",
     "text": [
      "Mean of real dataset 2.7028634135016203e-06\n",
      "Standard deviation of real dataset 5.291909099026957e-06\n"
     ]
    }
   ],
   "source": [
    "print(\"Mean of real dataset\", mergeddf[\"Real\"].mean())\n",
    "print(\"Standard deviation of real dataset\", mergeddf[\"Real\"].std())"
   ]
  },
  {
   "cell_type": "markdown",
   "metadata": {},
   "source": [
    "### Binning FIPS"
   ]
  },
  {
   "cell_type": "code",
   "execution_count": 40,
   "metadata": {},
   "outputs": [
    {
     "data": {
      "text/html": [
       "<div>\n",
       "<style scoped>\n",
       "    .dataframe tbody tr th:only-of-type {\n",
       "        vertical-align: middle;\n",
       "    }\n",
       "\n",
       "    .dataframe tbody tr th {\n",
       "        vertical-align: top;\n",
       "    }\n",
       "\n",
       "    .dataframe thead th {\n",
       "        text-align: right;\n",
       "    }\n",
       "</style>\n",
       "<table border=\"1\" class=\"dataframe\">\n",
       "  <thead>\n",
       "    <tr style=\"text-align: right;\">\n",
       "      <th></th>\n",
       "      <th>Synthesis</th>\n",
       "      <th>Real</th>\n",
       "    </tr>\n",
       "  </thead>\n",
       "  <tbody>\n",
       "    <tr>\n",
       "      <th>8500500050050</th>\n",
       "      <td>0.000033</td>\n",
       "      <td>0.000032</td>\n",
       "    </tr>\n",
       "    <tr>\n",
       "      <th>8500500050051</th>\n",
       "      <td>0.000034</td>\n",
       "      <td>0.000030</td>\n",
       "    </tr>\n",
       "    <tr>\n",
       "      <th>8500500050052</th>\n",
       "      <td>0.000029</td>\n",
       "      <td>0.000027</td>\n",
       "    </tr>\n",
       "    <tr>\n",
       "      <th>8500500050100</th>\n",
       "      <td>0.000057</td>\n",
       "      <td>0.000058</td>\n",
       "    </tr>\n",
       "    <tr>\n",
       "      <th>8500500050150</th>\n",
       "      <td>0.000049</td>\n",
       "      <td>0.000048</td>\n",
       "    </tr>\n",
       "    <tr>\n",
       "      <th>...</th>\n",
       "      <td>...</td>\n",
       "      <td>...</td>\n",
       "    </tr>\n",
       "    <tr>\n",
       "      <th>8601515350157</th>\n",
       "      <td>0.000023</td>\n",
       "      <td>0.000022</td>\n",
       "    </tr>\n",
       "    <tr>\n",
       "      <th>8601515350158</th>\n",
       "      <td>0.000016</td>\n",
       "      <td>0.000014</td>\n",
       "    </tr>\n",
       "    <tr>\n",
       "      <th>8601515350159</th>\n",
       "      <td>0.000020</td>\n",
       "      <td>0.000018</td>\n",
       "    </tr>\n",
       "    <tr>\n",
       "      <th>8601515350160</th>\n",
       "      <td>0.000024</td>\n",
       "      <td>0.000023</td>\n",
       "    </tr>\n",
       "    <tr>\n",
       "      <th>8601515350161</th>\n",
       "      <td>0.000002</td>\n",
       "      <td>0.000002</td>\n",
       "    </tr>\n",
       "  </tbody>\n",
       "</table>\n",
       "<p>23036 rows × 2 columns</p>\n",
       "</div>"
      ],
      "text/plain": [
       "               Synthesis      Real\n",
       "8500500050050   0.000033  0.000032\n",
       "8500500050051   0.000034  0.000030\n",
       "8500500050052   0.000029  0.000027\n",
       "8500500050100   0.000057  0.000058\n",
       "8500500050150   0.000049  0.000048\n",
       "...                  ...       ...\n",
       "8601515350157   0.000023  0.000022\n",
       "8601515350158   0.000016  0.000014\n",
       "8601515350159   0.000020  0.000018\n",
       "8601515350160   0.000024  0.000023\n",
       "8601515350161   0.000002  0.000002\n",
       "\n",
       "[23036 rows x 2 columns]"
      ]
     },
     "execution_count": 40,
     "metadata": {},
     "output_type": "execute_result"
    }
   ],
   "source": [
    "N = 20\n",
    "mergeddf.index = mergeddf.index.map(lambda x : int(x))\n",
    "binningdf = mergeddf.groupby(mergeddf.index // N).sum()\n",
    "binningdf"
   ]
  },
  {
   "cell_type": "code",
   "execution_count": 41,
   "metadata": {
    "scrolled": false
   },
   "outputs": [
    {
     "data": {
      "image/png": "[encoded data removed]",
      "text/plain": [
       "<Figure size 1600x640 with 1 Axes>"
      ]
     },
     "metadata": {
      "needs_background": "light"
     },
     "output_type": "display_data"
    }
   ],
   "source": [
    "plt.figure(figsize=(20, 8), dpi=80)\n",
    "binningdf[\"Synthesis\"].plot(x='Race', y='Population', rot=0)\n",
    "plt.title(\"Number of people by races in Illinois of real dataset\")\n",
    "ax = plt.gca()\n",
    "for tick in ax.get_xticklabels():\n",
    "    tick.set_rotation(45)\n",
    "plt.show()"
   ]
  },
  {
   "cell_type": "code",
   "execution_count": 42,
   "metadata": {},
   "outputs": [
    {
     "data": {
      "image/png": "[encoded data removed]",
      "text/plain": [
       "<Figure size 1600x640 with 1 Axes>"
      ]
     },
     "metadata": {
      "needs_background": "light"
     },
     "output_type": "display_data"
    }
   ],
   "source": [
    "plt.figure(figsize=(20, 8), dpi=80)\n",
    "binningdf[\"Real\"].plot(x='Race', y='Population', rot=0)\n",
    "plt.title(\"Number of people by races in Illinois of real dataset\")\n",
    "ax = plt.gca()\n",
    "for tick in ax.get_xticklabels():\n",
    "    tick.set_rotation(45)\n",
    "plt.show()"
   ]
  },
  {
   "cell_type": "markdown",
   "metadata": {},
   "source": [
    "### Test for Homogeneity"
   ]
  },
  {
   "cell_type": "markdown",
   "metadata": {},
   "source": [
    "$H_0$: The distributions of the two populations are the same.\n",
    "\n",
    "$H_1$: The distributions of the two populations are not the same.\n"
   ]
  },
  {
   "cell_type": "code",
   "execution_count": 43,
   "metadata": {},
   "outputs": [
    {
     "data": {
      "text/html": [
       "<div>\n",
       "<style scoped>\n",
       "    .dataframe tbody tr th:only-of-type {\n",
       "        vertical-align: middle;\n",
       "    }\n",
       "\n",
       "    .dataframe tbody tr th {\n",
       "        vertical-align: top;\n",
       "    }\n",
       "\n",
       "    .dataframe thead th {\n",
       "        text-align: right;\n",
       "    }\n",
       "</style>\n",
       "<table border=\"1\" class=\"dataframe\">\n",
       "  <thead>\n",
       "    <tr style=\"text-align: right;\">\n",
       "      <th>Synthesis</th>\n",
       "      <th>0.0</th>\n",
       "      <th>2.0000000233721948e-07</th>\n",
       "      <th>4.0000000467443897e-07</th>\n",
       "      <th>6.000000212225132e-07</th>\n",
       "      <th>8.000000093488779e-07</th>\n",
       "      <th>9.999999974752427e-07</th>\n",
       "      <th>1.2000000424450263e-06</th>\n",
       "      <th>1.3999999737279722e-06</th>\n",
       "      <th>1.40000008741481e-06</th>\n",
       "      <th>1.6000000186977559e-06</th>\n",
       "      <th>...</th>\n",
       "      <th>0.0002891999902203679</th>\n",
       "      <th>0.00029200001154094934</th>\n",
       "      <th>0.00029799999902024865</th>\n",
       "      <th>0.0003176000027451664</th>\n",
       "      <th>0.00034440000308677554</th>\n",
       "      <th>0.0003549999964889139</th>\n",
       "      <th>0.0003794000076595694</th>\n",
       "      <th>0.0003826000029221177</th>\n",
       "      <th>0.00040339998668059707</th>\n",
       "      <th>All</th>\n",
       "    </tr>\n",
       "    <tr>\n",
       "      <th>Real</th>\n",
       "      <th></th>\n",
       "      <th></th>\n",
       "      <th></th>\n",
       "      <th></th>\n",
       "      <th></th>\n",
       "      <th></th>\n",
       "      <th></th>\n",
       "      <th></th>\n",
       "      <th></th>\n",
       "      <th></th>\n",
       "      <th></th>\n",
       "      <th></th>\n",
       "      <th></th>\n",
       "      <th></th>\n",
       "      <th></th>\n",
       "      <th></th>\n",
       "      <th></th>\n",
       "      <th></th>\n",
       "      <th></th>\n",
       "      <th></th>\n",
       "      <th></th>\n",
       "    </tr>\n",
       "  </thead>\n",
       "  <tbody>\n",
       "    <tr>\n",
       "      <th>0.0</th>\n",
       "      <td>275</td>\n",
       "      <td>0</td>\n",
       "      <td>0</td>\n",
       "      <td>0</td>\n",
       "      <td>0</td>\n",
       "      <td>0</td>\n",
       "      <td>0</td>\n",
       "      <td>0</td>\n",
       "      <td>0</td>\n",
       "      <td>0</td>\n",
       "      <td>...</td>\n",
       "      <td>0</td>\n",
       "      <td>0</td>\n",
       "      <td>0</td>\n",
       "      <td>0</td>\n",
       "      <td>0</td>\n",
       "      <td>0</td>\n",
       "      <td>0</td>\n",
       "      <td>0</td>\n",
       "      <td>0</td>\n",
       "      <td>275</td>\n",
       "    </tr>\n",
       "    <tr>\n",
       "      <th>7.804465059331885e-08</th>\n",
       "      <td>15</td>\n",
       "      <td>2</td>\n",
       "      <td>0</td>\n",
       "      <td>0</td>\n",
       "      <td>0</td>\n",
       "      <td>0</td>\n",
       "      <td>0</td>\n",
       "      <td>0</td>\n",
       "      <td>0</td>\n",
       "      <td>0</td>\n",
       "      <td>...</td>\n",
       "      <td>0</td>\n",
       "      <td>0</td>\n",
       "      <td>0</td>\n",
       "      <td>0</td>\n",
       "      <td>0</td>\n",
       "      <td>0</td>\n",
       "      <td>0</td>\n",
       "      <td>0</td>\n",
       "      <td>0</td>\n",
       "      <td>17</td>\n",
       "    </tr>\n",
       "    <tr>\n",
       "      <th>1.560893011866377e-07</th>\n",
       "      <td>11</td>\n",
       "      <td>7</td>\n",
       "      <td>2</td>\n",
       "      <td>3</td>\n",
       "      <td>1</td>\n",
       "      <td>0</td>\n",
       "      <td>0</td>\n",
       "      <td>0</td>\n",
       "      <td>0</td>\n",
       "      <td>0</td>\n",
       "      <td>...</td>\n",
       "      <td>0</td>\n",
       "      <td>0</td>\n",
       "      <td>0</td>\n",
       "      <td>0</td>\n",
       "      <td>0</td>\n",
       "      <td>0</td>\n",
       "      <td>0</td>\n",
       "      <td>0</td>\n",
       "      <td>0</td>\n",
       "      <td>24</td>\n",
       "    </tr>\n",
       "    <tr>\n",
       "      <th>2.3413395177995655e-07</th>\n",
       "      <td>6</td>\n",
       "      <td>9</td>\n",
       "      <td>8</td>\n",
       "      <td>1</td>\n",
       "      <td>0</td>\n",
       "      <td>1</td>\n",
       "      <td>0</td>\n",
       "      <td>0</td>\n",
       "      <td>0</td>\n",
       "      <td>0</td>\n",
       "      <td>...</td>\n",
       "      <td>0</td>\n",
       "      <td>0</td>\n",
       "      <td>0</td>\n",
       "      <td>0</td>\n",
       "      <td>0</td>\n",
       "      <td>0</td>\n",
       "      <td>0</td>\n",
       "      <td>0</td>\n",
       "      <td>0</td>\n",
       "      <td>25</td>\n",
       "    </tr>\n",
       "    <tr>\n",
       "      <th>3.121786023732754e-07</th>\n",
       "      <td>7</td>\n",
       "      <td>3</td>\n",
       "      <td>8</td>\n",
       "      <td>5</td>\n",
       "      <td>1</td>\n",
       "      <td>0</td>\n",
       "      <td>0</td>\n",
       "      <td>0</td>\n",
       "      <td>0</td>\n",
       "      <td>0</td>\n",
       "      <td>...</td>\n",
       "      <td>0</td>\n",
       "      <td>0</td>\n",
       "      <td>0</td>\n",
       "      <td>0</td>\n",
       "      <td>0</td>\n",
       "      <td>0</td>\n",
       "      <td>0</td>\n",
       "      <td>0</td>\n",
       "      <td>0</td>\n",
       "      <td>24</td>\n",
       "    </tr>\n",
       "    <tr>\n",
       "      <th>...</th>\n",
       "      <td>...</td>\n",
       "      <td>...</td>\n",
       "      <td>...</td>\n",
       "      <td>...</td>\n",
       "      <td>...</td>\n",
       "      <td>...</td>\n",
       "      <td>...</td>\n",
       "      <td>...</td>\n",
       "      <td>...</td>\n",
       "      <td>...</td>\n",
       "      <td>...</td>\n",
       "      <td>...</td>\n",
       "      <td>...</td>\n",
       "      <td>...</td>\n",
       "      <td>...</td>\n",
       "      <td>...</td>\n",
       "      <td>...</td>\n",
       "      <td>...</td>\n",
       "      <td>...</td>\n",
       "      <td>...</td>\n",
       "      <td>...</td>\n",
       "    </tr>\n",
       "    <tr>\n",
       "      <th>0.0003529959546335811</th>\n",
       "      <td>0</td>\n",
       "      <td>0</td>\n",
       "      <td>0</td>\n",
       "      <td>0</td>\n",
       "      <td>0</td>\n",
       "      <td>0</td>\n",
       "      <td>0</td>\n",
       "      <td>0</td>\n",
       "      <td>0</td>\n",
       "      <td>0</td>\n",
       "      <td>...</td>\n",
       "      <td>0</td>\n",
       "      <td>0</td>\n",
       "      <td>0</td>\n",
       "      <td>0</td>\n",
       "      <td>1</td>\n",
       "      <td>0</td>\n",
       "      <td>0</td>\n",
       "      <td>0</td>\n",
       "      <td>0</td>\n",
       "      <td>1</td>\n",
       "    </tr>\n",
       "    <tr>\n",
       "      <th>0.0003760191265586102</th>\n",
       "      <td>0</td>\n",
       "      <td>0</td>\n",
       "      <td>0</td>\n",
       "      <td>0</td>\n",
       "      <td>0</td>\n",
       "      <td>0</td>\n",
       "      <td>0</td>\n",
       "      <td>0</td>\n",
       "      <td>0</td>\n",
       "      <td>0</td>\n",
       "      <td>...</td>\n",
       "      <td>0</td>\n",
       "      <td>0</td>\n",
       "      <td>0</td>\n",
       "      <td>0</td>\n",
       "      <td>0</td>\n",
       "      <td>0</td>\n",
       "      <td>1</td>\n",
       "      <td>0</td>\n",
       "      <td>0</td>\n",
       "      <td>1</td>\n",
       "    </tr>\n",
       "    <tr>\n",
       "      <th>0.0003887404046053212</th>\n",
       "      <td>0</td>\n",
       "      <td>0</td>\n",
       "      <td>0</td>\n",
       "      <td>0</td>\n",
       "      <td>0</td>\n",
       "      <td>0</td>\n",
       "      <td>0</td>\n",
       "      <td>0</td>\n",
       "      <td>0</td>\n",
       "      <td>0</td>\n",
       "      <td>...</td>\n",
       "      <td>0</td>\n",
       "      <td>0</td>\n",
       "      <td>0</td>\n",
       "      <td>0</td>\n",
       "      <td>0</td>\n",
       "      <td>0</td>\n",
       "      <td>0</td>\n",
       "      <td>1</td>\n",
       "      <td>0</td>\n",
       "      <td>1</td>\n",
       "    </tr>\n",
       "    <tr>\n",
       "      <th>0.0004194899969390888</th>\n",
       "      <td>0</td>\n",
       "      <td>0</td>\n",
       "      <td>0</td>\n",
       "      <td>0</td>\n",
       "      <td>0</td>\n",
       "      <td>0</td>\n",
       "      <td>0</td>\n",
       "      <td>0</td>\n",
       "      <td>0</td>\n",
       "      <td>0</td>\n",
       "      <td>...</td>\n",
       "      <td>0</td>\n",
       "      <td>0</td>\n",
       "      <td>0</td>\n",
       "      <td>0</td>\n",
       "      <td>0</td>\n",
       "      <td>0</td>\n",
       "      <td>0</td>\n",
       "      <td>0</td>\n",
       "      <td>1</td>\n",
       "      <td>1</td>\n",
       "    </tr>\n",
       "    <tr>\n",
       "      <th>All</th>\n",
       "      <td>322</td>\n",
       "      <td>45</td>\n",
       "      <td>85</td>\n",
       "      <td>65</td>\n",
       "      <td>92</td>\n",
       "      <td>62</td>\n",
       "      <td>75</td>\n",
       "      <td>81</td>\n",
       "      <td>12</td>\n",
       "      <td>69</td>\n",
       "      <td>...</td>\n",
       "      <td>1</td>\n",
       "      <td>1</td>\n",
       "      <td>1</td>\n",
       "      <td>1</td>\n",
       "      <td>1</td>\n",
       "      <td>1</td>\n",
       "      <td>1</td>\n",
       "      <td>1</td>\n",
       "      <td>1</td>\n",
       "      <td>23036</td>\n",
       "    </tr>\n",
       "  </tbody>\n",
       "</table>\n",
       "<p>3038 rows × 1361 columns</p>\n",
       "</div>"
      ],
      "text/plain": [
       "Synthesis               0.0  2.0000000233721948e-07  4.0000000467443897e-07  \\\n",
       "Real                                                                          \n",
       "0.0                     275                       0                       0   \n",
       "7.804465059331885e-08    15                       2                       0   \n",
       "1.560893011866377e-07    11                       7                       2   \n",
       "2.3413395177995655e-07    6                       9                       8   \n",
       "3.121786023732754e-07     7                       3                       8   \n",
       "...                     ...                     ...                     ...   \n",
       "0.0003529959546335811     0                       0                       0   \n",
       "0.0003760191265586102     0                       0                       0   \n",
       "0.0003887404046053212     0                       0                       0   \n",
       "0.0004194899969390888     0                       0                       0   \n",
       "All                     322                      45                      85   \n",
       "\n",
       "Synthesis               6.000000212225132e-07  8.000000093488779e-07  \\\n",
       "Real                                                                   \n",
       "0.0                                         0                      0   \n",
       "7.804465059331885e-08                       0                      0   \n",
       "1.560893011866377e-07                       3                      1   \n",
       "2.3413395177995655e-07                      1                      0   \n",
       "3.121786023732754e-07                       5                      1   \n",
       "...                                       ...                    ...   \n",
       "0.0003529959546335811                       0                      0   \n",
       "0.0003760191265586102                       0                      0   \n",
       "0.0003887404046053212                       0                      0   \n",
       "0.0004194899969390888                       0                      0   \n",
       "All                                        65                     92   \n",
       "\n",
       "Synthesis               9.999999974752427e-07  1.2000000424450263e-06  \\\n",
       "Real                                                                    \n",
       "0.0                                         0                       0   \n",
       "7.804465059331885e-08                       0                       0   \n",
       "1.560893011866377e-07                       0                       0   \n",
       "2.3413395177995655e-07                      1                       0   \n",
       "3.121786023732754e-07                       0                       0   \n",
       "...                                       ...                     ...   \n",
       "0.0003529959546335811                       0                       0   \n",
       "0.0003760191265586102                       0                       0   \n",
       "0.0003887404046053212                       0                       0   \n",
       "0.0004194899969390888                       0                       0   \n",
       "All                                        62                      75   \n",
       "\n",
       "Synthesis               1.3999999737279722e-06  1.40000008741481e-06  \\\n",
       "Real                                                                   \n",
       "0.0                                          0                     0   \n",
       "7.804465059331885e-08                        0                     0   \n",
       "1.560893011866377e-07                        0                     0   \n",
       "2.3413395177995655e-07                       0                     0   \n",
       "3.121786023732754e-07                        0                     0   \n",
       "...                                        ...                   ...   \n",
       "0.0003529959546335811                        0                     0   \n",
       "0.0003760191265586102                        0                     0   \n",
       "0.0003887404046053212                        0                     0   \n",
       "0.0004194899969390888                        0                     0   \n",
       "All                                         81                    12   \n",
       "\n",
       "Synthesis               1.6000000186977559e-06  ...  0.0002891999902203679  \\\n",
       "Real                                            ...                          \n",
       "0.0                                          0  ...                      0   \n",
       "7.804465059331885e-08                        0  ...                      0   \n",
       "1.560893011866377e-07                        0  ...                      0   \n",
       "2.3413395177995655e-07                       0  ...                      0   \n",
       "3.121786023732754e-07                        0  ...                      0   \n",
       "...                                        ...  ...                    ...   \n",
       "0.0003529959546335811                        0  ...                      0   \n",
       "0.0003760191265586102                        0  ...                      0   \n",
       "0.0003887404046053212                        0  ...                      0   \n",
       "0.0004194899969390888                        0  ...                      0   \n",
       "All                                         69  ...                      1   \n",
       "\n",
       "Synthesis               0.00029200001154094934  0.00029799999902024865  \\\n",
       "Real                                                                     \n",
       "0.0                                          0                       0   \n",
       "7.804465059331885e-08                        0                       0   \n",
       "1.560893011866377e-07                        0                       0   \n",
       "2.3413395177995655e-07                       0                       0   \n",
       "3.121786023732754e-07                        0                       0   \n",
       "...                                        ...                     ...   \n",
       "0.0003529959546335811                        0                       0   \n",
       "0.0003760191265586102                        0                       0   \n",
       "0.0003887404046053212                        0                       0   \n",
       "0.0004194899969390888                        0                       0   \n",
       "All                                          1                       1   \n",
       "\n",
       "Synthesis               0.0003176000027451664  0.00034440000308677554  \\\n",
       "Real                                                                    \n",
       "0.0                                         0                       0   \n",
       "7.804465059331885e-08                       0                       0   \n",
       "1.560893011866377e-07                       0                       0   \n",
       "2.3413395177995655e-07                      0                       0   \n",
       "3.121786023732754e-07                       0                       0   \n",
       "...                                       ...                     ...   \n",
       "0.0003529959546335811                       0                       1   \n",
       "0.0003760191265586102                       0                       0   \n",
       "0.0003887404046053212                       0                       0   \n",
       "0.0004194899969390888                       0                       0   \n",
       "All                                         1                       1   \n",
       "\n",
       "Synthesis               0.0003549999964889139  0.0003794000076595694  \\\n",
       "Real                                                                   \n",
       "0.0                                         0                      0   \n",
       "7.804465059331885e-08                       0                      0   \n",
       "1.560893011866377e-07                       0                      0   \n",
       "2.3413395177995655e-07                      0                      0   \n",
       "3.121786023732754e-07                       0                      0   \n",
       "...                                       ...                    ...   \n",
       "0.0003529959546335811                       0                      0   \n",
       "0.0003760191265586102                       0                      1   \n",
       "0.0003887404046053212                       0                      0   \n",
       "0.0004194899969390888                       0                      0   \n",
       "All                                         1                      1   \n",
       "\n",
       "Synthesis               0.0003826000029221177  0.00040339998668059707    All  \n",
       "Real                                                                          \n",
       "0.0                                         0                       0    275  \n",
       "7.804465059331885e-08                       0                       0     17  \n",
       "1.560893011866377e-07                       0                       0     24  \n",
       "2.3413395177995655e-07                      0                       0     25  \n",
       "3.121786023732754e-07                       0                       0     24  \n",
       "...                                       ...                     ...    ...  \n",
       "0.0003529959546335811                       0                       0      1  \n",
       "0.0003760191265586102                       0                       0      1  \n",
       "0.0003887404046053212                       1                       0      1  \n",
       "0.0004194899969390888                       0                       1      1  \n",
       "All                                         1                       1  23036  \n",
       "\n",
       "[3038 rows x 1361 columns]"
      ]
     },
     "execution_count": 43,
     "metadata": {},
     "output_type": "execute_result"
    }
   ],
   "source": [
    "ct = pd.crosstab(binningdf[\"Real\"], binningdf[\"Synthesis\"], margins=True)\n",
    "ct"
   ]
  },
  {
   "cell_type": "code",
   "execution_count": 44,
   "metadata": {},
   "outputs": [],
   "source": [
    "g, p, dof, expctd = stats.chi2_contingency(ct, lambda_=\"log-likelihood\")"
   ]
  },
  {
   "cell_type": "code",
   "execution_count": 45,
   "metadata": {},
   "outputs": [
    {
     "name": "stdout",
     "output_type": "stream",
     "text": [
      "Independent (fail to reject H0)\n"
     ]
    }
   ],
   "source": [
    "# interpret test-statistic\n",
    "prob = 0.95\n",
    "critical = stats.chi2.ppf(prob, dof)\n",
    "if abs(g) >= critical:\n",
    "    print('Dependent (reject H0)')\n",
    "else:\n",
    "    print('Independent (fail to reject H0)')"
   ]
  },
  {
   "cell_type": "code",
   "execution_count": 46,
   "metadata": {
    "scrolled": true
   },
   "outputs": [
    {
     "data": {
      "text/plain": [
       "1.0"
      ]
     },
     "execution_count": 46,
     "metadata": {},
     "output_type": "execute_result"
    }
   ],
   "source": [
    "p"
   ]
  },
  {
   "cell_type": "markdown",
   "metadata": {},
   "source": [
    "Due to p value = 1.0 >> 0.05.Therefore, there is no evidence to support the distributions of the two populations are not the same."
   ]
  },
  {
   "cell_type": "markdown",
   "metadata": {},
   "source": [
    "### Compare distribution by two sample t-test"
   ]
  },
  {
   "cell_type": "markdown",
   "metadata": {},
   "source": [
    "$H_0: \\mu_1 = \\mu_2$ (population mean of synthetic dataset is equal to real dataset)\n",
    "\n",
    "$H_1: \\mu_1 \\neq \\mu_2$ (population mean of synthetic dataset is different from real dataset)"
   ]
  },
  {
   "cell_type": "code",
   "execution_count": 47,
   "metadata": {},
   "outputs": [
    {
     "data": {
      "text/plain": [
       "Ttest_indResult(statistic=-3.1607380112429583e-06, pvalue=0.9999974781096252)"
      ]
     },
     "execution_count": 47,
     "metadata": {},
     "output_type": "execute_result"
    }
   ],
   "source": [
    "# Perform the two sample t-test with equal variances\n",
    "stats.ttest_ind(a=binningdf[\"Synthesis\"], b=binningdf[\"Real\"], equal_var=True)"
   ]
  },
  {
   "cell_type": "markdown",
   "metadata": {},
   "source": [
    "Due to p value = 0.9934190781015679 >> 0.05.Therefore, there is no evidence to support the population mean of the two populations are not the same."
   ]
  },
  {
   "cell_type": "markdown",
   "metadata": {},
   "source": [
    "### K-S test"
   ]
  },
  {
   "cell_type": "markdown",
   "metadata": {},
   "source": [
    "$H_0: $ The two datasets come from the same ditribution \n",
    "\n",
    "$H_q: $ The two datasets NOT come from the same ditribution \n"
   ]
  },
  {
   "cell_type": "code",
   "execution_count": 48,
   "metadata": {},
   "outputs": [
    {
     "data": {
      "text/plain": [
       "KstestResult(statistic=0.006815419343636053, pvalue=0.6558429678331106)"
      ]
     },
     "execution_count": 48,
     "metadata": {},
     "output_type": "execute_result"
    }
   ],
   "source": [
    "stats.ks_2samp(binningdf[\"Real\"], binningdf[\"Synthesis\"])"
   ]
  },
  {
   "cell_type": "markdown",
   "metadata": {},
   "source": [
    "Due to p value = 0.4781688122978446 >> 0.05. Therefore, there is no evidence to support the two datasets NOT come from the same ditribution"
   ]
  },
  {
   "cell_type": "markdown",
   "metadata": {},
   "source": [
    "## Benchmarking dataset"
   ]
  },
  {
   "cell_type": "markdown",
   "metadata": {},
   "source": [
    "We will test the dataset by the "
   ]
  },
  {
   "cell_type": "code",
   "execution_count": null,
   "metadata": {},
   "outputs": [],
   "source": []
  },
  {
   "cell_type": "code",
   "execution_count": null,
   "metadata": {},
   "outputs": [],
   "source": []
  },
  {
   "cell_type": "code",
   "execution_count": null,
   "metadata": {},
   "outputs": [],
   "source": []
  },
  {
   "cell_type": "code",
   "execution_count": null,
   "metadata": {},
   "outputs": [],
   "source": []
  }
 ],
 "metadata": {
  "kernelspec": {
   "display_name": "virtualenv",
   "language": "python",
   "name": "virtualenv"
  },
  "language_info": {
   "codemirror_mode": {
    "name": "ipython",
    "version": 3
   },
   "file_extension": ".py",
   "mimetype": "text/x-python",
   "name": "python",
   "nbconvert_exporter": "python",
   "pygments_lexer": "ipython3",
   "version": "3.8.13"
  }
 },
 "nbformat": 4,
 "nbformat_minor": 2
}
