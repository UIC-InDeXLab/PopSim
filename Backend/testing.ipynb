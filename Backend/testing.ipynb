{
 "cells": [
  {
   "cell_type": "markdown",
   "metadata": {},
   "source": [
    "# Testing validity with IL Synthesis Dataset"
   ]
  },
  {
   "cell_type": "markdown",
   "metadata": {},
   "source": [
    "## Import Synthesis Dataset"
   ]
  },
  {
   "cell_type": "code",
   "execution_count": 1,
   "metadata": {},
   "outputs": [],
   "source": [
    "import numpy as np\n",
    "import pandas as pd\n"
   ]
  },
  {
   "cell_type": "code",
   "execution_count": 3,
   "metadata": {},
   "outputs": [
    {
     "data": {
      "text/plain": [
       "['./data/generatedDatasets/IL_dataset_0.csv',\n",
       " './data/generatedDatasets/IL_dataset_1.csv',\n",
       " './data/generatedDatasets/IL_dataset_2.csv',\n",
       " './data/generatedDatasets/IL_dataset_3.csv',\n",
       " './data/generatedDatasets/IL_dataset_4.csv',\n",
       " './data/generatedDatasets/IL_dataset_5.csv',\n",
       " './data/generatedDatasets/IL_dataset_6.csv',\n",
       " './data/generatedDatasets/IL_dataset_7.csv',\n",
       " './data/generatedDatasets/IL_dataset_8.csv',\n",
       " './data/generatedDatasets/IL_dataset_9.csv',\n",
       " './data/generatedDatasets/IL_dataset_10.csv',\n",
       " './data/generatedDatasets/IL_dataset_11.csv',\n",
       " './data/generatedDatasets/IL_dataset_12.csv',\n",
       " './data/generatedDatasets/IL_dataset_13.csv',\n",
       " './data/generatedDatasets/IL_dataset_14.csv',\n",
       " './data/generatedDatasets/IL_dataset_15.csv',\n",
       " './data/generatedDatasets/IL_dataset_16.csv',\n",
       " './data/generatedDatasets/IL_dataset_17.csv',\n",
       " './data/generatedDatasets/IL_dataset_18.csv',\n",
       " './data/generatedDatasets/IL_dataset_19.csv',\n",
       " './data/generatedDatasets/IL_dataset_20.csv',\n",
       " './data/generatedDatasets/IL_dataset_21.csv',\n",
       " './data/generatedDatasets/IL_dataset_22.csv',\n",
       " './data/generatedDatasets/IL_dataset_23.csv',\n",
       " './data/generatedDatasets/IL_dataset_24.csv',\n",
       " './data/generatedDatasets/IL_dataset_25.csv',\n",
       " './data/generatedDatasets/IL_dataset_26.csv',\n",
       " './data/generatedDatasets/IL_dataset_27.csv',\n",
       " './data/generatedDatasets/IL_dataset_28.csv',\n",
       " './data/generatedDatasets/IL_dataset_29.csv']"
      ]
     },
     "execution_count": 3,
     "metadata": {},
     "output_type": "execute_result"
    }
   ],
   "source": [
    "datasets_paths = [\"./data/generatedDatasets/IL_dataset_\"+ str(i)+\".csv\" for i in range(30)]\n",
    "datasets_paths"
   ]
  },
  {
   "cell_type": "code",
   "execution_count": 20,
   "metadata": {},
   "outputs": [],
   "source": [
    "def loadDataset(path):\n",
    "    a = pd.read_csv(path)\n",
    "    return a.drop(a.columns[0], axis=1)\n",
    "def groupByRace(dataset):\n",
    "    return dataset.groupby(by = [\"race\"])\n",
    "def groupByFIPS(dataset):\n",
    "    return dataset.groupby(by = [\"FIPS\"])\n",
    "def groupByFIPSAndRace(dataset):\n",
    "    return dataset.groupby(by = [\"FIPS\", \"race\"])"
   ]
  },
  {
   "cell_type": "code",
   "execution_count": 21,
   "metadata": {},
   "outputs": [],
   "source": [
    "ILdataset = loadDataset(datasets_paths[0])"
   ]
  },
  {
   "cell_type": "code",
   "execution_count": 42,
   "metadata": {},
   "outputs": [
    {
     "data": {
      "text/plain": [
       "FIPS\n",
       "170010001001000     21\n",
       "170010001001001      1\n",
       "170010001001007     50\n",
       "170010001001008    189\n",
       "170010001001009     19\n",
       "                  ... \n",
       "172030307003217      5\n",
       "172030307003223      5\n",
       "172030307003226      4\n",
       "172030307003228     14\n",
       "172030307003231      5\n",
       "Name: FIPS, Length: 274520, dtype: int64"
      ]
     },
     "execution_count": 42,
     "metadata": {},
     "output_type": "execute_result"
    }
   ],
   "source": [
    "ILdataset.groupby(by = [\"FIPS\"]).FIPS.count()"
   ]
  },
  {
   "cell_type": "code",
   "execution_count": 41,
   "metadata": {},
   "outputs": [
    {
     "data": {
      "text/plain": [
       "race\n",
       "P1_003N    7870082\n",
       "P1_004N    1808045\n",
       "P1_005N      96539\n",
       "P1_006N     753645\n",
       "P1_007N       4506\n",
       "            ...   \n",
       "P1_066N         42\n",
       "P1_067N         12\n",
       "P1_068N          6\n",
       "P1_069N         19\n",
       "P1_071N         84\n",
       "Name: FIPS, Length: 64, dtype: int64"
      ]
     },
     "execution_count": 41,
     "metadata": {},
     "output_type": "execute_result"
    }
   ],
   "source": [
    "ILdataset.groupby(by = [\"race\"]).FIPS.count()"
   ]
  },
  {
   "cell_type": "code",
   "execution_count": 39,
   "metadata": {},
   "outputs": [
    {
     "data": {
      "text/html": [
       "<div>\n",
       "<style scoped>\n",
       "    .dataframe tbody tr th:only-of-type {\n",
       "        vertical-align: middle;\n",
       "    }\n",
       "\n",
       "    .dataframe tbody tr th {\n",
       "        vertical-align: top;\n",
       "    }\n",
       "\n",
       "    .dataframe thead th {\n",
       "        text-align: right;\n",
       "    }\n",
       "</style>\n",
       "<table border=\"1\" class=\"dataframe\">\n",
       "  <thead>\n",
       "    <tr style=\"text-align: right;\">\n",
       "      <th></th>\n",
       "      <th></th>\n",
       "      <th>count</th>\n",
       "    </tr>\n",
       "    <tr>\n",
       "      <th>FIPS</th>\n",
       "      <th>race</th>\n",
       "      <th></th>\n",
       "    </tr>\n",
       "  </thead>\n",
       "  <tbody>\n",
       "    <tr>\n",
       "      <th rowspan=\"2\" valign=\"top\">170010001001000</th>\n",
       "      <th>P1_003N</th>\n",
       "      <td>20</td>\n",
       "    </tr>\n",
       "    <tr>\n",
       "      <th>P1_004N</th>\n",
       "      <td>1</td>\n",
       "    </tr>\n",
       "    <tr>\n",
       "      <th>170010001001001</th>\n",
       "      <th>P1_003N</th>\n",
       "      <td>1</td>\n",
       "    </tr>\n",
       "    <tr>\n",
       "      <th rowspan=\"2\" valign=\"top\">170010001001007</th>\n",
       "      <th>P1_003N</th>\n",
       "      <td>40</td>\n",
       "    </tr>\n",
       "    <tr>\n",
       "      <th>P1_004N</th>\n",
       "      <td>3</td>\n",
       "    </tr>\n",
       "    <tr>\n",
       "      <th>...</th>\n",
       "      <th>...</th>\n",
       "      <td>...</td>\n",
       "    </tr>\n",
       "    <tr>\n",
       "      <th>172030307003223</th>\n",
       "      <th>P1_003N</th>\n",
       "      <td>5</td>\n",
       "    </tr>\n",
       "    <tr>\n",
       "      <th>172030307003226</th>\n",
       "      <th>P1_003N</th>\n",
       "      <td>4</td>\n",
       "    </tr>\n",
       "    <tr>\n",
       "      <th>172030307003228</th>\n",
       "      <th>P1_003N</th>\n",
       "      <td>14</td>\n",
       "    </tr>\n",
       "    <tr>\n",
       "      <th rowspan=\"2\" valign=\"top\">172030307003231</th>\n",
       "      <th>P1_003N</th>\n",
       "      <td>4</td>\n",
       "    </tr>\n",
       "    <tr>\n",
       "      <th>P1_015N</th>\n",
       "      <td>1</td>\n",
       "    </tr>\n",
       "  </tbody>\n",
       "</table>\n",
       "<p>813625 rows × 1 columns</p>\n",
       "</div>"
      ],
      "text/plain": [
       "                         count\n",
       "FIPS            race          \n",
       "170010001001000 P1_003N     20\n",
       "                P1_004N      1\n",
       "170010001001001 P1_003N      1\n",
       "170010001001007 P1_003N     40\n",
       "                P1_004N      3\n",
       "...                        ...\n",
       "172030307003223 P1_003N      5\n",
       "172030307003226 P1_003N      4\n",
       "172030307003228 P1_003N     14\n",
       "172030307003231 P1_003N      4\n",
       "                P1_015N      1\n",
       "\n",
       "[813625 rows x 1 columns]"
      ]
     },
     "execution_count": 39,
     "metadata": {},
     "output_type": "execute_result"
    }
   ],
   "source": [
    "ILdataset.groupby(by = [\"FIPS\",\"race\"]).FIPS.agg(['count'])"
   ]
  },
  {
   "cell_type": "markdown",
   "metadata": {},
   "source": [
    "## Import Real FIPS Data"
   ]
  },
  {
   "cell_type": "code",
   "execution_count": 43,
   "metadata": {},
   "outputs": [
    {
     "ename": "ModuleNotFoundError",
     "evalue": "No module named 'geopandas'",
     "output_type": "error",
     "traceback": [
      "\u001b[0;31m-----------------------------------------------------------\u001b[0m",
      "\u001b[0;31mModuleNotFoundError\u001b[0m       Traceback (most recent call last)",
      "\u001b[0;32m<ipython-input-43-b50f8cb231f4>\u001b[0m in \u001b[0;36m<module>\u001b[0;34m\u001b[0m\n\u001b[0;32m----> 1\u001b[0;31m \u001b[0;32mfrom\u001b[0m \u001b[0mstate\u001b[0m \u001b[0;32mimport\u001b[0m \u001b[0mStateByBlockGroup\u001b[0m\u001b[0;34m\u001b[0m\u001b[0;34m\u001b[0m\u001b[0m\n\u001b[0m\u001b[1;32m      2\u001b[0m \u001b[0mStateIL\u001b[0m \u001b[0;34m=\u001b[0m \u001b[0mStateByBlockGroup\u001b[0m\u001b[0;34m(\u001b[0m\u001b[0;34m\"17\"\u001b[0m\u001b[0;34m)\u001b[0m\u001b[0;34m\u001b[0m\u001b[0;34m\u001b[0m\u001b[0m\n\u001b[1;32m      3\u001b[0m \u001b[0;34m\u001b[0m\u001b[0m\n\u001b[1;32m      4\u001b[0m \u001b[0mStateIL\u001b[0m\u001b[0;34m.\u001b[0m\u001b[0mdecennialData\u001b[0m\u001b[0;34m\u001b[0m\u001b[0;34m\u001b[0m\u001b[0m\n",
      "\u001b[0;32m~/Bias-Project/Backend/state.py\u001b[0m in \u001b[0;36m<module>\u001b[0;34m\u001b[0m\n\u001b[0;32m----> 1\u001b[0;31m \u001b[0;32mfrom\u001b[0m \u001b[0mabstract_class\u001b[0m \u001b[0;32mimport\u001b[0m \u001b[0mUnit\u001b[0m\u001b[0;34m,\u001b[0m \u001b[0mGroup\u001b[0m\u001b[0;34m\u001b[0m\u001b[0;34m\u001b[0m\u001b[0m\n\u001b[0m\u001b[1;32m      2\u001b[0m \u001b[0;32mfrom\u001b[0m \u001b[0mutils\u001b[0m \u001b[0;32mimport\u001b[0m \u001b[0mgetDecennialData\u001b[0m\u001b[0;34m,\u001b[0m \u001b[0mgetFIPS\u001b[0m\u001b[0;34m\u001b[0m\u001b[0;34m\u001b[0m\u001b[0m\n\u001b[1;32m      3\u001b[0m \u001b[0;34m\u001b[0m\u001b[0m\n\u001b[1;32m      4\u001b[0m \u001b[0;32mclass\u001b[0m \u001b[0mStateByFIPS\u001b[0m\u001b[0;34m(\u001b[0m\u001b[0mUnit\u001b[0m\u001b[0;34m)\u001b[0m\u001b[0;34m:\u001b[0m\u001b[0;34m\u001b[0m\u001b[0;34m\u001b[0m\u001b[0m\n\u001b[1;32m      5\u001b[0m     \u001b[0;32mdef\u001b[0m \u001b[0m__init__\u001b[0m\u001b[0;34m(\u001b[0m\u001b[0mself\u001b[0m\u001b[0;34m,\u001b[0m \u001b[0mFIPS\u001b[0m\u001b[0;34m,\u001b[0m \u001b[0mcensusYear\u001b[0m \u001b[0;34m=\u001b[0m \u001b[0;34m\"2020\"\u001b[0m\u001b[0;34m)\u001b[0m\u001b[0;34m:\u001b[0m\u001b[0;34m\u001b[0m\u001b[0;34m\u001b[0m\u001b[0m\n",
      "\u001b[0;32m~/Bias-Project/Backend/abstract_class.py\u001b[0m in \u001b[0;36m<module>\u001b[0;34m\u001b[0m\n\u001b[1;32m      1\u001b[0m \u001b[0;32mfrom\u001b[0m \u001b[0moperator\u001b[0m \u001b[0;32mimport\u001b[0m \u001b[0mindex\u001b[0m\u001b[0;34m\u001b[0m\u001b[0;34m\u001b[0m\u001b[0m\n\u001b[0;32m----> 2\u001b[0;31m \u001b[0;32mfrom\u001b[0m \u001b[0mutils\u001b[0m \u001b[0;32mimport\u001b[0m \u001b[0mgetDecennialData\u001b[0m\u001b[0;34m\u001b[0m\u001b[0;34m\u001b[0m\u001b[0m\n\u001b[0m\u001b[1;32m      3\u001b[0m \u001b[0;32mfrom\u001b[0m \u001b[0mabc\u001b[0m \u001b[0;32mimport\u001b[0m \u001b[0mABC\u001b[0m\u001b[0;34m,\u001b[0m \u001b[0mabstractmethod\u001b[0m\u001b[0;34m\u001b[0m\u001b[0;34m\u001b[0m\u001b[0m\n\u001b[1;32m      4\u001b[0m \u001b[0;32mimport\u001b[0m \u001b[0mmatplotlib\u001b[0m \u001b[0;32mas\u001b[0m \u001b[0mplt\u001b[0m\u001b[0;34m\u001b[0m\u001b[0;34m\u001b[0m\u001b[0m\n\u001b[1;32m      5\u001b[0m \u001b[0;32mimport\u001b[0m \u001b[0mpandas\u001b[0m \u001b[0;32mas\u001b[0m \u001b[0mpd\u001b[0m\u001b[0;34m\u001b[0m\u001b[0;34m\u001b[0m\u001b[0m\n",
      "\u001b[0;32m~/Bias-Project/Backend/utils.py\u001b[0m in \u001b[0;36m<module>\u001b[0;34m\u001b[0m\n\u001b[1;32m      2\u001b[0m \u001b[0;32mimport\u001b[0m \u001b[0mrequests\u001b[0m\u001b[0;34m\u001b[0m\u001b[0;34m\u001b[0m\u001b[0m\n\u001b[1;32m      3\u001b[0m \u001b[0;32mimport\u001b[0m \u001b[0mpandas\u001b[0m \u001b[0;32mas\u001b[0m \u001b[0mpd\u001b[0m\u001b[0;34m\u001b[0m\u001b[0;34m\u001b[0m\u001b[0m\n\u001b[0;32m----> 4\u001b[0;31m \u001b[0;32mimport\u001b[0m \u001b[0mgeopandas\u001b[0m \u001b[0;32mas\u001b[0m \u001b[0mgpd\u001b[0m\u001b[0;34m\u001b[0m\u001b[0;34m\u001b[0m\u001b[0m\n\u001b[0m\u001b[1;32m      5\u001b[0m \u001b[0;32mimport\u001b[0m \u001b[0mnumpy\u001b[0m \u001b[0;32mas\u001b[0m \u001b[0mnp\u001b[0m\u001b[0;34m\u001b[0m\u001b[0;34m\u001b[0m\u001b[0m\n\u001b[1;32m      6\u001b[0m \u001b[0;32mfrom\u001b[0m \u001b[0mshapely\u001b[0m\u001b[0;34m.\u001b[0m\u001b[0mgeometry\u001b[0m \u001b[0;32mimport\u001b[0m \u001b[0mPoint\u001b[0m\u001b[0;34m,\u001b[0m \u001b[0mPolygon\u001b[0m\u001b[0;34m\u001b[0m\u001b[0;34m\u001b[0m\u001b[0m\n",
      "\u001b[0;31mModuleNotFoundError\u001b[0m: No module named 'geopandas'"
     ]
    }
   ],
   "source": [
    "from state import StateByBlockGroup\n",
    "StateIL = StateByBlockGroup(\"17\")\n",
    "\n",
    "StateIL.decennialData"
   ]
  },
  {
   "cell_type": "code",
   "execution_count": null,
   "metadata": {},
   "outputs": [],
   "source": []
  }
 ],
 "metadata": {
  "kernelspec": {
   "display_name": "Python 3",
   "language": "python",
   "name": "python3"
  },
  "language_info": {
   "codemirror_mode": {
    "name": "ipython",
    "version": 3
   },
   "file_extension": ".py",
   "mimetype": "text/x-python",
   "name": "python",
   "nbconvert_exporter": "python",
   "pygments_lexer": "ipython3",
   "version": "3.7.4"
  }
 },
 "nbformat": 4,
 "nbformat_minor": 2
}
