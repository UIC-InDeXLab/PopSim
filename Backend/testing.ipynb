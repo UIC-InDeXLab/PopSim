{
 "cells": [
  {
   "cell_type": "markdown",
   "metadata": {},
   "source": [
    "# Testing validity with IL Synthesis Dataset"
   ]
  },
  {
   "cell_type": "markdown",
   "metadata": {},
   "source": [
    "## Import Synthesis Dataset"
   ]
  },
  {
   "cell_type": "code",
   "execution_count": 1,
   "metadata": {},
   "outputs": [],
   "source": [
    "import numpy as np\n",
    "import pandas as pd\n",
    "import matplotlib.pyplot as plt\n",
    "import scipy.stats as stats"
   ]
  },
  {
   "cell_type": "code",
   "execution_count": 2,
   "metadata": {},
   "outputs": [
    {
     "data": {
      "text/plain": [
       "['./data/generatedDatasets/IL_dataset_0.csv',\n",
       " './data/generatedDatasets/IL_dataset_1.csv',\n",
       " './data/generatedDatasets/IL_dataset_2.csv',\n",
       " './data/generatedDatasets/IL_dataset_3.csv',\n",
       " './data/generatedDatasets/IL_dataset_4.csv',\n",
       " './data/generatedDatasets/IL_dataset_5.csv',\n",
       " './data/generatedDatasets/IL_dataset_6.csv',\n",
       " './data/generatedDatasets/IL_dataset_7.csv',\n",
       " './data/generatedDatasets/IL_dataset_8.csv',\n",
       " './data/generatedDatasets/IL_dataset_9.csv',\n",
       " './data/generatedDatasets/IL_dataset_10.csv',\n",
       " './data/generatedDatasets/IL_dataset_11.csv',\n",
       " './data/generatedDatasets/IL_dataset_12.csv',\n",
       " './data/generatedDatasets/IL_dataset_13.csv',\n",
       " './data/generatedDatasets/IL_dataset_14.csv',\n",
       " './data/generatedDatasets/IL_dataset_15.csv',\n",
       " './data/generatedDatasets/IL_dataset_16.csv',\n",
       " './data/generatedDatasets/IL_dataset_17.csv',\n",
       " './data/generatedDatasets/IL_dataset_18.csv',\n",
       " './data/generatedDatasets/IL_dataset_19.csv',\n",
       " './data/generatedDatasets/IL_dataset_20.csv',\n",
       " './data/generatedDatasets/IL_dataset_21.csv',\n",
       " './data/generatedDatasets/IL_dataset_22.csv',\n",
       " './data/generatedDatasets/IL_dataset_23.csv',\n",
       " './data/generatedDatasets/IL_dataset_24.csv',\n",
       " './data/generatedDatasets/IL_dataset_25.csv',\n",
       " './data/generatedDatasets/IL_dataset_26.csv',\n",
       " './data/generatedDatasets/IL_dataset_27.csv',\n",
       " './data/generatedDatasets/IL_dataset_28.csv',\n",
       " './data/generatedDatasets/IL_dataset_29.csv']"
      ]
     },
     "execution_count": 2,
     "metadata": {},
     "output_type": "execute_result"
    }
   ],
   "source": [
    "datasets_paths = [\"./data/generatedDatasets/IL_dataset_\"+ str(i)+\".csv\" for i in range(30)]\n",
    "datasets_paths"
   ]
  },
  {
   "cell_type": "code",
   "execution_count": 3,
   "metadata": {},
   "outputs": [],
   "source": [
    "def loadDataset(path):\n",
    "    a = pd.read_csv(path)\n",
    "    return a.drop(a.columns[0], axis=1)\n",
    "def groupByRace(dataset):\n",
    "    return dataset.groupby(by = [\"race\"])\n",
    "def groupByFIPS(dataset):\n",
    "    return dataset.groupby(by = [\"FIPS\"])\n",
    "def groupByFIPSAndRace(dataset):\n",
    "    return dataset.groupby(by = [\"FIPS\", \"race\"])"
   ]
  },
  {
   "cell_type": "code",
   "execution_count": 4,
   "metadata": {},
   "outputs": [],
   "source": [
    "ILdataset = loadDataset(datasets_paths[0])"
   ]
  },
  {
   "cell_type": "code",
   "execution_count": 5,
   "metadata": {},
   "outputs": [
    {
     "data": {
      "text/plain": [
       "FIPS\n",
       "170010001001000     21\n",
       "170010001001001      1\n",
       "170010001001007     50\n",
       "170010001001008    189\n",
       "170010001001009     19\n",
       "                  ... \n",
       "172030307003217      5\n",
       "172030307003223      5\n",
       "172030307003226      4\n",
       "172030307003228     14\n",
       "172030307003231      5\n",
       "Name: FIPS, Length: 274520, dtype: int64"
      ]
     },
     "execution_count": 5,
     "metadata": {},
     "output_type": "execute_result"
    }
   ],
   "source": [
    "ILdataset.groupby(by = [\"FIPS\"]).FIPS.count()"
   ]
  },
  {
   "cell_type": "code",
   "execution_count": 6,
   "metadata": {},
   "outputs": [
    {
     "data": {
      "text/plain": [
       "race\n",
       "P1_003N    7870082\n",
       "P1_004N    1808045\n",
       "P1_005N      96539\n",
       "P1_006N     753645\n",
       "P1_007N       4506\n",
       "            ...   \n",
       "P1_066N         42\n",
       "P1_067N         12\n",
       "P1_068N          6\n",
       "P1_069N         19\n",
       "P1_071N         84\n",
       "Name: FIPS, Length: 64, dtype: int64"
      ]
     },
     "execution_count": 6,
     "metadata": {},
     "output_type": "execute_result"
    }
   ],
   "source": [
    "ILdataset.groupby(by = [\"race\"]).FIPS.count()"
   ]
  },
  {
   "cell_type": "code",
   "execution_count": 11,
   "metadata": {},
   "outputs": [
    {
     "data": {
      "text/html": [
       "<div>\n",
       "<style scoped>\n",
       "    .dataframe tbody tr th:only-of-type {\n",
       "        vertical-align: middle;\n",
       "    }\n",
       "\n",
       "    .dataframe tbody tr th {\n",
       "        vertical-align: top;\n",
       "    }\n",
       "\n",
       "    .dataframe thead th {\n",
       "        text-align: right;\n",
       "    }\n",
       "</style>\n",
       "<table border=\"1\" class=\"dataframe\">\n",
       "  <thead>\n",
       "    <tr style=\"text-align: right;\">\n",
       "      <th></th>\n",
       "      <th></th>\n",
       "      <th>count</th>\n",
       "    </tr>\n",
       "    <tr>\n",
       "      <th>FIPS</th>\n",
       "      <th>race</th>\n",
       "      <th></th>\n",
       "    </tr>\n",
       "  </thead>\n",
       "  <tbody>\n",
       "    <tr>\n",
       "      <th rowspan=\"2\" valign=\"top\">170010001001000</th>\n",
       "      <th>P1_003N</th>\n",
       "      <td>20</td>\n",
       "    </tr>\n",
       "    <tr>\n",
       "      <th>P1_004N</th>\n",
       "      <td>1</td>\n",
       "    </tr>\n",
       "    <tr>\n",
       "      <th>170010001001001</th>\n",
       "      <th>P1_003N</th>\n",
       "      <td>1</td>\n",
       "    </tr>\n",
       "    <tr>\n",
       "      <th rowspan=\"2\" valign=\"top\">170010001001007</th>\n",
       "      <th>P1_003N</th>\n",
       "      <td>40</td>\n",
       "    </tr>\n",
       "    <tr>\n",
       "      <th>P1_004N</th>\n",
       "      <td>3</td>\n",
       "    </tr>\n",
       "    <tr>\n",
       "      <th>...</th>\n",
       "      <th>...</th>\n",
       "      <td>...</td>\n",
       "    </tr>\n",
       "    <tr>\n",
       "      <th>172030307003223</th>\n",
       "      <th>P1_003N</th>\n",
       "      <td>5</td>\n",
       "    </tr>\n",
       "    <tr>\n",
       "      <th>172030307003226</th>\n",
       "      <th>P1_003N</th>\n",
       "      <td>4</td>\n",
       "    </tr>\n",
       "    <tr>\n",
       "      <th>172030307003228</th>\n",
       "      <th>P1_003N</th>\n",
       "      <td>14</td>\n",
       "    </tr>\n",
       "    <tr>\n",
       "      <th rowspan=\"2\" valign=\"top\">172030307003231</th>\n",
       "      <th>P1_003N</th>\n",
       "      <td>4</td>\n",
       "    </tr>\n",
       "    <tr>\n",
       "      <th>P1_015N</th>\n",
       "      <td>1</td>\n",
       "    </tr>\n",
       "  </tbody>\n",
       "</table>\n",
       "<p>813625 rows × 1 columns</p>\n",
       "</div>"
      ],
      "text/plain": [
       "                         count\n",
       "FIPS            race          \n",
       "170010001001000 P1_003N     20\n",
       "                P1_004N      1\n",
       "170010001001001 P1_003N      1\n",
       "170010001001007 P1_003N     40\n",
       "                P1_004N      3\n",
       "...                        ...\n",
       "172030307003223 P1_003N      5\n",
       "172030307003226 P1_003N      4\n",
       "172030307003228 P1_003N     14\n",
       "172030307003231 P1_003N      4\n",
       "                P1_015N      1\n",
       "\n",
       "[813625 rows x 1 columns]"
      ]
     },
     "execution_count": 11,
     "metadata": {},
     "output_type": "execute_result"
    }
   ],
   "source": [
    "ILdataset.groupby(by = [\"FIPS\",\"race\"]).FIPS.agg(['count'])"
   ]
  },
  {
   "cell_type": "code",
   "execution_count": 14,
   "metadata": {},
   "outputs": [
    {
     "data": {
      "text/html": [
       "<div>\n",
       "<style scoped>\n",
       "    .dataframe tbody tr th:only-of-type {\n",
       "        vertical-align: middle;\n",
       "    }\n",
       "\n",
       "    .dataframe tbody tr th {\n",
       "        vertical-align: top;\n",
       "    }\n",
       "\n",
       "    .dataframe thead th {\n",
       "        text-align: right;\n",
       "    }\n",
       "</style>\n",
       "<table border=\"1\" class=\"dataframe\">\n",
       "  <thead>\n",
       "    <tr style=\"text-align: right;\">\n",
       "      <th></th>\n",
       "      <th>FIPS</th>\n",
       "      <th>race</th>\n",
       "      <th>count</th>\n",
       "    </tr>\n",
       "  </thead>\n",
       "  <tbody>\n",
       "    <tr>\n",
       "      <th>0</th>\n",
       "      <td>170010001001000</td>\n",
       "      <td>P1_003N</td>\n",
       "      <td>20</td>\n",
       "    </tr>\n",
       "    <tr>\n",
       "      <th>1</th>\n",
       "      <td>170010001001000</td>\n",
       "      <td>P1_004N</td>\n",
       "      <td>1</td>\n",
       "    </tr>\n",
       "    <tr>\n",
       "      <th>2</th>\n",
       "      <td>170010001001001</td>\n",
       "      <td>P1_003N</td>\n",
       "      <td>1</td>\n",
       "    </tr>\n",
       "    <tr>\n",
       "      <th>3</th>\n",
       "      <td>170010001001007</td>\n",
       "      <td>P1_003N</td>\n",
       "      <td>40</td>\n",
       "    </tr>\n",
       "    <tr>\n",
       "      <th>4</th>\n",
       "      <td>170010001001007</td>\n",
       "      <td>P1_004N</td>\n",
       "      <td>3</td>\n",
       "    </tr>\n",
       "    <tr>\n",
       "      <th>...</th>\n",
       "      <td>...</td>\n",
       "      <td>...</td>\n",
       "      <td>...</td>\n",
       "    </tr>\n",
       "    <tr>\n",
       "      <th>813620</th>\n",
       "      <td>172030307003223</td>\n",
       "      <td>P1_003N</td>\n",
       "      <td>5</td>\n",
       "    </tr>\n",
       "    <tr>\n",
       "      <th>813621</th>\n",
       "      <td>172030307003226</td>\n",
       "      <td>P1_003N</td>\n",
       "      <td>4</td>\n",
       "    </tr>\n",
       "    <tr>\n",
       "      <th>813622</th>\n",
       "      <td>172030307003228</td>\n",
       "      <td>P1_003N</td>\n",
       "      <td>14</td>\n",
       "    </tr>\n",
       "    <tr>\n",
       "      <th>813623</th>\n",
       "      <td>172030307003231</td>\n",
       "      <td>P1_003N</td>\n",
       "      <td>4</td>\n",
       "    </tr>\n",
       "    <tr>\n",
       "      <th>813624</th>\n",
       "      <td>172030307003231</td>\n",
       "      <td>P1_015N</td>\n",
       "      <td>1</td>\n",
       "    </tr>\n",
       "  </tbody>\n",
       "</table>\n",
       "<p>813625 rows × 3 columns</p>\n",
       "</div>"
      ],
      "text/plain": [
       "                   FIPS     race  count\n",
       "0       170010001001000  P1_003N     20\n",
       "1       170010001001000  P1_004N      1\n",
       "2       170010001001001  P1_003N      1\n",
       "3       170010001001007  P1_003N     40\n",
       "4       170010001001007  P1_004N      3\n",
       "...                 ...      ...    ...\n",
       "813620  172030307003223  P1_003N      5\n",
       "813621  172030307003226  P1_003N      4\n",
       "813622  172030307003228  P1_003N     14\n",
       "813623  172030307003231  P1_003N      4\n",
       "813624  172030307003231  P1_015N      1\n",
       "\n",
       "[813625 rows x 3 columns]"
      ]
     },
     "execution_count": 14,
     "metadata": {},
     "output_type": "execute_result"
    }
   ],
   "source": [
    "ILDatasetProcessed = pd.DataFrame(ILdataset.groupby(by = [\"FIPS\",\"race\"]).FIPS.agg(['count'])).reset_index()\n",
    "ILDatasetProcessed"
   ]
  },
  {
   "cell_type": "markdown",
   "metadata": {},
   "source": [
    "## Import Real FIPS Data"
   ]
  },
  {
   "cell_type": "code",
   "execution_count": 6,
   "metadata": {},
   "outputs": [
    {
     "data": {
      "text/html": [
       "<div>\n",
       "<style scoped>\n",
       "    .dataframe tbody tr th:only-of-type {\n",
       "        vertical-align: middle;\n",
       "    }\n",
       "\n",
       "    .dataframe tbody tr th {\n",
       "        vertical-align: top;\n",
       "    }\n",
       "\n",
       "    .dataframe thead th {\n",
       "        text-align: right;\n",
       "    }\n",
       "</style>\n",
       "<table border=\"1\" class=\"dataframe\">\n",
       "  <thead>\n",
       "    <tr style=\"text-align: right;\">\n",
       "      <th></th>\n",
       "      <th>GEO_ID</th>\n",
       "      <th>NAME</th>\n",
       "      <th>P1_001N</th>\n",
       "      <th>P1_001NA</th>\n",
       "      <th>P1_002N</th>\n",
       "      <th>P1_002NA</th>\n",
       "      <th>P1_003N</th>\n",
       "      <th>P1_003NA</th>\n",
       "      <th>P1_004N</th>\n",
       "      <th>P1_004NA</th>\n",
       "      <th>...</th>\n",
       "      <th>P1_069N</th>\n",
       "      <th>P1_069NA</th>\n",
       "      <th>P1_070N</th>\n",
       "      <th>P1_070NA</th>\n",
       "      <th>P1_071N</th>\n",
       "      <th>P1_071NA</th>\n",
       "      <th>state</th>\n",
       "      <th>county</th>\n",
       "      <th>tract</th>\n",
       "      <th>block</th>\n",
       "    </tr>\n",
       "  </thead>\n",
       "  <tbody>\n",
       "    <tr>\n",
       "      <th>0</th>\n",
       "      <td>1000000US170010001001000</td>\n",
       "      <td>Block 1000, Block Group 1, Census Tract 1, Ada...</td>\n",
       "      <td>17</td>\n",
       "      <td>NaN</td>\n",
       "      <td>17</td>\n",
       "      <td>NaN</td>\n",
       "      <td>16</td>\n",
       "      <td>NaN</td>\n",
       "      <td>1</td>\n",
       "      <td>NaN</td>\n",
       "      <td>...</td>\n",
       "      <td>0</td>\n",
       "      <td>NaN</td>\n",
       "      <td>0</td>\n",
       "      <td>NaN</td>\n",
       "      <td>0</td>\n",
       "      <td>NaN</td>\n",
       "      <td>17</td>\n",
       "      <td>1</td>\n",
       "      <td>100</td>\n",
       "      <td>1000</td>\n",
       "    </tr>\n",
       "    <tr>\n",
       "      <th>1</th>\n",
       "      <td>1000000US170010001001001</td>\n",
       "      <td>Block 1001, Block Group 1, Census Tract 1, Ada...</td>\n",
       "      <td>2</td>\n",
       "      <td>NaN</td>\n",
       "      <td>2</td>\n",
       "      <td>NaN</td>\n",
       "      <td>1</td>\n",
       "      <td>NaN</td>\n",
       "      <td>0</td>\n",
       "      <td>NaN</td>\n",
       "      <td>...</td>\n",
       "      <td>0</td>\n",
       "      <td>NaN</td>\n",
       "      <td>0</td>\n",
       "      <td>NaN</td>\n",
       "      <td>0</td>\n",
       "      <td>NaN</td>\n",
       "      <td>17</td>\n",
       "      <td>1</td>\n",
       "      <td>100</td>\n",
       "      <td>1001</td>\n",
       "    </tr>\n",
       "    <tr>\n",
       "      <th>2</th>\n",
       "      <td>1000000US170010001001002</td>\n",
       "      <td>Block 1002, Block Group 1, Census Tract 1, Ada...</td>\n",
       "      <td>0</td>\n",
       "      <td>NaN</td>\n",
       "      <td>0</td>\n",
       "      <td>NaN</td>\n",
       "      <td>0</td>\n",
       "      <td>NaN</td>\n",
       "      <td>0</td>\n",
       "      <td>NaN</td>\n",
       "      <td>...</td>\n",
       "      <td>0</td>\n",
       "      <td>NaN</td>\n",
       "      <td>0</td>\n",
       "      <td>NaN</td>\n",
       "      <td>0</td>\n",
       "      <td>NaN</td>\n",
       "      <td>17</td>\n",
       "      <td>1</td>\n",
       "      <td>100</td>\n",
       "      <td>1002</td>\n",
       "    </tr>\n",
       "    <tr>\n",
       "      <th>3</th>\n",
       "      <td>1000000US170010001001003</td>\n",
       "      <td>Block 1003, Block Group 1, Census Tract 1, Ada...</td>\n",
       "      <td>0</td>\n",
       "      <td>NaN</td>\n",
       "      <td>0</td>\n",
       "      <td>NaN</td>\n",
       "      <td>0</td>\n",
       "      <td>NaN</td>\n",
       "      <td>0</td>\n",
       "      <td>NaN</td>\n",
       "      <td>...</td>\n",
       "      <td>0</td>\n",
       "      <td>NaN</td>\n",
       "      <td>0</td>\n",
       "      <td>NaN</td>\n",
       "      <td>0</td>\n",
       "      <td>NaN</td>\n",
       "      <td>17</td>\n",
       "      <td>1</td>\n",
       "      <td>100</td>\n",
       "      <td>1003</td>\n",
       "    </tr>\n",
       "    <tr>\n",
       "      <th>4</th>\n",
       "      <td>1000000US170010001001004</td>\n",
       "      <td>Block 1004, Block Group 1, Census Tract 1, Ada...</td>\n",
       "      <td>0</td>\n",
       "      <td>NaN</td>\n",
       "      <td>0</td>\n",
       "      <td>NaN</td>\n",
       "      <td>0</td>\n",
       "      <td>NaN</td>\n",
       "      <td>0</td>\n",
       "      <td>NaN</td>\n",
       "      <td>...</td>\n",
       "      <td>0</td>\n",
       "      <td>NaN</td>\n",
       "      <td>0</td>\n",
       "      <td>NaN</td>\n",
       "      <td>0</td>\n",
       "      <td>NaN</td>\n",
       "      <td>17</td>\n",
       "      <td>1</td>\n",
       "      <td>100</td>\n",
       "      <td>1004</td>\n",
       "    </tr>\n",
       "    <tr>\n",
       "      <th>...</th>\n",
       "      <td>...</td>\n",
       "      <td>...</td>\n",
       "      <td>...</td>\n",
       "      <td>...</td>\n",
       "      <td>...</td>\n",
       "      <td>...</td>\n",
       "      <td>...</td>\n",
       "      <td>...</td>\n",
       "      <td>...</td>\n",
       "      <td>...</td>\n",
       "      <td>...</td>\n",
       "      <td>...</td>\n",
       "      <td>...</td>\n",
       "      <td>...</td>\n",
       "      <td>...</td>\n",
       "      <td>...</td>\n",
       "      <td>...</td>\n",
       "      <td>...</td>\n",
       "      <td>...</td>\n",
       "      <td>...</td>\n",
       "      <td>...</td>\n",
       "    </tr>\n",
       "    <tr>\n",
       "      <th>369973</th>\n",
       "      <td>1000000US172030307003228</td>\n",
       "      <td>Block 3228, Block Group 3, Census Tract 307, W...</td>\n",
       "      <td>11</td>\n",
       "      <td>NaN</td>\n",
       "      <td>11</td>\n",
       "      <td>NaN</td>\n",
       "      <td>11</td>\n",
       "      <td>NaN</td>\n",
       "      <td>0</td>\n",
       "      <td>NaN</td>\n",
       "      <td>...</td>\n",
       "      <td>0</td>\n",
       "      <td>NaN</td>\n",
       "      <td>0</td>\n",
       "      <td>NaN</td>\n",
       "      <td>0</td>\n",
       "      <td>NaN</td>\n",
       "      <td>17</td>\n",
       "      <td>203</td>\n",
       "      <td>30700</td>\n",
       "      <td>3228</td>\n",
       "    </tr>\n",
       "    <tr>\n",
       "      <th>369974</th>\n",
       "      <td>1000000US172030307003229</td>\n",
       "      <td>Block 3229, Block Group 3, Census Tract 307, W...</td>\n",
       "      <td>0</td>\n",
       "      <td>NaN</td>\n",
       "      <td>0</td>\n",
       "      <td>NaN</td>\n",
       "      <td>0</td>\n",
       "      <td>NaN</td>\n",
       "      <td>0</td>\n",
       "      <td>NaN</td>\n",
       "      <td>...</td>\n",
       "      <td>0</td>\n",
       "      <td>NaN</td>\n",
       "      <td>0</td>\n",
       "      <td>NaN</td>\n",
       "      <td>0</td>\n",
       "      <td>NaN</td>\n",
       "      <td>17</td>\n",
       "      <td>203</td>\n",
       "      <td>30700</td>\n",
       "      <td>3229</td>\n",
       "    </tr>\n",
       "    <tr>\n",
       "      <th>369975</th>\n",
       "      <td>1000000US172030307003230</td>\n",
       "      <td>Block 3230, Block Group 3, Census Tract 307, W...</td>\n",
       "      <td>0</td>\n",
       "      <td>NaN</td>\n",
       "      <td>0</td>\n",
       "      <td>NaN</td>\n",
       "      <td>0</td>\n",
       "      <td>NaN</td>\n",
       "      <td>0</td>\n",
       "      <td>NaN</td>\n",
       "      <td>...</td>\n",
       "      <td>0</td>\n",
       "      <td>NaN</td>\n",
       "      <td>0</td>\n",
       "      <td>NaN</td>\n",
       "      <td>0</td>\n",
       "      <td>NaN</td>\n",
       "      <td>17</td>\n",
       "      <td>203</td>\n",
       "      <td>30700</td>\n",
       "      <td>3230</td>\n",
       "    </tr>\n",
       "    <tr>\n",
       "      <th>369976</th>\n",
       "      <td>1000000US172030307003231</td>\n",
       "      <td>Block 3231, Block Group 3, Census Tract 307, W...</td>\n",
       "      <td>7</td>\n",
       "      <td>NaN</td>\n",
       "      <td>6</td>\n",
       "      <td>NaN</td>\n",
       "      <td>6</td>\n",
       "      <td>NaN</td>\n",
       "      <td>0</td>\n",
       "      <td>NaN</td>\n",
       "      <td>...</td>\n",
       "      <td>0</td>\n",
       "      <td>NaN</td>\n",
       "      <td>0</td>\n",
       "      <td>NaN</td>\n",
       "      <td>0</td>\n",
       "      <td>NaN</td>\n",
       "      <td>17</td>\n",
       "      <td>203</td>\n",
       "      <td>30700</td>\n",
       "      <td>3231</td>\n",
       "    </tr>\n",
       "    <tr>\n",
       "      <th>369977</th>\n",
       "      <td>1000000US172030307003232</td>\n",
       "      <td>Block 3232, Block Group 3, Census Tract 307, W...</td>\n",
       "      <td>0</td>\n",
       "      <td>NaN</td>\n",
       "      <td>0</td>\n",
       "      <td>NaN</td>\n",
       "      <td>0</td>\n",
       "      <td>NaN</td>\n",
       "      <td>0</td>\n",
       "      <td>NaN</td>\n",
       "      <td>...</td>\n",
       "      <td>0</td>\n",
       "      <td>NaN</td>\n",
       "      <td>0</td>\n",
       "      <td>NaN</td>\n",
       "      <td>0</td>\n",
       "      <td>NaN</td>\n",
       "      <td>17</td>\n",
       "      <td>203</td>\n",
       "      <td>30700</td>\n",
       "      <td>3232</td>\n",
       "    </tr>\n",
       "  </tbody>\n",
       "</table>\n",
       "<p>369978 rows × 148 columns</p>\n",
       "</div>"
      ],
      "text/plain": [
       "                          GEO_ID  \\\n",
       "0       1000000US170010001001000   \n",
       "1       1000000US170010001001001   \n",
       "2       1000000US170010001001002   \n",
       "3       1000000US170010001001003   \n",
       "4       1000000US170010001001004   \n",
       "...                          ...   \n",
       "369973  1000000US172030307003228   \n",
       "369974  1000000US172030307003229   \n",
       "369975  1000000US172030307003230   \n",
       "369976  1000000US172030307003231   \n",
       "369977  1000000US172030307003232   \n",
       "\n",
       "                                                     NAME  P1_001N  P1_001NA  \\\n",
       "0       Block 1000, Block Group 1, Census Tract 1, Ada...       17       NaN   \n",
       "1       Block 1001, Block Group 1, Census Tract 1, Ada...        2       NaN   \n",
       "2       Block 1002, Block Group 1, Census Tract 1, Ada...        0       NaN   \n",
       "3       Block 1003, Block Group 1, Census Tract 1, Ada...        0       NaN   \n",
       "4       Block 1004, Block Group 1, Census Tract 1, Ada...        0       NaN   \n",
       "...                                                   ...      ...       ...   \n",
       "369973  Block 3228, Block Group 3, Census Tract 307, W...       11       NaN   \n",
       "369974  Block 3229, Block Group 3, Census Tract 307, W...        0       NaN   \n",
       "369975  Block 3230, Block Group 3, Census Tract 307, W...        0       NaN   \n",
       "369976  Block 3231, Block Group 3, Census Tract 307, W...        7       NaN   \n",
       "369977  Block 3232, Block Group 3, Census Tract 307, W...        0       NaN   \n",
       "\n",
       "        P1_002N  P1_002NA  P1_003N  P1_003NA  P1_004N  P1_004NA  ...  P1_069N  \\\n",
       "0            17       NaN       16       NaN        1       NaN  ...        0   \n",
       "1             2       NaN        1       NaN        0       NaN  ...        0   \n",
       "2             0       NaN        0       NaN        0       NaN  ...        0   \n",
       "3             0       NaN        0       NaN        0       NaN  ...        0   \n",
       "4             0       NaN        0       NaN        0       NaN  ...        0   \n",
       "...         ...       ...      ...       ...      ...       ...  ...      ...   \n",
       "369973       11       NaN       11       NaN        0       NaN  ...        0   \n",
       "369974        0       NaN        0       NaN        0       NaN  ...        0   \n",
       "369975        0       NaN        0       NaN        0       NaN  ...        0   \n",
       "369976        6       NaN        6       NaN        0       NaN  ...        0   \n",
       "369977        0       NaN        0       NaN        0       NaN  ...        0   \n",
       "\n",
       "        P1_069NA  P1_070N  P1_070NA  P1_071N  P1_071NA  state  county  tract  \\\n",
       "0            NaN        0       NaN        0       NaN     17       1    100   \n",
       "1            NaN        0       NaN        0       NaN     17       1    100   \n",
       "2            NaN        0       NaN        0       NaN     17       1    100   \n",
       "3            NaN        0       NaN        0       NaN     17       1    100   \n",
       "4            NaN        0       NaN        0       NaN     17       1    100   \n",
       "...          ...      ...       ...      ...       ...    ...     ...    ...   \n",
       "369973       NaN        0       NaN        0       NaN     17     203  30700   \n",
       "369974       NaN        0       NaN        0       NaN     17     203  30700   \n",
       "369975       NaN        0       NaN        0       NaN     17     203  30700   \n",
       "369976       NaN        0       NaN        0       NaN     17     203  30700   \n",
       "369977       NaN        0       NaN        0       NaN     17     203  30700   \n",
       "\n",
       "        block  \n",
       "0        1000  \n",
       "1        1001  \n",
       "2        1002  \n",
       "3        1003  \n",
       "4        1004  \n",
       "...       ...  \n",
       "369973   3228  \n",
       "369974   3229  \n",
       "369975   3230  \n",
       "369976   3231  \n",
       "369977   3232  \n",
       "\n",
       "[369978 rows x 148 columns]"
      ]
     },
     "execution_count": 6,
     "metadata": {},
     "output_type": "execute_result"
    }
   ],
   "source": [
    "from state import StateByBlockGroup\n",
    "StateIL = StateByBlockGroup(\"17\")\n",
    "StateIL.decennialData"
   ]
  },
  {
   "cell_type": "code",
   "execution_count": 7,
   "metadata": {},
   "outputs": [],
   "source": [
    "def processRealDataset(datasetdf):\n",
    "    datasetdf[\"FIPS\"] = datasetdf[\"GEO_ID\"].map(lambda x: x[-15:])\n",
    "    return datasetdf[[\"FIPS\",\n",
    "                'P1_003N', 'P1_004N', 'P1_005N', 'P1_006N', 'P1_007N',\n",
    "                'P1_008N', 'P1_011N', 'P1_012N', 'P1_013N', 'P1_014N',\n",
    "                'P1_015N', 'P1_016N', 'P1_017N', 'P1_018N', 'P1_019N',\n",
    "                'P1_020N', 'P1_021N', 'P1_022N', 'P1_023N', 'P1_024N',\n",
    "                'P1_025N', 'P1_027N', 'P1_028N', 'P1_029N', 'P1_030N',\n",
    "                'P1_031N', 'P1_032N', 'P1_033N', 'P1_034N', 'P1_035N',\n",
    "                'P1_036N', 'P1_037N', 'P1_038N', 'P1_039N', 'P1_040N',\n",
    "                'P1_041N', 'P1_042N', 'P1_043N', 'P1_044N', 'P1_045N',\n",
    "                'P1_046N', 'P1_048N', 'P1_049N', 'P1_050N', 'P1_051N',\n",
    "                'P1_052N', 'P1_053N', 'P1_054N', 'P1_055N', 'P1_056N',\n",
    "                'P1_057N', 'P1_058N', 'P1_059N', 'P1_060N', 'P1_061N',\n",
    "                'P1_062N', 'P1_063N', 'P1_064N', 'P1_065N', 'P1_066N',\n",
    "                'P1_067N', 'P1_068N', 'P1_069N', 'P1_071N'\n",
    "            ]]"
   ]
  },
  {
   "cell_type": "code",
   "execution_count": 8,
   "metadata": {},
   "outputs": [
    {
     "data": {
      "text/html": [
       "<div>\n",
       "<style scoped>\n",
       "    .dataframe tbody tr th:only-of-type {\n",
       "        vertical-align: middle;\n",
       "    }\n",
       "\n",
       "    .dataframe tbody tr th {\n",
       "        vertical-align: top;\n",
       "    }\n",
       "\n",
       "    .dataframe thead th {\n",
       "        text-align: right;\n",
       "    }\n",
       "</style>\n",
       "<table border=\"1\" class=\"dataframe\">\n",
       "  <thead>\n",
       "    <tr style=\"text-align: right;\">\n",
       "      <th></th>\n",
       "      <th>FIPS</th>\n",
       "      <th>P1_003N</th>\n",
       "      <th>P1_004N</th>\n",
       "      <th>P1_005N</th>\n",
       "      <th>P1_006N</th>\n",
       "      <th>P1_007N</th>\n",
       "      <th>P1_008N</th>\n",
       "      <th>P1_011N</th>\n",
       "      <th>P1_012N</th>\n",
       "      <th>P1_013N</th>\n",
       "      <th>...</th>\n",
       "      <th>P1_061N</th>\n",
       "      <th>P1_062N</th>\n",
       "      <th>P1_063N</th>\n",
       "      <th>P1_064N</th>\n",
       "      <th>P1_065N</th>\n",
       "      <th>P1_066N</th>\n",
       "      <th>P1_067N</th>\n",
       "      <th>P1_068N</th>\n",
       "      <th>P1_069N</th>\n",
       "      <th>P1_071N</th>\n",
       "    </tr>\n",
       "  </thead>\n",
       "  <tbody>\n",
       "    <tr>\n",
       "      <th>0</th>\n",
       "      <td>170010001001000</td>\n",
       "      <td>16</td>\n",
       "      <td>1</td>\n",
       "      <td>0</td>\n",
       "      <td>0</td>\n",
       "      <td>0</td>\n",
       "      <td>0</td>\n",
       "      <td>0</td>\n",
       "      <td>0</td>\n",
       "      <td>0</td>\n",
       "      <td>...</td>\n",
       "      <td>0</td>\n",
       "      <td>0</td>\n",
       "      <td>0</td>\n",
       "      <td>0</td>\n",
       "      <td>0</td>\n",
       "      <td>0</td>\n",
       "      <td>0</td>\n",
       "      <td>0</td>\n",
       "      <td>0</td>\n",
       "      <td>0</td>\n",
       "    </tr>\n",
       "    <tr>\n",
       "      <th>1</th>\n",
       "      <td>170010001001001</td>\n",
       "      <td>1</td>\n",
       "      <td>0</td>\n",
       "      <td>0</td>\n",
       "      <td>0</td>\n",
       "      <td>0</td>\n",
       "      <td>1</td>\n",
       "      <td>0</td>\n",
       "      <td>0</td>\n",
       "      <td>0</td>\n",
       "      <td>...</td>\n",
       "      <td>0</td>\n",
       "      <td>0</td>\n",
       "      <td>0</td>\n",
       "      <td>0</td>\n",
       "      <td>0</td>\n",
       "      <td>0</td>\n",
       "      <td>0</td>\n",
       "      <td>0</td>\n",
       "      <td>0</td>\n",
       "      <td>0</td>\n",
       "    </tr>\n",
       "    <tr>\n",
       "      <th>2</th>\n",
       "      <td>170010001001002</td>\n",
       "      <td>0</td>\n",
       "      <td>0</td>\n",
       "      <td>0</td>\n",
       "      <td>0</td>\n",
       "      <td>0</td>\n",
       "      <td>0</td>\n",
       "      <td>0</td>\n",
       "      <td>0</td>\n",
       "      <td>0</td>\n",
       "      <td>...</td>\n",
       "      <td>0</td>\n",
       "      <td>0</td>\n",
       "      <td>0</td>\n",
       "      <td>0</td>\n",
       "      <td>0</td>\n",
       "      <td>0</td>\n",
       "      <td>0</td>\n",
       "      <td>0</td>\n",
       "      <td>0</td>\n",
       "      <td>0</td>\n",
       "    </tr>\n",
       "    <tr>\n",
       "      <th>3</th>\n",
       "      <td>170010001001003</td>\n",
       "      <td>0</td>\n",
       "      <td>0</td>\n",
       "      <td>0</td>\n",
       "      <td>0</td>\n",
       "      <td>0</td>\n",
       "      <td>0</td>\n",
       "      <td>0</td>\n",
       "      <td>0</td>\n",
       "      <td>0</td>\n",
       "      <td>...</td>\n",
       "      <td>0</td>\n",
       "      <td>0</td>\n",
       "      <td>0</td>\n",
       "      <td>0</td>\n",
       "      <td>0</td>\n",
       "      <td>0</td>\n",
       "      <td>0</td>\n",
       "      <td>0</td>\n",
       "      <td>0</td>\n",
       "      <td>0</td>\n",
       "    </tr>\n",
       "    <tr>\n",
       "      <th>4</th>\n",
       "      <td>170010001001004</td>\n",
       "      <td>0</td>\n",
       "      <td>0</td>\n",
       "      <td>0</td>\n",
       "      <td>0</td>\n",
       "      <td>0</td>\n",
       "      <td>0</td>\n",
       "      <td>0</td>\n",
       "      <td>0</td>\n",
       "      <td>0</td>\n",
       "      <td>...</td>\n",
       "      <td>0</td>\n",
       "      <td>0</td>\n",
       "      <td>0</td>\n",
       "      <td>0</td>\n",
       "      <td>0</td>\n",
       "      <td>0</td>\n",
       "      <td>0</td>\n",
       "      <td>0</td>\n",
       "      <td>0</td>\n",
       "      <td>0</td>\n",
       "    </tr>\n",
       "    <tr>\n",
       "      <th>...</th>\n",
       "      <td>...</td>\n",
       "      <td>...</td>\n",
       "      <td>...</td>\n",
       "      <td>...</td>\n",
       "      <td>...</td>\n",
       "      <td>...</td>\n",
       "      <td>...</td>\n",
       "      <td>...</td>\n",
       "      <td>...</td>\n",
       "      <td>...</td>\n",
       "      <td>...</td>\n",
       "      <td>...</td>\n",
       "      <td>...</td>\n",
       "      <td>...</td>\n",
       "      <td>...</td>\n",
       "      <td>...</td>\n",
       "      <td>...</td>\n",
       "      <td>...</td>\n",
       "      <td>...</td>\n",
       "      <td>...</td>\n",
       "      <td>...</td>\n",
       "    </tr>\n",
       "    <tr>\n",
       "      <th>369973</th>\n",
       "      <td>172030307003228</td>\n",
       "      <td>11</td>\n",
       "      <td>0</td>\n",
       "      <td>0</td>\n",
       "      <td>0</td>\n",
       "      <td>0</td>\n",
       "      <td>0</td>\n",
       "      <td>0</td>\n",
       "      <td>0</td>\n",
       "      <td>0</td>\n",
       "      <td>...</td>\n",
       "      <td>0</td>\n",
       "      <td>0</td>\n",
       "      <td>0</td>\n",
       "      <td>0</td>\n",
       "      <td>0</td>\n",
       "      <td>0</td>\n",
       "      <td>0</td>\n",
       "      <td>0</td>\n",
       "      <td>0</td>\n",
       "      <td>0</td>\n",
       "    </tr>\n",
       "    <tr>\n",
       "      <th>369974</th>\n",
       "      <td>172030307003229</td>\n",
       "      <td>0</td>\n",
       "      <td>0</td>\n",
       "      <td>0</td>\n",
       "      <td>0</td>\n",
       "      <td>0</td>\n",
       "      <td>0</td>\n",
       "      <td>0</td>\n",
       "      <td>0</td>\n",
       "      <td>0</td>\n",
       "      <td>...</td>\n",
       "      <td>0</td>\n",
       "      <td>0</td>\n",
       "      <td>0</td>\n",
       "      <td>0</td>\n",
       "      <td>0</td>\n",
       "      <td>0</td>\n",
       "      <td>0</td>\n",
       "      <td>0</td>\n",
       "      <td>0</td>\n",
       "      <td>0</td>\n",
       "    </tr>\n",
       "    <tr>\n",
       "      <th>369975</th>\n",
       "      <td>172030307003230</td>\n",
       "      <td>0</td>\n",
       "      <td>0</td>\n",
       "      <td>0</td>\n",
       "      <td>0</td>\n",
       "      <td>0</td>\n",
       "      <td>0</td>\n",
       "      <td>0</td>\n",
       "      <td>0</td>\n",
       "      <td>0</td>\n",
       "      <td>...</td>\n",
       "      <td>0</td>\n",
       "      <td>0</td>\n",
       "      <td>0</td>\n",
       "      <td>0</td>\n",
       "      <td>0</td>\n",
       "      <td>0</td>\n",
       "      <td>0</td>\n",
       "      <td>0</td>\n",
       "      <td>0</td>\n",
       "      <td>0</td>\n",
       "    </tr>\n",
       "    <tr>\n",
       "      <th>369976</th>\n",
       "      <td>172030307003231</td>\n",
       "      <td>6</td>\n",
       "      <td>0</td>\n",
       "      <td>0</td>\n",
       "      <td>0</td>\n",
       "      <td>0</td>\n",
       "      <td>0</td>\n",
       "      <td>0</td>\n",
       "      <td>0</td>\n",
       "      <td>0</td>\n",
       "      <td>...</td>\n",
       "      <td>0</td>\n",
       "      <td>0</td>\n",
       "      <td>0</td>\n",
       "      <td>0</td>\n",
       "      <td>0</td>\n",
       "      <td>0</td>\n",
       "      <td>0</td>\n",
       "      <td>0</td>\n",
       "      <td>0</td>\n",
       "      <td>0</td>\n",
       "    </tr>\n",
       "    <tr>\n",
       "      <th>369977</th>\n",
       "      <td>172030307003232</td>\n",
       "      <td>0</td>\n",
       "      <td>0</td>\n",
       "      <td>0</td>\n",
       "      <td>0</td>\n",
       "      <td>0</td>\n",
       "      <td>0</td>\n",
       "      <td>0</td>\n",
       "      <td>0</td>\n",
       "      <td>0</td>\n",
       "      <td>...</td>\n",
       "      <td>0</td>\n",
       "      <td>0</td>\n",
       "      <td>0</td>\n",
       "      <td>0</td>\n",
       "      <td>0</td>\n",
       "      <td>0</td>\n",
       "      <td>0</td>\n",
       "      <td>0</td>\n",
       "      <td>0</td>\n",
       "      <td>0</td>\n",
       "    </tr>\n",
       "  </tbody>\n",
       "</table>\n",
       "<p>369978 rows × 65 columns</p>\n",
       "</div>"
      ],
      "text/plain": [
       "                   FIPS  P1_003N  P1_004N  P1_005N  P1_006N  P1_007N  P1_008N  \\\n",
       "0       170010001001000       16        1        0        0        0        0   \n",
       "1       170010001001001        1        0        0        0        0        1   \n",
       "2       170010001001002        0        0        0        0        0        0   \n",
       "3       170010001001003        0        0        0        0        0        0   \n",
       "4       170010001001004        0        0        0        0        0        0   \n",
       "...                 ...      ...      ...      ...      ...      ...      ...   \n",
       "369973  172030307003228       11        0        0        0        0        0   \n",
       "369974  172030307003229        0        0        0        0        0        0   \n",
       "369975  172030307003230        0        0        0        0        0        0   \n",
       "369976  172030307003231        6        0        0        0        0        0   \n",
       "369977  172030307003232        0        0        0        0        0        0   \n",
       "\n",
       "        P1_011N  P1_012N  P1_013N  ...  P1_061N  P1_062N  P1_063N  P1_064N  \\\n",
       "0             0        0        0  ...        0        0        0        0   \n",
       "1             0        0        0  ...        0        0        0        0   \n",
       "2             0        0        0  ...        0        0        0        0   \n",
       "3             0        0        0  ...        0        0        0        0   \n",
       "4             0        0        0  ...        0        0        0        0   \n",
       "...         ...      ...      ...  ...      ...      ...      ...      ...   \n",
       "369973        0        0        0  ...        0        0        0        0   \n",
       "369974        0        0        0  ...        0        0        0        0   \n",
       "369975        0        0        0  ...        0        0        0        0   \n",
       "369976        0        0        0  ...        0        0        0        0   \n",
       "369977        0        0        0  ...        0        0        0        0   \n",
       "\n",
       "        P1_065N  P1_066N  P1_067N  P1_068N  P1_069N  P1_071N  \n",
       "0             0        0        0        0        0        0  \n",
       "1             0        0        0        0        0        0  \n",
       "2             0        0        0        0        0        0  \n",
       "3             0        0        0        0        0        0  \n",
       "4             0        0        0        0        0        0  \n",
       "...         ...      ...      ...      ...      ...      ...  \n",
       "369973        0        0        0        0        0        0  \n",
       "369974        0        0        0        0        0        0  \n",
       "369975        0        0        0        0        0        0  \n",
       "369976        0        0        0        0        0        0  \n",
       "369977        0        0        0        0        0        0  \n",
       "\n",
       "[369978 rows x 65 columns]"
      ]
     },
     "execution_count": 8,
     "metadata": {},
     "output_type": "execute_result"
    }
   ],
   "source": [
    "processedRealILDataset = processRealDataset(StateIL.decennialData)\n",
    "processedRealILDataset"
   ]
  },
  {
   "cell_type": "markdown",
   "metadata": {},
   "source": [
    "# Comparing the two datasets distributions"
   ]
  },
  {
   "cell_type": "markdown",
   "metadata": {},
   "source": [
    "## By Races"
   ]
  },
  {
   "cell_type": "code",
   "execution_count": 137,
   "metadata": {},
   "outputs": [
    {
     "data": {
      "text/plain": [
       "race\n",
       "P1_003N    7870082\n",
       "P1_004N    1808045\n",
       "P1_005N      96539\n",
       "P1_006N     753645\n",
       "P1_007N       4506\n",
       "            ...   \n",
       "P1_066N         42\n",
       "P1_067N         12\n",
       "P1_068N          6\n",
       "P1_069N         19\n",
       "P1_071N         84\n",
       "Name: FIPS, Length: 64, dtype: int64"
      ]
     },
     "execution_count": 137,
     "metadata": {},
     "output_type": "execute_result"
    }
   ],
   "source": [
    "popByRaceSynthesis = ILdataset.groupby(by = [\"race\"]).FIPS.count()\n",
    "popByRaceSynthesis"
   ]
  },
  {
   "cell_type": "code",
   "execution_count": 138,
   "metadata": {},
   "outputs": [
    {
     "data": {
      "text/plain": [
       "P1_003N    7868227\n",
       "P1_004N    1808271\n",
       "P1_005N      96498\n",
       "P1_006N     754878\n",
       "P1_007N       4501\n",
       "            ...   \n",
       "P1_066N         35\n",
       "P1_067N         14\n",
       "P1_068N          4\n",
       "P1_069N         15\n",
       "P1_071N         84\n",
       "Length: 64, dtype: int64"
      ]
     },
     "execution_count": 138,
     "metadata": {},
     "output_type": "execute_result"
    }
   ],
   "source": [
    "popByRaceReal = processedRealILDataset.drop(['FIPS'], axis=1).sum(axis = 0)\n",
    "popByRaceReal"
   ]
  },
  {
   "cell_type": "markdown",
   "metadata": {},
   "source": [
    "### Plot samples"
   ]
  },
  {
   "cell_type": "code",
   "execution_count": 139,
   "metadata": {},
   "outputs": [
    {
     "data": {
      "image/png": "[encoded data removed]",
      "text/plain": [
       "<Figure size 1600x640 with 1 Axes>"
      ]
     },
     "metadata": {
      "needs_background": "light"
     },
     "output_type": "display_data"
    }
   ],
   "source": [
    "plt.figure(figsize=(20, 8), dpi=80)\n",
    "popByRaceSynthesis.plot.bar(x='Race', y='Population', rot=0)\n",
    "plt.title(\"Number of people by races in Illinois of synthetic dataset\")\n",
    "ax = plt.gca()\n",
    "for tick in ax.get_xticklabels():\n",
    "    tick.set_rotation(45)\n",
    "plt.show()"
   ]
  },
  {
   "cell_type": "code",
   "execution_count": 140,
   "metadata": {},
   "outputs": [
    {
     "data": {
      "image/png": "[encoded data removed]",
      "text/plain": [
       "<Figure size 1600x640 with 1 Axes>"
      ]
     },
     "metadata": {
      "needs_background": "light"
     },
     "output_type": "display_data"
    }
   ],
   "source": [
    "plt.figure(figsize=(20, 8), dpi=80)\n",
    "popByRaceReal.plot.bar(x='Race', y='Population', rot=0)\n",
    "plt.title(\"Number of people by races in Illinois of real dataset\")\n",
    "ax = plt.gca()\n",
    "for tick in ax.get_xticklabels():\n",
    "    tick.set_rotation(45)\n",
    "plt.show()"
   ]
  },
  {
   "cell_type": "markdown",
   "metadata": {},
   "source": [
    "### Compare mean and standard deviation"
   ]
  },
  {
   "cell_type": "code",
   "execution_count": 141,
   "metadata": {},
   "outputs": [
    {
     "name": "stdout",
     "output_type": "stream",
     "text": [
      "Mean of synthetic dataset 200195.4375\n",
      "Standard deviation of synthetic dataset 1015965.0804909625\n"
     ]
    }
   ],
   "source": [
    "print(\"Mean of synthetic dataset\", popByRaceSynthesis.mean())\n",
    "print(\"Standard deviation of synthetic dataset\", popByRaceSynthesis.std())"
   ]
  },
  {
   "cell_type": "code",
   "execution_count": 142,
   "metadata": {},
   "outputs": [
    {
     "name": "stdout",
     "output_type": "stream",
     "text": [
      "Mean of real dataset 200205.90625\n",
      "Standard deviation of real dataset 1015765.3365417935\n"
     ]
    }
   ],
   "source": [
    "print(\"Mean of real dataset\", popByRaceReal.mean())\n",
    "print(\"Standard deviation of real dataset\", popByRaceReal.std())"
   ]
  },
  {
   "cell_type": "markdown",
   "metadata": {},
   "source": [
    "### Compare distribution by two sample t-test"
   ]
  },
  {
   "cell_type": "markdown",
   "metadata": {},
   "source": [
    "$H_0: \\mu_1 = \\mu_2$ (population mean of synthetic dataset is equal to real dataset)\n",
    "\n",
    "$H_1: \\mu_1 \\neq \\mu_2$ (population mean of synthetic dataset is different from real dataset)"
   ]
  },
  {
   "cell_type": "code",
   "execution_count": 143,
   "metadata": {},
   "outputs": [
    {
     "data": {
      "text/plain": [
       "Ttest_indResult(statistic=-5.8295325149161485e-05, pvalue=0.9999535792552408)"
      ]
     },
     "execution_count": 143,
     "metadata": {},
     "output_type": "execute_result"
    }
   ],
   "source": [
    "\n",
    "# Perform the two sample t-test with equal variances\n",
    "stats.ttest_ind(a=popByRaceSynthesis, b=popByRaceReal, equal_var=True)"
   ]
  },
  {
   "cell_type": "markdown",
   "metadata": {},
   "source": [
    "Due to p value = 0.9999535792552408 >> 0.05. Therefore, there is no evidence to support population mean of synthetic dataset is different from real dataset."
   ]
  },
  {
   "cell_type": "markdown",
   "metadata": {},
   "source": [
    "### Test for Homogeneity"
   ]
  },
  {
   "cell_type": "markdown",
   "metadata": {},
   "source": [
    "$H_0$: The distributions of the two populations are the same.\n",
    "\n",
    "$H_1$: The distributions of the two populations are not the same.\n"
   ]
  },
  {
   "cell_type": "code",
   "execution_count": 144,
   "metadata": {},
   "outputs": [
    {
     "data": {
      "text/html": [
       "<div>\n",
       "<style scoped>\n",
       "    .dataframe tbody tr th:only-of-type {\n",
       "        vertical-align: middle;\n",
       "    }\n",
       "\n",
       "    .dataframe tbody tr th {\n",
       "        vertical-align: top;\n",
       "    }\n",
       "\n",
       "    .dataframe thead th {\n",
       "        text-align: right;\n",
       "    }\n",
       "</style>\n",
       "<table border=\"1\" class=\"dataframe\">\n",
       "  <thead>\n",
       "    <tr style=\"text-align: right;\">\n",
       "      <th></th>\n",
       "      <th>Synthesis</th>\n",
       "      <th>Real</th>\n",
       "    </tr>\n",
       "    <tr>\n",
       "      <th>race</th>\n",
       "      <th></th>\n",
       "      <th></th>\n",
       "    </tr>\n",
       "  </thead>\n",
       "  <tbody>\n",
       "    <tr>\n",
       "      <th>P1_003N</th>\n",
       "      <td>7870082</td>\n",
       "      <td>7868227</td>\n",
       "    </tr>\n",
       "    <tr>\n",
       "      <th>P1_004N</th>\n",
       "      <td>1808045</td>\n",
       "      <td>1808271</td>\n",
       "    </tr>\n",
       "    <tr>\n",
       "      <th>P1_005N</th>\n",
       "      <td>96539</td>\n",
       "      <td>96498</td>\n",
       "    </tr>\n",
       "    <tr>\n",
       "      <th>P1_006N</th>\n",
       "      <td>753645</td>\n",
       "      <td>754878</td>\n",
       "    </tr>\n",
       "    <tr>\n",
       "      <th>P1_007N</th>\n",
       "      <td>4506</td>\n",
       "      <td>4501</td>\n",
       "    </tr>\n",
       "    <tr>\n",
       "      <th>...</th>\n",
       "      <td>...</td>\n",
       "      <td>...</td>\n",
       "    </tr>\n",
       "    <tr>\n",
       "      <th>P1_066N</th>\n",
       "      <td>42</td>\n",
       "      <td>35</td>\n",
       "    </tr>\n",
       "    <tr>\n",
       "      <th>P1_067N</th>\n",
       "      <td>12</td>\n",
       "      <td>14</td>\n",
       "    </tr>\n",
       "    <tr>\n",
       "      <th>P1_068N</th>\n",
       "      <td>6</td>\n",
       "      <td>4</td>\n",
       "    </tr>\n",
       "    <tr>\n",
       "      <th>P1_069N</th>\n",
       "      <td>19</td>\n",
       "      <td>15</td>\n",
       "    </tr>\n",
       "    <tr>\n",
       "      <th>P1_071N</th>\n",
       "      <td>84</td>\n",
       "      <td>84</td>\n",
       "    </tr>\n",
       "  </tbody>\n",
       "</table>\n",
       "<p>64 rows × 2 columns</p>\n",
       "</div>"
      ],
      "text/plain": [
       "         Synthesis     Real\n",
       "race                       \n",
       "P1_003N    7870082  7868227\n",
       "P1_004N    1808045  1808271\n",
       "P1_005N      96539    96498\n",
       "P1_006N     753645   754878\n",
       "P1_007N       4506     4501\n",
       "...            ...      ...\n",
       "P1_066N         42       35\n",
       "P1_067N         12       14\n",
       "P1_068N          6        4\n",
       "P1_069N         19       15\n",
       "P1_071N         84       84\n",
       "\n",
       "[64 rows x 2 columns]"
      ]
     },
     "execution_count": 144,
     "metadata": {},
     "output_type": "execute_result"
    }
   ],
   "source": [
    "popByRaceReal.name = \"Real\"\n",
    "popByRaceSynthesis.name = \"Synthesis\"\n",
    "mergeddf = pd.merge(popByRaceSynthesis, popByRaceReal, right_index = True,\n",
    "               left_index = True)\n",
    "mergeddf"
   ]
  },
  {
   "cell_type": "code",
   "execution_count": 145,
   "metadata": {},
   "outputs": [
    {
     "data": {
      "text/plain": [
       "0.9999887328978065"
      ]
     },
     "execution_count": 145,
     "metadata": {},
     "output_type": "execute_result"
    }
   ],
   "source": [
    "stat, p, dof, expected = stats.chi2_contingency(mergeddf)\n",
    "p"
   ]
  },
  {
   "cell_type": "code",
   "execution_count": 146,
   "metadata": {},
   "outputs": [
    {
     "name": "stdout",
     "output_type": "stream",
     "text": [
      "Independent (fail to reject H0)\n"
     ]
    }
   ],
   "source": [
    "# interpret test-statistic\n",
    "prob = 0.95\n",
    "critical = stats.chi2.ppf(prob, dof)\n",
    "if abs(stat) >= critical:\n",
    "    print('Dependent (reject H0)')\n",
    "else:\n",
    "    print('Independent (fail to reject H0)')"
   ]
  },
  {
   "cell_type": "markdown",
   "metadata": {},
   "source": [
    "Due to p value = 0.9908510047877276 >> 0.05. Therefore, there is no evidence to support population mean of synthetic dataset is different from real dataset."
   ]
  },
  {
   "cell_type": "markdown",
   "metadata": {},
   "source": [
    "### K-S test"
   ]
  },
  {
   "cell_type": "markdown",
   "metadata": {},
   "source": [
    "$H_0: $ The two datasets come from the same ditribution \n",
    "\n",
    "$H_1: $ The two datasets NOT come from the same ditribution \n"
   ]
  },
  {
   "cell_type": "code",
   "execution_count": 147,
   "metadata": {},
   "outputs": [
    {
     "data": {
      "text/plain": [
       "KstestResult(statistic=0.046875, pvalue=0.9999999044253438)"
      ]
     },
     "execution_count": 147,
     "metadata": {},
     "output_type": "execute_result"
    }
   ],
   "source": [
    "stats.ks_2samp(popByRaceSynthesis, popByRaceReal)"
   ]
  },
  {
   "cell_type": "markdown",
   "metadata": {},
   "source": [
    "Due to p value = 0.9999999044253438 >> 0.05. Therefore, there is no evidence to support the distributions of the two populations are not the same."
   ]
  },
  {
   "cell_type": "markdown",
   "metadata": {},
   "source": [
    "## By FIPS"
   ]
  },
  {
   "cell_type": "code",
   "execution_count": 10,
   "metadata": {},
   "outputs": [
    {
     "data": {
      "text/plain": [
       "FIPS\n",
       "170010001001000     21\n",
       "170010001001001      1\n",
       "170010001001007     50\n",
       "170010001001008    189\n",
       "170010001001009     19\n",
       "                  ... \n",
       "172030307003217      5\n",
       "172030307003223      5\n",
       "172030307003226      4\n",
       "172030307003228     14\n",
       "172030307003231      5\n",
       "Name: FIPS, Length: 274520, dtype: int64"
      ]
     },
     "execution_count": 10,
     "metadata": {},
     "output_type": "execute_result"
    }
   ],
   "source": [
    "popByFIPSSynthesis = ILdataset.groupby(by = [\"FIPS\"]).FIPS.count()\n",
    "popByFIPSSynthesis = popByFIPSSynthesis.rename(lambda x: str(x))\n",
    "popByFIPSSynthesis"
   ]
  },
  {
   "cell_type": "code",
   "execution_count": 11,
   "metadata": {},
   "outputs": [
    {
     "data": {
      "text/plain": [
       "170010001001000    17\n",
       "170010001001001     2\n",
       "170010001001002     0\n",
       "170010001001003     0\n",
       "170010001001004     0\n",
       "                   ..\n",
       "172030307003228    11\n",
       "172030307003229     0\n",
       "172030307003230     0\n",
       "172030307003231     7\n",
       "172030307003232     0\n",
       "Length: 369978, dtype: int64"
      ]
     },
     "execution_count": 11,
     "metadata": {},
     "output_type": "execute_result"
    }
   ],
   "source": [
    "popByFIPSReal = processedRealILDataset.drop(['FIPS'], axis=1).sum(axis = 1)\n",
    "popByFIPSReal = popByFIPSReal.rename(processedRealILDataset['FIPS'])\n",
    "popByFIPSReal"
   ]
  },
  {
   "cell_type": "markdown",
   "metadata": {},
   "source": [
    "### Plot samples"
   ]
  },
  {
   "cell_type": "code",
   "execution_count": 12,
   "metadata": {},
   "outputs": [
    {
     "data": {
      "image/png": "[encoded data removed]",
      "text/plain": [
       "<Figure size 1600x640 with 1 Axes>"
      ]
     },
     "metadata": {
      "needs_background": "light"
     },
     "output_type": "display_data"
    }
   ],
   "source": [
    "plt.figure(figsize=(20, 8), dpi=80)\n",
    "popByFIPSSynthesis.plot(x='FIPS', y='Population', rot=0)\n",
    "plt.title(\"Number of people by races in Illinois of synthetic dataset\")\n",
    "ax = plt.gca()\n",
    "for tick in ax.get_xticklabels():\n",
    "    tick.set_rotation(45)\n",
    "plt.show()"
   ]
  },
  {
   "cell_type": "code",
   "execution_count": 13,
   "metadata": {},
   "outputs": [
    {
     "data": {
      "image/png": "[encoded data removed]",
      "text/plain": [
       "<Figure size 1600x640 with 1 Axes>"
      ]
     },
     "metadata": {
      "needs_background": "light"
     },
     "output_type": "display_data"
    }
   ],
   "source": [
    "plt.figure(figsize=(20, 8), dpi=80)\n",
    "popByFIPSReal.plot(x='Race', y='Population', rot=0)\n",
    "plt.title(\"Number of people by races in Illinois of real dataset\")\n",
    "ax = plt.gca()\n",
    "for tick in ax.get_xticklabels():\n",
    "    tick.set_rotation(45)\n",
    "plt.show()"
   ]
  },
  {
   "cell_type": "markdown",
   "metadata": {},
   "source": [
    "### Test for Homogeneity"
   ]
  },
  {
   "cell_type": "markdown",
   "metadata": {},
   "source": [
    "$H_0$: The distributions of the two populations are the same.\n",
    "\n",
    "$H_1$: The distributions of the two populations are not the same.\n"
   ]
  },
  {
   "cell_type": "code",
   "execution_count": 14,
   "metadata": {},
   "outputs": [
    {
     "data": {
      "text/html": [
       "<div>\n",
       "<style scoped>\n",
       "    .dataframe tbody tr th:only-of-type {\n",
       "        vertical-align: middle;\n",
       "    }\n",
       "\n",
       "    .dataframe tbody tr th {\n",
       "        vertical-align: top;\n",
       "    }\n",
       "\n",
       "    .dataframe thead th {\n",
       "        text-align: right;\n",
       "    }\n",
       "</style>\n",
       "<table border=\"1\" class=\"dataframe\">\n",
       "  <thead>\n",
       "    <tr style=\"text-align: right;\">\n",
       "      <th></th>\n",
       "      <th>Synthesis</th>\n",
       "      <th>Real</th>\n",
       "    </tr>\n",
       "  </thead>\n",
       "  <tbody>\n",
       "    <tr>\n",
       "      <th>170010001001000</th>\n",
       "      <td>21</td>\n",
       "      <td>17</td>\n",
       "    </tr>\n",
       "    <tr>\n",
       "      <th>170010001001001</th>\n",
       "      <td>1</td>\n",
       "      <td>2</td>\n",
       "    </tr>\n",
       "    <tr>\n",
       "      <th>170010001001002</th>\n",
       "      <td>0</td>\n",
       "      <td>0</td>\n",
       "    </tr>\n",
       "    <tr>\n",
       "      <th>170010001001003</th>\n",
       "      <td>0</td>\n",
       "      <td>0</td>\n",
       "    </tr>\n",
       "    <tr>\n",
       "      <th>170010001001004</th>\n",
       "      <td>0</td>\n",
       "      <td>0</td>\n",
       "    </tr>\n",
       "    <tr>\n",
       "      <th>...</th>\n",
       "      <td>...</td>\n",
       "      <td>...</td>\n",
       "    </tr>\n",
       "    <tr>\n",
       "      <th>172030307003228</th>\n",
       "      <td>14</td>\n",
       "      <td>11</td>\n",
       "    </tr>\n",
       "    <tr>\n",
       "      <th>172030307003229</th>\n",
       "      <td>0</td>\n",
       "      <td>0</td>\n",
       "    </tr>\n",
       "    <tr>\n",
       "      <th>172030307003230</th>\n",
       "      <td>0</td>\n",
       "      <td>0</td>\n",
       "    </tr>\n",
       "    <tr>\n",
       "      <th>172030307003231</th>\n",
       "      <td>5</td>\n",
       "      <td>7</td>\n",
       "    </tr>\n",
       "    <tr>\n",
       "      <th>172030307003232</th>\n",
       "      <td>0</td>\n",
       "      <td>0</td>\n",
       "    </tr>\n",
       "  </tbody>\n",
       "</table>\n",
       "<p>369978 rows × 2 columns</p>\n",
       "</div>"
      ],
      "text/plain": [
       "                 Synthesis  Real\n",
       "170010001001000         21    17\n",
       "170010001001001          1     2\n",
       "170010001001002          0     0\n",
       "170010001001003          0     0\n",
       "170010001001004          0     0\n",
       "...                    ...   ...\n",
       "172030307003228         14    11\n",
       "172030307003229          0     0\n",
       "172030307003230          0     0\n",
       "172030307003231          5     7\n",
       "172030307003232          0     0\n",
       "\n",
       "[369978 rows x 2 columns]"
      ]
     },
     "execution_count": 14,
     "metadata": {},
     "output_type": "execute_result"
    }
   ],
   "source": [
    "popByFIPSReal.name = \"Real\"\n",
    "popByFIPSSynthesis.name = \"Synthesis\"\n",
    "mergeddf = pd.merge(popByFIPSSynthesis, popByFIPSReal, how= 'outer', right_index = True,\n",
    "               left_index = True).fillna(0)\n",
    "mergeddf = mergeddf.astype({'Synthesis': 'int32'})\n",
    "mergeddf"
   ]
  },
  {
   "cell_type": "markdown",
   "metadata": {},
   "source": [
    "### Compare mean and standard deviation"
   ]
  },
  {
   "cell_type": "code",
   "execution_count": 19,
   "metadata": {},
   "outputs": [
    {
     "name": "stdout",
     "output_type": "stream",
     "text": [
      "Mean of synthetic dataset 34.63045910837942\n",
      "Standard deviation of synthetic dataset 68.0433708932947\n"
     ]
    }
   ],
   "source": [
    "print(\"Mean of synthetic dataset\", mergeddf[\"Synthesis\"].mean())\n",
    "print(\"Standard deviation of synthetic dataset\", mergeddf[\"Synthesis\"].std())"
   ]
  },
  {
   "cell_type": "code",
   "execution_count": 20,
   "metadata": {},
   "outputs": [
    {
     "name": "stdout",
     "output_type": "stream",
     "text": [
      "Mean of real dataset 34.632270026866465\n",
      "Standard deviation of real dataset 67.80617324548147\n"
     ]
    }
   ],
   "source": [
    "print(\"Mean of real dataset\", mergeddf[\"Real\"].mean())\n",
    "print(\"Standard deviation of real dataset\", mergeddf[\"Real\"].std())"
   ]
  },
  {
   "cell_type": "markdown",
   "metadata": {},
   "source": [
    "### Binning FIPS"
   ]
  },
  {
   "cell_type": "code",
   "execution_count": 24,
   "metadata": {},
   "outputs": [
    {
     "data": {
      "text/html": [
       "<div>\n",
       "<style scoped>\n",
       "    .dataframe tbody tr th:only-of-type {\n",
       "        vertical-align: middle;\n",
       "    }\n",
       "\n",
       "    .dataframe tbody tr th {\n",
       "        vertical-align: top;\n",
       "    }\n",
       "\n",
       "    .dataframe thead th {\n",
       "        text-align: right;\n",
       "    }\n",
       "</style>\n",
       "<table border=\"1\" class=\"dataframe\">\n",
       "  <thead>\n",
       "    <tr style=\"text-align: right;\">\n",
       "      <th></th>\n",
       "      <th>Synthesis</th>\n",
       "      <th>Real</th>\n",
       "    </tr>\n",
       "  </thead>\n",
       "  <tbody>\n",
       "    <tr>\n",
       "      <th>34002000200200</th>\n",
       "      <td>22</td>\n",
       "      <td>19</td>\n",
       "    </tr>\n",
       "    <tr>\n",
       "      <th>34002000200201</th>\n",
       "      <td>258</td>\n",
       "      <td>263</td>\n",
       "    </tr>\n",
       "    <tr>\n",
       "      <th>34002000200202</th>\n",
       "      <td>51</td>\n",
       "      <td>44</td>\n",
       "    </tr>\n",
       "    <tr>\n",
       "      <th>34002000200203</th>\n",
       "      <td>92</td>\n",
       "      <td>83</td>\n",
       "    </tr>\n",
       "    <tr>\n",
       "      <th>34002000200204</th>\n",
       "      <td>56</td>\n",
       "      <td>51</td>\n",
       "    </tr>\n",
       "    <tr>\n",
       "      <th>...</th>\n",
       "      <td>...</td>\n",
       "      <td>...</td>\n",
       "    </tr>\n",
       "    <tr>\n",
       "      <th>34406061400642</th>\n",
       "      <td>114</td>\n",
       "      <td>127</td>\n",
       "    </tr>\n",
       "    <tr>\n",
       "      <th>34406061400643</th>\n",
       "      <td>13</td>\n",
       "      <td>12</td>\n",
       "    </tr>\n",
       "    <tr>\n",
       "      <th>34406061400644</th>\n",
       "      <td>5</td>\n",
       "      <td>4</td>\n",
       "    </tr>\n",
       "    <tr>\n",
       "      <th>34406061400645</th>\n",
       "      <td>18</td>\n",
       "      <td>16</td>\n",
       "    </tr>\n",
       "    <tr>\n",
       "      <th>34406061400646</th>\n",
       "      <td>5</td>\n",
       "      <td>7</td>\n",
       "    </tr>\n",
       "  </tbody>\n",
       "</table>\n",
       "<p>77966 rows × 2 columns</p>\n",
       "</div>"
      ],
      "text/plain": [
       "                Synthesis  Real\n",
       "34002000200200         22    19\n",
       "34002000200201        258   263\n",
       "34002000200202         51    44\n",
       "34002000200203         92    83\n",
       "34002000200204         56    51\n",
       "...                   ...   ...\n",
       "34406061400642        114   127\n",
       "34406061400643         13    12\n",
       "34406061400644          5     4\n",
       "34406061400645         18    16\n",
       "34406061400646          5     7\n",
       "\n",
       "[77966 rows x 2 columns]"
      ]
     },
     "execution_count": 24,
     "metadata": {},
     "output_type": "execute_result"
    }
   ],
   "source": [
    "N = 5\n",
    "mergeddf.index = mergeddf.index.map(lambda x : int(x))\n",
    "binningdf = mergeddf.groupby(mergeddf.index // N).sum()\n",
    "binningdf"
   ]
  },
  {
   "cell_type": "markdown",
   "metadata": {},
   "source": [
    "### Test for Homogeneity"
   ]
  },
  {
   "cell_type": "markdown",
   "metadata": {},
   "source": [
    "$H_0$: The distributions of the two populations are the same.\n",
    "\n",
    "$H_1$: The distributions of the two populations are not the same.\n"
   ]
  },
  {
   "cell_type": "code",
   "execution_count": 25,
   "metadata": {},
   "outputs": [
    {
     "data": {
      "text/html": [
       "<div>\n",
       "<style scoped>\n",
       "    .dataframe tbody tr th:only-of-type {\n",
       "        vertical-align: middle;\n",
       "    }\n",
       "\n",
       "    .dataframe tbody tr th {\n",
       "        vertical-align: top;\n",
       "    }\n",
       "\n",
       "    .dataframe thead th {\n",
       "        text-align: right;\n",
       "    }\n",
       "</style>\n",
       "<table border=\"1\" class=\"dataframe\">\n",
       "  <thead>\n",
       "    <tr style=\"text-align: right;\">\n",
       "      <th>Synthesis</th>\n",
       "      <th>0</th>\n",
       "      <th>1</th>\n",
       "      <th>2</th>\n",
       "      <th>3</th>\n",
       "      <th>4</th>\n",
       "      <th>5</th>\n",
       "      <th>6</th>\n",
       "      <th>7</th>\n",
       "      <th>8</th>\n",
       "      <th>9</th>\n",
       "      <th>...</th>\n",
       "      <th>2724</th>\n",
       "      <th>2765</th>\n",
       "      <th>2890</th>\n",
       "      <th>3016</th>\n",
       "      <th>3093</th>\n",
       "      <th>3308</th>\n",
       "      <th>3527</th>\n",
       "      <th>3589</th>\n",
       "      <th>4905</th>\n",
       "      <th>All</th>\n",
       "    </tr>\n",
       "    <tr>\n",
       "      <th>Real</th>\n",
       "      <th></th>\n",
       "      <th></th>\n",
       "      <th></th>\n",
       "      <th></th>\n",
       "      <th></th>\n",
       "      <th></th>\n",
       "      <th></th>\n",
       "      <th></th>\n",
       "      <th></th>\n",
       "      <th></th>\n",
       "      <th></th>\n",
       "      <th></th>\n",
       "      <th></th>\n",
       "      <th></th>\n",
       "      <th></th>\n",
       "      <th></th>\n",
       "      <th></th>\n",
       "      <th></th>\n",
       "      <th></th>\n",
       "      <th></th>\n",
       "      <th></th>\n",
       "    </tr>\n",
       "  </thead>\n",
       "  <tbody>\n",
       "    <tr>\n",
       "      <th>0</th>\n",
       "      <td>3401</td>\n",
       "      <td>0</td>\n",
       "      <td>0</td>\n",
       "      <td>0</td>\n",
       "      <td>0</td>\n",
       "      <td>0</td>\n",
       "      <td>0</td>\n",
       "      <td>0</td>\n",
       "      <td>0</td>\n",
       "      <td>0</td>\n",
       "      <td>...</td>\n",
       "      <td>0</td>\n",
       "      <td>0</td>\n",
       "      <td>0</td>\n",
       "      <td>0</td>\n",
       "      <td>0</td>\n",
       "      <td>0</td>\n",
       "      <td>0</td>\n",
       "      <td>0</td>\n",
       "      <td>0</td>\n",
       "      <td>3401</td>\n",
       "    </tr>\n",
       "    <tr>\n",
       "      <th>1</th>\n",
       "      <td>100</td>\n",
       "      <td>74</td>\n",
       "      <td>57</td>\n",
       "      <td>7</td>\n",
       "      <td>2</td>\n",
       "      <td>0</td>\n",
       "      <td>0</td>\n",
       "      <td>0</td>\n",
       "      <td>0</td>\n",
       "      <td>0</td>\n",
       "      <td>...</td>\n",
       "      <td>0</td>\n",
       "      <td>0</td>\n",
       "      <td>0</td>\n",
       "      <td>0</td>\n",
       "      <td>0</td>\n",
       "      <td>0</td>\n",
       "      <td>0</td>\n",
       "      <td>0</td>\n",
       "      <td>0</td>\n",
       "      <td>240</td>\n",
       "    </tr>\n",
       "    <tr>\n",
       "      <th>2</th>\n",
       "      <td>40</td>\n",
       "      <td>99</td>\n",
       "      <td>89</td>\n",
       "      <td>68</td>\n",
       "      <td>36</td>\n",
       "      <td>10</td>\n",
       "      <td>4</td>\n",
       "      <td>1</td>\n",
       "      <td>0</td>\n",
       "      <td>0</td>\n",
       "      <td>...</td>\n",
       "      <td>0</td>\n",
       "      <td>0</td>\n",
       "      <td>0</td>\n",
       "      <td>0</td>\n",
       "      <td>0</td>\n",
       "      <td>0</td>\n",
       "      <td>0</td>\n",
       "      <td>0</td>\n",
       "      <td>0</td>\n",
       "      <td>347</td>\n",
       "    </tr>\n",
       "    <tr>\n",
       "      <th>3</th>\n",
       "      <td>16</td>\n",
       "      <td>64</td>\n",
       "      <td>89</td>\n",
       "      <td>85</td>\n",
       "      <td>71</td>\n",
       "      <td>32</td>\n",
       "      <td>17</td>\n",
       "      <td>9</td>\n",
       "      <td>7</td>\n",
       "      <td>3</td>\n",
       "      <td>...</td>\n",
       "      <td>0</td>\n",
       "      <td>0</td>\n",
       "      <td>0</td>\n",
       "      <td>0</td>\n",
       "      <td>0</td>\n",
       "      <td>0</td>\n",
       "      <td>0</td>\n",
       "      <td>0</td>\n",
       "      <td>0</td>\n",
       "      <td>393</td>\n",
       "    </tr>\n",
       "    <tr>\n",
       "      <th>4</th>\n",
       "      <td>7</td>\n",
       "      <td>24</td>\n",
       "      <td>53</td>\n",
       "      <td>74</td>\n",
       "      <td>72</td>\n",
       "      <td>72</td>\n",
       "      <td>53</td>\n",
       "      <td>23</td>\n",
       "      <td>7</td>\n",
       "      <td>7</td>\n",
       "      <td>...</td>\n",
       "      <td>0</td>\n",
       "      <td>0</td>\n",
       "      <td>0</td>\n",
       "      <td>0</td>\n",
       "      <td>0</td>\n",
       "      <td>0</td>\n",
       "      <td>0</td>\n",
       "      <td>0</td>\n",
       "      <td>0</td>\n",
       "      <td>395</td>\n",
       "    </tr>\n",
       "    <tr>\n",
       "      <th>...</th>\n",
       "      <td>...</td>\n",
       "      <td>...</td>\n",
       "      <td>...</td>\n",
       "      <td>...</td>\n",
       "      <td>...</td>\n",
       "      <td>...</td>\n",
       "      <td>...</td>\n",
       "      <td>...</td>\n",
       "      <td>...</td>\n",
       "      <td>...</td>\n",
       "      <td>...</td>\n",
       "      <td>...</td>\n",
       "      <td>...</td>\n",
       "      <td>...</td>\n",
       "      <td>...</td>\n",
       "      <td>...</td>\n",
       "      <td>...</td>\n",
       "      <td>...</td>\n",
       "      <td>...</td>\n",
       "      <td>...</td>\n",
       "      <td>...</td>\n",
       "    </tr>\n",
       "    <tr>\n",
       "      <th>3283</th>\n",
       "      <td>0</td>\n",
       "      <td>0</td>\n",
       "      <td>0</td>\n",
       "      <td>0</td>\n",
       "      <td>0</td>\n",
       "      <td>0</td>\n",
       "      <td>0</td>\n",
       "      <td>0</td>\n",
       "      <td>0</td>\n",
       "      <td>0</td>\n",
       "      <td>...</td>\n",
       "      <td>0</td>\n",
       "      <td>0</td>\n",
       "      <td>0</td>\n",
       "      <td>0</td>\n",
       "      <td>0</td>\n",
       "      <td>1</td>\n",
       "      <td>0</td>\n",
       "      <td>0</td>\n",
       "      <td>0</td>\n",
       "      <td>1</td>\n",
       "    </tr>\n",
       "    <tr>\n",
       "      <th>3543</th>\n",
       "      <td>0</td>\n",
       "      <td>0</td>\n",
       "      <td>0</td>\n",
       "      <td>0</td>\n",
       "      <td>0</td>\n",
       "      <td>0</td>\n",
       "      <td>0</td>\n",
       "      <td>0</td>\n",
       "      <td>0</td>\n",
       "      <td>0</td>\n",
       "      <td>...</td>\n",
       "      <td>0</td>\n",
       "      <td>0</td>\n",
       "      <td>0</td>\n",
       "      <td>0</td>\n",
       "      <td>0</td>\n",
       "      <td>0</td>\n",
       "      <td>1</td>\n",
       "      <td>0</td>\n",
       "      <td>0</td>\n",
       "      <td>1</td>\n",
       "    </tr>\n",
       "    <tr>\n",
       "      <th>3625</th>\n",
       "      <td>0</td>\n",
       "      <td>0</td>\n",
       "      <td>0</td>\n",
       "      <td>0</td>\n",
       "      <td>0</td>\n",
       "      <td>0</td>\n",
       "      <td>0</td>\n",
       "      <td>0</td>\n",
       "      <td>0</td>\n",
       "      <td>0</td>\n",
       "      <td>...</td>\n",
       "      <td>0</td>\n",
       "      <td>0</td>\n",
       "      <td>0</td>\n",
       "      <td>0</td>\n",
       "      <td>0</td>\n",
       "      <td>0</td>\n",
       "      <td>0</td>\n",
       "      <td>1</td>\n",
       "      <td>0</td>\n",
       "      <td>1</td>\n",
       "    </tr>\n",
       "    <tr>\n",
       "      <th>4974</th>\n",
       "      <td>0</td>\n",
       "      <td>0</td>\n",
       "      <td>0</td>\n",
       "      <td>0</td>\n",
       "      <td>0</td>\n",
       "      <td>0</td>\n",
       "      <td>0</td>\n",
       "      <td>0</td>\n",
       "      <td>0</td>\n",
       "      <td>0</td>\n",
       "      <td>...</td>\n",
       "      <td>0</td>\n",
       "      <td>0</td>\n",
       "      <td>0</td>\n",
       "      <td>0</td>\n",
       "      <td>0</td>\n",
       "      <td>0</td>\n",
       "      <td>0</td>\n",
       "      <td>0</td>\n",
       "      <td>1</td>\n",
       "      <td>1</td>\n",
       "    </tr>\n",
       "    <tr>\n",
       "      <th>All</th>\n",
       "      <td>3569</td>\n",
       "      <td>287</td>\n",
       "      <td>365</td>\n",
       "      <td>409</td>\n",
       "      <td>443</td>\n",
       "      <td>446</td>\n",
       "      <td>477</td>\n",
       "      <td>499</td>\n",
       "      <td>515</td>\n",
       "      <td>537</td>\n",
       "      <td>...</td>\n",
       "      <td>1</td>\n",
       "      <td>1</td>\n",
       "      <td>1</td>\n",
       "      <td>1</td>\n",
       "      <td>1</td>\n",
       "      <td>1</td>\n",
       "      <td>1</td>\n",
       "      <td>1</td>\n",
       "      <td>1</td>\n",
       "      <td>77966</td>\n",
       "    </tr>\n",
       "  </tbody>\n",
       "</table>\n",
       "<p>1440 rows × 1422 columns</p>\n",
       "</div>"
      ],
      "text/plain": [
       "Synthesis     0    1    2    3    4    5    6    7    8    9  ...  2724  2765  \\\n",
       "Real                                                          ...               \n",
       "0          3401    0    0    0    0    0    0    0    0    0  ...     0     0   \n",
       "1           100   74   57    7    2    0    0    0    0    0  ...     0     0   \n",
       "2            40   99   89   68   36   10    4    1    0    0  ...     0     0   \n",
       "3            16   64   89   85   71   32   17    9    7    3  ...     0     0   \n",
       "4             7   24   53   74   72   72   53   23    7    7  ...     0     0   \n",
       "...         ...  ...  ...  ...  ...  ...  ...  ...  ...  ...  ...   ...   ...   \n",
       "3283          0    0    0    0    0    0    0    0    0    0  ...     0     0   \n",
       "3543          0    0    0    0    0    0    0    0    0    0  ...     0     0   \n",
       "3625          0    0    0    0    0    0    0    0    0    0  ...     0     0   \n",
       "4974          0    0    0    0    0    0    0    0    0    0  ...     0     0   \n",
       "All        3569  287  365  409  443  446  477  499  515  537  ...     1     1   \n",
       "\n",
       "Synthesis  2890  3016  3093  3308  3527  3589  4905    All  \n",
       "Real                                                        \n",
       "0             0     0     0     0     0     0     0   3401  \n",
       "1             0     0     0     0     0     0     0    240  \n",
       "2             0     0     0     0     0     0     0    347  \n",
       "3             0     0     0     0     0     0     0    393  \n",
       "4             0     0     0     0     0     0     0    395  \n",
       "...         ...   ...   ...   ...   ...   ...   ...    ...  \n",
       "3283          0     0     0     1     0     0     0      1  \n",
       "3543          0     0     0     0     1     0     0      1  \n",
       "3625          0     0     0     0     0     1     0      1  \n",
       "4974          0     0     0     0     0     0     1      1  \n",
       "All           1     1     1     1     1     1     1  77966  \n",
       "\n",
       "[1440 rows x 1422 columns]"
      ]
     },
     "execution_count": 25,
     "metadata": {},
     "output_type": "execute_result"
    }
   ],
   "source": [
    "ct = pd.crosstab(binningdf[\"Real\"], binningdf[\"Synthesis\"], margins=True)\n",
    "ct"
   ]
  },
  {
   "cell_type": "code",
   "execution_count": 26,
   "metadata": {},
   "outputs": [],
   "source": [
    "g, p, dof, expctd = stats.chi2_contingency(ct, lambda_=\"log-likelihood\")"
   ]
  },
  {
   "cell_type": "code",
   "execution_count": 27,
   "metadata": {},
   "outputs": [
    {
     "name": "stdout",
     "output_type": "stream",
     "text": [
      "Independent (fail to reject H0)\n"
     ]
    }
   ],
   "source": [
    "# interpret test-statistic\n",
    "prob = 0.95\n",
    "critical = stats.chi2.ppf(prob, dof)\n",
    "if abs(g) >= critical:\n",
    "    print('Dependent (reject H0)')\n",
    "else:\n",
    "    print('Independent (fail to reject H0)')"
   ]
  },
  {
   "cell_type": "code",
   "execution_count": 28,
   "metadata": {
    "scrolled": true
   },
   "outputs": [
    {
     "data": {
      "text/plain": [
       "1.0"
      ]
     },
     "execution_count": 28,
     "metadata": {},
     "output_type": "execute_result"
    }
   ],
   "source": [
    "p"
   ]
  },
  {
   "cell_type": "markdown",
   "metadata": {},
   "source": [
    "Due to p value = 1.0 >> 0.05.Therefore, there is no evidence to support the distributions of the two populations are not the same."
   ]
  },
  {
   "cell_type": "markdown",
   "metadata": {},
   "source": [
    "### Compare distribution by two sample t-test"
   ]
  },
  {
   "cell_type": "markdown",
   "metadata": {},
   "source": [
    "$H_0: \\mu_1 = \\mu_2$ (population mean of synthetic dataset is equal to real dataset)\n",
    "\n",
    "$H_1: \\mu_1 \\neq \\mu_2$ (population mean of synthetic dataset is different from real dataset)"
   ]
  },
  {
   "cell_type": "code",
   "execution_count": 31,
   "metadata": {},
   "outputs": [
    {
     "data": {
      "text/plain": [
       "Ttest_indResult(statistic=-0.008248069195597552, pvalue=0.9934190781015679)"
      ]
     },
     "execution_count": 31,
     "metadata": {},
     "output_type": "execute_result"
    }
   ],
   "source": [
    "# Perform the two sample t-test with equal variances\n",
    "stats.ttest_ind(a=binningdf[\"Synthesis\"], b=binningdf[\"Real\"], equal_var=True)"
   ]
  },
  {
   "cell_type": "markdown",
   "metadata": {},
   "source": [
    "Due to p value = 0.9934190781015679 >> 0.05.Therefore, there is no evidence to support the population mean of the two populations are not the same."
   ]
  },
  {
   "cell_type": "markdown",
   "metadata": {},
   "source": [
    "### K-S test"
   ]
  },
  {
   "cell_type": "markdown",
   "metadata": {},
   "source": [
    "$H_0: $ The two datasets come from the same ditribution \n",
    "\n",
    "$H_q: $ The two datasets NOT come from the same ditribution \n"
   ]
  },
  {
   "cell_type": "code",
   "execution_count": 33,
   "metadata": {},
   "outputs": [
    {
     "data": {
      "text/plain": [
       "KstestResult(statistic=0.004258266423825777, pvalue=0.4781688122978446)"
      ]
     },
     "execution_count": 33,
     "metadata": {},
     "output_type": "execute_result"
    }
   ],
   "source": [
    "stats.ks_2samp(binningdf[\"Real\"],binningdf[\"Synthesis\"])"
   ]
  },
  {
   "cell_type": "markdown",
   "metadata": {},
   "source": [
    "Due to p value = 0.4781688122978446 >> 0.05. Therefore, there is no evidence to support the two datasets NOT come from the same ditribution"
   ]
  },
  {
   "cell_type": "markdown",
   "metadata": {},
   "source": [
    "## Benchmarking dataset"
   ]
  },
  {
   "cell_type": "markdown",
   "metadata": {},
   "source": [
    "We will test the dataset by the "
   ]
  },
  {
   "cell_type": "code",
   "execution_count": null,
   "metadata": {},
   "outputs": [],
   "source": []
  }
 ],
 "metadata": {
  "kernelspec": {
   "display_name": "virtualenv",
   "language": "python",
   "name": "virtualenv"
  },
  "language_info": {
   "codemirror_mode": {
    "name": "ipython",
    "version": 3
   },
   "file_extension": ".py",
   "mimetype": "text/x-python",
   "name": "python",
   "nbconvert_exporter": "python",
   "pygments_lexer": "ipython3",
   "version": "3.8.13"
  }
 },
 "nbformat": 4,
 "nbformat_minor": 2
}
