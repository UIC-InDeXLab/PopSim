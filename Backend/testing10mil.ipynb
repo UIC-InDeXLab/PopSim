{
 "cells": [
  {
   "cell_type": "markdown",
   "metadata": {},
   "source": [
    "# Testing validity with IL Synthesis Dataset"
   ]
  },
  {
   "cell_type": "markdown",
   "metadata": {},
   "source": [
    "## Import Synthesis Dataset"
   ]
  },
  {
   "cell_type": "code",
   "execution_count": 58,
   "metadata": {},
   "outputs": [],
   "source": [
    "import numpy as np\n",
    "import pandas as pd\n",
    "import matplotlib.pyplot as plt\n",
    "import scipy.stats as stats"
   ]
  },
  {
   "cell_type": "code",
   "execution_count": 59,
   "metadata": {},
   "outputs": [],
   "source": [
    "def loadDataset(path):\n",
    "    a = pd.read_csv(path)\n",
    "    return a.drop(a.columns[0], axis=1)\n",
    "def groupByRace(dataset):\n",
    "    return dataset.groupby(by = [\"race\"])\n",
    "def groupByFIPS(dataset):\n",
    "    return dataset.groupby(by = [\"FIPS\"])\n",
    "def groupByFIPSAndRace(dataset):\n",
    "    return dataset.groupby(by = [\"FIPS\", \"race\"])"
   ]
  },
  {
   "cell_type": "code",
   "execution_count": 60,
   "metadata": {},
   "outputs": [],
   "source": [
    "ILdataset = loadDataset('./data/generatedDatasets/IL_dataset_1.csv')"
   ]
  },
  {
   "cell_type": "code",
   "execution_count": 61,
   "metadata": {},
   "outputs": [
    {
     "data": {
      "text/plain": [
       "FIPS\n",
       "170010001001000     14\n",
       "170010001001001      2\n",
       "170010001001007     34\n",
       "170010001001008    197\n",
       "170010001001009     22\n",
       "                  ... \n",
       "172030307003217     10\n",
       "172030307003223      3\n",
       "172030307003226      4\n",
       "172030307003228      8\n",
       "172030307003231      5\n",
       "Name: FIPS, Length: 274573, dtype: int64"
      ]
     },
     "execution_count": 61,
     "metadata": {},
     "output_type": "execute_result"
    }
   ],
   "source": [
    "ILdataset.groupby(by = [\"FIPS\"]).FIPS.count()"
   ]
  },
  {
   "cell_type": "code",
   "execution_count": 62,
   "metadata": {},
   "outputs": [
    {
     "data": {
      "text/plain": [
       "race\n",
       "P1_003N    7867388\n",
       "P1_004N    1808282\n",
       "P1_005N      96640\n",
       "P1_006N     755589\n",
       "P1_007N       4499\n",
       "            ...   \n",
       "P1_065N        319\n",
       "P1_066N         29\n",
       "P1_067N          5\n",
       "P1_069N         18\n",
       "P1_071N         74\n",
       "Name: FIPS, Length: 63, dtype: int64"
      ]
     },
     "execution_count": 62,
     "metadata": {},
     "output_type": "execute_result"
    }
   ],
   "source": [
    "ILdataset.groupby(by = [\"race\"]).FIPS.count()"
   ]
  },
  {
   "cell_type": "code",
   "execution_count": 63,
   "metadata": {},
   "outputs": [
    {
     "data": {
      "text/html": [
       "<div>\n",
       "<style scoped>\n",
       "    .dataframe tbody tr th:only-of-type {\n",
       "        vertical-align: middle;\n",
       "    }\n",
       "\n",
       "    .dataframe tbody tr th {\n",
       "        vertical-align: top;\n",
       "    }\n",
       "\n",
       "    .dataframe thead th {\n",
       "        text-align: right;\n",
       "    }\n",
       "</style>\n",
       "<table border=\"1\" class=\"dataframe\">\n",
       "  <thead>\n",
       "    <tr style=\"text-align: right;\">\n",
       "      <th></th>\n",
       "      <th></th>\n",
       "      <th>count</th>\n",
       "    </tr>\n",
       "    <tr>\n",
       "      <th>FIPS</th>\n",
       "      <th>race</th>\n",
       "      <th></th>\n",
       "    </tr>\n",
       "  </thead>\n",
       "  <tbody>\n",
       "    <tr>\n",
       "      <th>170010001001000</th>\n",
       "      <th>P1_003N</th>\n",
       "      <td>14</td>\n",
       "    </tr>\n",
       "    <tr>\n",
       "      <th>170010001001001</th>\n",
       "      <th>P1_003N</th>\n",
       "      <td>2</td>\n",
       "    </tr>\n",
       "    <tr>\n",
       "      <th rowspan=\"3\" valign=\"top\">170010001001007</th>\n",
       "      <th>P1_003N</th>\n",
       "      <td>28</td>\n",
       "    </tr>\n",
       "    <tr>\n",
       "      <th>P1_004N</th>\n",
       "      <td>2</td>\n",
       "    </tr>\n",
       "    <tr>\n",
       "      <th>P1_006N</th>\n",
       "      <td>4</td>\n",
       "    </tr>\n",
       "    <tr>\n",
       "      <th>...</th>\n",
       "      <th>...</th>\n",
       "      <td>...</td>\n",
       "    </tr>\n",
       "    <tr>\n",
       "      <th>172030307003223</th>\n",
       "      <th>P1_003N</th>\n",
       "      <td>3</td>\n",
       "    </tr>\n",
       "    <tr>\n",
       "      <th>172030307003226</th>\n",
       "      <th>P1_003N</th>\n",
       "      <td>4</td>\n",
       "    </tr>\n",
       "    <tr>\n",
       "      <th>172030307003228</th>\n",
       "      <th>P1_003N</th>\n",
       "      <td>8</td>\n",
       "    </tr>\n",
       "    <tr>\n",
       "      <th rowspan=\"2\" valign=\"top\">172030307003231</th>\n",
       "      <th>P1_003N</th>\n",
       "      <td>4</td>\n",
       "    </tr>\n",
       "    <tr>\n",
       "      <th>P1_015N</th>\n",
       "      <td>1</td>\n",
       "    </tr>\n",
       "  </tbody>\n",
       "</table>\n",
       "<p>814538 rows × 1 columns</p>\n",
       "</div>"
      ],
      "text/plain": [
       "                         count\n",
       "FIPS            race          \n",
       "170010001001000 P1_003N     14\n",
       "170010001001001 P1_003N      2\n",
       "170010001001007 P1_003N     28\n",
       "                P1_004N      2\n",
       "                P1_006N      4\n",
       "...                        ...\n",
       "172030307003223 P1_003N      3\n",
       "172030307003226 P1_003N      4\n",
       "172030307003228 P1_003N      8\n",
       "172030307003231 P1_003N      4\n",
       "                P1_015N      1\n",
       "\n",
       "[814538 rows x 1 columns]"
      ]
     },
     "execution_count": 63,
     "metadata": {},
     "output_type": "execute_result"
    }
   ],
   "source": [
    "ILdataset.groupby(by = [\"FIPS\",\"race\"]).FIPS.agg(['count'])"
   ]
  },
  {
   "cell_type": "code",
   "execution_count": 64,
   "metadata": {},
   "outputs": [
    {
     "data": {
      "text/html": [
       "<div>\n",
       "<style scoped>\n",
       "    .dataframe tbody tr th:only-of-type {\n",
       "        vertical-align: middle;\n",
       "    }\n",
       "\n",
       "    .dataframe tbody tr th {\n",
       "        vertical-align: top;\n",
       "    }\n",
       "\n",
       "    .dataframe thead th {\n",
       "        text-align: right;\n",
       "    }\n",
       "</style>\n",
       "<table border=\"1\" class=\"dataframe\">\n",
       "  <thead>\n",
       "    <tr style=\"text-align: right;\">\n",
       "      <th></th>\n",
       "      <th>FIPS</th>\n",
       "      <th>race</th>\n",
       "      <th>count</th>\n",
       "    </tr>\n",
       "  </thead>\n",
       "  <tbody>\n",
       "    <tr>\n",
       "      <th>0</th>\n",
       "      <td>170010001001000</td>\n",
       "      <td>P1_003N</td>\n",
       "      <td>14</td>\n",
       "    </tr>\n",
       "    <tr>\n",
       "      <th>1</th>\n",
       "      <td>170010001001001</td>\n",
       "      <td>P1_003N</td>\n",
       "      <td>2</td>\n",
       "    </tr>\n",
       "    <tr>\n",
       "      <th>2</th>\n",
       "      <td>170010001001007</td>\n",
       "      <td>P1_003N</td>\n",
       "      <td>28</td>\n",
       "    </tr>\n",
       "    <tr>\n",
       "      <th>3</th>\n",
       "      <td>170010001001007</td>\n",
       "      <td>P1_004N</td>\n",
       "      <td>2</td>\n",
       "    </tr>\n",
       "    <tr>\n",
       "      <th>4</th>\n",
       "      <td>170010001001007</td>\n",
       "      <td>P1_006N</td>\n",
       "      <td>4</td>\n",
       "    </tr>\n",
       "    <tr>\n",
       "      <th>...</th>\n",
       "      <td>...</td>\n",
       "      <td>...</td>\n",
       "      <td>...</td>\n",
       "    </tr>\n",
       "    <tr>\n",
       "      <th>814533</th>\n",
       "      <td>172030307003223</td>\n",
       "      <td>P1_003N</td>\n",
       "      <td>3</td>\n",
       "    </tr>\n",
       "    <tr>\n",
       "      <th>814534</th>\n",
       "      <td>172030307003226</td>\n",
       "      <td>P1_003N</td>\n",
       "      <td>4</td>\n",
       "    </tr>\n",
       "    <tr>\n",
       "      <th>814535</th>\n",
       "      <td>172030307003228</td>\n",
       "      <td>P1_003N</td>\n",
       "      <td>8</td>\n",
       "    </tr>\n",
       "    <tr>\n",
       "      <th>814536</th>\n",
       "      <td>172030307003231</td>\n",
       "      <td>P1_003N</td>\n",
       "      <td>4</td>\n",
       "    </tr>\n",
       "    <tr>\n",
       "      <th>814537</th>\n",
       "      <td>172030307003231</td>\n",
       "      <td>P1_015N</td>\n",
       "      <td>1</td>\n",
       "    </tr>\n",
       "  </tbody>\n",
       "</table>\n",
       "<p>814538 rows × 3 columns</p>\n",
       "</div>"
      ],
      "text/plain": [
       "                   FIPS     race  count\n",
       "0       170010001001000  P1_003N     14\n",
       "1       170010001001001  P1_003N      2\n",
       "2       170010001001007  P1_003N     28\n",
       "3       170010001001007  P1_004N      2\n",
       "4       170010001001007  P1_006N      4\n",
       "...                 ...      ...    ...\n",
       "814533  172030307003223  P1_003N      3\n",
       "814534  172030307003226  P1_003N      4\n",
       "814535  172030307003228  P1_003N      8\n",
       "814536  172030307003231  P1_003N      4\n",
       "814537  172030307003231  P1_015N      1\n",
       "\n",
       "[814538 rows x 3 columns]"
      ]
     },
     "execution_count": 64,
     "metadata": {},
     "output_type": "execute_result"
    }
   ],
   "source": [
    "ILDatasetProcessed = pd.DataFrame(ILdataset.groupby(by = [\"FIPS\",\"race\"]).FIPS.agg(['count'])).reset_index()\n",
    "ILDatasetProcessed"
   ]
  },
  {
   "cell_type": "markdown",
   "metadata": {},
   "source": [
    "## Import Real FIPS Data"
   ]
  },
  {
   "cell_type": "code",
   "execution_count": 65,
   "metadata": {},
   "outputs": [
    {
     "data": {
      "text/html": [
       "<div>\n",
       "<style scoped>\n",
       "    .dataframe tbody tr th:only-of-type {\n",
       "        vertical-align: middle;\n",
       "    }\n",
       "\n",
       "    .dataframe tbody tr th {\n",
       "        vertical-align: top;\n",
       "    }\n",
       "\n",
       "    .dataframe thead th {\n",
       "        text-align: right;\n",
       "    }\n",
       "</style>\n",
       "<table border=\"1\" class=\"dataframe\">\n",
       "  <thead>\n",
       "    <tr style=\"text-align: right;\">\n",
       "      <th></th>\n",
       "      <th>GEO_ID</th>\n",
       "      <th>NAME</th>\n",
       "      <th>P1_001N</th>\n",
       "      <th>P1_001NA</th>\n",
       "      <th>P1_002N</th>\n",
       "      <th>P1_002NA</th>\n",
       "      <th>P1_003N</th>\n",
       "      <th>P1_003NA</th>\n",
       "      <th>P1_004N</th>\n",
       "      <th>P1_004NA</th>\n",
       "      <th>...</th>\n",
       "      <th>P1_069N</th>\n",
       "      <th>P1_069NA</th>\n",
       "      <th>P1_070N</th>\n",
       "      <th>P1_070NA</th>\n",
       "      <th>P1_071N</th>\n",
       "      <th>P1_071NA</th>\n",
       "      <th>state</th>\n",
       "      <th>county</th>\n",
       "      <th>tract</th>\n",
       "      <th>block</th>\n",
       "    </tr>\n",
       "  </thead>\n",
       "  <tbody>\n",
       "    <tr>\n",
       "      <th>0</th>\n",
       "      <td>1000000US170010001001000</td>\n",
       "      <td>Block 1000, Block Group 1, Census Tract 1, Ada...</td>\n",
       "      <td>17</td>\n",
       "      <td>NaN</td>\n",
       "      <td>17</td>\n",
       "      <td>NaN</td>\n",
       "      <td>16</td>\n",
       "      <td>NaN</td>\n",
       "      <td>1</td>\n",
       "      <td>NaN</td>\n",
       "      <td>...</td>\n",
       "      <td>0</td>\n",
       "      <td>NaN</td>\n",
       "      <td>0</td>\n",
       "      <td>NaN</td>\n",
       "      <td>0</td>\n",
       "      <td>NaN</td>\n",
       "      <td>17</td>\n",
       "      <td>1</td>\n",
       "      <td>100</td>\n",
       "      <td>1000</td>\n",
       "    </tr>\n",
       "    <tr>\n",
       "      <th>1</th>\n",
       "      <td>1000000US170010001001001</td>\n",
       "      <td>Block 1001, Block Group 1, Census Tract 1, Ada...</td>\n",
       "      <td>2</td>\n",
       "      <td>NaN</td>\n",
       "      <td>2</td>\n",
       "      <td>NaN</td>\n",
       "      <td>1</td>\n",
       "      <td>NaN</td>\n",
       "      <td>0</td>\n",
       "      <td>NaN</td>\n",
       "      <td>...</td>\n",
       "      <td>0</td>\n",
       "      <td>NaN</td>\n",
       "      <td>0</td>\n",
       "      <td>NaN</td>\n",
       "      <td>0</td>\n",
       "      <td>NaN</td>\n",
       "      <td>17</td>\n",
       "      <td>1</td>\n",
       "      <td>100</td>\n",
       "      <td>1001</td>\n",
       "    </tr>\n",
       "    <tr>\n",
       "      <th>2</th>\n",
       "      <td>1000000US170010001001002</td>\n",
       "      <td>Block 1002, Block Group 1, Census Tract 1, Ada...</td>\n",
       "      <td>0</td>\n",
       "      <td>NaN</td>\n",
       "      <td>0</td>\n",
       "      <td>NaN</td>\n",
       "      <td>0</td>\n",
       "      <td>NaN</td>\n",
       "      <td>0</td>\n",
       "      <td>NaN</td>\n",
       "      <td>...</td>\n",
       "      <td>0</td>\n",
       "      <td>NaN</td>\n",
       "      <td>0</td>\n",
       "      <td>NaN</td>\n",
       "      <td>0</td>\n",
       "      <td>NaN</td>\n",
       "      <td>17</td>\n",
       "      <td>1</td>\n",
       "      <td>100</td>\n",
       "      <td>1002</td>\n",
       "    </tr>\n",
       "    <tr>\n",
       "      <th>3</th>\n",
       "      <td>1000000US170010001001003</td>\n",
       "      <td>Block 1003, Block Group 1, Census Tract 1, Ada...</td>\n",
       "      <td>0</td>\n",
       "      <td>NaN</td>\n",
       "      <td>0</td>\n",
       "      <td>NaN</td>\n",
       "      <td>0</td>\n",
       "      <td>NaN</td>\n",
       "      <td>0</td>\n",
       "      <td>NaN</td>\n",
       "      <td>...</td>\n",
       "      <td>0</td>\n",
       "      <td>NaN</td>\n",
       "      <td>0</td>\n",
       "      <td>NaN</td>\n",
       "      <td>0</td>\n",
       "      <td>NaN</td>\n",
       "      <td>17</td>\n",
       "      <td>1</td>\n",
       "      <td>100</td>\n",
       "      <td>1003</td>\n",
       "    </tr>\n",
       "    <tr>\n",
       "      <th>4</th>\n",
       "      <td>1000000US170010001001004</td>\n",
       "      <td>Block 1004, Block Group 1, Census Tract 1, Ada...</td>\n",
       "      <td>0</td>\n",
       "      <td>NaN</td>\n",
       "      <td>0</td>\n",
       "      <td>NaN</td>\n",
       "      <td>0</td>\n",
       "      <td>NaN</td>\n",
       "      <td>0</td>\n",
       "      <td>NaN</td>\n",
       "      <td>...</td>\n",
       "      <td>0</td>\n",
       "      <td>NaN</td>\n",
       "      <td>0</td>\n",
       "      <td>NaN</td>\n",
       "      <td>0</td>\n",
       "      <td>NaN</td>\n",
       "      <td>17</td>\n",
       "      <td>1</td>\n",
       "      <td>100</td>\n",
       "      <td>1004</td>\n",
       "    </tr>\n",
       "    <tr>\n",
       "      <th>...</th>\n",
       "      <td>...</td>\n",
       "      <td>...</td>\n",
       "      <td>...</td>\n",
       "      <td>...</td>\n",
       "      <td>...</td>\n",
       "      <td>...</td>\n",
       "      <td>...</td>\n",
       "      <td>...</td>\n",
       "      <td>...</td>\n",
       "      <td>...</td>\n",
       "      <td>...</td>\n",
       "      <td>...</td>\n",
       "      <td>...</td>\n",
       "      <td>...</td>\n",
       "      <td>...</td>\n",
       "      <td>...</td>\n",
       "      <td>...</td>\n",
       "      <td>...</td>\n",
       "      <td>...</td>\n",
       "      <td>...</td>\n",
       "      <td>...</td>\n",
       "    </tr>\n",
       "    <tr>\n",
       "      <th>369973</th>\n",
       "      <td>1000000US172030307003228</td>\n",
       "      <td>Block 3228, Block Group 3, Census Tract 307, W...</td>\n",
       "      <td>11</td>\n",
       "      <td>NaN</td>\n",
       "      <td>11</td>\n",
       "      <td>NaN</td>\n",
       "      <td>11</td>\n",
       "      <td>NaN</td>\n",
       "      <td>0</td>\n",
       "      <td>NaN</td>\n",
       "      <td>...</td>\n",
       "      <td>0</td>\n",
       "      <td>NaN</td>\n",
       "      <td>0</td>\n",
       "      <td>NaN</td>\n",
       "      <td>0</td>\n",
       "      <td>NaN</td>\n",
       "      <td>17</td>\n",
       "      <td>203</td>\n",
       "      <td>30700</td>\n",
       "      <td>3228</td>\n",
       "    </tr>\n",
       "    <tr>\n",
       "      <th>369974</th>\n",
       "      <td>1000000US172030307003229</td>\n",
       "      <td>Block 3229, Block Group 3, Census Tract 307, W...</td>\n",
       "      <td>0</td>\n",
       "      <td>NaN</td>\n",
       "      <td>0</td>\n",
       "      <td>NaN</td>\n",
       "      <td>0</td>\n",
       "      <td>NaN</td>\n",
       "      <td>0</td>\n",
       "      <td>NaN</td>\n",
       "      <td>...</td>\n",
       "      <td>0</td>\n",
       "      <td>NaN</td>\n",
       "      <td>0</td>\n",
       "      <td>NaN</td>\n",
       "      <td>0</td>\n",
       "      <td>NaN</td>\n",
       "      <td>17</td>\n",
       "      <td>203</td>\n",
       "      <td>30700</td>\n",
       "      <td>3229</td>\n",
       "    </tr>\n",
       "    <tr>\n",
       "      <th>369975</th>\n",
       "      <td>1000000US172030307003230</td>\n",
       "      <td>Block 3230, Block Group 3, Census Tract 307, W...</td>\n",
       "      <td>0</td>\n",
       "      <td>NaN</td>\n",
       "      <td>0</td>\n",
       "      <td>NaN</td>\n",
       "      <td>0</td>\n",
       "      <td>NaN</td>\n",
       "      <td>0</td>\n",
       "      <td>NaN</td>\n",
       "      <td>...</td>\n",
       "      <td>0</td>\n",
       "      <td>NaN</td>\n",
       "      <td>0</td>\n",
       "      <td>NaN</td>\n",
       "      <td>0</td>\n",
       "      <td>NaN</td>\n",
       "      <td>17</td>\n",
       "      <td>203</td>\n",
       "      <td>30700</td>\n",
       "      <td>3230</td>\n",
       "    </tr>\n",
       "    <tr>\n",
       "      <th>369976</th>\n",
       "      <td>1000000US172030307003231</td>\n",
       "      <td>Block 3231, Block Group 3, Census Tract 307, W...</td>\n",
       "      <td>7</td>\n",
       "      <td>NaN</td>\n",
       "      <td>6</td>\n",
       "      <td>NaN</td>\n",
       "      <td>6</td>\n",
       "      <td>NaN</td>\n",
       "      <td>0</td>\n",
       "      <td>NaN</td>\n",
       "      <td>...</td>\n",
       "      <td>0</td>\n",
       "      <td>NaN</td>\n",
       "      <td>0</td>\n",
       "      <td>NaN</td>\n",
       "      <td>0</td>\n",
       "      <td>NaN</td>\n",
       "      <td>17</td>\n",
       "      <td>203</td>\n",
       "      <td>30700</td>\n",
       "      <td>3231</td>\n",
       "    </tr>\n",
       "    <tr>\n",
       "      <th>369977</th>\n",
       "      <td>1000000US172030307003232</td>\n",
       "      <td>Block 3232, Block Group 3, Census Tract 307, W...</td>\n",
       "      <td>0</td>\n",
       "      <td>NaN</td>\n",
       "      <td>0</td>\n",
       "      <td>NaN</td>\n",
       "      <td>0</td>\n",
       "      <td>NaN</td>\n",
       "      <td>0</td>\n",
       "      <td>NaN</td>\n",
       "      <td>...</td>\n",
       "      <td>0</td>\n",
       "      <td>NaN</td>\n",
       "      <td>0</td>\n",
       "      <td>NaN</td>\n",
       "      <td>0</td>\n",
       "      <td>NaN</td>\n",
       "      <td>17</td>\n",
       "      <td>203</td>\n",
       "      <td>30700</td>\n",
       "      <td>3232</td>\n",
       "    </tr>\n",
       "  </tbody>\n",
       "</table>\n",
       "<p>369978 rows × 148 columns</p>\n",
       "</div>"
      ],
      "text/plain": [
       "                          GEO_ID  \\\n",
       "0       1000000US170010001001000   \n",
       "1       1000000US170010001001001   \n",
       "2       1000000US170010001001002   \n",
       "3       1000000US170010001001003   \n",
       "4       1000000US170010001001004   \n",
       "...                          ...   \n",
       "369973  1000000US172030307003228   \n",
       "369974  1000000US172030307003229   \n",
       "369975  1000000US172030307003230   \n",
       "369976  1000000US172030307003231   \n",
       "369977  1000000US172030307003232   \n",
       "\n",
       "                                                     NAME  P1_001N  P1_001NA  \\\n",
       "0       Block 1000, Block Group 1, Census Tract 1, Ada...       17       NaN   \n",
       "1       Block 1001, Block Group 1, Census Tract 1, Ada...        2       NaN   \n",
       "2       Block 1002, Block Group 1, Census Tract 1, Ada...        0       NaN   \n",
       "3       Block 1003, Block Group 1, Census Tract 1, Ada...        0       NaN   \n",
       "4       Block 1004, Block Group 1, Census Tract 1, Ada...        0       NaN   \n",
       "...                                                   ...      ...       ...   \n",
       "369973  Block 3228, Block Group 3, Census Tract 307, W...       11       NaN   \n",
       "369974  Block 3229, Block Group 3, Census Tract 307, W...        0       NaN   \n",
       "369975  Block 3230, Block Group 3, Census Tract 307, W...        0       NaN   \n",
       "369976  Block 3231, Block Group 3, Census Tract 307, W...        7       NaN   \n",
       "369977  Block 3232, Block Group 3, Census Tract 307, W...        0       NaN   \n",
       "\n",
       "        P1_002N  P1_002NA  P1_003N  P1_003NA  P1_004N  P1_004NA  ...  P1_069N  \\\n",
       "0            17       NaN       16       NaN        1       NaN  ...        0   \n",
       "1             2       NaN        1       NaN        0       NaN  ...        0   \n",
       "2             0       NaN        0       NaN        0       NaN  ...        0   \n",
       "3             0       NaN        0       NaN        0       NaN  ...        0   \n",
       "4             0       NaN        0       NaN        0       NaN  ...        0   \n",
       "...         ...       ...      ...       ...      ...       ...  ...      ...   \n",
       "369973       11       NaN       11       NaN        0       NaN  ...        0   \n",
       "369974        0       NaN        0       NaN        0       NaN  ...        0   \n",
       "369975        0       NaN        0       NaN        0       NaN  ...        0   \n",
       "369976        6       NaN        6       NaN        0       NaN  ...        0   \n",
       "369977        0       NaN        0       NaN        0       NaN  ...        0   \n",
       "\n",
       "        P1_069NA  P1_070N  P1_070NA  P1_071N  P1_071NA  state  county  tract  \\\n",
       "0            NaN        0       NaN        0       NaN     17       1    100   \n",
       "1            NaN        0       NaN        0       NaN     17       1    100   \n",
       "2            NaN        0       NaN        0       NaN     17       1    100   \n",
       "3            NaN        0       NaN        0       NaN     17       1    100   \n",
       "4            NaN        0       NaN        0       NaN     17       1    100   \n",
       "...          ...      ...       ...      ...       ...    ...     ...    ...   \n",
       "369973       NaN        0       NaN        0       NaN     17     203  30700   \n",
       "369974       NaN        0       NaN        0       NaN     17     203  30700   \n",
       "369975       NaN        0       NaN        0       NaN     17     203  30700   \n",
       "369976       NaN        0       NaN        0       NaN     17     203  30700   \n",
       "369977       NaN        0       NaN        0       NaN     17     203  30700   \n",
       "\n",
       "        block  \n",
       "0        1000  \n",
       "1        1001  \n",
       "2        1002  \n",
       "3        1003  \n",
       "4        1004  \n",
       "...       ...  \n",
       "369973   3228  \n",
       "369974   3229  \n",
       "369975   3230  \n",
       "369976   3231  \n",
       "369977   3232  \n",
       "\n",
       "[369978 rows x 148 columns]"
      ]
     },
     "execution_count": 65,
     "metadata": {},
     "output_type": "execute_result"
    }
   ],
   "source": [
    "from state import StateByBlockGroup\n",
    "StateIL = StateByBlockGroup(\"17\")\n",
    "StateIL.decennialData"
   ]
  },
  {
   "cell_type": "code",
   "execution_count": 66,
   "metadata": {},
   "outputs": [],
   "source": [
    "def processRealDataset(datasetdf):\n",
    "    datasetdf[\"FIPS\"] = datasetdf[\"GEO_ID\"].map(lambda x: x[-15:])\n",
    "    return datasetdf[[\"FIPS\",\n",
    "                'P1_003N', 'P1_004N', 'P1_005N', 'P1_006N', 'P1_007N',\n",
    "                'P1_008N', 'P1_011N', 'P1_012N', 'P1_013N', 'P1_014N',\n",
    "                'P1_015N', 'P1_016N', 'P1_017N', 'P1_018N', 'P1_019N',\n",
    "                'P1_020N', 'P1_021N', 'P1_022N', 'P1_023N', 'P1_024N',\n",
    "                'P1_025N', 'P1_027N', 'P1_028N', 'P1_029N', 'P1_030N',\n",
    "                'P1_031N', 'P1_032N', 'P1_033N', 'P1_034N', 'P1_035N',\n",
    "                'P1_036N', 'P1_037N', 'P1_038N', 'P1_039N', 'P1_040N',\n",
    "                'P1_041N', 'P1_042N', 'P1_043N', 'P1_044N', 'P1_045N',\n",
    "                'P1_046N', 'P1_048N', 'P1_049N', 'P1_050N', 'P1_051N',\n",
    "                'P1_052N', 'P1_053N', 'P1_054N', 'P1_055N', 'P1_056N',\n",
    "                'P1_057N', 'P1_058N', 'P1_059N', 'P1_060N', 'P1_061N',\n",
    "                'P1_062N', 'P1_063N', 'P1_064N', 'P1_065N', 'P1_066N',\n",
    "                'P1_067N', 'P1_068N', 'P1_069N', 'P1_071N'\n",
    "            ]]"
   ]
  },
  {
   "cell_type": "code",
   "execution_count": 67,
   "metadata": {},
   "outputs": [
    {
     "data": {
      "text/html": [
       "<div>\n",
       "<style scoped>\n",
       "    .dataframe tbody tr th:only-of-type {\n",
       "        vertical-align: middle;\n",
       "    }\n",
       "\n",
       "    .dataframe tbody tr th {\n",
       "        vertical-align: top;\n",
       "    }\n",
       "\n",
       "    .dataframe thead th {\n",
       "        text-align: right;\n",
       "    }\n",
       "</style>\n",
       "<table border=\"1\" class=\"dataframe\">\n",
       "  <thead>\n",
       "    <tr style=\"text-align: right;\">\n",
       "      <th></th>\n",
       "      <th>FIPS</th>\n",
       "      <th>P1_003N</th>\n",
       "      <th>P1_004N</th>\n",
       "      <th>P1_005N</th>\n",
       "      <th>P1_006N</th>\n",
       "      <th>P1_007N</th>\n",
       "      <th>P1_008N</th>\n",
       "      <th>P1_011N</th>\n",
       "      <th>P1_012N</th>\n",
       "      <th>P1_013N</th>\n",
       "      <th>...</th>\n",
       "      <th>P1_061N</th>\n",
       "      <th>P1_062N</th>\n",
       "      <th>P1_063N</th>\n",
       "      <th>P1_064N</th>\n",
       "      <th>P1_065N</th>\n",
       "      <th>P1_066N</th>\n",
       "      <th>P1_067N</th>\n",
       "      <th>P1_068N</th>\n",
       "      <th>P1_069N</th>\n",
       "      <th>P1_071N</th>\n",
       "    </tr>\n",
       "  </thead>\n",
       "  <tbody>\n",
       "    <tr>\n",
       "      <th>0</th>\n",
       "      <td>170010001001000</td>\n",
       "      <td>16</td>\n",
       "      <td>1</td>\n",
       "      <td>0</td>\n",
       "      <td>0</td>\n",
       "      <td>0</td>\n",
       "      <td>0</td>\n",
       "      <td>0</td>\n",
       "      <td>0</td>\n",
       "      <td>0</td>\n",
       "      <td>...</td>\n",
       "      <td>0</td>\n",
       "      <td>0</td>\n",
       "      <td>0</td>\n",
       "      <td>0</td>\n",
       "      <td>0</td>\n",
       "      <td>0</td>\n",
       "      <td>0</td>\n",
       "      <td>0</td>\n",
       "      <td>0</td>\n",
       "      <td>0</td>\n",
       "    </tr>\n",
       "    <tr>\n",
       "      <th>1</th>\n",
       "      <td>170010001001001</td>\n",
       "      <td>1</td>\n",
       "      <td>0</td>\n",
       "      <td>0</td>\n",
       "      <td>0</td>\n",
       "      <td>0</td>\n",
       "      <td>1</td>\n",
       "      <td>0</td>\n",
       "      <td>0</td>\n",
       "      <td>0</td>\n",
       "      <td>...</td>\n",
       "      <td>0</td>\n",
       "      <td>0</td>\n",
       "      <td>0</td>\n",
       "      <td>0</td>\n",
       "      <td>0</td>\n",
       "      <td>0</td>\n",
       "      <td>0</td>\n",
       "      <td>0</td>\n",
       "      <td>0</td>\n",
       "      <td>0</td>\n",
       "    </tr>\n",
       "    <tr>\n",
       "      <th>2</th>\n",
       "      <td>170010001001002</td>\n",
       "      <td>0</td>\n",
       "      <td>0</td>\n",
       "      <td>0</td>\n",
       "      <td>0</td>\n",
       "      <td>0</td>\n",
       "      <td>0</td>\n",
       "      <td>0</td>\n",
       "      <td>0</td>\n",
       "      <td>0</td>\n",
       "      <td>...</td>\n",
       "      <td>0</td>\n",
       "      <td>0</td>\n",
       "      <td>0</td>\n",
       "      <td>0</td>\n",
       "      <td>0</td>\n",
       "      <td>0</td>\n",
       "      <td>0</td>\n",
       "      <td>0</td>\n",
       "      <td>0</td>\n",
       "      <td>0</td>\n",
       "    </tr>\n",
       "    <tr>\n",
       "      <th>3</th>\n",
       "      <td>170010001001003</td>\n",
       "      <td>0</td>\n",
       "      <td>0</td>\n",
       "      <td>0</td>\n",
       "      <td>0</td>\n",
       "      <td>0</td>\n",
       "      <td>0</td>\n",
       "      <td>0</td>\n",
       "      <td>0</td>\n",
       "      <td>0</td>\n",
       "      <td>...</td>\n",
       "      <td>0</td>\n",
       "      <td>0</td>\n",
       "      <td>0</td>\n",
       "      <td>0</td>\n",
       "      <td>0</td>\n",
       "      <td>0</td>\n",
       "      <td>0</td>\n",
       "      <td>0</td>\n",
       "      <td>0</td>\n",
       "      <td>0</td>\n",
       "    </tr>\n",
       "    <tr>\n",
       "      <th>4</th>\n",
       "      <td>170010001001004</td>\n",
       "      <td>0</td>\n",
       "      <td>0</td>\n",
       "      <td>0</td>\n",
       "      <td>0</td>\n",
       "      <td>0</td>\n",
       "      <td>0</td>\n",
       "      <td>0</td>\n",
       "      <td>0</td>\n",
       "      <td>0</td>\n",
       "      <td>...</td>\n",
       "      <td>0</td>\n",
       "      <td>0</td>\n",
       "      <td>0</td>\n",
       "      <td>0</td>\n",
       "      <td>0</td>\n",
       "      <td>0</td>\n",
       "      <td>0</td>\n",
       "      <td>0</td>\n",
       "      <td>0</td>\n",
       "      <td>0</td>\n",
       "    </tr>\n",
       "    <tr>\n",
       "      <th>...</th>\n",
       "      <td>...</td>\n",
       "      <td>...</td>\n",
       "      <td>...</td>\n",
       "      <td>...</td>\n",
       "      <td>...</td>\n",
       "      <td>...</td>\n",
       "      <td>...</td>\n",
       "      <td>...</td>\n",
       "      <td>...</td>\n",
       "      <td>...</td>\n",
       "      <td>...</td>\n",
       "      <td>...</td>\n",
       "      <td>...</td>\n",
       "      <td>...</td>\n",
       "      <td>...</td>\n",
       "      <td>...</td>\n",
       "      <td>...</td>\n",
       "      <td>...</td>\n",
       "      <td>...</td>\n",
       "      <td>...</td>\n",
       "      <td>...</td>\n",
       "    </tr>\n",
       "    <tr>\n",
       "      <th>369973</th>\n",
       "      <td>172030307003228</td>\n",
       "      <td>11</td>\n",
       "      <td>0</td>\n",
       "      <td>0</td>\n",
       "      <td>0</td>\n",
       "      <td>0</td>\n",
       "      <td>0</td>\n",
       "      <td>0</td>\n",
       "      <td>0</td>\n",
       "      <td>0</td>\n",
       "      <td>...</td>\n",
       "      <td>0</td>\n",
       "      <td>0</td>\n",
       "      <td>0</td>\n",
       "      <td>0</td>\n",
       "      <td>0</td>\n",
       "      <td>0</td>\n",
       "      <td>0</td>\n",
       "      <td>0</td>\n",
       "      <td>0</td>\n",
       "      <td>0</td>\n",
       "    </tr>\n",
       "    <tr>\n",
       "      <th>369974</th>\n",
       "      <td>172030307003229</td>\n",
       "      <td>0</td>\n",
       "      <td>0</td>\n",
       "      <td>0</td>\n",
       "      <td>0</td>\n",
       "      <td>0</td>\n",
       "      <td>0</td>\n",
       "      <td>0</td>\n",
       "      <td>0</td>\n",
       "      <td>0</td>\n",
       "      <td>...</td>\n",
       "      <td>0</td>\n",
       "      <td>0</td>\n",
       "      <td>0</td>\n",
       "      <td>0</td>\n",
       "      <td>0</td>\n",
       "      <td>0</td>\n",
       "      <td>0</td>\n",
       "      <td>0</td>\n",
       "      <td>0</td>\n",
       "      <td>0</td>\n",
       "    </tr>\n",
       "    <tr>\n",
       "      <th>369975</th>\n",
       "      <td>172030307003230</td>\n",
       "      <td>0</td>\n",
       "      <td>0</td>\n",
       "      <td>0</td>\n",
       "      <td>0</td>\n",
       "      <td>0</td>\n",
       "      <td>0</td>\n",
       "      <td>0</td>\n",
       "      <td>0</td>\n",
       "      <td>0</td>\n",
       "      <td>...</td>\n",
       "      <td>0</td>\n",
       "      <td>0</td>\n",
       "      <td>0</td>\n",
       "      <td>0</td>\n",
       "      <td>0</td>\n",
       "      <td>0</td>\n",
       "      <td>0</td>\n",
       "      <td>0</td>\n",
       "      <td>0</td>\n",
       "      <td>0</td>\n",
       "    </tr>\n",
       "    <tr>\n",
       "      <th>369976</th>\n",
       "      <td>172030307003231</td>\n",
       "      <td>6</td>\n",
       "      <td>0</td>\n",
       "      <td>0</td>\n",
       "      <td>0</td>\n",
       "      <td>0</td>\n",
       "      <td>0</td>\n",
       "      <td>0</td>\n",
       "      <td>0</td>\n",
       "      <td>0</td>\n",
       "      <td>...</td>\n",
       "      <td>0</td>\n",
       "      <td>0</td>\n",
       "      <td>0</td>\n",
       "      <td>0</td>\n",
       "      <td>0</td>\n",
       "      <td>0</td>\n",
       "      <td>0</td>\n",
       "      <td>0</td>\n",
       "      <td>0</td>\n",
       "      <td>0</td>\n",
       "    </tr>\n",
       "    <tr>\n",
       "      <th>369977</th>\n",
       "      <td>172030307003232</td>\n",
       "      <td>0</td>\n",
       "      <td>0</td>\n",
       "      <td>0</td>\n",
       "      <td>0</td>\n",
       "      <td>0</td>\n",
       "      <td>0</td>\n",
       "      <td>0</td>\n",
       "      <td>0</td>\n",
       "      <td>0</td>\n",
       "      <td>...</td>\n",
       "      <td>0</td>\n",
       "      <td>0</td>\n",
       "      <td>0</td>\n",
       "      <td>0</td>\n",
       "      <td>0</td>\n",
       "      <td>0</td>\n",
       "      <td>0</td>\n",
       "      <td>0</td>\n",
       "      <td>0</td>\n",
       "      <td>0</td>\n",
       "    </tr>\n",
       "  </tbody>\n",
       "</table>\n",
       "<p>369978 rows × 65 columns</p>\n",
       "</div>"
      ],
      "text/plain": [
       "                   FIPS  P1_003N  P1_004N  P1_005N  P1_006N  P1_007N  P1_008N  \\\n",
       "0       170010001001000       16        1        0        0        0        0   \n",
       "1       170010001001001        1        0        0        0        0        1   \n",
       "2       170010001001002        0        0        0        0        0        0   \n",
       "3       170010001001003        0        0        0        0        0        0   \n",
       "4       170010001001004        0        0        0        0        0        0   \n",
       "...                 ...      ...      ...      ...      ...      ...      ...   \n",
       "369973  172030307003228       11        0        0        0        0        0   \n",
       "369974  172030307003229        0        0        0        0        0        0   \n",
       "369975  172030307003230        0        0        0        0        0        0   \n",
       "369976  172030307003231        6        0        0        0        0        0   \n",
       "369977  172030307003232        0        0        0        0        0        0   \n",
       "\n",
       "        P1_011N  P1_012N  P1_013N  ...  P1_061N  P1_062N  P1_063N  P1_064N  \\\n",
       "0             0        0        0  ...        0        0        0        0   \n",
       "1             0        0        0  ...        0        0        0        0   \n",
       "2             0        0        0  ...        0        0        0        0   \n",
       "3             0        0        0  ...        0        0        0        0   \n",
       "4             0        0        0  ...        0        0        0        0   \n",
       "...         ...      ...      ...  ...      ...      ...      ...      ...   \n",
       "369973        0        0        0  ...        0        0        0        0   \n",
       "369974        0        0        0  ...        0        0        0        0   \n",
       "369975        0        0        0  ...        0        0        0        0   \n",
       "369976        0        0        0  ...        0        0        0        0   \n",
       "369977        0        0        0  ...        0        0        0        0   \n",
       "\n",
       "        P1_065N  P1_066N  P1_067N  P1_068N  P1_069N  P1_071N  \n",
       "0             0        0        0        0        0        0  \n",
       "1             0        0        0        0        0        0  \n",
       "2             0        0        0        0        0        0  \n",
       "3             0        0        0        0        0        0  \n",
       "4             0        0        0        0        0        0  \n",
       "...         ...      ...      ...      ...      ...      ...  \n",
       "369973        0        0        0        0        0        0  \n",
       "369974        0        0        0        0        0        0  \n",
       "369975        0        0        0        0        0        0  \n",
       "369976        0        0        0        0        0        0  \n",
       "369977        0        0        0        0        0        0  \n",
       "\n",
       "[369978 rows x 65 columns]"
      ]
     },
     "execution_count": 67,
     "metadata": {},
     "output_type": "execute_result"
    }
   ],
   "source": [
    "processedRealILDataset = processRealDataset(StateIL.decennialData)\n",
    "processedRealILDataset"
   ]
  },
  {
   "cell_type": "markdown",
   "metadata": {},
   "source": [
    "# Comparing the two datasets distributions"
   ]
  },
  {
   "cell_type": "markdown",
   "metadata": {},
   "source": [
    "## By Races"
   ]
  },
  {
   "cell_type": "code",
   "execution_count": 68,
   "metadata": {},
   "outputs": [
    {
     "data": {
      "text/plain": [
       "race\n",
       "P1_003N    7867388\n",
       "P1_004N    1808282\n",
       "P1_005N      96640\n",
       "P1_006N     755589\n",
       "P1_007N       4499\n",
       "            ...   \n",
       "P1_065N        319\n",
       "P1_066N         29\n",
       "P1_067N          5\n",
       "P1_069N         18\n",
       "P1_071N         74\n",
       "Name: FIPS, Length: 63, dtype: int64"
      ]
     },
     "execution_count": 68,
     "metadata": {},
     "output_type": "execute_result"
    }
   ],
   "source": [
    "popByRaceSynthesis = ILdataset.groupby(by = [\"race\"]).FIPS.count()\n",
    "popByRaceSynthesis"
   ]
  },
  {
   "cell_type": "code",
   "execution_count": 69,
   "metadata": {},
   "outputs": [
    {
     "data": {
      "text/plain": [
       "P1_003N    7868227\n",
       "P1_004N    1808271\n",
       "P1_005N      96498\n",
       "P1_006N     754878\n",
       "P1_007N       4501\n",
       "            ...   \n",
       "P1_066N         35\n",
       "P1_067N         14\n",
       "P1_068N          4\n",
       "P1_069N         15\n",
       "P1_071N         84\n",
       "Length: 64, dtype: int64"
      ]
     },
     "execution_count": 69,
     "metadata": {},
     "output_type": "execute_result"
    }
   ],
   "source": [
    "popByRaceReal = processedRealILDataset.drop(['FIPS'], axis=1).sum(axis = 0)\n",
    "popByRaceReal"
   ]
  },
  {
   "cell_type": "markdown",
   "metadata": {},
   "source": [
    "### Plot samples"
   ]
  },
  {
   "cell_type": "code",
   "execution_count": 70,
   "metadata": {},
   "outputs": [],
   "source": [
    "popByRaceSynthesis /= popByRaceSynthesis.sum()\n",
    "popByRaceReal /= popByRaceReal.sum()"
   ]
  },
  {
   "cell_type": "code",
   "execution_count": 71,
   "metadata": {},
   "outputs": [
    {
     "data": {
      "image/png": "[encoded data removed]",
      "text/plain": [
       "<Figure size 1600x640 with 1 Axes>"
      ]
     },
     "metadata": {
      "needs_background": "light"
     },
     "output_type": "display_data"
    }
   ],
   "source": [
    "plt.figure(figsize=(20, 8), dpi=80)\n",
    "popByRaceSynthesis.plot.bar(x='Race', y='Population', rot=0)\n",
    "plt.title(\"Number of people by races in Illinois of synthetic dataset\")\n",
    "ax = plt.gca()\n",
    "for tick in ax.get_xticklabels():\n",
    "    tick.set_rotation(45)\n",
    "plt.show()"
   ]
  },
  {
   "cell_type": "code",
   "execution_count": 72,
   "metadata": {},
   "outputs": [
    {
     "data": {
      "image/png": "[encoded data removed]",
      "text/plain": [
       "<Figure size 1600x640 with 1 Axes>"
      ]
     },
     "metadata": {
      "needs_background": "light"
     },
     "output_type": "display_data"
    }
   ],
   "source": [
    "plt.figure(figsize=(20, 8), dpi=80)\n",
    "popByRaceReal.plot.bar(x='Race', y='Population', rot=0)\n",
    "plt.title(\"Number of people by races in Illinois of real dataset\")\n",
    "ax = plt.gca()\n",
    "for tick in ax.get_xticklabels():\n",
    "    tick.set_rotation(45)\n",
    "plt.show()"
   ]
  },
  {
   "cell_type": "markdown",
   "metadata": {},
   "source": [
    "### Compare sample mean and standard deviation"
   ]
  },
  {
   "cell_type": "code",
   "execution_count": 73,
   "metadata": {},
   "outputs": [
    {
     "name": "stdout",
     "output_type": "stream",
     "text": [
      "Mean of synthetic dataset 0.01587301587301587\n",
      "Standard deviation of synthetic dataset 0.07988311647940127\n"
     ]
    }
   ],
   "source": [
    "print(\"Mean of synthetic dataset\", popByRaceSynthesis.mean())\n",
    "print(\"Standard deviation of synthetic dataset\", popByRaceSynthesis.std())"
   ]
  },
  {
   "cell_type": "code",
   "execution_count": 74,
   "metadata": {},
   "outputs": [
    {
     "name": "stdout",
     "output_type": "stream",
     "text": [
      "Mean of real dataset 0.015625\n",
      "Standard deviation of real dataset 0.07927505077520923\n"
     ]
    }
   ],
   "source": [
    "print(\"Mean of real dataset\", popByRaceReal.mean())\n",
    "print(\"Standard deviation of real dataset\", popByRaceReal.std())"
   ]
  },
  {
   "cell_type": "markdown",
   "metadata": {},
   "source": [
    "### Compare distribution by two sample t-test"
   ]
  },
  {
   "cell_type": "markdown",
   "metadata": {},
   "source": [
    "$H_0: \\mu_1 = \\mu_2$ (population mean of synthetic dataset is equal to real dataset)\n",
    "\n",
    "$H_1: \\mu_1 \\neq \\mu_2$ (population mean of synthetic dataset is different from real dataset)"
   ]
  },
  {
   "cell_type": "code",
   "execution_count": 75,
   "metadata": {},
   "outputs": [
    {
     "data": {
      "text/plain": [
       "Ttest_indResult(statistic=0.01756099213843312, pvalue=0.9860170749346514)"
      ]
     },
     "execution_count": 75,
     "metadata": {},
     "output_type": "execute_result"
    }
   ],
   "source": [
    "# Perform the two sample t-test with equal variances\n",
    "stats.ttest_ind(a=popByRaceSynthesis, b=popByRaceReal, equal_var=True)"
   ]
  },
  {
   "cell_type": "markdown",
   "metadata": {},
   "source": [
    "Due to p value = 0.9999535792552408 >> 0.05. Therefore, there is no evidence to support population mean of synthetic dataset is different from real dataset."
   ]
  },
  {
   "cell_type": "markdown",
   "metadata": {},
   "source": [
    "### Test for Homogeneity"
   ]
  },
  {
   "cell_type": "markdown",
   "metadata": {},
   "source": [
    "$H_0$: The distributions of the two populations are the same.\n",
    "\n",
    "$H_1$: The distributions of the two populations are not the same.\n"
   ]
  },
  {
   "cell_type": "code",
   "execution_count": 76,
   "metadata": {},
   "outputs": [
    {
     "data": {
      "text/html": [
       "<div>\n",
       "<style scoped>\n",
       "    .dataframe tbody tr th:only-of-type {\n",
       "        vertical-align: middle;\n",
       "    }\n",
       "\n",
       "    .dataframe tbody tr th {\n",
       "        vertical-align: top;\n",
       "    }\n",
       "\n",
       "    .dataframe thead th {\n",
       "        text-align: right;\n",
       "    }\n",
       "</style>\n",
       "<table border=\"1\" class=\"dataframe\">\n",
       "  <thead>\n",
       "    <tr style=\"text-align: right;\">\n",
       "      <th></th>\n",
       "      <th>Synthesis</th>\n",
       "      <th>Real</th>\n",
       "    </tr>\n",
       "  </thead>\n",
       "  <tbody>\n",
       "    <tr>\n",
       "      <th>P1_003N</th>\n",
       "      <td>6.140397e-01</td>\n",
       "      <td>0.614073</td>\n",
       "    </tr>\n",
       "    <tr>\n",
       "      <th>P1_004N</th>\n",
       "      <td>1.411341e-01</td>\n",
       "      <td>0.141126</td>\n",
       "    </tr>\n",
       "    <tr>\n",
       "      <th>P1_005N</th>\n",
       "      <td>7.542629e-03</td>\n",
       "      <td>0.007531</td>\n",
       "    </tr>\n",
       "    <tr>\n",
       "      <th>P1_006N</th>\n",
       "      <td>5.897276e-02</td>\n",
       "      <td>0.058914</td>\n",
       "    </tr>\n",
       "    <tr>\n",
       "      <th>P1_007N</th>\n",
       "      <td>3.511412e-04</td>\n",
       "      <td>0.000351</td>\n",
       "    </tr>\n",
       "    <tr>\n",
       "      <th>...</th>\n",
       "      <td>...</td>\n",
       "      <td>...</td>\n",
       "    </tr>\n",
       "    <tr>\n",
       "      <th>P1_065N</th>\n",
       "      <td>2.489755e-05</td>\n",
       "      <td>0.000023</td>\n",
       "    </tr>\n",
       "    <tr>\n",
       "      <th>P1_066N</th>\n",
       "      <td>2.263413e-06</td>\n",
       "      <td>0.000003</td>\n",
       "    </tr>\n",
       "    <tr>\n",
       "      <th>P1_067N</th>\n",
       "      <td>3.902437e-07</td>\n",
       "      <td>0.000001</td>\n",
       "    </tr>\n",
       "    <tr>\n",
       "      <th>P1_069N</th>\n",
       "      <td>1.404877e-06</td>\n",
       "      <td>0.000001</td>\n",
       "    </tr>\n",
       "    <tr>\n",
       "      <th>P1_071N</th>\n",
       "      <td>5.775606e-06</td>\n",
       "      <td>0.000007</td>\n",
       "    </tr>\n",
       "  </tbody>\n",
       "</table>\n",
       "<p>63 rows × 2 columns</p>\n",
       "</div>"
      ],
      "text/plain": [
       "            Synthesis      Real\n",
       "P1_003N  6.140397e-01  0.614073\n",
       "P1_004N  1.411341e-01  0.141126\n",
       "P1_005N  7.542629e-03  0.007531\n",
       "P1_006N  5.897276e-02  0.058914\n",
       "P1_007N  3.511412e-04  0.000351\n",
       "...               ...       ...\n",
       "P1_065N  2.489755e-05  0.000023\n",
       "P1_066N  2.263413e-06  0.000003\n",
       "P1_067N  3.902437e-07  0.000001\n",
       "P1_069N  1.404877e-06  0.000001\n",
       "P1_071N  5.775606e-06  0.000007\n",
       "\n",
       "[63 rows x 2 columns]"
      ]
     },
     "execution_count": 76,
     "metadata": {},
     "output_type": "execute_result"
    }
   ],
   "source": [
    "popByRaceReal.name = \"Real\"\n",
    "popByRaceSynthesis.name = \"Synthesis\"\n",
    "mergeddf = pd.merge(popByRaceSynthesis, popByRaceReal, right_index = True,\n",
    "               left_index = True)\n",
    "\n",
    "mergeddf"
   ]
  },
  {
   "cell_type": "code",
   "execution_count": 77,
   "metadata": {},
   "outputs": [
    {
     "data": {
      "text/plain": [
       "1.0"
      ]
     },
     "execution_count": 77,
     "metadata": {},
     "output_type": "execute_result"
    }
   ],
   "source": [
    "stat, p, dof, expected = stats.chi2_contingency(mergeddf)\n",
    "p"
   ]
  },
  {
   "cell_type": "code",
   "execution_count": 78,
   "metadata": {},
   "outputs": [
    {
     "name": "stdout",
     "output_type": "stream",
     "text": [
      "Independent (fail to reject H0)\n"
     ]
    }
   ],
   "source": [
    "# interpret test-statistic\n",
    "prob = 0.95\n",
    "critical = stats.chi2.ppf(prob, dof)\n",
    "if abs(stat) >= critical:\n",
    "    print('Dependent (reject H0)')\n",
    "else:\n",
    "    print('Independent (fail to reject H0)')"
   ]
  },
  {
   "cell_type": "markdown",
   "metadata": {},
   "source": [
    "Due to p value = 0.9908510047877276 >> 0.05. Therefore, there is no evidence to support population mean of synthetic dataset is different from real dataset."
   ]
  },
  {
   "cell_type": "markdown",
   "metadata": {},
   "source": [
    "### K-S test"
   ]
  },
  {
   "cell_type": "markdown",
   "metadata": {},
   "source": [
    "$H_0: $ The two datasets come from the same ditribution \n",
    "\n",
    "$H_1: $ The two datasets NOT come from the same ditribution \n"
   ]
  },
  {
   "cell_type": "code",
   "execution_count": 79,
   "metadata": {},
   "outputs": [
    {
     "data": {
      "text/plain": [
       "KstestResult(statistic=0.05555555555555555, pvalue=0.9996817135681136)"
      ]
     },
     "execution_count": 79,
     "metadata": {},
     "output_type": "execute_result"
    }
   ],
   "source": [
    "stats.ks_2samp(popByRaceSynthesis, popByRaceReal)"
   ]
  },
  {
   "cell_type": "markdown",
   "metadata": {},
   "source": [
    "Due to p value = 0.9999999044253438 >> 0.05. Therefore, there is no evidence to support the distributions of the two populations are not the same."
   ]
  },
  {
   "cell_type": "markdown",
   "metadata": {},
   "source": [
    "## By FIPS"
   ]
  },
  {
   "cell_type": "code",
   "execution_count": 80,
   "metadata": {},
   "outputs": [
    {
     "data": {
      "text/plain": [
       "FIPS\n",
       "170010001001000     14\n",
       "170010001001001      2\n",
       "170010001001007     34\n",
       "170010001001008    197\n",
       "170010001001009     22\n",
       "                  ... \n",
       "172030307003217     10\n",
       "172030307003223      3\n",
       "172030307003226      4\n",
       "172030307003228      8\n",
       "172030307003231      5\n",
       "Name: FIPS, Length: 274573, dtype: int64"
      ]
     },
     "execution_count": 80,
     "metadata": {},
     "output_type": "execute_result"
    }
   ],
   "source": [
    "popByFIPSSynthesis = ILdataset.groupby(by = [\"FIPS\"]).FIPS.count()\n",
    "popByFIPSSynthesis = popByFIPSSynthesis.rename(lambda x: str(x))\n",
    "popByFIPSSynthesis"
   ]
  },
  {
   "cell_type": "code",
   "execution_count": 81,
   "metadata": {},
   "outputs": [
    {
     "data": {
      "text/plain": [
       "170010001001000    17\n",
       "170010001001001     2\n",
       "170010001001002     0\n",
       "170010001001003     0\n",
       "170010001001004     0\n",
       "                   ..\n",
       "172030307003228    11\n",
       "172030307003229     0\n",
       "172030307003230     0\n",
       "172030307003231     7\n",
       "172030307003232     0\n",
       "Length: 369978, dtype: int64"
      ]
     },
     "execution_count": 81,
     "metadata": {},
     "output_type": "execute_result"
    }
   ],
   "source": [
    "popByFIPSReal = processedRealILDataset.drop(['FIPS'], axis=1).sum(axis = 1)\n",
    "popByFIPSReal = popByFIPSReal.rename(processedRealILDataset['FIPS'])\n",
    "popByFIPSReal"
   ]
  },
  {
   "cell_type": "code",
   "execution_count": 82,
   "metadata": {},
   "outputs": [],
   "source": [
    "popByFIPSSynthesis /= popByFIPSSynthesis.sum()\n",
    "popByFIPSReal /= popByFIPSReal.sum()"
   ]
  },
  {
   "cell_type": "markdown",
   "metadata": {},
   "source": [
    "### Plot samples"
   ]
  },
  {
   "cell_type": "code",
   "execution_count": 83,
   "metadata": {},
   "outputs": [
    {
     "data": {
      "image/png": "[encoded data removed]",
      "text/plain": [
       "<Figure size 1600x640 with 1 Axes>"
      ]
     },
     "metadata": {
      "needs_background": "light"
     },
     "output_type": "display_data"
    }
   ],
   "source": [
    "plt.figure(figsize=(20, 8), dpi=80)\n",
    "popByFIPSSynthesis.plot(x='FIPS', y='Population', rot=0)\n",
    "plt.title(\"Number of people by races in Illinois of synthetic dataset\")\n",
    "ax = plt.gca()\n",
    "for tick in ax.get_xticklabels():\n",
    "    tick.set_rotation(45)\n",
    "plt.show()"
   ]
  },
  {
   "cell_type": "code",
   "execution_count": 84,
   "metadata": {},
   "outputs": [
    {
     "data": {
      "image/png": "[encoded data removed]",
      "text/plain": [
       "<Figure size 1600x640 with 1 Axes>"
      ]
     },
     "metadata": {
      "needs_background": "light"
     },
     "output_type": "display_data"
    }
   ],
   "source": [
    "plt.figure(figsize=(20, 8), dpi=80)\n",
    "popByFIPSReal.plot(x='Race', y='Population', rot=0)\n",
    "plt.title(\"Number of people by races in Illinois of real dataset\")\n",
    "ax = plt.gca()\n",
    "for tick in ax.get_xticklabels():\n",
    "    tick.set_rotation(45)\n",
    "plt.show()"
   ]
  },
  {
   "cell_type": "markdown",
   "metadata": {},
   "source": [
    "### Test for Homogeneity"
   ]
  },
  {
   "cell_type": "markdown",
   "metadata": {},
   "source": [
    "$H_0$: The distributions of the two populations are the same.\n",
    "\n",
    "$H_1$: The distributions of the two populations are not the same.\n"
   ]
  },
  {
   "cell_type": "code",
   "execution_count": 85,
   "metadata": {},
   "outputs": [
    {
     "data": {
      "text/html": [
       "<div>\n",
       "<style scoped>\n",
       "    .dataframe tbody tr th:only-of-type {\n",
       "        vertical-align: middle;\n",
       "    }\n",
       "\n",
       "    .dataframe tbody tr th {\n",
       "        vertical-align: top;\n",
       "    }\n",
       "\n",
       "    .dataframe thead th {\n",
       "        text-align: right;\n",
       "    }\n",
       "</style>\n",
       "<table border=\"1\" class=\"dataframe\">\n",
       "  <thead>\n",
       "    <tr style=\"text-align: right;\">\n",
       "      <th></th>\n",
       "      <th>Synthesis</th>\n",
       "      <th>Real</th>\n",
       "    </tr>\n",
       "  </thead>\n",
       "  <tbody>\n",
       "    <tr>\n",
       "      <th>170010001001000</th>\n",
       "      <td>1.092682e-06</td>\n",
       "      <td>1.326759e-06</td>\n",
       "    </tr>\n",
       "    <tr>\n",
       "      <th>170010001001001</th>\n",
       "      <td>1.560975e-07</td>\n",
       "      <td>1.560893e-07</td>\n",
       "    </tr>\n",
       "    <tr>\n",
       "      <th>170010001001002</th>\n",
       "      <td>0.000000e+00</td>\n",
       "      <td>0.000000e+00</td>\n",
       "    </tr>\n",
       "    <tr>\n",
       "      <th>170010001001003</th>\n",
       "      <td>0.000000e+00</td>\n",
       "      <td>0.000000e+00</td>\n",
       "    </tr>\n",
       "    <tr>\n",
       "      <th>170010001001004</th>\n",
       "      <td>0.000000e+00</td>\n",
       "      <td>0.000000e+00</td>\n",
       "    </tr>\n",
       "    <tr>\n",
       "      <th>...</th>\n",
       "      <td>...</td>\n",
       "      <td>...</td>\n",
       "    </tr>\n",
       "    <tr>\n",
       "      <th>172030307003228</th>\n",
       "      <td>6.243898e-07</td>\n",
       "      <td>8.584912e-07</td>\n",
       "    </tr>\n",
       "    <tr>\n",
       "      <th>172030307003229</th>\n",
       "      <td>0.000000e+00</td>\n",
       "      <td>0.000000e+00</td>\n",
       "    </tr>\n",
       "    <tr>\n",
       "      <th>172030307003230</th>\n",
       "      <td>0.000000e+00</td>\n",
       "      <td>0.000000e+00</td>\n",
       "    </tr>\n",
       "    <tr>\n",
       "      <th>172030307003231</th>\n",
       "      <td>3.902437e-07</td>\n",
       "      <td>5.463126e-07</td>\n",
       "    </tr>\n",
       "    <tr>\n",
       "      <th>172030307003232</th>\n",
       "      <td>0.000000e+00</td>\n",
       "      <td>0.000000e+00</td>\n",
       "    </tr>\n",
       "  </tbody>\n",
       "</table>\n",
       "<p>369978 rows × 2 columns</p>\n",
       "</div>"
      ],
      "text/plain": [
       "                    Synthesis          Real\n",
       "170010001001000  1.092682e-06  1.326759e-06\n",
       "170010001001001  1.560975e-07  1.560893e-07\n",
       "170010001001002  0.000000e+00  0.000000e+00\n",
       "170010001001003  0.000000e+00  0.000000e+00\n",
       "170010001001004  0.000000e+00  0.000000e+00\n",
       "...                       ...           ...\n",
       "172030307003228  6.243898e-07  8.584912e-07\n",
       "172030307003229  0.000000e+00  0.000000e+00\n",
       "172030307003230  0.000000e+00  0.000000e+00\n",
       "172030307003231  3.902437e-07  5.463126e-07\n",
       "172030307003232  0.000000e+00  0.000000e+00\n",
       "\n",
       "[369978 rows x 2 columns]"
      ]
     },
     "execution_count": 85,
     "metadata": {},
     "output_type": "execute_result"
    }
   ],
   "source": [
    "popByFIPSReal.name = \"Real\"\n",
    "popByFIPSSynthesis.name = \"Synthesis\"\n",
    "mergeddf = pd.merge(popByFIPSSynthesis, popByFIPSReal, how= 'outer', right_index = True,\n",
    "               left_index = True).fillna(0)\n",
    "mergeddf = mergeddf.astype({'Synthesis': 'float32'})\n",
    "mergeddf"
   ]
  },
  {
   "cell_type": "markdown",
   "metadata": {},
   "source": [
    "### Compare sample mean and standard deviation"
   ]
  },
  {
   "cell_type": "code",
   "execution_count": 86,
   "metadata": {},
   "outputs": [
    {
     "name": "stdout",
     "output_type": "stream",
     "text": [
      "Mean of synthetic dataset 2.702654683162109e-06\n",
      "Standard deviation of synthetic dataset 5.311856966727646e-06\n"
     ]
    }
   ],
   "source": [
    "print(\"Mean of synthetic dataset\", mergeddf[\"Synthesis\"].mean())\n",
    "print(\"Standard deviation of synthetic dataset\", mergeddf[\"Synthesis\"].std())"
   ]
  },
  {
   "cell_type": "code",
   "execution_count": 87,
   "metadata": {},
   "outputs": [
    {
     "name": "stdout",
     "output_type": "stream",
     "text": [
      "Mean of real dataset 2.7028634135016203e-06\n",
      "Standard deviation of real dataset 5.291909099026957e-06\n"
     ]
    }
   ],
   "source": [
    "print(\"Mean of real dataset\", mergeddf[\"Real\"].mean())\n",
    "print(\"Standard deviation of real dataset\", mergeddf[\"Real\"].std())"
   ]
  },
  {
   "cell_type": "markdown",
   "metadata": {},
   "source": [
    "### Binning FIPS"
   ]
  },
  {
   "cell_type": "code",
   "execution_count": 88,
   "metadata": {},
   "outputs": [
    {
     "data": {
      "text/html": [
       "<div>\n",
       "<style scoped>\n",
       "    .dataframe tbody tr th:only-of-type {\n",
       "        vertical-align: middle;\n",
       "    }\n",
       "\n",
       "    .dataframe tbody tr th {\n",
       "        vertical-align: top;\n",
       "    }\n",
       "\n",
       "    .dataframe thead th {\n",
       "        text-align: right;\n",
       "    }\n",
       "</style>\n",
       "<table border=\"1\" class=\"dataframe\">\n",
       "  <thead>\n",
       "    <tr style=\"text-align: right;\">\n",
       "      <th></th>\n",
       "      <th>Synthesis</th>\n",
       "      <th>Real</th>\n",
       "    </tr>\n",
       "  </thead>\n",
       "  <tbody>\n",
       "    <tr>\n",
       "      <th>3400200020020</th>\n",
       "      <td>0.000089</td>\n",
       "      <td>0.000089</td>\n",
       "    </tr>\n",
       "    <tr>\n",
       "      <th>3400200020040</th>\n",
       "      <td>0.000057</td>\n",
       "      <td>0.000058</td>\n",
       "    </tr>\n",
       "    <tr>\n",
       "      <th>3400200020060</th>\n",
       "      <td>0.000074</td>\n",
       "      <td>0.000072</td>\n",
       "    </tr>\n",
       "    <tr>\n",
       "      <th>3400200020080</th>\n",
       "      <td>0.000069</td>\n",
       "      <td>0.000071</td>\n",
       "    </tr>\n",
       "    <tr>\n",
       "      <th>3400200020100</th>\n",
       "      <td>0.000071</td>\n",
       "      <td>0.000073</td>\n",
       "    </tr>\n",
       "    <tr>\n",
       "      <th>...</th>\n",
       "      <td>...</td>\n",
       "      <td>...</td>\n",
       "    </tr>\n",
       "    <tr>\n",
       "      <th>3440606140060</th>\n",
       "      <td>0.000015</td>\n",
       "      <td>0.000015</td>\n",
       "    </tr>\n",
       "    <tr>\n",
       "      <th>3440606140061</th>\n",
       "      <td>0.000068</td>\n",
       "      <td>0.000069</td>\n",
       "    </tr>\n",
       "    <tr>\n",
       "      <th>3440606140062</th>\n",
       "      <td>0.000058</td>\n",
       "      <td>0.000056</td>\n",
       "    </tr>\n",
       "    <tr>\n",
       "      <th>3440606140063</th>\n",
       "      <td>0.000044</td>\n",
       "      <td>0.000044</td>\n",
       "    </tr>\n",
       "    <tr>\n",
       "      <th>3440606140064</th>\n",
       "      <td>0.000024</td>\n",
       "      <td>0.000025</td>\n",
       "    </tr>\n",
       "  </tbody>\n",
       "</table>\n",
       "<p>12906 rows × 2 columns</p>\n",
       "</div>"
      ],
      "text/plain": [
       "               Synthesis      Real\n",
       "3400200020020   0.000089  0.000089\n",
       "3400200020040   0.000057  0.000058\n",
       "3400200020060   0.000074  0.000072\n",
       "3400200020080   0.000069  0.000071\n",
       "3400200020100   0.000071  0.000073\n",
       "...                  ...       ...\n",
       "3440606140060   0.000015  0.000015\n",
       "3440606140061   0.000068  0.000069\n",
       "3440606140062   0.000058  0.000056\n",
       "3440606140063   0.000044  0.000044\n",
       "3440606140064   0.000024  0.000025\n",
       "\n",
       "[12906 rows x 2 columns]"
      ]
     },
     "execution_count": 88,
     "metadata": {},
     "output_type": "execute_result"
    }
   ],
   "source": [
    "N = 50\n",
    "mergeddf.index = mergeddf.index.map(lambda x : int(x))\n",
    "binningdf = mergeddf.groupby(mergeddf.index // N).sum()\n",
    "binningdf"
   ]
  },
  {
   "cell_type": "code",
   "execution_count": 89,
   "metadata": {
    "scrolled": false
   },
   "outputs": [
    {
     "data": {
      "image/png": "[encoded data removed]",
      "text/plain": [
       "<Figure size 1600x640 with 1 Axes>"
      ]
     },
     "metadata": {
      "needs_background": "light"
     },
     "output_type": "display_data"
    }
   ],
   "source": [
    "plt.figure(figsize=(20, 8), dpi=80)\n",
    "binningdf[\"Synthesis\"].plot(x='Race', y='Population', rot=0)\n",
    "plt.title(\"Number of people by races in Illinois of real dataset\")\n",
    "ax = plt.gca()\n",
    "for tick in ax.get_xticklabels():\n",
    "    tick.set_rotation(45)\n",
    "plt.show()"
   ]
  },
  {
   "cell_type": "code",
   "execution_count": 90,
   "metadata": {},
   "outputs": [
    {
     "data": {
      "image/png": "[encoded data removed]",
      "text/plain": [
       "<Figure size 1600x640 with 1 Axes>"
      ]
     },
     "metadata": {
      "needs_background": "light"
     },
     "output_type": "display_data"
    }
   ],
   "source": [
    "plt.figure(figsize=(20, 8), dpi=80)\n",
    "binningdf[\"Real\"].plot(x='Race', y='Population', rot=0)\n",
    "plt.title(\"Number of people by races in Illinois of real dataset\")\n",
    "ax = plt.gca()\n",
    "for tick in ax.get_xticklabels():\n",
    "    tick.set_rotation(45)\n",
    "plt.show()"
   ]
  },
  {
   "cell_type": "markdown",
   "metadata": {},
   "source": [
    "### Test for Homogeneity"
   ]
  },
  {
   "cell_type": "markdown",
   "metadata": {},
   "source": [
    "$H_0$: The distributions of the two populations are the same.\n",
    "\n",
    "$H_1$: The distributions of the two populations are not the same.\n"
   ]
  },
  {
   "cell_type": "code",
   "execution_count": 91,
   "metadata": {},
   "outputs": [
    {
     "data": {
      "text/html": [
       "<div>\n",
       "<style scoped>\n",
       "    .dataframe tbody tr th:only-of-type {\n",
       "        vertical-align: middle;\n",
       "    }\n",
       "\n",
       "    .dataframe tbody tr th {\n",
       "        vertical-align: top;\n",
       "    }\n",
       "\n",
       "    .dataframe thead th {\n",
       "        text-align: right;\n",
       "    }\n",
       "</style>\n",
       "<table border=\"1\" class=\"dataframe\">\n",
       "  <thead>\n",
       "    <tr style=\"text-align: right;\">\n",
       "      <th>Synthesis</th>\n",
       "      <th>0.0</th>\n",
       "      <th>7.804872836914001e-08</th>\n",
       "      <th>1.5609745673828002e-07</th>\n",
       "      <th>2.3414618510742002e-07</th>\n",
       "      <th>2.3414619931827474e-07</th>\n",
       "      <th>3.1219491347656003e-07</th>\n",
       "      <th>3.9024365605655476e-07</th>\n",
       "      <th>4.6829237021484005e-07</th>\n",
       "      <th>4.682923986365495e-07</th>\n",
       "      <th>5.463410843731253e-07</th>\n",
       "      <th>...</th>\n",
       "      <th>0.0003304583369754255</th>\n",
       "      <th>0.0003346729790791869</th>\n",
       "      <th>0.000349424168234691</th>\n",
       "      <th>0.00035098515218123794</th>\n",
       "      <th>0.0003541070909705013</th>\n",
       "      <th>0.00041350218816660345</th>\n",
       "      <th>0.0004234143707435578</th>\n",
       "      <th>0.00045814603799954057</th>\n",
       "      <th>0.0004724289756268263</th>\n",
       "      <th>All</th>\n",
       "    </tr>\n",
       "    <tr>\n",
       "      <th>Real</th>\n",
       "      <th></th>\n",
       "      <th></th>\n",
       "      <th></th>\n",
       "      <th></th>\n",
       "      <th></th>\n",
       "      <th></th>\n",
       "      <th></th>\n",
       "      <th></th>\n",
       "      <th></th>\n",
       "      <th></th>\n",
       "      <th></th>\n",
       "      <th></th>\n",
       "      <th></th>\n",
       "      <th></th>\n",
       "      <th></th>\n",
       "      <th></th>\n",
       "      <th></th>\n",
       "      <th></th>\n",
       "      <th></th>\n",
       "      <th></th>\n",
       "      <th></th>\n",
       "    </tr>\n",
       "  </thead>\n",
       "  <tbody>\n",
       "    <tr>\n",
       "      <th>0.0</th>\n",
       "      <td>73</td>\n",
       "      <td>0</td>\n",
       "      <td>0</td>\n",
       "      <td>0</td>\n",
       "      <td>0</td>\n",
       "      <td>0</td>\n",
       "      <td>0</td>\n",
       "      <td>0</td>\n",
       "      <td>0</td>\n",
       "      <td>0</td>\n",
       "      <td>...</td>\n",
       "      <td>0</td>\n",
       "      <td>0</td>\n",
       "      <td>0</td>\n",
       "      <td>0</td>\n",
       "      <td>0</td>\n",
       "      <td>0</td>\n",
       "      <td>0</td>\n",
       "      <td>0</td>\n",
       "      <td>0</td>\n",
       "      <td>73</td>\n",
       "    </tr>\n",
       "    <tr>\n",
       "      <th>7.804465059331885e-08</th>\n",
       "      <td>3</td>\n",
       "      <td>1</td>\n",
       "      <td>0</td>\n",
       "      <td>0</td>\n",
       "      <td>0</td>\n",
       "      <td>0</td>\n",
       "      <td>0</td>\n",
       "      <td>0</td>\n",
       "      <td>0</td>\n",
       "      <td>0</td>\n",
       "      <td>...</td>\n",
       "      <td>0</td>\n",
       "      <td>0</td>\n",
       "      <td>0</td>\n",
       "      <td>0</td>\n",
       "      <td>0</td>\n",
       "      <td>0</td>\n",
       "      <td>0</td>\n",
       "      <td>0</td>\n",
       "      <td>0</td>\n",
       "      <td>4</td>\n",
       "    </tr>\n",
       "    <tr>\n",
       "      <th>1.560893011866377e-07</th>\n",
       "      <td>2</td>\n",
       "      <td>3</td>\n",
       "      <td>2</td>\n",
       "      <td>0</td>\n",
       "      <td>2</td>\n",
       "      <td>1</td>\n",
       "      <td>0</td>\n",
       "      <td>0</td>\n",
       "      <td>0</td>\n",
       "      <td>0</td>\n",
       "      <td>...</td>\n",
       "      <td>0</td>\n",
       "      <td>0</td>\n",
       "      <td>0</td>\n",
       "      <td>0</td>\n",
       "      <td>0</td>\n",
       "      <td>0</td>\n",
       "      <td>0</td>\n",
       "      <td>0</td>\n",
       "      <td>0</td>\n",
       "      <td>10</td>\n",
       "    </tr>\n",
       "    <tr>\n",
       "      <th>2.3413395177995655e-07</th>\n",
       "      <td>1</td>\n",
       "      <td>4</td>\n",
       "      <td>2</td>\n",
       "      <td>0</td>\n",
       "      <td>3</td>\n",
       "      <td>1</td>\n",
       "      <td>0</td>\n",
       "      <td>0</td>\n",
       "      <td>0</td>\n",
       "      <td>1</td>\n",
       "      <td>...</td>\n",
       "      <td>0</td>\n",
       "      <td>0</td>\n",
       "      <td>0</td>\n",
       "      <td>0</td>\n",
       "      <td>0</td>\n",
       "      <td>0</td>\n",
       "      <td>0</td>\n",
       "      <td>0</td>\n",
       "      <td>0</td>\n",
       "      <td>12</td>\n",
       "    </tr>\n",
       "    <tr>\n",
       "      <th>3.121786023732754e-07</th>\n",
       "      <td>0</td>\n",
       "      <td>0</td>\n",
       "      <td>4</td>\n",
       "      <td>0</td>\n",
       "      <td>0</td>\n",
       "      <td>3</td>\n",
       "      <td>0</td>\n",
       "      <td>0</td>\n",
       "      <td>1</td>\n",
       "      <td>0</td>\n",
       "      <td>...</td>\n",
       "      <td>0</td>\n",
       "      <td>0</td>\n",
       "      <td>0</td>\n",
       "      <td>0</td>\n",
       "      <td>0</td>\n",
       "      <td>0</td>\n",
       "      <td>0</td>\n",
       "      <td>0</td>\n",
       "      <td>0</td>\n",
       "      <td>8</td>\n",
       "    </tr>\n",
       "    <tr>\n",
       "      <th>...</th>\n",
       "      <td>...</td>\n",
       "      <td>...</td>\n",
       "      <td>...</td>\n",
       "      <td>...</td>\n",
       "      <td>...</td>\n",
       "      <td>...</td>\n",
       "      <td>...</td>\n",
       "      <td>...</td>\n",
       "      <td>...</td>\n",
       "      <td>...</td>\n",
       "      <td>...</td>\n",
       "      <td>...</td>\n",
       "      <td>...</td>\n",
       "      <td>...</td>\n",
       "      <td>...</td>\n",
       "      <td>...</td>\n",
       "      <td>...</td>\n",
       "      <td>...</td>\n",
       "      <td>...</td>\n",
       "      <td>...</td>\n",
       "      <td>...</td>\n",
       "    </tr>\n",
       "    <tr>\n",
       "      <th>0.000414885362554083</th>\n",
       "      <td>0</td>\n",
       "      <td>0</td>\n",
       "      <td>0</td>\n",
       "      <td>0</td>\n",
       "      <td>0</td>\n",
       "      <td>0</td>\n",
       "      <td>0</td>\n",
       "      <td>0</td>\n",
       "      <td>0</td>\n",
       "      <td>0</td>\n",
       "      <td>...</td>\n",
       "      <td>0</td>\n",
       "      <td>0</td>\n",
       "      <td>0</td>\n",
       "      <td>0</td>\n",
       "      <td>0</td>\n",
       "      <td>1</td>\n",
       "      <td>0</td>\n",
       "      <td>0</td>\n",
       "      <td>0</td>\n",
       "      <td>1</td>\n",
       "    </tr>\n",
       "    <tr>\n",
       "      <th>0.00042503116713121444</th>\n",
       "      <td>0</td>\n",
       "      <td>0</td>\n",
       "      <td>0</td>\n",
       "      <td>0</td>\n",
       "      <td>0</td>\n",
       "      <td>0</td>\n",
       "      <td>0</td>\n",
       "      <td>0</td>\n",
       "      <td>0</td>\n",
       "      <td>0</td>\n",
       "      <td>...</td>\n",
       "      <td>0</td>\n",
       "      <td>0</td>\n",
       "      <td>0</td>\n",
       "      <td>0</td>\n",
       "      <td>0</td>\n",
       "      <td>0</td>\n",
       "      <td>1</td>\n",
       "      <td>0</td>\n",
       "      <td>0</td>\n",
       "      <td>1</td>\n",
       "    </tr>\n",
       "    <tr>\n",
       "      <th>0.00045445400040489565</th>\n",
       "      <td>0</td>\n",
       "      <td>0</td>\n",
       "      <td>0</td>\n",
       "      <td>0</td>\n",
       "      <td>0</td>\n",
       "      <td>0</td>\n",
       "      <td>0</td>\n",
       "      <td>0</td>\n",
       "      <td>0</td>\n",
       "      <td>0</td>\n",
       "      <td>...</td>\n",
       "      <td>0</td>\n",
       "      <td>0</td>\n",
       "      <td>0</td>\n",
       "      <td>0</td>\n",
       "      <td>0</td>\n",
       "      <td>0</td>\n",
       "      <td>0</td>\n",
       "      <td>1</td>\n",
       "      <td>0</td>\n",
       "      <td>1</td>\n",
       "    </tr>\n",
       "    <tr>\n",
       "      <th>0.00047060924307771267</th>\n",
       "      <td>0</td>\n",
       "      <td>0</td>\n",
       "      <td>0</td>\n",
       "      <td>0</td>\n",
       "      <td>0</td>\n",
       "      <td>0</td>\n",
       "      <td>0</td>\n",
       "      <td>0</td>\n",
       "      <td>0</td>\n",
       "      <td>0</td>\n",
       "      <td>...</td>\n",
       "      <td>0</td>\n",
       "      <td>0</td>\n",
       "      <td>0</td>\n",
       "      <td>0</td>\n",
       "      <td>0</td>\n",
       "      <td>0</td>\n",
       "      <td>0</td>\n",
       "      <td>0</td>\n",
       "      <td>1</td>\n",
       "      <td>1</td>\n",
       "    </tr>\n",
       "    <tr>\n",
       "      <th>All</th>\n",
       "      <td>79</td>\n",
       "      <td>9</td>\n",
       "      <td>9</td>\n",
       "      <td>3</td>\n",
       "      <td>5</td>\n",
       "      <td>10</td>\n",
       "      <td>4</td>\n",
       "      <td>2</td>\n",
       "      <td>5</td>\n",
       "      <td>2</td>\n",
       "      <td>...</td>\n",
       "      <td>1</td>\n",
       "      <td>1</td>\n",
       "      <td>1</td>\n",
       "      <td>1</td>\n",
       "      <td>1</td>\n",
       "      <td>1</td>\n",
       "      <td>1</td>\n",
       "      <td>1</td>\n",
       "      <td>1</td>\n",
       "      <td>12906</td>\n",
       "    </tr>\n",
       "  </tbody>\n",
       "</table>\n",
       "<p>3226 rows × 3117 columns</p>\n",
       "</div>"
      ],
      "text/plain": [
       "Synthesis               0.0  7.804872836914001e-08  1.5609745673828002e-07  \\\n",
       "Real                                                                         \n",
       "0.0                      73                      0                       0   \n",
       "7.804465059331885e-08     3                      1                       0   \n",
       "1.560893011866377e-07     2                      3                       2   \n",
       "2.3413395177995655e-07    1                      4                       2   \n",
       "3.121786023732754e-07     0                      0                       4   \n",
       "...                     ...                    ...                     ...   \n",
       "0.000414885362554083      0                      0                       0   \n",
       "0.00042503116713121444    0                      0                       0   \n",
       "0.00045445400040489565    0                      0                       0   \n",
       "0.00047060924307771267    0                      0                       0   \n",
       "All                      79                      9                       9   \n",
       "\n",
       "Synthesis               2.3414618510742002e-07  2.3414619931827474e-07  \\\n",
       "Real                                                                     \n",
       "0.0                                          0                       0   \n",
       "7.804465059331885e-08                        0                       0   \n",
       "1.560893011866377e-07                        0                       2   \n",
       "2.3413395177995655e-07                       0                       3   \n",
       "3.121786023732754e-07                        0                       0   \n",
       "...                                        ...                     ...   \n",
       "0.000414885362554083                         0                       0   \n",
       "0.00042503116713121444                       0                       0   \n",
       "0.00045445400040489565                       0                       0   \n",
       "0.00047060924307771267                       0                       0   \n",
       "All                                          3                       5   \n",
       "\n",
       "Synthesis               3.1219491347656003e-07  3.9024365605655476e-07  \\\n",
       "Real                                                                     \n",
       "0.0                                          0                       0   \n",
       "7.804465059331885e-08                        0                       0   \n",
       "1.560893011866377e-07                        1                       0   \n",
       "2.3413395177995655e-07                       1                       0   \n",
       "3.121786023732754e-07                        3                       0   \n",
       "...                                        ...                     ...   \n",
       "0.000414885362554083                         0                       0   \n",
       "0.00042503116713121444                       0                       0   \n",
       "0.00045445400040489565                       0                       0   \n",
       "0.00047060924307771267                       0                       0   \n",
       "All                                         10                       4   \n",
       "\n",
       "Synthesis               4.6829237021484005e-07  4.682923986365495e-07  \\\n",
       "Real                                                                    \n",
       "0.0                                          0                      0   \n",
       "7.804465059331885e-08                        0                      0   \n",
       "1.560893011866377e-07                        0                      0   \n",
       "2.3413395177995655e-07                       0                      0   \n",
       "3.121786023732754e-07                        0                      1   \n",
       "...                                        ...                    ...   \n",
       "0.000414885362554083                         0                      0   \n",
       "0.00042503116713121444                       0                      0   \n",
       "0.00045445400040489565                       0                      0   \n",
       "0.00047060924307771267                       0                      0   \n",
       "All                                          2                      5   \n",
       "\n",
       "Synthesis               5.463410843731253e-07  ...  0.0003304583369754255  \\\n",
       "Real                                           ...                          \n",
       "0.0                                         0  ...                      0   \n",
       "7.804465059331885e-08                       0  ...                      0   \n",
       "1.560893011866377e-07                       0  ...                      0   \n",
       "2.3413395177995655e-07                      1  ...                      0   \n",
       "3.121786023732754e-07                       0  ...                      0   \n",
       "...                                       ...  ...                    ...   \n",
       "0.000414885362554083                        0  ...                      0   \n",
       "0.00042503116713121444                      0  ...                      0   \n",
       "0.00045445400040489565                      0  ...                      0   \n",
       "0.00047060924307771267                      0  ...                      0   \n",
       "All                                         2  ...                      1   \n",
       "\n",
       "Synthesis               0.0003346729790791869  0.000349424168234691  \\\n",
       "Real                                                                  \n",
       "0.0                                         0                     0   \n",
       "7.804465059331885e-08                       0                     0   \n",
       "1.560893011866377e-07                       0                     0   \n",
       "2.3413395177995655e-07                      0                     0   \n",
       "3.121786023732754e-07                       0                     0   \n",
       "...                                       ...                   ...   \n",
       "0.000414885362554083                        0                     0   \n",
       "0.00042503116713121444                      0                     0   \n",
       "0.00045445400040489565                      0                     0   \n",
       "0.00047060924307771267                      0                     0   \n",
       "All                                         1                     1   \n",
       "\n",
       "Synthesis               0.00035098515218123794  0.0003541070909705013  \\\n",
       "Real                                                                    \n",
       "0.0                                          0                      0   \n",
       "7.804465059331885e-08                        0                      0   \n",
       "1.560893011866377e-07                        0                      0   \n",
       "2.3413395177995655e-07                       0                      0   \n",
       "3.121786023732754e-07                        0                      0   \n",
       "...                                        ...                    ...   \n",
       "0.000414885362554083                         0                      0   \n",
       "0.00042503116713121444                       0                      0   \n",
       "0.00045445400040489565                       0                      0   \n",
       "0.00047060924307771267                       0                      0   \n",
       "All                                          1                      1   \n",
       "\n",
       "Synthesis               0.00041350218816660345  0.0004234143707435578  \\\n",
       "Real                                                                    \n",
       "0.0                                          0                      0   \n",
       "7.804465059331885e-08                        0                      0   \n",
       "1.560893011866377e-07                        0                      0   \n",
       "2.3413395177995655e-07                       0                      0   \n",
       "3.121786023732754e-07                        0                      0   \n",
       "...                                        ...                    ...   \n",
       "0.000414885362554083                         1                      0   \n",
       "0.00042503116713121444                       0                      1   \n",
       "0.00045445400040489565                       0                      0   \n",
       "0.00047060924307771267                       0                      0   \n",
       "All                                          1                      1   \n",
       "\n",
       "Synthesis               0.00045814603799954057  0.0004724289756268263    All  \n",
       "Real                                                                          \n",
       "0.0                                          0                      0     73  \n",
       "7.804465059331885e-08                        0                      0      4  \n",
       "1.560893011866377e-07                        0                      0     10  \n",
       "2.3413395177995655e-07                       0                      0     12  \n",
       "3.121786023732754e-07                        0                      0      8  \n",
       "...                                        ...                    ...    ...  \n",
       "0.000414885362554083                         0                      0      1  \n",
       "0.00042503116713121444                       0                      0      1  \n",
       "0.00045445400040489565                       1                      0      1  \n",
       "0.00047060924307771267                       0                      1      1  \n",
       "All                                          1                      1  12906  \n",
       "\n",
       "[3226 rows x 3117 columns]"
      ]
     },
     "execution_count": 91,
     "metadata": {},
     "output_type": "execute_result"
    }
   ],
   "source": [
    "ct = pd.crosstab(binningdf[\"Real\"], binningdf[\"Synthesis\"], margins=True)\n",
    "ct"
   ]
  },
  {
   "cell_type": "code",
   "execution_count": 92,
   "metadata": {},
   "outputs": [],
   "source": [
    "g, p, dof, expctd = stats.chi2_contingency(ct, lambda_=\"log-likelihood\")"
   ]
  },
  {
   "cell_type": "code",
   "execution_count": 93,
   "metadata": {},
   "outputs": [
    {
     "name": "stdout",
     "output_type": "stream",
     "text": [
      "Independent (fail to reject H0)\n"
     ]
    }
   ],
   "source": [
    "# interpret test-statistic\n",
    "prob = 0.95\n",
    "critical = stats.chi2.ppf(prob, dof)\n",
    "if abs(g) >= critical:\n",
    "    print('Dependent (reject H0)')\n",
    "else:\n",
    "    print('Independent (fail to reject H0)')"
   ]
  },
  {
   "cell_type": "code",
   "execution_count": 94,
   "metadata": {
    "scrolled": true
   },
   "outputs": [
    {
     "data": {
      "text/plain": [
       "1.0"
      ]
     },
     "execution_count": 94,
     "metadata": {},
     "output_type": "execute_result"
    }
   ],
   "source": [
    "p"
   ]
  },
  {
   "cell_type": "markdown",
   "metadata": {},
   "source": [
    "Due to p value = 1.0 >> 0.05.Therefore, there is no evidence to support the distributions of the two populations are not the same."
   ]
  },
  {
   "cell_type": "markdown",
   "metadata": {},
   "source": [
    "### Compare distribution by two sample t-test"
   ]
  },
  {
   "cell_type": "markdown",
   "metadata": {},
   "source": [
    "$H_0: \\mu_1 = \\mu_2$ (population mean of synthetic dataset is equal to real dataset)\n",
    "\n",
    "$H_1: \\mu_1 \\neq \\mu_2$ (population mean of synthetic dataset is different from real dataset)"
   ]
  },
  {
   "cell_type": "code",
   "execution_count": 95,
   "metadata": {},
   "outputs": [
    {
     "data": {
      "text/plain": [
       "Ttest_indResult(statistic=-3.504235835679666e-06, pvalue=0.9999972040514115)"
      ]
     },
     "execution_count": 95,
     "metadata": {},
     "output_type": "execute_result"
    }
   ],
   "source": [
    "# Perform the two sample t-test with equal variances\n",
    "stats.ttest_ind(a=binningdf[\"Synthesis\"], b=binningdf[\"Real\"], equal_var=True)"
   ]
  },
  {
   "cell_type": "markdown",
   "metadata": {},
   "source": [
    "Due to p value = 0.9934190781015679 >> 0.05.Therefore, there is no evidence to support the population mean of the two populations are not the same."
   ]
  },
  {
   "cell_type": "markdown",
   "metadata": {},
   "source": [
    "### K-S test"
   ]
  },
  {
   "cell_type": "markdown",
   "metadata": {},
   "source": [
    "$H_0: $ The two datasets come from the same ditribution \n",
    "\n",
    "$H_q: $ The two datasets NOT come from the same ditribution \n"
   ]
  },
  {
   "cell_type": "code",
   "execution_count": 96,
   "metadata": {},
   "outputs": [
    {
     "data": {
      "text/plain": [
       "KstestResult(statistic=0.003099333643266755, pvalue=0.9999999687226653)"
      ]
     },
     "execution_count": 96,
     "metadata": {},
     "output_type": "execute_result"
    }
   ],
   "source": [
    "stats.ks_2samp(binningdf[\"Real\"], binningdf[\"Synthesis\"])"
   ]
  },
  {
   "cell_type": "markdown",
   "metadata": {},
   "source": [
    "Due to p value = 0.4781688122978446 >> 0.05. Therefore, there is no evidence to support the two datasets NOT come from the same ditribution"
   ]
  },
  {
   "cell_type": "markdown",
   "metadata": {},
   "source": [
    "## Benchmarking dataset"
   ]
  },
  {
   "cell_type": "markdown",
   "metadata": {},
   "source": [
    "We will test the dataset by the "
   ]
  },
  {
   "cell_type": "code",
   "execution_count": null,
   "metadata": {},
   "outputs": [],
   "source": []
  }
 ],
 "metadata": {
  "kernelspec": {
   "display_name": "virtualenv",
   "language": "python",
   "name": "virtualenv"
  },
  "language_info": {
   "codemirror_mode": {
    "name": "ipython",
    "version": 3
   },
   "file_extension": ".py",
   "mimetype": "text/x-python",
   "name": "python",
   "nbconvert_exporter": "python",
   "pygments_lexer": "ipython3",
   "version": "3.8.13"
  }
 },
 "nbformat": 4,
 "nbformat_minor": 2
}
